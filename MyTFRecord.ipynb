{
 "cells": [
  {
   "cell_type": "code",
   "execution_count": 11,
   "metadata": {},
   "outputs": [],
   "source": [
    "from random import shuffle\n",
    "import glob\n",
    "import tensorflow as tf\n",
    "from sklearn.externals import joblib\n",
    "import numpy as np\n",
    "from sklearn import preprocessing\n",
    "import uuid\n",
    "from tensorflow.keras.preprocessing.image import random_shift, random_zoom, random_rotation\n",
    "import sys\n",
    "from os import listdir\n",
    "from os.path import isfile, join\n",
    "import os\n",
    "import matplotlib.pyplot as plt\n",
    "import cv2\n",
    "import keras\n",
    "\n",
    "from keras.callbacks import Callback\n",
    "from keras.callbacks import EarlyStopping, TensorBoard, ReduceLROnPlateau\n",
    "from keras import backend as K\n",
    "from keras import layers\n",
    "from keras.layers import Dense, Conv2D, BatchNormalization, Activation\n",
    "from keras.layers import AveragePooling2D, Input, Flatten, Dropout\n",
    "from tensorflow.keras.preprocessing.image import random_shift, random_zoom, random_rotation\n",
    "\n",
    "import keras\n",
    "\n",
    "from keras.optimizers import Adam\n",
    "from keras.callbacks import ModelCheckpoint, LearningRateScheduler\n",
    "from keras.callbacks import ReduceLROnPlateau\n",
    "from keras.preprocessing.image import ImageDataGenerator\n",
    "from keras.regularizers import l2\n",
    "from keras import backend as K"
   ]
  },
  {
   "cell_type": "code",
   "execution_count": 14,
   "metadata": {},
   "outputs": [
    {
     "data": {
      "text/plain": [
       "False"
      ]
     },
     "execution_count": 14,
     "metadata": {},
     "output_type": "execute_result"
    }
   ],
   "source": [
    "tf.test.is_built_with_cuda()"
   ]
  },
  {
   "cell_type": "code",
   "execution_count": 13,
   "metadata": {},
   "outputs": [
    {
     "name": "stdout",
     "output_type": "stream",
     "text": [
      "Collecting tensorflow-gpu==1.10\n"
     ]
    },
    {
     "name": "stderr",
     "output_type": "stream",
     "text": [
      "  Could not find a version that satisfies the requirement tensorflow-gpu==1.10 (from versions: 1.13.0rc1, 1.13.0rc2, 1.13.1, 1.13.2, 1.14.0rc0, 1.14.0rc1, 1.14.0, 2.0.0a0, 2.0.0b0, 2.0.0b1)\n",
      "No matching distribution found for tensorflow-gpu==1.10\n"
     ]
    }
   ],
   "source": [
    "!pip install --user --no-warn-script-location --ignore-installed --upgrade tensorflow-gpu"
   ]
  },
  {
   "cell_type": "code",
   "execution_count": 23,
   "metadata": {},
   "outputs": [],
   "source": [
    "dir_parts = r'C:\\\\Users\\\\Mihail\\\\capcha_letters_1'\n",
    "onlyfiles = [f for f in listdir(dir_parts) if isfile(join(dir_parts, f))]"
   ]
  },
  {
   "cell_type": "code",
   "execution_count": 24,
   "metadata": {},
   "outputs": [
    {
     "data": {
      "text/plain": [
       "'t_1_0a11c7a5-1027-4a2d-8949-f1b25ca8012f.jpg'"
      ]
     },
     "execution_count": 24,
     "metadata": {},
     "output_type": "execute_result"
    }
   ],
   "source": [
    "onlyfiles[0]"
   ]
  },
  {
   "cell_type": "code",
   "execution_count": 25,
   "metadata": {},
   "outputs": [
    {
     "data": {
      "text/plain": [
       "450000"
      ]
     },
     "execution_count": 25,
     "metadata": {},
     "output_type": "execute_result"
    }
   ],
   "source": [
    "600*5*150"
   ]
  },
  {
   "cell_type": "code",
   "execution_count": 26,
   "metadata": {},
   "outputs": [],
   "source": [
    "image = cv2.imread(dir_parts+'//'+onlyfiles[0])"
   ]
  },
  {
   "cell_type": "code",
   "execution_count": 27,
   "metadata": {},
   "outputs": [
    {
     "data": {
      "text/plain": [
       "<matplotlib.image.AxesImage at 0x1fe1ccc7cc0>"
      ]
     },
     "execution_count": 27,
     "metadata": {},
     "output_type": "execute_result"
    },
    {
     "data": {
      "image/png": "[encoded data removed]",
      "text/plain": [
       "<Figure size 432x288 with 1 Axes>"
      ]
     },
     "metadata": {
      "needs_background": "light"
     },
     "output_type": "display_data"
    }
   ],
   "source": [
    "plt.imshow(image)"
   ]
  },
  {
   "cell_type": "code",
   "execution_count": 6,
   "metadata": {},
   "outputs": [
    {
     "data": {
      "text/plain": [
       "(22, 10, 3)"
      ]
     },
     "execution_count": 6,
     "metadata": {},
     "output_type": "execute_result"
    }
   ],
   "source": [
    "image.shape"
   ]
  },
  {
   "cell_type": "code",
   "execution_count": null,
   "metadata": {},
   "outputs": [],
   "source": []
  },
  {
   "cell_type": "code",
   "execution_count": 133,
   "metadata": {},
   "outputs": [],
   "source": [
    "wrap = cv2.copyMakeBorder(image,2,2,2,2,cv2.BORDER_WRAP)\n",
    "#constant= cv2.copyMakeBorder(image,5,10,5,10,cv2.BORDER_CONSTANT, value=[image.mean(), image.mean(), image.mean()])\n",
    "replicate = cv2.copyMakeBorder(image,2,2,7,7,cv2.BORDER_REPLICATE)"
   ]
  },
  {
   "cell_type": "code",
   "execution_count": 134,
   "metadata": {},
   "outputs": [
    {
     "data": {
      "text/plain": [
       "<matplotlib.image.AxesImage at 0x26b947cbe10>"
      ]
     },
     "execution_count": 134,
     "metadata": {},
     "output_type": "execute_result"
    },
    {
     "data": {
      "image/png": "[encoded data removed]",
      "text/plain": [
       "<Figure size 432x288 with 1 Axes>"
      ]
     },
     "metadata": {
      "needs_background": "light"
     },
     "output_type": "display_data"
    }
   ],
   "source": [
    "plt.imshow(replicate)"
   ]
  },
  {
   "cell_type": "code",
   "execution_count": 9,
   "metadata": {},
   "outputs": [],
   "source": [
    "width = 0\n",
    "height = 0\n",
    "for i in onlyfiles:\n",
    "    image = cv2.imread(dir_parts+'//'+i)\n",
    "    if width < image.shape[1]:\n",
    "        width = image.shape[1]\n",
    "    if height < image.shape[0]:\n",
    "        height = image.shape[0]  "
   ]
  },
  {
   "cell_type": "code",
   "execution_count": 10,
   "metadata": {},
   "outputs": [],
   "source": [
    "im_shape = np.max([width, height])"
   ]
  },
  {
   "cell_type": "code",
   "execution_count": null,
   "metadata": {},
   "outputs": [],
   "source": []
  },
  {
   "cell_type": "code",
   "execution_count": 11,
   "metadata": {},
   "outputs": [],
   "source": [
    "def add_constant(image):\n",
    "    a=b=c=d=0\n",
    "    if image.shape[0] < im_shape:\n",
    "        a = (im_shape - image.shape[0]) // 2\n",
    "        if (im_shape - image.shape[0]) % 2 > 0:\n",
    "            b = (im_shape - image.shape[0]) // 2 + 1\n",
    "        else:\n",
    "            b = (im_shape - image.shape[0]) // 2\n",
    "\n",
    "    if image.shape[1] < im_shape:\n",
    "        c = (im_shape - image.shape[1]) // 2\n",
    "        if (im_shape - image.shape[1]) % 2 > 0:\n",
    "            d = (im_shape - image.shape[1]) // 2 + 1\n",
    "        else:\n",
    "            d = (im_shape - image.shape[1]) // 2\n",
    "    constant= cv2.copyMakeBorder(image,a ,b , c, d,cv2.BORDER_CONSTANT, value=[image.mean(), image.mean(), image.mean()])\n",
    "    return(constant)\n"
   ]
  },
  {
   "cell_type": "code",
   "execution_count": null,
   "metadata": {},
   "outputs": [],
   "source": [
    "for i in onlyfiles:\n",
    "    image = cv2.imread(dir_parts+'//'+i)\n",
    "    add_constant(image)\n",
    "    \n",
    "    plt.imsave(os.path.join('C:\\\\Users\\\\Mihail\\\\capcha_letters_onesize',i), add_constant(image), cmap = plt.cm.gray)"
   ]
  },
  {
   "cell_type": "code",
   "execution_count": null,
   "metadata": {},
   "outputs": [],
   "source": []
  },
  {
   "cell_type": "code",
   "execution_count": 12,
   "metadata": {},
   "outputs": [],
   "source": [
    "dir_parts_onesize = r'C:\\\\Users\\\\Mihail\\\\capcha_letters_onesize'\n",
    "onlyfiles_onesize = [f for f in listdir(dir_parts_onesize) if isfile(join(dir_parts_onesize, f))]"
   ]
  },
  {
   "cell_type": "code",
   "execution_count": null,
   "metadata": {},
   "outputs": [],
   "source": [
    "for i in onlyfiles_onesize:\n",
    "    image = cv2.imread(dir_parts_onesize+'//'+i)\n",
    "    print(image.shape)\n",
    "    "
   ]
  },
  {
   "cell_type": "code",
   "execution_count": 13,
   "metadata": {},
   "outputs": [],
   "source": [
    "classes = []\n",
    "for i in onlyfiles_onesize:\n",
    "    classes.append(i[2])\n",
    "\n",
    "classes = list(set(classes))\n"
   ]
  },
  {
   "cell_type": "code",
   "execution_count": 64,
   "metadata": {},
   "outputs": [
    {
     "data": {
      "text/plain": [
       "55"
      ]
     },
     "execution_count": 64,
     "metadata": {},
     "output_type": "execute_result"
    }
   ],
   "source": [
    "len(classes)"
   ]
  },
  {
   "cell_type": "code",
   "execution_count": 257,
   "metadata": {},
   "outputs": [],
   "source": [
    "def train_preprocess(image):   \n",
    "\n",
    "    new = random_rotation(\n",
    "        image,\n",
    "        10,\n",
    "        row_axis=0,\n",
    "        col_axis=1,\n",
    "        channel_axis=2,\n",
    "        fill_mode='nearest',\n",
    "        cval=0.0,\n",
    "        interpolation_order=1\n",
    "    )\n",
    "\n",
    "    new=random_shift(\n",
    "        new,\n",
    "        0.2,\n",
    "        0.2,\n",
    "        row_axis=0,\n",
    "        col_axis=1,\n",
    "        channel_axis=2,\n",
    "        fill_mode='nearest',\n",
    "        cval=0.0,\n",
    "        interpolation_order=1\n",
    "    )\n",
    "\n",
    "    # Other transformations...\n",
    "    return new"
   ]
  },
  {
   "cell_type": "code",
   "execution_count": 192,
   "metadata": {},
   "outputs": [
    {
     "data": {
      "text/plain": [
       "<matplotlib.image.AxesImage at 0x26b95c19438>"
      ]
     },
     "execution_count": 192,
     "metadata": {},
     "output_type": "execute_result"
    },
    {
     "data": {
      "image/png": "[encoded data removed]",
      "text/plain": [
       "<Figure size 432x288 with 1 Axes>"
      ]
     },
     "metadata": {
      "needs_background": "light"
     },
     "output_type": "display_data"
    }
   ],
   "source": [
    "plt.imshow(image)"
   ]
  },
  {
   "cell_type": "code",
   "execution_count": 265,
   "metadata": {},
   "outputs": [
    {
     "data": {
      "text/plain": [
       "<matplotlib.image.AxesImage at 0x26b9b3f2eb8>"
      ]
     },
     "execution_count": 265,
     "metadata": {},
     "output_type": "execute_result"
    },
    {
     "data": {
      "image/png": "[encoded data removed]",
      "text/plain": [
       "<Figure size 432x288 with 1 Axes>"
      ]
     },
     "metadata": {
      "needs_background": "light"
     },
     "output_type": "display_data"
    }
   ],
   "source": [
    "plt.imshow(train_preprocess(image))"
   ]
  },
  {
   "cell_type": "code",
   "execution_count": 18,
   "metadata": {},
   "outputs": [
    {
     "data": {
      "text/plain": [
       "['t_1_0017bb82-13c2-466a-a5d8-e607ccbc8fe6.jpg',\n",
       " 't_1_04b1d25a-ef0b-429b-bbd0-261cb9a3c17a.jpg',\n",
       " 't_1_050a2b79-ea7f-4474-a8e3-88000fcb2ac1.jpg',\n",
       " 't_1_06b4b5ff-0c24-43e5-a981-8974d8350c4d.jpg',\n",
       " 't_1_0e1868b6-f5ff-4853-a3ae-a9004aa220e4.jpg',\n",
       " 't_1_0f39c9a9-0308-4a22-8fc4-92789d271271.jpg',\n",
       " 't_1_19e67a80-fc0f-42e0-8aca-687d7da0aaa9.jpg',\n",
       " 't_1_23139c0a-7142-4d60-adbe-47eee2c610dc.jpg',\n",
       " 't_1_273c83c1-c2ba-4fa9-aeae-d424c92792d9.jpg',\n",
       " 't_1_2ffc816d-f437-470d-9ed8-2223df0968b5.jpg',\n",
       " 't_1_3d3eb38b-2a84-455d-9995-8349401f974b.jpg',\n",
       " 't_1_44d5df7e-4034-41b7-8769-f67565871149.jpg',\n",
       " 't_1_52dd51cc-a5dc-4faa-bd20-7b1ae3b3d8f1.jpg',\n",
       " 't_1_5720f2e6-a2c4-4129-a92c-6dfe21ad9bf7.jpg',\n",
       " 't_1_58553a09-dcd7-43bb-aad5-452bce9cb019.jpg',\n",
       " 't_1_5d403730-db6e-435f-808b-3fdbe42fe3f9.jpg',\n",
       " 't_1_5dae7d13-4593-4ed4-8458-a818ff30ebad.jpg',\n",
       " 't_1_606c5cd6-90e8-4119-b875-42ed2832d52a.jpg',\n",
       " 't_1_69848967-a3d6-4a67-b08f-a9ed8a889cb9.jpg',\n",
       " 't_1_7734f870-8155-41b4-bd46-d0196ea1a21f.jpg',\n",
       " 't_1_7bffe1c3-3ae8-46cb-9808-51aa5a371db6.jpg',\n",
       " 't_1_7de3b41f-3efa-46d8-b2ab-5dbaf5a2ad3d.jpg',\n",
       " 't_1_83fe79a1-6d5a-4ca8-91e1-6355083f8caf.jpg',\n",
       " 't_1_8a02584d-1923-43f0-93d1-4a3a97f3b3c8.jpg',\n",
       " 't_1_8c20d130-67df-4e55-b197-e14c5fdced22.jpg',\n",
       " 't_1_8c352587-b7b2-4f1a-a8a3-1300901693ce.jpg',\n",
       " 't_1_9419d40f-cd46-44d7-9da4-5716e74d4ef7.jpg',\n",
       " 't_1_98839d9f-d4f6-47ec-bd2e-a21b3f8febd3.jpg',\n",
       " 't_1_9f6dc8da-1695-42de-ab5d-558d516b2e0c.jpg',\n",
       " 't_1_a1754e53-babf-4a6b-a9d2-888cad4036bb.jpg',\n",
       " 't_1_a357ff8f-edcd-492e-8e60-ca477e1f34e6.jpg',\n",
       " 't_1_a7df292d-1138-47ee-b741-f052b0c5b5b3.jpg',\n",
       " 't_1_acf455bb-138f-4b4e-8f2c-0fb0feb8bd22.jpg',\n",
       " 't_1_b00d4979-a1f0-4da1-a9e3-1d2844615627.jpg',\n",
       " 't_1_bc25197b-8dfe-4dfa-abd4-f81b1e4118d7.jpg',\n",
       " 't_1_c3f69c7a-02cb-4f17-b628-79d05165defc.jpg',\n",
       " 't_1_c6cd7978-4088-424d-bb0f-b9d704064bee.jpg',\n",
       " 't_1_d43d26da-9e21-4ae5-b938-d5145d230012.jpg',\n",
       " 't_1_d4f5d95b-d31e-4822-9dbc-3ae81cf8f870.jpg',\n",
       " 't_1_d8dae116-3ca6-4b18-908f-b31638f6924a.jpg',\n",
       " 't_1_da8f6edc-1ac8-44d4-92fc-f5c9010e9c30.jpg',\n",
       " 't_1_e09676fe-fb01-46e7-8658-4872985b37e7.jpg',\n",
       " 't_1_e117de2d-43de-4c07-ac7b-566809ac846d.jpg',\n",
       " 't_1_e6a30c2c-f3a4-4532-ac86-91a18fe13e85.jpg',\n",
       " 't_1_f1816f28-ba1d-4234-aca0-9f86f7a3c0cf.jpg',\n",
       " 't_1_f4a399d2-4ea3-4a12-833a-e850838d8941.jpg',\n",
       " 't_2_01f3425b-593e-4169-86e8-37052b7e1361.jpg',\n",
       " 't_2_0b753b27-ec0e-4717-91a0-506ac780b9e5.jpg',\n",
       " 't_2_10922980-f609-46c6-a048-fbb5b080115f.jpg',\n",
       " 't_2_1ce65e82-f36e-43fa-b018-18b5e04b7d55.jpg',\n",
       " 't_2_1f3529a0-0e49-404a-94bf-029df772a276.jpg',\n",
       " 't_2_2ead830d-623e-48c6-a31f-07312962921c.jpg',\n",
       " 't_2_31b3c22b-988f-44b0-9aa2-dc168f40b93e.jpg',\n",
       " 't_2_396ed236-ed70-4559-99e4-4a4ee70088d5.jpg',\n",
       " 't_2_4cad0085-961e-4fb6-9d40-87838076f4a5.jpg',\n",
       " 't_2_5132a83b-ebd1-44cd-8214-c1add3bb50ba.jpg',\n",
       " 't_2_636d0255-c9b8-4b86-aa3d-065332a48e51.jpg',\n",
       " 't_2_68bca7e6-f8b0-4c61-a101-6ead6fcaaf09.jpg',\n",
       " 't_2_87109d36-601c-47a9-ac0c-b36a6e74316f.jpg',\n",
       " 't_2_87451702-0f67-4559-b935-5e3efdbdf821.jpg',\n",
       " 't_2_8a1bc744-ad8c-47de-b50d-cbadfb36bc9b.jpg',\n",
       " 't_2_8bf29bb6-849f-4d13-80d4-22f5510f473b.jpg',\n",
       " 't_2_90e332f8-9e9a-4d7c-9c90-d9d7c985a136.jpg',\n",
       " 't_2_917e796c-9976-46bc-b75a-58071a60a617.jpg',\n",
       " 't_2_9a45b79d-f149-4f73-bcc8-f0393e3db940.jpg',\n",
       " 't_2_9bab29da-8483-4ddf-b206-dbe6f2bacf43.jpg',\n",
       " 't_2_9cd2aadb-81e9-499a-974b-1fe7d52f3b9b.jpg',\n",
       " 't_2_a21536a3-4f28-4e36-aca7-5b99adebf192.jpg',\n",
       " 't_2_a338b5d0-c35a-467a-b103-186ec1dbe7c4.jpg',\n",
       " 't_2_a7ee8041-64a1-4ede-bd93-295d1cd948c1.jpg',\n",
       " 't_2_b94cfa98-2a96-4bc9-aa7b-891626530ce0.jpg',\n",
       " 't_2_baabdb3a-368d-4f66-83fa-103c284a5140.jpg',\n",
       " 't_2_babb4c09-0855-475c-a04c-240ffd97c3c7.jpg',\n",
       " 't_2_bb6ad9d9-d81c-4ebf-98dd-e6d1f1d716b2.jpg',\n",
       " 't_2_bc08b13c-1c47-4a98-b648-f18dded75942.jpg',\n",
       " 't_2_cb41e4c9-a7b2-4eff-9aed-340273b438ef.jpg',\n",
       " 't_2_d4dc1eb8-9509-45eb-9e4d-a6e4ea59679f.jpg',\n",
       " 't_2_d960ba42-ee2c-4ae3-b756-b327aede2f83.jpg',\n",
       " 't_2_d98aadfc-40ee-4765-9351-a1d777341893.jpg',\n",
       " 't_2_f0a64b8f-f605-4309-99b3-887480e115c0.jpg',\n",
       " 't_3_099767b5-95c7-4fbd-982e-a561c2719b4d.jpg',\n",
       " 't_3_0b76feea-b141-47ff-906a-7c6125c19148.jpg',\n",
       " 't_3_0bcd9816-0b47-4b3a-8fd6-a053a3ea4c4a.jpg',\n",
       " 't_3_0e9a323b-1049-498d-bce5-82633ac2ef3d.jpg',\n",
       " 't_3_0fac42ea-c651-410b-a429-0bd955c8269a.jpg',\n",
       " 't_3_1f5af657-9269-41a8-966c-65fcb75ad94d.jpg',\n",
       " 't_3_2269e641-6024-4bea-875c-da7e8952768b.jpg',\n",
       " 't_3_277ea5e1-b0ba-438c-92b9-bdb51ec8e137.jpg',\n",
       " 't_3_3321f010-dcd1-462f-857b-2c6bd1628118.jpg',\n",
       " 't_3_374d969d-28df-40da-9aef-98912c0605c6.jpg',\n",
       " 't_3_382e974e-9815-4cd6-b647-906db6d8666e.jpg',\n",
       " 't_3_5c0e977c-2399-4f7b-8168-d97cca8a5d64.jpg',\n",
       " 't_3_5eae154b-4d78-4820-bd44-e3a25e274ddd.jpg',\n",
       " 't_3_6f451183-2c13-4dfc-8489-d5277676540f.jpg',\n",
       " 't_3_6f70af3b-e9ea-46b1-9839-73f9e25c5912.jpg',\n",
       " 't_3_801274e8-4365-4977-84dc-293790c40442.jpg',\n",
       " 't_3_836fa833-2475-4890-8624-6fdffce54b46.jpg',\n",
       " 't_3_8f9565c1-1817-451a-abfd-427dfde2151d.jpg',\n",
       " 't_3_9f6ddc9b-1ee0-43d5-8127-146f422b34ce.jpg',\n",
       " 't_3_ad29cf22-a4eb-4d65-a401-f6362d083e29.jpg',\n",
       " 't_3_aea23e9f-5552-4893-876f-6b18bd534de0.jpg',\n",
       " 't_3_b0675bbc-35ee-49cb-ad46-45a2811a951d.jpg',\n",
       " 't_3_b375fe72-6183-477c-a4f3-fa8b0a88e917.jpg',\n",
       " 't_3_bd7b0786-7312-48ad-875e-c5beb51458a3.jpg',\n",
       " 't_3_ccad2312-eab2-4f17-8a5d-82c9e6416929.jpg',\n",
       " 't_3_da02d2eb-d04a-4b09-972e-55b6b0cd62a8.jpg',\n",
       " 't_3_de876c33-fbdc-4d0d-9067-32ef110effd9.jpg',\n",
       " 't_3_e0525682-1c6d-4730-ad39-85e49640e70e.jpg',\n",
       " 't_3_e3ab55e5-9e04-4ad4-9caf-804246e2c665.jpg',\n",
       " 't_3_f639dec2-4e60-4633-9190-4a18a7bcf8f2.jpg',\n",
       " 't_3_fa654259-4fcf-44ec-8186-f52a57b43fb8.jpg',\n",
       " 't_3_fe67da19-e821-4590-b1ed-f0a70af89d9f.jpg',\n",
       " 't_3_fee7e5af-f071-46f2-b0cd-fb00abfcde18.jpg',\n",
       " 't_4_03aa6a84-45f5-43f9-aa36-650c3e355411.jpg',\n",
       " 't_4_09ebf099-f262-438d-b1be-460e820c2d8c.jpg',\n",
       " 't_4_0c6bbe14-fe28-48ed-ade2-bb582aec7d5d.jpg',\n",
       " 't_4_10fba75c-de30-431b-8fcf-f54999137009.jpg',\n",
       " 't_4_12c3c6c1-1fab-4611-90a7-08ccd01d2d86.jpg',\n",
       " 't_4_12d688bc-2835-4743-b42e-1304606e51e9.jpg',\n",
       " 't_4_18b15a4a-b476-4de0-9cae-acfb37ad3c67.jpg',\n",
       " 't_4_1a0c30f7-500f-4a89-84d9-f81f60303b24.jpg',\n",
       " 't_4_224aefc2-b3e7-4c62-8f79-63319f1c9ef8.jpg',\n",
       " 't_4_2346218d-7460-44bc-af79-99d51b9f9e61.jpg',\n",
       " 't_4_2668b5ca-5f5e-47d4-8b34-8a1886eda723.jpg',\n",
       " 't_4_269612c2-e193-423d-b47b-d58b00f25602.jpg',\n",
       " 't_4_31bc927b-3e8a-4c4b-9b90-95c2299cfb1b.jpg',\n",
       " 't_4_3655b615-b44b-4f83-bb35-9200f1888c2c.jpg',\n",
       " 't_4_38e9ac7b-c679-4d5d-84ac-469535170069.jpg',\n",
       " 't_4_3ae99588-3b8c-46ee-8e8b-8a985d92b3ec.jpg',\n",
       " 't_4_3e3bb827-999b-4819-90fc-d9dd165c76ac.jpg',\n",
       " 't_4_428f69d1-6dd1-4cfd-be6b-4540fe67cb7f.jpg',\n",
       " 't_4_469862e3-12f6-47b7-98ce-7530f0d21823.jpg',\n",
       " 't_4_476ab5b9-bcba-4012-8148-54913d61e571.jpg',\n",
       " 't_4_4a8cb781-5974-4cf6-8b3e-f019bba3b25c.jpg',\n",
       " 't_4_4d656aa0-4616-43b3-9a32-c0edd4903c09.jpg',\n",
       " 't_4_51f4e3c5-9541-435f-b21e-13358b3dc54c.jpg',\n",
       " 't_4_59a13961-d752-4b0e-9a91-bd559317b2f3.jpg',\n",
       " 't_4_5f4bde80-134a-483d-84df-9b1dea927a31.jpg',\n",
       " 't_4_600e7157-204a-4d7f-80b4-59d52e0ecc32.jpg',\n",
       " 't_4_650b6384-42dc-4a4a-b0fe-ec1b5c30dfa2.jpg',\n",
       " 't_4_69004d1a-3410-45fa-a732-971eba70a3fb.jpg',\n",
       " 't_4_7138bedb-e0e1-4f7c-b31f-b2a1d3f522cd.jpg',\n",
       " 't_4_713bbfb7-fa1b-462e-b062-65cd5121570b.jpg',\n",
       " 't_4_73fe601d-c51e-4031-be87-0daeecb51668.jpg',\n",
       " 't_4_75c1f854-2214-4bf2-8e74-1460f7bf2351.jpg',\n",
       " 't_4_7849c268-d8e8-4e86-bb1d-b34c473df4db.jpg',\n",
       " 't_4_7b8121f1-b786-44df-b42d-4fffaa202546.jpg',\n",
       " 't_4_7dd9f8ae-6b11-4a89-b6f9-33fd8269b05b.jpg',\n",
       " 't_4_7de1f920-adef-47b4-b6da-52a15c5f12ae.jpg',\n",
       " 't_4_8417b221-c6a0-416f-9aa8-4f855c38f40b.jpg',\n",
       " 't_4_8485288f-d132-42bc-a9be-775ac6af94e7.jpg',\n",
       " 't_4_891a6b17-3632-45a5-8812-5179ab76d2eb.jpg',\n",
       " 't_4_9a9478a7-b1ed-4d79-899f-623c81dece35.jpg',\n",
       " 't_4_9c9cf5e1-9944-437c-bdbd-7a10dac8f9ed.jpg',\n",
       " 't_4_9f9404a3-d563-4aa0-8e25-c6a8957b289f.jpg',\n",
       " 't_4_a2963b7a-2197-4e96-8f1e-d8961e9aaefe.jpg',\n",
       " 't_4_a728efaa-9f96-4b61-9b93-5db3967a2604.jpg',\n",
       " 't_4_aca0895b-92b4-4967-80c1-9d86b3880382.jpg',\n",
       " 't_4_acd0616f-5885-4752-9617-6e6da6a24ab9.jpg',\n",
       " 't_4_acedaff6-98a3-4746-ae1a-e9c1ed31a863.jpg',\n",
       " 't_4_b91f8cf0-f459-4520-a761-57f08221ac06.jpg',\n",
       " 't_4_c5c72935-4b17-4f8a-acdf-29a3705c263e.jpg',\n",
       " 't_4_c5e6bf7b-9f61-4847-8f89-e26aab609dcc.jpg',\n",
       " 't_4_c60bb268-854e-4877-a924-ac63d5c331aa.jpg',\n",
       " 't_4_c763e455-8985-4dc9-8359-a6f047c682f6.jpg',\n",
       " 't_4_c906d92b-f547-4e25-bd61-63d2c4f78f9f.jpg',\n",
       " 't_4_d7192c94-2178-4a22-8a06-43f750c1f082.jpg',\n",
       " 't_4_e377df23-7436-49ed-b952-327bb106c5c8.jpg',\n",
       " 't_4_e51c208a-8003-4ac3-b379-b834d6b27a35.jpg',\n",
       " 't_4_e90e937d-9849-49c5-823f-e8549af112ce.jpg',\n",
       " 't_4_e969c439-ff75-40e0-b6c2-6cdc72c9ff93.jpg',\n",
       " 't_4_ea50977a-0d63-4a64-b907-8ede3a2459cb.jpg',\n",
       " 't_4_f2f41117-5933-44ec-998b-de1802e9581a.jpg',\n",
       " 't_4_f7d268bd-e1b9-41d5-8083-392bd2750ede.jpg',\n",
       " 't_4_fd786ce6-1da6-45cf-a259-5c2697a73a89.jpg',\n",
       " 't_5_01cb2e5f-5ab5-4914-b933-770ea6ec1a76.jpg',\n",
       " 't_5_14637764-80ac-4f8e-95a2-511bd5f457c9.jpg',\n",
       " 't_5_1d1e2ab4-0b85-425b-bcb4-7b6ebcdd445d.jpg',\n",
       " 't_5_1fce8817-e25c-480f-a57e-cef1a5e82c73.jpg',\n",
       " 't_5_307fab4e-b2fa-44fa-97c5-984362f34027.jpg',\n",
       " 't_5_3c512405-c059-4186-b884-0594f4c8b9cc.jpg',\n",
       " 't_5_3f8ff44a-abf5-41ef-872c-551d8a235ab6.jpg',\n",
       " 't_5_578b4c4f-4354-41a1-b42a-5c4db7266bce.jpg',\n",
       " 't_5_6acc9b41-23bb-40f5-b259-3bc222be59df.jpg',\n",
       " 't_5_74d21d52-be74-468d-8250-96d831518fa6.jpg',\n",
       " 't_5_77ca41a3-c1ed-4ccd-abb1-9e6f031a1da4.jpg',\n",
       " 't_5_840a2c3c-3ba3-4c0b-bac3-ab88d038c221.jpg',\n",
       " 't_5_847ecd9f-cd6f-436a-80b4-4929fb0bb436.jpg',\n",
       " 't_5_8a54f4f5-5e67-4355-b992-f281274bb80a.jpg',\n",
       " 't_5_96e840f3-d4a1-4c0c-b2e6-57210442e1d7.jpg',\n",
       " 't_5_99ebe23a-b099-4e5f-8ba4-2be546f79090.jpg',\n",
       " 't_5_a2e8b97b-82eb-4e55-9a68-8357f7a2ccfe.jpg',\n",
       " 't_5_a3bbe235-a1f2-4212-8a12-4ee1f03b1ab8.jpg',\n",
       " 't_5_b490d76c-a715-4462-9497-d93a01e6d82e.jpg',\n",
       " 't_5_befc8728-e64c-4454-84f5-3d1b820a04a1.jpg',\n",
       " 't_5_c5bf2b29-387a-474e-8455-fc33abee8477.jpg',\n",
       " 't_5_d41667e6-9dd6-419c-836e-003eb71deb42.jpg',\n",
       " 't_5_d622b32e-fd5c-4523-ade9-5ac2c4a23247.jpg',\n",
       " 't_5_db1c32fd-a5f2-4569-a672-f341ee536a4c.jpg',\n",
       " 't_5_dbf905f1-ad80-46e5-8039-45d908916525.jpg',\n",
       " 't_5_dfc76aae-b6c3-402f-9a81-18bb0f348464.jpg',\n",
       " 't_5_e091217b-6eff-4226-aefa-408a5943d8ad.jpg',\n",
       " 't_5_e0a662a0-1d5b-4c12-987f-fdd5ea9ac95c.jpg',\n",
       " 't_5_eb267c64-a4e7-4962-9ddb-5135db60446b.jpg',\n",
       " 't_5_eca8b1c4-5b45-4843-b64d-ab21592f8dcc.jpg',\n",
       " 't_5_ef54a796-2b32-4ba2-82fc-179714b0acac.jpg',\n",
       " 't_6_0013fb2f-0cc1-46de-82cd-c41cc042b9fc.jpg',\n",
       " 't_6_0b0bf350-a839-4ac6-a124-3cce4ced0d06.jpg',\n",
       " 't_6_15bce6dc-cdd7-4401-8fc4-d8c16bd001ab.jpg',\n",
       " 't_6_1f9da82e-87c3-42f2-9ba5-ff1abcf0c656.jpg',\n",
       " 't_6_232435dc-0f5e-4d20-a2b7-11645536345d.jpg',\n",
       " 't_6_29b0550c-4fc1-43a3-b333-50836088ddee.jpg',\n",
       " 't_6_2e9d2bc9-ea2d-4aad-af9c-6d50871edb61.jpg',\n",
       " 't_6_36183128-8be3-485c-ac8e-fc0ece7a07c9.jpg',\n",
       " 't_6_413e196a-9483-4bd1-a57d-e1f888272d76.jpg',\n",
       " 't_6_41d1fd91-6228-4044-a3fb-e56566b35de7.jpg',\n",
       " 't_6_4afa5c8b-98a9-4b51-89b1-dd8ec905a75a.jpg',\n",
       " 't_6_5957af63-3549-45ca-92b4-0bd543e62cc9.jpg',\n",
       " 't_6_5b38b60f-d980-40e7-aa5a-fc81c0fcc189.jpg',\n",
       " 't_6_601ae7e6-8597-43ba-aa53-2df1340e050c.jpg',\n",
       " 't_6_62b86038-f47c-486e-bb7a-3c564ad57ad4.jpg',\n",
       " 't_6_71c3ba7d-5c60-4a7e-9ff7-aa4582cef403.jpg',\n",
       " 't_6_71c7aad1-fc28-4fda-9fec-6df2a7fc2341.jpg',\n",
       " 't_6_77eb7e5a-2a47-461f-910f-5c0fcf7f7cfc.jpg',\n",
       " 't_6_7c12cbc3-676c-4493-a033-4b18225c1bd3.jpg',\n",
       " 't_6_877a1f3d-821e-4d7b-a293-429c896fce01.jpg',\n",
       " 't_6_8e3a3420-0f85-4308-918a-ade7db53e787.jpg',\n",
       " 't_6_9022f375-1f2e-4fad-b958-c0a82c0e5dd4.jpg',\n",
       " 't_6_90fd33fe-4aaa-4136-bc48-5ef6c9881cde.jpg',\n",
       " 't_6_939419e1-f378-42db-ae9b-0ea05e30c516.jpg',\n",
       " 't_6_a3df760a-4a58-4636-9ca3-6c6d17425252.jpg',\n",
       " 't_6_b0910992-b657-4d50-828b-63426d04e5f5.jpg',\n",
       " 't_6_bd103975-28ce-47d7-8f7f-b3b7d3f9cf99.jpg',\n",
       " 't_6_c61cdb12-3439-4217-a1c1-8417220691b7.jpg',\n",
       " 't_6_c8dba967-6364-42f8-b7cd-7539a72f0d18.jpg',\n",
       " 't_6_cd4e788e-7423-4e6e-812b-a8a41fb6cd50.jpg',\n",
       " 't_6_d5e88410-0d87-4a13-a4ab-d5ded27ea8a7.jpg',\n",
       " 't_6_fe1c5888-10ac-4fe4-9a0f-3c56106d30a4.jpg',\n",
       " 't_7_046e08d1-9e40-4f6a-a5db-5f51a3fa5be8.jpg',\n",
       " 't_7_14a0d408-dea4-4110-93a1-a7d9a30671fe.jpg',\n",
       " 't_7_17500c2b-7b1a-438f-b91e-a1b06ff7641e.jpg',\n",
       " 't_7_1b7ce223-399b-481e-8af9-a5d19dead3b2.jpg',\n",
       " 't_7_1ff20ecb-dc99-4b53-8768-6f30dbed4ca6.jpg',\n",
       " 't_7_20434df8-2d93-4563-9047-d6e1c88c6d86.jpg',\n",
       " 't_7_279ea4e3-bf2c-4232-9bd2-466f8a089d3f.jpg',\n",
       " 't_7_2bb813a8-96fc-4f2a-97c5-1a5d35c59365.jpg',\n",
       " 't_7_2c712168-e00a-4690-bcb3-ab5ea152f25c.jpg',\n",
       " 't_7_35881230-5d03-44cc-9952-035df3fcac98.jpg',\n",
       " 't_7_3ec930a2-35b7-458d-b839-1965afe9e026.jpg',\n",
       " 't_7_47bd60ff-2d0c-40c2-b2a4-dde2920331c7.jpg',\n",
       " 't_7_663b6a86-39b4-42c2-81e6-b13337a99f5c.jpg',\n",
       " 't_7_77b53b1a-0a51-4c9c-9cbf-099bc183e2a2.jpg',\n",
       " 't_7_7d0e3c00-b440-4d5e-b62c-c42e3fce480f.jpg',\n",
       " 't_7_85d84cfa-b41d-471b-8131-50425ee12118.jpg',\n",
       " 't_7_9432e1e6-d319-40e6-b034-14f07b6e90e0.jpg',\n",
       " 't_7_9575cd22-9a6a-4094-ad5d-bee3f3927af6.jpg',\n",
       " 't_7_973da539-7c7a-4135-a406-b8509518a84a.jpg',\n",
       " 't_7_9d4a5adb-3396-47b7-b833-6ae2c958ff43.jpg',\n",
       " 't_7_9d594f93-d03d-4652-87cb-825ce5a19f11.jpg',\n",
       " 't_7_ab1af793-e2df-4067-a0c9-73bc8ed39dd7.jpg',\n",
       " 't_7_ae9f207d-49fb-4747-b62b-ad3a79587eda.jpg',\n",
       " 't_7_afb12f66-910a-4e49-a46e-35b791c24a40.jpg',\n",
       " 't_7_b2479d9e-1946-4099-bfa4-6026ecf7e2cd.jpg',\n",
       " 't_7_b3847617-a95b-459e-be08-1cb6b931176f.jpg',\n",
       " 't_7_b5e3196b-91c7-4dc5-9fe0-1913a90e34d0.jpg',\n",
       " 't_7_bf92be55-c7fb-4857-b184-4a75009c51b9.jpg',\n",
       " 't_7_cbe7ce99-8019-44f6-a9a4-f880607936b3.jpg',\n",
       " 't_7_cd16bb41-0992-4519-ba02-4ade9d9e0125.jpg',\n",
       " 't_7_d8cfad03-c42c-442e-b9d3-023cb3b15638.jpg',\n",
       " 't_7_db0597c3-5492-4771-aac9-a05deba58d64.jpg',\n",
       " 't_7_e6f20cd5-ff2a-4c49-9a03-6f43f1301423.jpg',\n",
       " 't_7_ea1f7d9d-fb0f-453a-8e46-bf7e56484794.jpg',\n",
       " 't_7_f8094e0f-c718-4f98-bb86-06282793bba9.jpg',\n",
       " 't_7_fb23ce55-e452-4ac2-9a43-9deecfbd618d.jpg',\n",
       " 't_7_fc64428b-7322-416c-85c1-47bffb7dc1aa.jpg',\n",
       " 't_7_fe3fa071-bf17-4755-a0b8-7d766fdd7352.jpg',\n",
       " 't_8_0231d140-4b9e-4a46-a1f1-98bfdcf6f9d6.jpg',\n",
       " 't_8_02836438-a7e7-4274-a02a-5b0144d39697.jpg',\n",
       " 't_8_067a5b07-8b9b-46ae-ac24-82f840bbdd20.jpg',\n",
       " 't_8_08c769c2-40d6-4ec5-a4ac-4953bfd9be8b.jpg',\n",
       " 't_8_093289b0-15a4-4a19-a251-d73cc61ee1db.jpg',\n",
       " 't_8_1b37add6-bf4c-4e97-af4a-4d93e439f2d3.jpg',\n",
       " 't_8_1ed89c00-5a13-408b-9c32-194bcdc355db.jpg',\n",
       " 't_8_20caa99c-a662-40c5-ab77-2d4b92945e49.jpg',\n",
       " 't_8_2648b0be-085d-42d6-96e7-084ed6ac854b.jpg',\n",
       " 't_8_36c78092-e81e-4a75-b1ea-2bd568485c3e.jpg',\n",
       " 't_8_42cd6c03-5765-4c38-9674-f4042c32c5dc.jpg',\n",
       " 't_8_532aa609-09d2-4511-b03a-84922d253932.jpg',\n",
       " 't_8_66ed4d1d-96ac-4395-a3fc-ee39f2166b5f.jpg',\n",
       " 't_8_684c1164-0911-489a-b521-8483e73581c1.jpg',\n",
       " 't_8_7338c64c-ff91-4f50-a8fb-3ce0d1fa941e.jpg',\n",
       " 't_8_7350ea88-0b81-457a-8cea-fa1e75ad12b6.jpg',\n",
       " 't_8_75ee9646-1c46-40fa-a521-2b05074e0521.jpg',\n",
       " 't_8_7b9c11d7-a940-4eb4-b1a8-ea06fa27949f.jpg',\n",
       " 't_8_807358d0-6f07-4e10-8d94-cd79ee4cddb3.jpg',\n",
       " 't_8_850b51df-04e1-44bc-86c3-e2f3e329ab42.jpg',\n",
       " 't_8_9198b526-2703-4fc3-81a5-8ac4ec9e30a0.jpg',\n",
       " 't_8_9433873f-e8a6-4d5c-b05d-9dc9b9cfff3e.jpg',\n",
       " 't_8_97a58e5b-c5dc-4ecc-9936-a7a81f5a88dd.jpg',\n",
       " 't_8_97d53b92-e6d3-46b2-bcfb-62b3796fbb56.jpg',\n",
       " 't_8_b4381877-b599-437d-a5d3-51ef4e41c2a9.jpg',\n",
       " 't_8_c971d1b4-76a7-4529-b4a0-01bc77245454.jpg',\n",
       " 't_8_d45c837f-ecdb-4f3f-b814-c16822ab86dd.jpg',\n",
       " 't_8_d9661186-8e1f-4f39-9643-91880f565c9d.jpg',\n",
       " 't_8_dcde488e-3699-417b-85c7-72dce2cc95c3.jpg',\n",
       " 't_8_dfb032b6-c004-4257-b74f-5aa2efb28964.jpg',\n",
       " 't_8_eded647a-2e76-427b-811e-00920642c95d.jpg',\n",
       " 't_8_ef3fd1f6-d42c-4c76-9de9-2f933d4da1d9.jpg',\n",
       " 't_9_01c5fc63-4175-436f-91d4-ab741596019e.jpg',\n",
       " 't_9_0508a69f-91e1-4eee-87a6-769db9114a0f.jpg',\n",
       " 't_9_0784390c-c3e8-4c53-9687-58875c117d0b.jpg',\n",
       " 't_9_0ee4e224-c737-45a6-942c-4615f1b7a9b4.jpg',\n",
       " 't_9_14d37d99-2734-4bac-9ba1-79a13d7160f8.jpg',\n",
       " 't_9_168db632-b5b1-4cd0-915b-b829f34d6ed6.jpg',\n",
       " 't_9_19ca7143-e054-48c4-8afe-ab4adba67f7b.jpg',\n",
       " 't_9_1f43f478-ebcb-40ee-8398-a533ac3d3746.jpg',\n",
       " 't_9_285c1ba4-7885-4268-9785-9033ba1e535c.jpg',\n",
       " 't_9_2ae31ff5-64f4-49da-ad41-f6e2c7bc68e8.jpg',\n",
       " 't_9_2e9c82d9-097f-4502-940a-1e1a7ff019a6.jpg',\n",
       " 't_9_4e51091f-94db-44e5-9a1b-e5f6050fd168.jpg',\n",
       " 't_9_4e6e5883-c4d5-4703-b252-e9bb166e1a4a.jpg',\n",
       " 't_9_4f8c2341-24b8-40fa-a405-cd10bcf3c1e5.jpg',\n",
       " 't_9_54e719f6-baf7-447b-89ea-25327a5379fb.jpg',\n",
       " 't_9_5a397215-4fe3-4073-97c5-c235e16edae4.jpg',\n",
       " 't_9_5e369218-2d02-4494-85ea-9eb4a710906d.jpg',\n",
       " 't_9_6e61de0f-a37c-438c-9173-0d4383e11b47.jpg',\n",
       " 't_9_7640908f-4e4c-48a8-9b52-63a03d62e9c3.jpg',\n",
       " 't_9_764f1a49-173a-40f7-93e8-17bbb8018ae5.jpg',\n",
       " 't_9_846f9651-9201-4287-bbfb-e662d7f1c2a8.jpg',\n",
       " 't_9_8d8a7191-832f-4907-9052-410ecded5205.jpg',\n",
       " 't_9_90a7ac28-4366-472c-9673-017d1a859a61.jpg',\n",
       " 't_9_972be8b3-9dd9-414c-adb0-2284a3a40840.jpg',\n",
       " 't_9_9e9913d7-4047-4c3e-9fb0-208c71b78242.jpg',\n",
       " 't_9_a01010fc-db16-40b2-9fed-9fc910184db6.jpg',\n",
       " 't_9_a0e82323-2fed-43d1-b0ac-c1666f615be9.jpg',\n",
       " 't_9_a256448c-161c-417e-b303-fa6d4727f124.jpg',\n",
       " 't_9_aa3c605a-c0fc-46ce-828a-08a89776d109.jpg',\n",
       " 't_9_b249001c-b956-4e42-89cc-e4f5324bcc7a.jpg',\n",
       " 't_9_b94ea72b-b56d-403e-9aaa-ee5e6ccbe43f.jpg',\n",
       " 't_9_b9f2fd67-110e-483a-8a9f-6898e10dbce2.jpg',\n",
       " 't_9_ba641255-d1d8-499f-bbd1-a67dc8840b15.jpg',\n",
       " 't_9_cd1ede85-2fbd-42fb-be69-21b7c46de960.jpg',\n",
       " 't_9_d9db7fb8-23c6-4a17-bcb3-27104305ffd7.jpg',\n",
       " 't_9_e230a6a0-80d5-48f8-a707-fd8124c6abf1.jpg',\n",
       " 't_9_e610857a-348d-43c0-819f-22faad7a5acf.jpg',\n",
       " 't_9_e6db744c-9c9a-4d18-aae6-1d1b5f32b2dd.jpg',\n",
       " 't_9_e8fbc63e-e6e9-4c60-9868-a9a3f7347c78.jpg',\n",
       " 't_9_ef314004-f8c9-42a4-aa4b-4071a3758011.jpg',\n",
       " 't_9_ef6cd8ea-bff8-4183-9e9b-88b108a7c020.jpg',\n",
       " 't_9_f7bc754e-4852-46ad-8230-42099590535f.jpg',\n",
       " 't_A_0583ad78-18fc-4406-a778-b44b8a08e505.jpg',\n",
       " 't_A_06086a77-4a65-4f10-aeb6-31b69ee5848f.jpg',\n",
       " 't_A_102c0770-926b-4e94-b59c-e3f723c58ef5.jpg',\n",
       " 't_a_10eb82ca-ee01-4a37-bf66-ad65673fb48d.jpg',\n",
       " 't_a_155f772c-561c-4886-8c55-20f9a291be3d.jpg',\n",
       " 't_A_1d851c11-6baf-4783-8f7f-9bafaf0543fe.jpg',\n",
       " 't_A_20894ca1-48c2-4b8b-8147-4539742bd1da.jpg',\n",
       " 't_a_25ae8d9e-b8bf-491f-b52b-925006121aff.jpg',\n",
       " 't_A_260e4865-b7c4-4c22-8f2e-2fdca3da6bfb.jpg',\n",
       " 't_a_2a2f02ad-19e1-4cbe-bac5-dc80201b63bf.jpg',\n",
       " 't_A_2b412716-38bc-4be5-bd12-69bc8aae2d5e.jpg',\n",
       " 't_A_2c1d546b-7e74-4aea-86e4-9377cdf59c90.jpg',\n",
       " 't_A_306a2bf7-7cb9-4669-a866-56eb3f791b94.jpg',\n",
       " 't_A_33b79135-2463-4ad0-900a-941d08f51e87.jpg',\n",
       " 't_A_37afce7c-40b9-4eaf-9d4c-1217b81edf5a.jpg',\n",
       " 't_a_398d270c-2e32-404c-903d-d80ea8be977b.jpg',\n",
       " 't_A_3d2c26f8-08c4-45f0-8c9c-fcc717b073b5.jpg',\n",
       " 't_A_3d6b888e-b5ab-46ac-aa65-0c400ca79117.jpg',\n",
       " 't_a_493697da-08d6-4d74-8edd-711220dae2fe.jpg',\n",
       " 't_a_4b758dfd-41c2-4c76-a465-3c11d8ecc965.jpg',\n",
       " 't_A_4d1cacf5-1582-4645-b24a-9e40d991b2d0.jpg',\n",
       " 't_a_5712bb10-2401-469a-9bf3-269cb70eef2d.jpg',\n",
       " 't_A_59d743c7-ad42-4025-9d9a-71d89a8d3c9e.jpg',\n",
       " 't_a_5bdcbf70-adf6-47ce-8597-701a57c52bd7.jpg',\n",
       " 't_A_5e7ce455-46ca-42d8-80d9-be462eb90697.jpg',\n",
       " 't_A_6558c72d-a5cc-49d5-927b-40b648d30669.jpg',\n",
       " 't_a_66e1e6c1-c27b-41d7-a92c-0bb2ae7bd791.jpg',\n",
       " 't_A_6929a5ae-bc98-4efb-b97e-f0b399ade8d3.jpg',\n",
       " 't_A_6f60f2c0-5343-4a47-b368-696aef8eac1a.jpg',\n",
       " 't_A_74e4ebab-035a-46c3-9126-1e8b7f9a084e.jpg',\n",
       " 't_a_78af229f-e82e-4f16-8c75-34d7bd3d8118.jpg',\n",
       " 't_A_7bbe2e0b-65cf-4336-9b97-e25825b3fab8.jpg',\n",
       " 't_a_7de30a64-2228-42f2-bc13-5a5fecc461f3.jpg',\n",
       " 't_A_84a8d3f1-46d5-4c09-9c16-6d8bcafba041.jpg',\n",
       " 't_a_88f6fd2a-b5fa-41d0-92bb-67705eeb329f.jpg',\n",
       " 't_a_8ee5be63-5129-47cd-9914-8a94e155a114.jpg',\n",
       " 't_a_90c30529-fecb-4d0d-a357-6f4f91e71744.jpg',\n",
       " 't_a_9487ad59-85a2-40f4-bfc3-81b86c4401a8.jpg',\n",
       " 't_a_991b6f86-cfff-4e0a-af66-979424ef2ef8.jpg',\n",
       " 't_a_99c17b80-5499-42d3-9a10-7c90c4c958f9.jpg',\n",
       " 't_A_9e86b6a9-6e3f-495f-a279-d5c031178913.jpg',\n",
       " 't_A_a0ffe831-c1c4-4a3c-9237-bf88240f6324.jpg',\n",
       " 't_A_a6d3b049-45d6-46dc-83a3-8386c7866b8c.jpg',\n",
       " 't_A_a88e73d3-7d42-4a19-8b16-3813978bae81.jpg',\n",
       " 't_a_b06a6a8a-34c4-4c09-aac4-45f2003023a4.jpg',\n",
       " 't_A_b22c5e07-be92-472a-82fa-07d47e265c3f.jpg',\n",
       " 't_A_bad80e5b-a76e-47ed-b4ae-a2395f3fb4cb.jpg',\n",
       " 't_A_bc446c90-bfa8-489b-8839-169ea9241a10.jpg',\n",
       " 't_A_bd048bc3-ce2d-4f8a-91ba-479ffed34104.jpg',\n",
       " 't_A_be03ce07-93e9-489d-9192-7540379f5ce0.jpg',\n",
       " 't_a_be99dc04-2243-49af-b130-585dd2499d7b.jpg',\n",
       " 't_A_c7c87ab7-64f9-4071-ab1b-f61b6c3985e6.jpg',\n",
       " 't_a_c970f51b-6c86-4b4c-9b93-392218318ab2.jpg',\n",
       " 't_A_cb7c1d09-b94b-4866-acde-7289c7d7fc8c.jpg',\n",
       " 't_a_cd280296-bd30-4ac2-9c2a-524ae2d37704.jpg',\n",
       " 't_a_dae053fe-9d82-4d42-8cfe-b4dabf3a76de.jpg',\n",
       " 't_A_dd8da766-5aa7-4caa-b13b-8fb35f3c1234.jpg',\n",
       " 't_A_e00f1b2f-db55-46f9-80c8-a97f49716b0b.jpg',\n",
       " 't_A_e01a6352-f919-47e0-8c75-554e81ead1f1.jpg',\n",
       " 't_a_e0d5758c-7b83-4966-a8a2-4ba2d1add248.jpg',\n",
       " 't_A_e128defa-dd3c-4739-8b64-621c301e6d2d.jpg',\n",
       " 't_A_e1b8a98c-c80c-4230-86fb-2fc1c2a20aa7.jpg',\n",
       " 't_a_e45c9215-000e-4172-937d-09b5eb57fa2b.jpg',\n",
       " 't_a_e4baf065-fd40-4569-8191-334d7f4272a9.jpg',\n",
       " 't_A_ea3dcf3d-751e-4c1c-8592-0508c6313937.jpg',\n",
       " 't_a_fda6c343-3415-4c6a-8fe1-c608f72ebd98.jpg',\n",
       " 't_a_fe1d9abd-917e-408a-8571-edce395a465f.jpg',\n",
       " 't_b_04ceaf6f-9d09-458e-9396-f7d8d08053bc.jpg',\n",
       " 't_b_068ff1c7-9ec5-408c-823a-0f2c390a3375.jpg',\n",
       " 't_b_06ebc3b5-9bfc-43d0-a258-91dec10e7606.jpg',\n",
       " 't_B_07abdc72-ff26-4bea-a6a1-0efed1499afc.jpg',\n",
       " 't_B_09383106-a741-4139-99cb-7bbef5c9cd45.jpg',\n",
       " 't_b_093c8cc0-0a7a-44b0-a2f5-44585137d866.jpg',\n",
       " 't_b_0a21659b-bf17-4cd1-8bbd-ab95a974b334.jpg',\n",
       " 't_b_0e8dc22a-5617-4ce3-9b1b-8f89de1526e6.jpg',\n",
       " 't_b_0ea42200-3eb7-4b0b-ac35-f0ec3d114830.jpg',\n",
       " 't_b_12aec094-960e-4219-b582-f63769bc5245.jpg',\n",
       " 't_B_18de692c-22ce-4487-9163-230159ce48bb.jpg',\n",
       " 't_b_1eb96cad-645c-4a78-bd04-9e3d90f9d823.jpg',\n",
       " 't_B_1eb986de-c734-4dc9-abf8-81c0724ebbfb.jpg',\n",
       " 't_B_24fd6391-4a66-48f9-9860-fd52728ae2f0.jpg',\n",
       " 't_B_2b0881b9-9472-4cef-a073-6ed31224881d.jpg',\n",
       " 't_B_2d564f24-d939-46b2-8fb9-c6e68363439a.jpg',\n",
       " 't_B_2e27dec5-8707-4870-972c-0af9d366651c.jpg',\n",
       " 't_B_2f549bed-3ce3-403d-8ec0-3b76a673a5a6.jpg',\n",
       " 't_B_3296b924-6749-478c-9985-23144c4506fa.jpg',\n",
       " 't_B_354efaa3-781d-4c82-a945-acaeebfe7328.jpg',\n",
       " 't_B_36ba3f68-4ba4-407e-9016-1e9a6771d712.jpg',\n",
       " 't_b_387f1f2a-b237-4399-8e44-0cc587a4d709.jpg',\n",
       " 't_B_3b8e0da8-4102-4e2f-8cc0-3bde666e4998.jpg',\n",
       " 't_b_3f85356a-e0ff-477f-84be-317ea867f8dc.jpg',\n",
       " 't_B_3f8a7bb8-82c5-41e7-a13d-4a37e8c039d0.jpg',\n",
       " 't_B_43a01f14-b42c-4c4e-a2cb-df02b65ab6b1.jpg',\n",
       " 't_b_4649a4ec-27b8-4fe1-afdb-4eed1e6eb983.jpg',\n",
       " 't_b_4a144478-8866-4b1a-873c-047b52a233bd.jpg',\n",
       " 't_b_4d5c00c8-2e54-44da-8468-8134e5ae2299.jpg',\n",
       " 't_B_4e70d5d1-75d8-4bc7-a6a4-7f833299d2b6.jpg',\n",
       " 't_b_4f14754a-1521-456c-8e42-90c5f3551ace.jpg',\n",
       " 't_b_51e61291-a6c1-47b5-bc53-8532efc15818.jpg',\n",
       " 't_b_53d7d576-1386-4ca8-a8fa-4d706f2a0a34.jpg',\n",
       " 't_B_54f82bef-721c-41fb-806d-93563cbcadf7.jpg',\n",
       " 't_B_57e504b4-bfd6-4f4f-a1c8-ba57e45fccd4.jpg',\n",
       " 't_b_580df1d2-721e-4875-96b2-9016bc288f2a.jpg',\n",
       " 't_b_599b77a9-7bbd-4be2-9e11-66ab0965cc99.jpg',\n",
       " 't_B_5b3c73aa-20d6-4776-a81c-216446ea0c92.jpg',\n",
       " 't_B_5c00ad7f-9a70-4645-8987-945a058a2cda.jpg',\n",
       " 't_b_5cb94132-dc45-465c-8aee-7c6073ae7767.jpg',\n",
       " 't_B_5f36086e-6f20-4d98-aac8-08297e9d3077.jpg',\n",
       " 't_b_5faf7ae7-4aaa-4e2e-abd4-e8072213aa0b.jpg',\n",
       " 't_B_6100f2cd-d63a-4d7c-a0d5-cf8db27b39ff.jpg',\n",
       " 't_b_6173c736-e2ba-4733-a6ba-10f5e094a048.jpg',\n",
       " 't_B_617b4070-419d-4a86-ba15-b8e5d16f0193.jpg',\n",
       " 't_b_61d678a9-6c6f-4558-9781-0f1815fb74a8.jpg',\n",
       " 't_b_6765db4b-a360-421d-af9c-89769860d085.jpg',\n",
       " 't_B_6b20c0a3-fc30-46eb-999a-36590e352bfd.jpg',\n",
       " 't_B_6d0e683f-f4b7-4d36-837a-0135cb9799dc.jpg',\n",
       " 't_B_708124dc-7098-42f8-8d9b-fff7e7d3d0a8.jpg',\n",
       " 't_b_712fd0cf-3691-4d65-9d3f-8634511174d6.jpg',\n",
       " 't_b_71b0649e-b240-418c-97b5-71bdf2584d61.jpg',\n",
       " 't_b_7781e184-f4d9-4581-afaa-0725f1174878.jpg',\n",
       " 't_b_77b213a5-5cab-468e-91bc-a9d46dba46fc.jpg',\n",
       " 't_B_77e0b615-7015-4dae-8d8b-88c00302c222.jpg',\n",
       " 't_b_7865bf2e-e31f-4999-823a-fe8a55c8cd23.jpg',\n",
       " 't_B_7da4e2fb-99ee-4f26-a1a7-fd6bd05c543c.jpg',\n",
       " 't_b_7fe0c92d-d78c-4d15-a7e7-5bf2517840b5.jpg',\n",
       " 't_b_80bc753f-bf76-4b8e-85de-d7df68ff978a.jpg',\n",
       " 't_b_81c49666-da49-4356-8a2e-856f3672f508.jpg',\n",
       " 't_b_824c537f-e446-4fbb-9aeb-19bf89da2850.jpg',\n",
       " 't_B_826dccc2-7eaf-4a99-b156-fe9f113dcb41.jpg',\n",
       " 't_B_84ca0bbc-baf9-4af2-a999-7cf731b7b4bb.jpg',\n",
       " 't_B_86803251-9644-4059-8431-861511e89354.jpg',\n",
       " 't_b_8a889ba9-687b-4ebd-ae21-2014f365d345.jpg',\n",
       " 't_B_8ba00850-9572-46e4-95ab-01a3502fab48.jpg',\n",
       " 't_B_917ea16f-d2b3-4e8f-851a-cf57dedd8a0d.jpg',\n",
       " 't_B_97e33a43-ce5e-4bbd-8edb-7fceed1aac42.jpg',\n",
       " 't_b_9839ec6a-aa42-48d8-a644-b3b48a1b65f9.jpg',\n",
       " 't_b_992bfb54-90aa-4981-8ef0-584856672713.jpg',\n",
       " 't_b_9c1a4a64-bd2d-48d5-b47c-b07cbcf2c5e5.jpg',\n",
       " 't_B_a37fb890-4a50-424d-93bd-3a5746ef354f.jpg',\n",
       " 't_b_a40c7427-7c98-4aba-9ba6-7c0f1aafe375.jpg',\n",
       " 't_b_a557d98f-f21d-40a1-81c4-a7bc8529d073.jpg',\n",
       " 't_b_a6cc1f36-c4e7-43a5-aefa-39178b08719e.jpg',\n",
       " 't_b_abd1ba7b-195b-466c-9c91-73a93a6dcbc1.jpg',\n",
       " 't_B_aeb1347c-e16d-4831-8974-077c99d9261c.jpg',\n",
       " 't_B_b3a682ec-bf2b-4a82-8983-48255d3f6a16.jpg',\n",
       " 't_B_b3f9ed6e-287e-4cc8-8842-ec4bf381f0da.jpg',\n",
       " 't_b_b7e19dc5-ebed-4e07-a9dc-a78d310bce76.jpg',\n",
       " 't_b_baa59967-bb0e-4c6a-bf2d-bc3a86fa38e4.jpg',\n",
       " 't_b_babb3db1-6db3-44f2-97b6-a41f5418cd1e.jpg',\n",
       " 't_B_bb1ff921-4801-4cd7-b041-d4fc4b108705.jpg',\n",
       " 't_b_bf6e6b38-96aa-47d4-8f95-db365ef25667.jpg',\n",
       " 't_B_c6e36dc0-9b9f-4899-a9d7-b2ae0e888afa.jpg',\n",
       " 't_B_c974e6d4-4222-4a04-be42-e8df48834162.jpg',\n",
       " 't_b_c9cb3e9e-27f9-4684-8232-32ef062686ab.jpg',\n",
       " 't_b_ca083e22-4190-4be9-a72f-1c68ffa254a9.jpg',\n",
       " 't_B_d192bde9-8202-4d22-b571-d97a28ceffea.jpg',\n",
       " 't_b_d535022e-a90f-4078-a0b5-5801bae7c3a9.jpg',\n",
       " 't_b_d85bd9fb-1b5f-4c70-a79d-9c55015bd460.jpg',\n",
       " 't_B_db99f3be-cafb-4e0e-81a1-b78a6a0ae38e.jpg',\n",
       " 't_b_e138eb99-0604-4137-8789-e4351512b916.jpg',\n",
       " 't_b_e1dcb2fa-f28f-4a54-8ac1-83ed9ab17c59.jpg',\n",
       " 't_b_e1f1cf15-1662-4c63-bbc2-b98f72dade16.jpg',\n",
       " 't_B_e2360edf-ccde-4b70-81b8-a7c1f8da999b.jpg',\n",
       " 't_B_e6f155d7-5814-49a8-ab4a-feefcc0142bb.jpg',\n",
       " 't_b_e7224ca0-da5e-4b2a-9759-0e8ada9730d7.jpg',\n",
       " 't_b_e8bf2555-572b-4a50-a36b-01548b00f82d.jpg',\n",
       " 't_B_eb30bc8f-699b-4af0-acf0-85728fce71f0.jpg',\n",
       " 't_B_eb981d5f-7d6d-4ba6-a64d-2cc6ab11e78a.jpg',\n",
       " 't_b_ee2bfc94-7393-48c3-bce4-f09337f208a5.jpg',\n",
       " 't_b_f013804f-2ea8-492f-83f8-0204a1008412.jpg',\n",
       " 't_b_f1d1dc23-47be-47d4-8397-f4ab0530f18c.jpg',\n",
       " 't_B_f42f5bdd-1c71-4be8-84d5-1ad130c4a263.jpg',\n",
       " 't_B_f6ce50ee-1b68-4093-92ce-08a85ca0f429.jpg',\n",
       " 't_B_fc39768a-37d8-4130-b899-747ac08680ff.jpg',\n",
       " 't_c_006839e0-2e8d-42bb-a3b6-fd967e5aaa52.jpg',\n",
       " 't_C_0314fb52-ec5b-477c-9a67-1f0144e19ccc.jpg',\n",
       " 't_C_0803db8d-0c24-41da-beb4-aeb9bda58f98.jpg',\n",
       " 't_c_0a5b188d-32b9-4cb7-81ed-79affa0f48be.jpg',\n",
       " 't_C_0d60d380-218b-4ed2-ad56-b49210a134d5.jpg',\n",
       " 't_C_0f9732c1-ca94-409a-bf6f-8c421827a3a1.jpg',\n",
       " 't_c_11330f6e-8206-4d65-b71e-f4c7964b3d16.jpg',\n",
       " 't_C_128cfc70-2f93-4508-ab54-871b9a452eae.jpg',\n",
       " 't_C_14450f84-d145-4641-b7e0-4bdc4d836052.jpg',\n",
       " 't_c_15647831-0978-43a4-acc1-61c4c45d48a4.jpg',\n",
       " 't_C_171ef5b0-9472-415c-9c00-a31d6fed75c8.jpg',\n",
       " 't_c_174a8b76-79ed-47a1-9438-14771e9dce57.jpg',\n",
       " 't_C_18e17bfd-4a6c-4e7c-a152-73598b90c995.jpg',\n",
       " 't_c_18fc800e-c730-48a8-ae97-ff8d39e76b61.jpg',\n",
       " 't_c_22fa0cba-c3dc-41e9-805a-9527b37284bf.jpg',\n",
       " 't_C_287550fb-98ef-43f7-8788-2ccde8243090.jpg',\n",
       " 't_C_28e9d9b7-38a9-4a20-80e0-68ff60f2ffba.jpg',\n",
       " 't_C_30d44272-580f-4fe8-9b72-882907b74bac.jpg',\n",
       " 't_c_314a2624-f585-4ce2-a882-5089ab0aa8f9.jpg',\n",
       " 't_C_33d82535-3de6-49d8-8412-eb4ae57ad555.jpg',\n",
       " 't_c_372a39a9-439d-46ed-8d41-7b7801ce5b92.jpg',\n",
       " 't_c_3cc8c8e1-8f2f-4c09-9509-c1d59388e025.jpg',\n",
       " 't_C_42aa8fa5-cecf-46bc-8b22-a72a1e1f39fc.jpg',\n",
       " 't_c_4a69423b-0a64-4f7c-bde9-6ed6893ac8d0.jpg',\n",
       " 't_C_4ae69252-f27d-4631-9db9-57fc007dce56.jpg',\n",
       " 't_C_4b099c50-2691-4729-bd06-161fe65cbb9e.jpg',\n",
       " 't_C_55bf42a5-f808-46ec-887a-d23f37d78f31.jpg',\n",
       " 't_c_56e2dc6b-695b-45b9-bf2a-7a1137d53149.jpg',\n",
       " 't_c_56fc3e34-73ea-45c9-959c-979923813075.jpg',\n",
       " 't_c_5ea6cf19-7c9e-4f69-8ee2-e1bc302845ac.jpg',\n",
       " 't_c_62352957-4fb4-466e-ab57-74362ce8773e.jpg',\n",
       " 't_C_62573aca-3b11-494a-a6bb-0a7ee2e19889.jpg',\n",
       " 't_C_64e3cf6d-d7e8-46fe-bf77-6c3253e10e22.jpg',\n",
       " 't_c_65ca321d-6a30-41f9-a323-8b5764d2978d.jpg',\n",
       " 't_C_66b57de1-8b0b-434b-a14a-b39b8b853e67.jpg',\n",
       " 't_c_68dec7c4-6f88-4b35-bcb0-ec99970d9388.jpg',\n",
       " 't_C_6accc733-53cc-4cc5-9bd9-4eed039ec657.jpg',\n",
       " 't_C_7036675f-fc22-4f8d-9201-92983eefdfe8.jpg',\n",
       " 't_C_729709d1-2620-441a-8aa5-ef76e41fd737.jpg',\n",
       " 't_C_7388abe8-93cb-4d66-8dd0-6756e7cb9cea.jpg',\n",
       " 't_C_77e6032b-6ddb-45a1-932d-2df0c463880b.jpg',\n",
       " 't_C_7bf3540c-c6e9-496b-b705-c9547c1a2275.jpg',\n",
       " 't_c_7e222c96-9331-4dd2-aa27-95ba22551c68.jpg',\n",
       " 't_c_823ee32d-3359-4920-bebd-351801cb8b45.jpg',\n",
       " 't_c_83e220e0-3911-40b0-ab22-25f8e2da4acb.jpg',\n",
       " 't_C_86af0019-bc74-4248-846c-c885737df270.jpg',\n",
       " 't_C_8f519d69-ef12-417b-a8da-534b62d51c27.jpg',\n",
       " 't_C_93b69a76-9071-4add-a2fc-cae6ab613d69.jpg',\n",
       " 't_c_97207923-9bbf-4e45-ad63-5f085568423b.jpg',\n",
       " 't_C_975e143a-ac2d-4bf9-8fbf-c6cb601d04c8.jpg',\n",
       " 't_C_97bb4e4e-de64-450f-b1a7-0107dc65e969.jpg',\n",
       " 't_C_991866be-d1d4-4f75-a4f2-af8dd3301642.jpg',\n",
       " 't_C_9a8d7d35-e3b7-4340-b4fb-0a6db2c0ef28.jpg',\n",
       " 't_C_9aac3789-0386-4deb-b7ff-dd8e09c114f1.jpg',\n",
       " 't_C_9cf23fa5-65f2-4ad0-a045-c4a7dd78cdf8.jpg',\n",
       " 't_c_ac76392f-1f82-4f25-8d5a-d071d5620ed4.jpg',\n",
       " 't_C_acac52d5-5d45-49d3-a6ae-cb4c0c01ba15.jpg',\n",
       " 't_c_af231cda-441f-4981-a059-f909a8d9d2d7.jpg',\n",
       " 't_c_b563c1b1-5a8c-45ce-bd36-200646a80999.jpg',\n",
       " 't_c_bd33ce2a-3be2-40a0-92d4-9112f5549ed9.jpg',\n",
       " 't_c_c4c748c6-08dd-41dc-b1d7-2b029c1b4c72.jpg',\n",
       " 't_C_c8cc8c3c-e59e-4919-a14c-3ddb130cd0db.jpg',\n",
       " 't_C_d337eea0-8fa0-45d0-a2af-fcb70189a5ac.jpg',\n",
       " 't_C_d4a97cda-99cc-4d2a-867c-5385a7575b60.jpg',\n",
       " 't_C_e17d3eb5-9eac-46b0-9d7f-d821bd1183cb.jpg',\n",
       " 't_c_e239b158-4773-4ddf-851d-cb1472087ba4.jpg',\n",
       " 't_c_e2d3a744-c020-4095-bdc0-e3812f214dc4.jpg',\n",
       " 't_c_e8561623-17bc-458e-a6f2-bfda6a81ff40.jpg',\n",
       " 't_C_eca151a8-4fc9-40f1-8752-79d829dd224f.jpg',\n",
       " 't_C_ede90e95-fbbf-4118-9c57-c7e47126a98c.jpg',\n",
       " 't_c_ee4e7641-4fd6-4f0f-91fc-728b18532e89.jpg',\n",
       " 't_C_f216e8a5-db7f-4f48-87e3-d15ba1fcb18b.jpg',\n",
       " 't_C_f40a1af0-5519-4fde-a715-f5429ab8f259.jpg',\n",
       " 't_c_f58ba89a-20af-4084-b506-5413b4655659.jpg',\n",
       " 't_C_f6b323a9-f6a5-4144-be74-dbca9b5d814b.jpg',\n",
       " 't_C_f7ee8308-f44c-40ef-bf45-f5ff3328b427.jpg',\n",
       " 't_C_f9822c9d-0ca7-451b-a424-0eac8394d07c.jpg',\n",
       " 't_C_fc7d5cdc-6470-4df4-8fa2-fec7368a90cd.jpg',\n",
       " 't_C_fcfd188c-2c95-40f3-a588-c0efc764ac24.jpg',\n",
       " 't_c_feff08cf-758f-4b83-b0b4-a68db5ef2245.jpg',\n",
       " 't_D_0322e29b-b083-4bdf-aa5d-d942cfa2185f.jpg',\n",
       " 't_D_0525d819-2534-4fce-8aba-d89694b44bf2.jpg',\n",
       " 't_D_0b284a22-404c-48eb-9a93-76fb418190ed.jpg',\n",
       " 't_D_0c48b072-5356-44ff-8252-6b0e655e0bca.jpg',\n",
       " 't_D_0e587539-4a4f-403d-bf9a-c7add15dcc05.jpg',\n",
       " 't_d_0f12dc63-fc00-44f8-aaf2-75a8c322029e.jpg',\n",
       " 't_d_1018e9a5-c573-4574-a255-c0c0bf5eb7b8.jpg',\n",
       " 't_D_110b9f80-382e-412b-8774-2cae3ae6282f.jpg',\n",
       " 't_d_1e250075-595c-42fe-bbea-cfe0f9ea7770.jpg',\n",
       " 't_d_1f7d0253-b928-40ac-b7ee-da36d09b36b6.jpg',\n",
       " 't_D_20e172fd-adc8-4a48-b5bb-bf95b2ac5498.jpg',\n",
       " 't_d_26f1b0c8-ca96-4252-8d9b-791f9d8c1e83.jpg',\n",
       " 't_d_29db12f4-a26b-4cc8-9a98-218f3a668ab4.jpg',\n",
       " 't_d_2d54300b-704c-4ad5-8e6c-6155d7dbebcd.jpg',\n",
       " 't_d_2d6b776c-5708-44ac-935b-8b4cf7b359b7.jpg',\n",
       " 't_D_3826582f-563b-4c65-b410-5fc794e169c2.jpg',\n",
       " 't_d_3a225c47-3a9f-44f2-ae2e-41bff2c33291.jpg',\n",
       " 't_d_407a1b7f-a18b-4eca-9298-4249903800ad.jpg',\n",
       " 't_d_421837d1-655e-4fc9-92bc-981550321968.jpg',\n",
       " 't_D_431f6e34-7380-46cc-82a7-5947b777351f.jpg',\n",
       " 't_D_478dd624-00a4-4472-b650-108b1b559004.jpg',\n",
       " 't_D_47c730d4-f054-449c-8cb5-7d4fbcb48b93.jpg',\n",
       " 't_d_4d562ece-a262-4acc-99d9-595669c1bdaf.jpg',\n",
       " 't_d_52e6b059-9379-47d2-8533-d6edf9b1c659.jpg',\n",
       " 't_d_55110e9a-0ed6-4cd5-9535-dcb6412d0a2e.jpg',\n",
       " 't_D_5860cc7e-c12a-4f26-9be6-69b4929b09ee.jpg',\n",
       " 't_d_593039fd-6bdb-4183-96ce-e87cebba7564.jpg',\n",
       " 't_D_5952fe8a-a060-48c2-8d7c-b94b60f68292.jpg',\n",
       " 't_D_5ad404c3-3f7a-441d-ae8a-4d7aab4f12e8.jpg',\n",
       " 't_d_5e52ba1e-52f9-4652-a99c-6bc0bf3afaeb.jpg',\n",
       " 't_D_62a92d19-7b71-4f9b-a4da-6e0ea8ea591c.jpg',\n",
       " 't_D_65d62842-4b93-4d45-aa05-fb6575f02a7b.jpg',\n",
       " 't_D_68a35e94-4cc3-4d7e-aa25-e950d723f45c.jpg',\n",
       " 't_d_68e3825f-8128-4c8a-b9a1-3ec5f590a594.jpg',\n",
       " 't_D_7224ddbe-b34b-4524-a924-86a9c13dad23.jpg',\n",
       " 't_D_7528e3cd-5826-473f-bc83-6234c0a2e154.jpg',\n",
       " 't_D_78b8bddd-2a53-4bf6-8694-9c5306f57917.jpg',\n",
       " 't_D_7d5ec050-f9a9-447c-8efc-795141f5aaa7.jpg',\n",
       " 't_D_7d776cb9-7917-435b-aa57-43c7e461e3ef.jpg',\n",
       " 't_D_82fffa09-d11a-4da3-a2b8-c2b796bd865e.jpg',\n",
       " 't_D_86e4883f-4577-42eb-8e4c-aeff76eccb6c.jpg',\n",
       " 't_D_8e9f4447-e9a8-49d2-9822-8c792e1cb98d.jpg',\n",
       " 't_d_947bc4dd-17c3-48b5-85ae-73a0dd435a2e.jpg',\n",
       " 't_D_96b73411-72a4-4799-be13-6746b859e22b.jpg',\n",
       " 't_D_96f162ac-32ef-4199-9829-1d4e95724b3e.jpg',\n",
       " 't_D_9be9f7d6-c272-40b5-b5b8-72e77f6255ba.jpg',\n",
       " 't_D_9cb2763f-37f5-4cf6-b257-a25687ffc469.jpg',\n",
       " 't_d_9f89de12-881e-4dc2-b27a-c60160649b02.jpg',\n",
       " 't_D_9ff504fd-8543-4861-b092-655d5c3ddadf.jpg',\n",
       " 't_d_a8ada847-4066-4441-97f6-bac30143de85.jpg',\n",
       " 't_d_adcc0d35-dd7e-4271-bd7d-5c4ed60f6c64.jpg',\n",
       " 't_d_afb8a4c3-7c5a-4c84-b658-0c2cfeda0536.jpg',\n",
       " 't_D_b4d7007a-9c51-437d-84c8-7da38c981fb9.jpg',\n",
       " 't_D_b7e42461-7587-4940-a4b1-2b3dd476a70a.jpg',\n",
       " 't_D_b8ddd2f3-ea87-47eb-b5b3-827143b5d07d.jpg',\n",
       " 't_d_b90aaace-9a4a-4237-8cdd-fa07bc4a1688.jpg',\n",
       " 't_d_b9460a4b-3657-4134-b74b-987b760f08ec.jpg',\n",
       " 't_D_bf8f48ed-03f6-4ce6-b46d-611d9e8b74d8.jpg',\n",
       " 't_D_c044cea5-150d-4b1c-9867-31b82217b69f.jpg',\n",
       " 't_D_c52bb31c-79ce-40bb-842c-1a0135426fd0.jpg',\n",
       " 't_d_c6903855-ebf9-4340-a3ec-1f142dbb5f00.jpg',\n",
       " 't_D_c9a007e3-5c56-4159-ad55-4bd8d443124c.jpg',\n",
       " 't_D_cb563e4b-3ab1-4d50-b88a-4eb19b43322d.jpg',\n",
       " 't_D_d4b858b1-8821-44db-b4c3-d72f61ff8018.jpg',\n",
       " 't_d_d73aa149-06f6-4f39-a993-adbca8bd41a7.jpg',\n",
       " 't_d_d78b54d0-4dff-452c-8b43-8d6ed8bd5650.jpg',\n",
       " 't_D_dc3d69bf-c9ab-45cb-bbc1-df307f712a9c.jpg',\n",
       " 't_D_dd4085e7-86a3-46f5-9a1a-faa4568b3e61.jpg',\n",
       " 't_D_de1e0d86-8caf-47c0-a13f-6c86374aa91a.jpg',\n",
       " 't_D_dfff6d05-5ac1-4124-a248-f6ae0d503da3.jpg',\n",
       " 't_d_e3138a7c-5b57-496e-be06-53d472d7b4a3.jpg',\n",
       " 't_d_eaae71c3-b0d8-4088-8985-a8cb5de227c8.jpg',\n",
       " 't_d_eaf47275-8d42-4f1e-a1be-184f4e27e071.jpg',\n",
       " 't_D_efa64df4-8d3d-4e30-9c34-a0f05898a762.jpg',\n",
       " 't_d_efac803c-394e-4a74-9001-ef6f46b0cf08.jpg',\n",
       " 't_D_f15f8888-d4fa-4a71-8aa0-ed280272a530.jpg',\n",
       " 't_D_f6128108-638b-4ed8-9bd0-d1f8a132cea7.jpg',\n",
       " 't_d_fdc9df83-7929-44f2-90e1-b5ba76b06d29.jpg',\n",
       " 't_E_06f9f311-d3d0-493a-8780-30d6beee7533.jpg',\n",
       " 't_E_090f3e3f-d7e2-4213-9087-0d3b4b57e442.jpg',\n",
       " 't_e_0f9e547d-c74a-4835-8201-f8d761d1b476.jpg',\n",
       " 't_e_17e25d4e-2f18-46ae-b0a5-9a8a6fc454f2.jpg',\n",
       " 't_E_18113ba3-e0fb-4dc4-9308-ba7b8d9506f7.jpg',\n",
       " 't_e_194d7b19-61b3-4df2-833a-457fbbb18fba.jpg',\n",
       " 't_e_1c714553-c136-44e6-8ad2-6d60f7c11641.jpg',\n",
       " 't_e_2223be42-62e7-42b7-81b5-e9a6824c9840.jpg',\n",
       " 't_E_259365f3-6173-4268-8d86-4b510b8b6d8b.jpg',\n",
       " 't_e_27368b84-ee6b-49b9-922b-a7242d662ce8.jpg',\n",
       " 't_e_29eb82c0-e9de-46f0-8672-27880065a7ee.jpg',\n",
       " 't_E_2dd9e1fa-3715-4a67-9abc-16f5804fe16b.jpg',\n",
       " 't_E_300f112d-a070-4f77-9eba-c1c1cbb5b06e.jpg',\n",
       " 't_e_307700ff-abe9-4d58-b492-d01be3b96539.jpg',\n",
       " 't_E_33a9302c-f831-42e9-a92c-cc75c3412ca6.jpg',\n",
       " 't_E_36ae57b1-ce9b-49c0-aeb3-dc72ae605d1e.jpg',\n",
       " 't_e_3ac1dac7-01eb-4d28-8d18-11f04dd0b4d5.jpg',\n",
       " 't_e_3e17b263-2a16-4a6d-b94e-ee6e02a7f624.jpg',\n",
       " 't_E_3f844ec8-d00a-42fa-911d-b28972c6f4ae.jpg',\n",
       " 't_e_406d6c88-27af-4ce9-9516-9dd2d6529880.jpg',\n",
       " 't_e_466aa039-50d8-4c4e-ac81-b99359cd876b.jpg',\n",
       " 't_E_46a49c78-2ef8-4f20-954a-421806ee9848.jpg',\n",
       " 't_e_4da3b70d-ad75-4975-816e-78deb01fefc1.jpg',\n",
       " 't_e_50cbaa3e-88fa-4f8c-b47e-3f619f884e65.jpg',\n",
       " 't_e_560dfd44-93e8-4002-b963-8751a33efcc5.jpg',\n",
       " 't_e_574a98c3-34b2-425f-b9e9-cb29261db52c.jpg',\n",
       " 't_E_596117e5-278e-4fa7-848c-3fabdb7a44b7.jpg',\n",
       " 't_e_5ad2d998-e6cc-41bd-9659-785cd610a12c.jpg',\n",
       " 't_E_5c23ee51-d327-497f-8be8-cbaa3c9fd879.jpg',\n",
       " 't_e_62bdf21f-6325-4305-95b0-f94925ad5c70.jpg',\n",
       " 't_E_63028a65-09e9-47a9-b0aa-e50241d12237.jpg',\n",
       " 't_e_64c264db-fc3e-4ac7-88a3-648a7ebd7462.jpg',\n",
       " 't_e_6906927a-2ac7-49ae-bc40-6cdfdac9e7a9.jpg',\n",
       " 't_e_690a90bf-dade-4f8c-8abf-4af036060b01.jpg',\n",
       " 't_E_6b845a5b-ea1a-4523-9856-7795c547dade.jpg',\n",
       " 't_e_6c59c47d-178c-47ad-94e7-048f63c63e24.jpg',\n",
       " 't_E_6d7cf8db-e096-4e49-97da-43954f22840f.jpg',\n",
       " 't_e_6ea560b6-058b-4cb8-9215-1e15b531c445.jpg',\n",
       " 't_E_6f685c32-d3a6-4a21-aad0-0b39480da56b.jpg',\n",
       " 't_e_72fd0882-a1ad-4205-adc4-8a4249f339f3.jpg',\n",
       " 't_E_737160e5-24d3-4a09-b0eb-1d7940d3bab3.jpg',\n",
       " 't_E_7385f86e-3eda-4991-8dc8-89094639b1a7.jpg',\n",
       " 't_E_743592cf-18c6-475a-b2ec-e9cb87004923.jpg',\n",
       " 't_e_7bd1c36b-8475-4c72-8571-f345d2a08e22.jpg',\n",
       " 't_E_7bdf5da2-13ca-49e9-ad2f-889e61492af9.jpg',\n",
       " 't_E_7f4e0aaf-978c-46b1-99e9-f64941af38a0.jpg',\n",
       " 't_e_80e7b63c-6e68-48a8-ad47-0c1c3b20eedb.jpg',\n",
       " 't_e_81224d33-17e7-47c0-804c-329ef54af41c.jpg',\n",
       " 't_E_836d00ec-4f56-432b-9aa4-0910bb00ef1b.jpg',\n",
       " 't_E_83a0f9f7-3c8e-450d-8bb8-26b2d9d9876e.jpg',\n",
       " 't_E_840a9f99-203e-4a8c-84da-3e697d22e174.jpg',\n",
       " 't_E_86c2cf83-af87-4cd1-88c7-43c669967ce7.jpg',\n",
       " 't_E_897f3e6a-d0ae-4106-847f-adea2fde1e28.jpg',\n",
       " 't_e_89fb7799-ff72-43f7-a730-4ac840b167ab.jpg',\n",
       " 't_E_8a347d13-fa0b-43b9-ae79-19fdc67ed8fc.jpg',\n",
       " 't_e_8ba6ebd0-fd03-4bb4-b38e-d77134ba270a.jpg',\n",
       " 't_e_8f2c3c29-1030-45a3-aaaf-bc0f9c073c2b.jpg',\n",
       " 't_e_912030f7-6972-48d9-8327-fc7e37751967.jpg',\n",
       " 't_E_93155172-0406-402f-9db2-a378304142eb.jpg',\n",
       " 't_E_9ab848af-ae67-4a70-b0dc-57cf9ef64191.jpg',\n",
       " 't_E_9b32e2ff-850e-4c93-8e68-8de2c8438a08.jpg',\n",
       " 't_E_9ef62216-0264-4105-8d46-d72485f5b6ba.jpg',\n",
       " 't_E_a221e2a7-f1ec-4867-81a3-b3eb2e4a8176.jpg',\n",
       " 't_e_a321977c-6d5c-4585-b99a-fa5d975eaade.jpg',\n",
       " 't_E_a3f27ec9-67eb-4e0b-8063-6be03dceabff.jpg',\n",
       " 't_E_a69552a5-49b8-4c38-bde3-97eb1df809c9.jpg',\n",
       " 't_E_a6def1f9-dc01-460f-a553-9c370089e090.jpg',\n",
       " 't_E_a8a0acfd-723a-420f-9185-858f0897a372.jpg',\n",
       " 't_e_adc75dbb-886d-459f-bfa8-b6ffd9aeb296.jpg',\n",
       " 't_E_ae37a0fa-c9fe-423d-a0b1-c45affe2beef.jpg',\n",
       " 't_e_b0726dd1-e6b1-4ba6-abae-637ae8dbff5f.jpg',\n",
       " 't_e_b19d4823-c8e3-4b86-a40d-a186aba9fc1e.jpg',\n",
       " 't_e_b22a1df9-f01c-459e-a9f7-754401e3d256.jpg',\n",
       " 't_e_b24f54e7-5d8f-45f2-84eb-72fa97633642.jpg',\n",
       " 't_e_b2d7e0d5-98d2-456e-8ff5-9b31215fcdd0.jpg',\n",
       " 't_E_b30772cc-3ec1-4115-a424-e13cde271e37.jpg',\n",
       " 't_E_b34df217-d194-4d70-b5ba-11a899af8e0f.jpg',\n",
       " 't_e_b545b6d4-b17b-410b-ad00-707a1d2e9630.jpg',\n",
       " 't_E_b9e296d0-4118-4751-9938-c06ab9fe6993.jpg',\n",
       " 't_e_baef52a0-3ea8-422b-9845-cc73bc07b9ef.jpg',\n",
       " 't_e_bc6cd643-e456-4cc3-8d7d-3ac35d8809a7.jpg',\n",
       " 't_e_c0c6228d-cf44-47c5-9d04-c11f85fe1ad3.jpg',\n",
       " 't_E_c1445fae-b18e-4ac6-9767-3da465af639a.jpg',\n",
       " 't_E_c6f71baa-263b-4323-8db3-09024098a5d5.jpg',\n",
       " 't_E_c98c8c54-588d-4762-b316-8692abd9380d.jpg',\n",
       " 't_E_c9fb4d0f-2e5f-4302-b593-948eb891131d.jpg',\n",
       " 't_E_cbce3f7d-7e67-43d2-84f2-d2296dd31b01.jpg',\n",
       " 't_e_cca37726-1f0b-47f2-a56f-d3076e5c5e26.jpg',\n",
       " 't_e_cce9277e-2417-42c5-9d03-88fdf2555976.jpg',\n",
       " 't_e_cfe45ae5-6948-4c0d-add4-04795620ef0c.jpg',\n",
       " 't_E_d0d99981-56c7-41e6-a3bd-0c8efd028ebf.jpg',\n",
       " 't_e_d116f10f-6044-44e4-9500-a852e16b6205.jpg',\n",
       " 't_e_d11e99b5-b536-47ae-8af3-2db78ed62f8e.jpg',\n",
       " 't_E_d19eb6e8-c240-434b-ada7-cabb39faccd1.jpg',\n",
       " 't_e_d45fd946-6369-4d7e-8a2c-3ea2bf4b75e4.jpg',\n",
       " 't_e_d922cb15-b39a-4c8f-9dff-f680b296ba6c.jpg',\n",
       " 't_e_da59230f-2ed7-4185-829d-f132123b99b2.jpg',\n",
       " 't_e_e4407000-4a78-4dd8-aa57-30042e55e960.jpg',\n",
       " 't_E_e58314c8-11ac-4561-88ce-9085d605b997.jpg',\n",
       " 't_E_eb14665e-45e6-4067-a1c3-cb1374dd26aa.jpg',\n",
       " 't_e_edc7b5e3-771e-4afe-bc3e-c62f210d870c.jpg',\n",
       " 't_e_ef0e87be-ce35-46f3-927a-2d7a9f8b899f.jpg',\n",
       " 't_e_f1c5e182-bfd5-4e5d-891d-6aab8df1cb2a.jpg',\n",
       " 't_E_fd4394fc-c3cd-4e5e-8d20-a44425c6aa23.jpg',\n",
       " 't_f_049b553f-620e-4287-aeaa-836de2f0d341.jpg',\n",
       " 't_f_05eb41ab-15bd-407b-8708-8c1ccfe49515.jpg',\n",
       " 't_F_06268976-3de0-4e2d-af6c-7e099c3d38f5.jpg',\n",
       " 't_F_0bd13513-4841-4917-84e5-9476f506e9ad.jpg',\n",
       " 't_F_0ec9b674-fde8-4f3b-862c-e4e2a8c23033.jpg',\n",
       " 't_f_16209c1f-50e3-4069-b5bf-c16fb451c30d.jpg',\n",
       " 't_F_1790e0e1-0da6-4db7-975b-ddc6404ef4b3.jpg',\n",
       " 't_F_2224bdbe-e15a-48bb-940c-6473e3d7792c.jpg',\n",
       " 't_f_235f786b-d944-4066-9dcb-065ee040b19c.jpg',\n",
       " 't_f_28b4afba-9f04-40cc-99a8-b5b9065b3bd5.jpg',\n",
       " 't_f_294cd1e2-6fcd-41ab-abf5-e579f68ac281.jpg',\n",
       " 't_f_2bd31b45-7a1c-4896-a52e-40fe2d075c41.jpg',\n",
       " 't_f_2da5e959-1033-43a8-b45b-6de11e29311a.jpg',\n",
       " 't_f_2e43833f-f8d7-4613-b03b-acdf35e720d5.jpg',\n",
       " 't_F_2f3193c0-7312-4e6c-8c00-7b76321bfbd1.jpg',\n",
       " 't_F_30b6b57d-3663-416d-9878-2c41a30e1f42.jpg',\n",
       " 't_f_3110d5c5-5019-47c8-935d-4c024407aba2.jpg',\n",
       " 't_f_31b67b58-f2f1-4a55-862e-44d02cf37a1f.jpg',\n",
       " 't_F_3242f2fd-5619-4c0e-b58a-0c9717281749.jpg',\n",
       " 't_F_36cd8416-ca12-4e12-8c15-b34fccbf6fbc.jpg',\n",
       " 't_F_3df7f8eb-ffe9-46e2-bd77-234c1fe2dd26.jpg',\n",
       " 't_f_4c4f4896-4ca9-49db-b14b-8bc9ff634adc.jpg',\n",
       " 't_F_4c944f38-ca7e-467e-92ec-1bce667c8801.jpg',\n",
       " 't_f_4f19d8a0-0a19-4ef5-9e63-3c48ef6f5414.jpg',\n",
       " 't_F_54a09c67-78a4-4928-ae16-53689dff9cac.jpg',\n",
       " 't_F_56153ece-f3f6-4d6d-9cfc-0ca901623f86.jpg',\n",
       " 't_f_58aa1b89-d1f0-4e85-bc3e-a883b8a061f0.jpg',\n",
       " 't_f_5d90e627-ab93-4dc4-9215-08e83e594539.jpg',\n",
       " 't_f_5e382c61-eecf-4168-a498-b1be01cdcce7.jpg',\n",
       " 't_f_60dde997-fc6f-4791-812c-b0203c02b668.jpg',\n",
       " 't_f_61759b51-3ee6-411f-871c-8235d3235193.jpg',\n",
       " 't_f_6222b646-e331-4688-8e24-a74498130af2.jpg',\n",
       " 't_F_6372c54c-de91-4682-ad73-36871698991e.jpg',\n",
       " 't_F_64fab137-4ac8-483d-a6f9-ffa43c3cdabb.jpg',\n",
       " 't_F_691eadad-c2e8-41b9-940b-1c3f5213af0d.jpg',\n",
       " 't_f_6bb7125e-85ec-4c0f-a5f2-135ef02a5ae1.jpg',\n",
       " 't_f_6e42f757-8b66-49fb-8dca-f0a734bbc38a.jpg',\n",
       " 't_f_6fd2f989-dc5d-47ac-8cc0-18b584d7a27d.jpg',\n",
       " 't_f_762fe0d9-e94d-41f6-86fb-7ffa902cead6.jpg',\n",
       " 't_f_7a023fe7-ca1d-4eb2-845e-8d4ef59750e9.jpg',\n",
       " 't_F_7b34332d-2b39-4ff1-977e-083ddd47b9e9.jpg',\n",
       " 't_f_7f7427ec-bc21-4234-86c9-b54b69e1250a.jpg',\n",
       " 't_f_811ce3da-b9e6-46f9-bf8e-040ed5ef1149.jpg',\n",
       " 't_f_8307294b-6dfb-4111-8ffa-817814e5ae50.jpg',\n",
       " 't_f_8356e401-f95a-4ece-badf-cf6016b58f86.jpg',\n",
       " 't_F_8561d3f8-c5da-4a55-b5c9-301b2eca8cfc.jpg',\n",
       " 't_F_8668d896-abb6-45cd-a218-7e339bc975dd.jpg',\n",
       " 't_F_8761850c-9feb-42ca-8d88-88de95851d6b.jpg',\n",
       " 't_f_8b1919ad-2dc4-468b-92c4-865312def00c.jpg',\n",
       " 't_f_8c5dd7b9-381f-4b9e-b966-11570e52c677.jpg',\n",
       " 't_f_9206acf8-ec5d-40b0-9e7f-2c267dba7003.jpg',\n",
       " 't_f_946bffb9-e31a-472d-8fca-433992f1a591.jpg',\n",
       " 't_F_96373dc3-c02f-468b-811f-8c49a7c22a7b.jpg',\n",
       " 't_F_9a307197-83bf-4599-a8d9-fdcf7b437be7.jpg',\n",
       " 't_F_9aa443ed-75c0-4071-83fc-b1ff4d0d1aa2.jpg',\n",
       " 't_f_9b3a6ba2-18fe-4a8a-a528-0d5038ef4f6f.jpg',\n",
       " 't_f_9d944300-cbbc-4de3-a59a-2b199d88ba3b.jpg',\n",
       " 't_F_9eafa239-d506-490d-9d29-c15147072d00.jpg',\n",
       " 't_F_a0268b9f-c492-4087-a28b-2eeb211e9eef.jpg',\n",
       " 't_f_a0820073-3226-486f-bcd3-22e3496052d3.jpg',\n",
       " 't_f_a0f2b031-075e-4d7a-a7b4-7cb17dd2834a.jpg',\n",
       " 't_f_a53714e6-47dd-43af-8259-a7165780724b.jpg',\n",
       " 't_f_a900d792-5d1f-4dd0-8f58-be82b690c988.jpg',\n",
       " 't_f_aa1e27aa-b170-4e3e-8969-f90204ef915b.jpg',\n",
       " 't_F_af872340-1616-4e9d-849a-5749b886d397.jpg',\n",
       " 't_f_b02b35a6-0d18-4c04-a093-7c8e296ea04a.jpg',\n",
       " 't_f_b3494a69-bbe1-48bd-bc34-47d928ab760c.jpg',\n",
       " 't_f_b88a27fd-7b2f-4382-85d6-4e80769f67ac.jpg',\n",
       " 't_f_b91f004c-a84e-4269-a180-fd030b2af23c.jpg',\n",
       " 't_f_beb8789d-dc3e-4365-97b2-fcdb0536f9c5.jpg',\n",
       " 't_F_c0c7cdff-1f75-47ed-ac74-fff6a32a2a67.jpg',\n",
       " 't_f_c26183a9-98ae-4fcb-a808-d87452485a8b.jpg',\n",
       " 't_f_c4401305-842e-484f-8fd7-1b2a27268e85.jpg',\n",
       " 't_f_c96e8125-84fc-4e24-bdbb-1338a4b6fe8d.jpg',\n",
       " 't_f_caf9b660-4b9f-4db2-a4ec-6592d3664c2c.jpg',\n",
       " 't_f_cfd52a71-39d0-4fdb-952b-b0b0a505afee.jpg',\n",
       " 't_f_d24831bc-eff7-42cc-8e9f-3c9cbfb3c705.jpg',\n",
       " 't_f_d3b66ce0-80f0-4bd1-97de-2a6bc671e7bf.jpg',\n",
       " 't_f_d56e6850-0ce8-49e9-b7b1-5b5feaf50be0.jpg',\n",
       " 't_f_dec32a40-ec5d-4b64-b0a0-a4ee980a0ff1.jpg',\n",
       " 't_F_e0474b74-2364-4d99-85d1-58ecad9fea49.jpg',\n",
       " 't_F_e3355c8d-a799-494a-99e8-fa7494923692.jpg',\n",
       " 't_f_e3bbe877-7101-4891-b94a-99111fe80e63.jpg',\n",
       " 't_F_e4103607-ef98-4ab6-8b78-afa01fb27f48.jpg',\n",
       " 't_f_e419c88e-400e-47e6-b8fb-825d4fd1698b.jpg',\n",
       " 't_F_e4d97908-6bd0-48d2-b0fe-83a23e9e1499.jpg',\n",
       " 't_f_eab26af6-bb3c-41d3-95b7-25f2a0bdf3dc.jpg',\n",
       " 't_f_f2084747-4975-4427-9491-18c96d42a51b.jpg',\n",
       " 't_F_f5079b44-b051-4890-b41b-4572e432d94d.jpg',\n",
       " 't_f_f69df3ea-9abe-4cf6-8c47-afb162d9be6a.jpg',\n",
       " 't_f_f784e36a-3b91-4bb4-8a75-6ba0ddd5e5ef.jpg',\n",
       " 't_F_f88c86d7-7f07-4aaf-8f2a-c23e1a8c894f.jpg',\n",
       " 't_F_fb31ed05-f899-4a5b-9444-32bb66db3e97.jpg',\n",
       " 't_f_fdd7c524-be55-48c9-a0f7-31e0d019daad.jpg',\n",
       " 't_g_000d8e0a-eb12-44aa-b3cd-4972e4167b04.jpg',\n",
       " 't_g_00dc5f10-08d3-4820-ac43-0c2aaee60c18.jpg',\n",
       " 't_G_011a5bd3-13e1-4c8d-8b86-62202b391e91.jpg',\n",
       " 't_g_02275c51-88fa-4cf6-82ca-afec1b4f5927.jpg',\n",
       " 't_g_0292c150-193e-432e-bf05-231f23f14f96.jpg',\n",
       " 't_g_089cd59c-cf52-4d25-a469-6996657a075f.jpg',\n",
       " 't_g_08a1b710-7d05-43e2-a96f-ee91d2804077.jpg',\n",
       " 't_G_0a24b76c-ba2d-46b9-bbe1-94b249f89e10.jpg',\n",
       " 't_G_0a7a6d55-6e1c-49ca-9b15-0452314558ab.jpg',\n",
       " 't_g_0b301c5d-2d6f-466a-8fc6-108404a17187.jpg',\n",
       " 't_g_0c8178ea-10f6-4e45-8f78-8f7de0bb2093.jpg',\n",
       " 't_G_10f8132b-66c9-467e-b697-f9ee102226b5.jpg',\n",
       " 't_g_154a4ac6-5591-42a7-b9c9-118bda649416.jpg',\n",
       " 't_g_16ecb3af-cb52-433c-908b-62f7bdaf9d39.jpg',\n",
       " 't_g_196c70b1-2c12-4432-9159-72a47a4cb4ef.jpg',\n",
       " 't_g_199392bd-383a-4844-b112-60ca13b09714.jpg',\n",
       " 't_G_1b201132-840f-424e-9425-8a1ba6556a6b.jpg',\n",
       " 't_g_1b2900cf-041c-4b76-93f8-10f9891094ec.jpg',\n",
       " 't_g_1bc310ff-5e78-4bc7-a111-8c7bb6c2948a.jpg',\n",
       " 't_g_1d017856-3c04-42bf-b1b2-8c51bac76a72.jpg',\n",
       " 't_g_210e2eaf-4b2b-4087-a2f2-72ffb6d28ad5.jpg',\n",
       " 't_g_260a3c61-1c7b-4273-8d6a-e3ae30b0d5db.jpg',\n",
       " 't_G_28aa2e56-86aa-4421-b253-7a3938d46fa6.jpg',\n",
       " 't_g_2b4a5dca-c291-45db-ad73-bf4aa73022e6.jpg',\n",
       " 't_g_2b8d7506-289e-4411-bf20-76e77288555e.jpg',\n",
       " 't_g_2cd0f34c-238e-4288-afad-f5305ff56d0e.jpg',\n",
       " 't_G_3169b665-8a3c-423c-a826-40b8bcc5c9d4.jpg',\n",
       " 't_g_35b8a5f3-f0ac-4d75-b665-fb8071a65c0a.jpg',\n",
       " 't_g_3850a99a-391a-489a-96c9-56aa31e95a68.jpg',\n",
       " 't_G_397a3db0-975f-45fb-9de1-85bfda51607b.jpg',\n",
       " 't_g_3d5e400e-e0ef-4b9f-9c0c-876d69c0d3b1.jpg',\n",
       " 't_g_3e8c57fb-b782-415e-96ae-4eebe29f9604.jpg',\n",
       " 't_G_40acc6bc-3c4e-4fc4-8021-1b689975ad75.jpg',\n",
       " 't_g_41c835e2-541e-4208-9f96-8965e5a00b31.jpg',\n",
       " 't_G_47ac1c2a-13a6-4796-891f-684ed0a83a1f.jpg',\n",
       " 't_g_4c2456df-3249-4238-8872-f7b0f776c4ac.jpg',\n",
       " 't_G_4d58d83d-d58a-40a3-8c29-0202a1c1a62b.jpg',\n",
       " 't_G_51a14ab7-4449-444e-b375-60e7836e0036.jpg',\n",
       " 't_g_61df8b5e-a75a-4206-8c6d-440f157fbf61.jpg',\n",
       " 't_g_627499c4-c71e-41a4-84e1-20145b050851.jpg',\n",
       " 't_g_67273066-cbf6-43e1-9402-2ea1385f2f92.jpg',\n",
       " 't_g_6d543ba6-da87-4328-a659-0fe9cb27ff49.jpg',\n",
       " 't_g_6ef4328b-ceb7-419c-9fcd-f3f08f381888.jpg',\n",
       " 't_g_749a425c-d627-43cd-94bf-b1daf8804328.jpg',\n",
       " 't_g_750d826d-f3cd-44b6-934e-a2837e539d60.jpg',\n",
       " 't_g_76d7719d-d6da-40dd-860d-093fc44fb4dd.jpg',\n",
       " 't_g_77ba677b-e020-4f91-8789-7ddf893a0aaa.jpg',\n",
       " 't_g_78d6e710-1d9b-4434-ae9f-974b39cc8f72.jpg',\n",
       " 't_g_7c175337-dfe7-40c2-8ab2-e2fe02fa4c42.jpg',\n",
       " 't_G_86ee29af-42d4-4241-9f04-43b753584256.jpg',\n",
       " 't_g_8ed2c6a6-6ca8-491d-a7b6-4178896195ff.jpg',\n",
       " 't_G_8f964e0b-3926-4efc-9a7c-b6a275a8f77f.jpg',\n",
       " 't_g_918592bd-c8e1-4b5a-9be2-7cc3d7c4633d.jpg',\n",
       " 't_G_943b2cf1-14c2-45f6-97ce-55f21ead55d5.jpg',\n",
       " 't_g_9603af8f-405e-41b2-b8c7-b9258bff3e84.jpg',\n",
       " 't_g_96e8916a-e7a9-4452-9e59-e237985ec9ee.jpg',\n",
       " 't_G_97532072-9717-43e3-bf4f-7d95437d99e2.jpg',\n",
       " 't_G_9b578003-1ca9-44ff-b0cc-798f57885c3c.jpg',\n",
       " 't_g_9ccba9ea-6f2d-4e5c-bded-0f8d9b50914b.jpg',\n",
       " 't_G_9ef8b29a-9578-4341-851a-e73e62b54d9d.jpg',\n",
       " 't_g_a4f2ad44-1c88-4272-9888-a9ba55db68cd.jpg',\n",
       " 't_g_a6685690-04d5-492e-88ce-c4daa670f479.jpg',\n",
       " 't_G_a9234731-695a-42c8-8607-7d14b82d50c2.jpg',\n",
       " 't_G_acc6acc2-61cb-4475-9018-60edc0c4980f.jpg',\n",
       " 't_G_af3c2061-3d94-4400-8e51-f21f99951bc6.jpg',\n",
       " 't_g_b18421de-0cc0-4773-ad69-0e65d1f1475c.jpg',\n",
       " 't_g_b4aef25f-d072-452b-ba58-89a94b5843ce.jpg',\n",
       " 't_G_b7c872b7-b72c-4a01-81f5-04e0bdc69ced.jpg',\n",
       " 't_g_b7ed015b-71b5-4f18-8bfb-61c291ff33fd.jpg',\n",
       " 't_G_ba3c189f-c5ff-42bd-a49b-55c3976bd84f.jpg',\n",
       " 't_G_ba4e6734-ca7d-4f0f-9d40-6ad9ac7435e9.jpg',\n",
       " 't_G_bbf55945-9201-4b9a-933b-a8f3fe95cb31.jpg',\n",
       " 't_g_bc5ef060-23d0-4e1c-b764-a23cd8e4b9aa.jpg',\n",
       " 't_G_be165111-575f-4f90-b068-0243ec9d1c6e.jpg',\n",
       " 't_g_be53b16c-fb24-4367-852d-1d9cc241a94a.jpg',\n",
       " 't_g_c68cbf24-975d-4bac-a161-9e63f8559a70.jpg',\n",
       " 't_g_c7b3b5c8-6764-4730-9b55-2527875ac089.jpg',\n",
       " 't_g_c8b4678f-e5ef-43b7-93eb-a35edb41ee7f.jpg',\n",
       " 't_g_cb4179af-04b4-455f-83ef-16d8b455c634.jpg',\n",
       " 't_G_d041c782-bd1f-4f4d-baa9-d34e6f76f249.jpg',\n",
       " 't_g_d0ef4c0f-595b-4484-a749-55a84245e722.jpg',\n",
       " 't_G_d26ea1db-5507-450e-be88-21380bddf9b8.jpg',\n",
       " 't_g_d36615ce-57b4-4943-ac82-547929f5bcf8.jpg',\n",
       " 't_G_d3871319-b435-450f-bb3a-32ea1ede8c62.jpg',\n",
       " 't_g_dbda9d66-277d-48e8-a937-642d9f1cc056.jpg',\n",
       " 't_g_e30582de-c743-4866-a34c-4356304eac63.jpg',\n",
       " 't_G_e7e59dd1-791f-4cee-95c2-0197ec097068.jpg',\n",
       " 't_g_ed6189c0-5b7e-486a-adef-f36983a60a66.jpg',\n",
       " 't_G_ee897b75-2c34-4ff8-b19a-9f6ed8487acc.jpg',\n",
       " 't_G_eebff1b1-59ea-4a8e-b535-c61b318dc5ea.jpg',\n",
       " 't_g_f1c95f99-80b9-451f-9a49-57f4b6accb98.jpg',\n",
       " 't_g_f3d77fe9-7735-4432-af5a-d66407fc582e.jpg',\n",
       " 't_g_f6767f99-f81c-4909-ac76-ac8db7149cd1.jpg',\n",
       " 't_g_fab2660e-9950-4748-851f-080b363e4966.jpg',\n",
       " 't_H_08b4d1dd-b4b4-4631-8547-e9eb6b785ad5.jpg',\n",
       " 't_h_0c544ca0-28a8-4028-b884-bb5c8358a097.jpg',\n",
       " 't_h_0eec75e9-49b6-452b-86f1-93272cdf89e9.jpg',\n",
       " 't_h_111357ec-f241-4c9a-ac4e-98c707378e86.jpg',\n",
       " 't_H_146dd4e6-c8d7-4af4-baf3-0ebe85c56b4f.jpg',\n",
       " 't_h_186d06d3-2b20-4ee0-a52c-a8b784f44978.jpg',\n",
       " 't_H_1890ffb2-09de-42f7-9dc9-0059b30462af.jpg',\n",
       " 't_h_1993c4fb-237b-4568-af6e-2e751706e841.jpg',\n",
       " 't_H_19990ca5-8544-4132-8e1b-065d90307631.jpg',\n",
       " 't_h_1a1e77a9-5c71-441c-884d-687d54105f3d.jpg',\n",
       " 't_h_1ac789d5-4057-40ff-80fa-c1b2b2591c96.jpg',\n",
       " 't_H_1f653ba9-5fad-47c9-8a28-774a28781e29.jpg',\n",
       " 't_H_211089a3-009a-4602-b615-61054005a25a.jpg',\n",
       " 't_H_2622cb96-001a-42d4-9bd0-96f7713a4fc7.jpg',\n",
       " 't_h_2975193f-76cb-4d49-9449-5862a481592c.jpg',\n",
       " 't_H_2d0d31e9-6c12-47e5-8f17-ecdb588dde88.jpg',\n",
       " 't_H_2d62c1df-aa64-4301-b585-e02f5fa2432b.jpg',\n",
       " 't_H_31a2146a-3d65-4e93-ab55-c68b2412f852.jpg',\n",
       " 't_H_376c68b0-d704-4b76-9fae-a4d5c1890893.jpg',\n",
       " 't_h_39897c04-a9fa-4cbc-8963-db87d43e4e30.jpg',\n",
       " 't_H_399e248c-5641-4ce2-8424-979ceddd2902.jpg',\n",
       " 't_H_3caec6fb-d20e-4d0c-a9e4-2168bb8ba6a1.jpg',\n",
       " 't_h_3e192870-00c9-45ac-bf62-2787e80cf79b.jpg',\n",
       " 't_H_3f58585a-9230-4240-b021-5467bec6c900.jpg',\n",
       " 't_h_41ac58a6-6e14-4cf3-b7a4-eb4ae84d9c2a.jpg',\n",
       " 't_h_45404900-4336-4f01-8e0b-fa40942b272b.jpg',\n",
       " ...]"
      ]
     },
     "execution_count": 18,
     "metadata": {},
     "output_type": "execute_result"
    }
   ],
   "source": [
    "dir_parts_onesize = r'C:\\\\Users\\\\Mihail\\\\capcha_letters_onesize'\n",
    "onlyfiles_onesize "
   ]
  },
  {
   "cell_type": "code",
   "execution_count": null,
   "metadata": {},
   "outputs": [],
   "source": [
    "augmented_path = r'C:\\Users\\Mihail\\augmented'"
   ]
  },
  {
   "cell_type": "code",
   "execution_count": null,
   "metadata": {},
   "outputs": [],
   "source": [
    "'''for file_name in onlyfiles_onesize:\n",
    "\n",
    "    image = cv2.imread(os.path.join(dir_parts_onesize,file_name))\n",
    "    \n",
    "    print(file_name)\n",
    "\n",
    "    image=cv2.cvtColor(image, cv2.COLOR_BGR2GRAY)\n",
    "\n",
    "    #image = cv2.resize(image, (40, 40))\n",
    "\n",
    "    plt.imsave(os.path.join(augmented_path, file_name), image , cmap = plt.cm.gray)\n",
    "\n",
    "    image = image.reshape([image.shape[0], image.shape[1],1])\n",
    "\n",
    "    for i in np.arange(250):\n",
    "        new = train_preprocess(image)\n",
    "        new = new.reshape([new.shape[0], new.shape[1]])\n",
    "        plt.imsave(os.path.join(augmented_path,'{}_{}.jpg'.format(file_name[:3],uuid.uuid4())), new , cmap = plt.cm.gray)'''"
   ]
  },
  {
   "cell_type": "code",
   "execution_count": null,
   "metadata": {},
   "outputs": [],
   "source": [
    "j = 0\n",
    "for file_name in onlyfiles_onesize:\n",
    "\n",
    "    image = cv2.imread(os.path.join(dir_parts_onesize,file_name))\n",
    "    \n",
    "    print(file_name)\n",
    "\n",
    "    image=cv2.cvtColor(image, cv2.COLOR_BGR2GRAY)\n",
    "\n",
    "    #image = cv2.resize(image, (40, 40))\n",
    "\n",
    "    #plt.imsave(os.path.join(augmented_path, file_name), image , cmap = plt.cm.gray)\n",
    "\n",
    "    image = image.reshape([image.shape[0], image.shape[1],1])\n",
    "\n",
    "    for i in np.arange(50):\n",
    "        new = train_preprocess(image)\n",
    "        new = new.reshape([new.shape[0], new.shape[1]])\n",
    "        if j % 3 == 0:\n",
    "            plt.imsave(os.path.join(r'C:\\Users\\Mihail\\test_im','{}_{}.jpg'.format(file_name[:3],uuid.uuid4())), new , cmap = plt.cm.gray)\n",
    "        else:\n",
    "             plt.imsave(os.path.join(r'C:\\Users\\Mihail\\train_im','{}_{}.jpg'.format(file_name[:3],uuid.uuid4())), new , cmap = plt.cm.gray)\n",
    "    j += 1                            \n"
   ]
  },
  {
   "cell_type": "code",
   "execution_count": 19,
   "metadata": {},
   "outputs": [],
   "source": [
    "onlyfiles_train = [f for f in listdir(r'C:\\Users\\Mihail\\train_im') if isfile(join(r'C:\\Users\\Mihail\\train_im', f))]\n",
    "onlyfiles_test = [f for f in listdir(r'C:\\Users\\Mihail\\test_im') if isfile(join(r'C:\\Users\\Mihail\\test_im', f))]"
   ]
  },
  {
   "cell_type": "code",
   "execution_count": 20,
   "metadata": {},
   "outputs": [],
   "source": [
    "y_train = []\n",
    "for i in onlyfiles_train:\n",
    "    y_train.append(i[2])\n",
    "    \n",
    "y_test = []\n",
    "for i in onlyfiles_test:\n",
    "    y_test.append(i[2])"
   ]
  },
  {
   "cell_type": "code",
   "execution_count": 84,
   "metadata": {},
   "outputs": [
    {
     "data": {
      "text/plain": [
       "tensor(0)"
      ]
     },
     "execution_count": 84,
     "metadata": {},
     "output_type": "execute_result"
    }
   ],
   "source": [
    "y_train[0]"
   ]
  },
  {
   "cell_type": "code",
   "execution_count": null,
   "metadata": {},
   "outputs": [],
   "source": []
  },
  {
   "cell_type": "code",
   "execution_count": 90,
   "metadata": {},
   "outputs": [],
   "source": [
    "def _parse_function(filename, label):\n",
    "  image_string = tf.read_file(filename)\n",
    "  image_decoded = tf.image.decode_jpeg(image_string)\n",
    "  image_resized = tf.image.resize_images(image_decoded, [28, 28])\n",
    "  return image_resized, label"
   ]
  },
  {
   "cell_type": "code",
   "execution_count": 92,
   "metadata": {},
   "outputs": [
    {
     "data": {
      "text/plain": [
       "<tf.Tensor 'resize_3/Squeeze:0' shape=(28, 28, ?) dtype=float32>"
      ]
     },
     "execution_count": 92,
     "metadata": {},
     "output_type": "execute_result"
    }
   ],
   "source": [
    "_parse_function(r'C:\\Users\\Mihail\\train_im' + '\\\\' + onlyfiles_train[0], y_train[0])[0]"
   ]
  },
  {
   "cell_type": "code",
   "execution_count": 118,
   "metadata": {},
   "outputs": [
    {
     "data": {
      "text/plain": [
       "(<tf.Tensor 'resize_5/Squeeze:0' shape=(28, 28, ?) dtype=float32>, tensor(0))"
      ]
     },
     "execution_count": 118,
     "metadata": {},
     "output_type": "execute_result"
    }
   ],
   "source": [
    "_parse_function(filenames[0], y_train[0])"
   ]
  },
  {
   "cell_type": "code",
   "execution_count": 115,
   "metadata": {},
   "outputs": [],
   "source": [
    "filenames = []\n",
    "for i in onlyfiles_train:\n",
    "    filenames.append(r'C:\\Users\\Mihail\\train_im' + '\\\\' + i)"
   ]
  },
  {
   "cell_type": "code",
   "execution_count": 123,
   "metadata": {},
   "outputs": [
    {
     "data": {
      "text/plain": [
       "'C:\\\\Users\\\\Mihail\\\\train_im\\\\t_1_002ec520-528f-429c-8c38-c495827c8ab3.jpg'"
      ]
     },
     "execution_count": 123,
     "metadata": {},
     "output_type": "execute_result"
    }
   ],
   "source": [
    "filenames[0]"
   ]
  },
  {
   "cell_type": "code",
   "execution_count": 107,
   "metadata": {},
   "outputs": [],
   "source": [
    "filenames = tf.constant([filenames])"
   ]
  },
  {
   "cell_type": "code",
   "execution_count": 128,
   "metadata": {},
   "outputs": [],
   "source": [
    "labels = tf.constant(y_train)"
   ]
  },
  {
   "cell_type": "code",
   "execution_count": 130,
   "metadata": {},
   "outputs": [],
   "source": [
    "dataset = tf.data.Dataset.from_tensor_slices((filenames, labels))\n",
    "dataset = dataset.map(_parse_function)"
   ]
  },
  {
   "cell_type": "code",
   "execution_count": 131,
   "metadata": {},
   "outputs": [
    {
     "data": {
      "text/plain": [
       "<DatasetV1Adapter shapes: ((28, 28, ?), ()), types: (tf.float32, tf.int64)>"
      ]
     },
     "execution_count": 131,
     "metadata": {},
     "output_type": "execute_result"
    }
   ],
   "source": [
    "dataset"
   ]
  },
  {
   "cell_type": "code",
   "execution_count": null,
   "metadata": {},
   "outputs": [],
   "source": []
  },
  {
   "cell_type": "code",
   "execution_count": null,
   "metadata": {},
   "outputs": [],
   "source": []
  },
  {
   "cell_type": "code",
   "execution_count": null,
   "metadata": {},
   "outputs": [],
   "source": []
  },
  {
   "cell_type": "code",
   "execution_count": null,
   "metadata": {},
   "outputs": [],
   "source": [
    "# A vector of filenames.\n",
    "filenames = tf.constant([\"/var/data/image1.jpg\", \"/var/data/image2.jpg\", ...])\n",
    "\n",
    "# `labels[i]` is the label for the image in `filenames[i].\n",
    "labels = tf.constant([0, 37, ...])\n",
    "\n",
    "dataset = tf.data.Dataset.from_tensor_slices((filenames, labels))\n",
    "dataset = dataset.map(_parse_function)"
   ]
  },
  {
   "cell_type": "code",
   "execution_count": 83,
   "metadata": {},
   "outputs": [
    {
     "data": {
      "text/plain": [
       "'C:\\\\Users\\\\Mihail\\\\train_im\\\\t_1_002ec520-528f-429c-8c38-c495827c8ab3.jpg'"
      ]
     },
     "execution_count": 83,
     "metadata": {},
     "output_type": "execute_result"
    }
   ],
   "source": [
    "r'C:\\Users\\Mihail\\train_im' + '\\\\' + onlyfiles_train[0]"
   ]
  },
  {
   "cell_type": "code",
   "execution_count": null,
   "metadata": {},
   "outputs": [],
   "source": [
    "batch_size = 100\n",
    "\n",
    "test_accuracy_history = []\n",
    "test_loss_history = []\n",
    "\n",
    "X_test = X_test.to(device)\n",
    "y_test = y_test.to(device)\n",
    "\n",
    "for epoch in range(45):\n",
    "    order = np.random.permutation(len(X_train))\n",
    "    for start_index in range(0, len(X_train), batch_size):\n",
    "        optimizer.zero_grad()\n",
    "        \n",
    "        batch_indexes = order[start_index:start_index+batch_size]\n",
    "        \n",
    "        X_batch = X_train[batch_indexes].to(device)\n",
    "        y_batch = y_train[batch_indexes].to(device)\n",
    "        \n",
    "        preds = lenet5.forward(X_batch) \n",
    "        \n",
    "        loss_value = loss(preds, y_batch)\n",
    "        loss_value.backward()\n",
    "        \n",
    "        optimizer.step()\n",
    "        \n",
    "    test_preds = lenet5.forward(X_test)\n",
    "    test_loss_history.append(loss(test_preds, y_test).data.cpu())\n",
    "    \n",
    "    accuracy = (test_preds.argmax(dim=1) == y_test).float().mean().data.cpu()\n",
    "    test_accuracy_history.append(accuracy)\n",
    "    \n",
    "    print(accuracy)"
   ]
  },
  {
   "cell_type": "code",
   "execution_count": null,
   "metadata": {},
   "outputs": [],
   "source": []
  },
  {
   "cell_type": "code",
   "execution_count": null,
   "metadata": {},
   "outputs": [],
   "source": []
  },
  {
   "cell_type": "code",
   "execution_count": null,
   "metadata": {},
   "outputs": [],
   "source": []
  },
  {
   "cell_type": "code",
   "execution_count": null,
   "metadata": {},
   "outputs": [],
   "source": []
  },
  {
   "cell_type": "code",
   "execution_count": null,
   "metadata": {},
   "outputs": [],
   "source": []
  },
  {
   "cell_type": "code",
   "execution_count": null,
   "metadata": {},
   "outputs": [],
   "source": []
  },
  {
   "cell_type": "code",
   "execution_count": null,
   "metadata": {},
   "outputs": [],
   "source": [
    "def cnn_layers(x_train_input):\n",
    "1    x = layers.Conv2D(32, (3, 3),\n",
    "                      activation='relu', padding='valid')(x_train_input)\n",
    "2    x = layers.MaxPooling2D(pool_size=(2, 2))(x)\n",
    "3    x = layers.Conv2D(64, (3, 3), activation='relu')(x)\n",
    "4    x = layers.MaxPooling2D(pool_size=(2, 2))(x)\n",
    "    x = layers.Flatten()(x)\n",
    "    x = layers.Dense(512, activation='relu')(x)\n",
    "    x = layers.Dropout(0.5)(x)\n",
    "    x_train_out = layers.Dense(NUM_CLASSES,\n",
    "                               activation='softmax',\n",
    "                               name='x_train_out')(x)\n",
    "    return x_train_out"
   ]
  },
  {
   "cell_type": "code",
   "execution_count": 5,
   "metadata": {},
   "outputs": [],
   "source": [
    "import torch\n",
    "import random\n",
    "import numpy as np\n",
    "\n",
    "random.seed(0)\n",
    "np.random.seed(0)\n",
    "torch.manual_seed(0)\n",
    "torch.cuda.manual_seed(0)\n",
    "torch.backends.cudnn.deterministic = True"
   ]
  },
  {
   "cell_type": "code",
   "execution_count": 56,
   "metadata": {},
   "outputs": [],
   "source": [
    "'''class model(torch.nn.Module):\n",
    "    def __init__(self):\n",
    "        super(model, self).__init__()\n",
    "        \n",
    "        self.conv1 = torch.nn.Conv2d(\n",
    "            in_channels=3, out_channels=6, kernel_size=5, padding=2)\n",
    "        self.act1  = torch.nn.ReLU\n",
    "        self.pool1 = torch.nn.MaxPool2d(kernel_size=2, stride=2)\n",
    "       \n",
    "        self.conv2 = torch.nn.Conv2d(\n",
    "            in_channels=6, out_channels=16, kernel_size=5, padding=0)\n",
    "        self.act2  = torch.nn.ReLU()\n",
    "        self.pool2 = torch.nn.MaxPool2d(kernel_size=2, stride=2)\n",
    "        \n",
    "        self.fc1   = torch.nn.Linear(5 * 5 * 16, 120)\n",
    "        self.act3  = torch.nn.ReLU()\n",
    "        \n",
    "        self.fc2   = torch.nn.Linear(120, 84)\n",
    "        self.act4  = torch.nn.ReLU()\n",
    "        \n",
    "        self.fc3   = torch.nn.Linear(84, 55)\n",
    "    \n",
    "    def forward(self, x):\n",
    "        \n",
    "        x = self.conv1(x)\n",
    "        x = self.act1(x)\n",
    "        \n",
    "        x = self.pool1(x)\n",
    "        \n",
    "        x = self.conv2(x)\n",
    "        x = self.act2(x)\n",
    "        x = self.pool2(x)\n",
    "        \n",
    "        x = x.view(x.size(0), x.size(1) * x.size(2) * x.size(3))\n",
    "\n",
    "        x = self.fc1(x)\n",
    "        x = self.act3(x)\n",
    "        x = self.fc2(x)\n",
    "        x = self.act4(x)\n",
    "        x = self.fc3(x)\n",
    "        \n",
    "        return x\n",
    "    \n",
    "model = model()'''"
   ]
  },
  {
   "cell_type": "code",
   "execution_count": null,
   "metadata": {},
   "outputs": [],
   "source": []
  },
  {
   "cell_type": "code",
   "execution_count": 58,
   "metadata": {},
   "outputs": [],
   "source": [
    "class LeNet5(torch.nn.Module):\n",
    "    def __init__(self):\n",
    "        super(LeNet5, self).__init__()\n",
    "        \n",
    "        self.conv1 = torch.nn.Conv2d(\n",
    "            in_channels=3, out_channels=6, kernel_size=5, padding=2)\n",
    "        self.act1  = torch.nn.ReLU()\n",
    "        self.pool1 = torch.nn.MaxPool2d(kernel_size=2, stride=2)\n",
    "       \n",
    "        self.conv2 = torch.nn.Conv2d(\n",
    "            in_channels=6, out_channels=16, kernel_size=5, padding=0)\n",
    "        self.act2  = torch.nn.ReLU()\n",
    "        self.pool2 = torch.nn.MaxPool2d(kernel_size=2, stride=2)\n",
    "        \n",
    "        self.fc1   = torch.nn.Linear(5 * 5 * 16, 120)\n",
    "        self.act3  = torch.nn.ReLU()\n",
    "        \n",
    "        self.fc2   = torch.nn.Linear(120, 84)\n",
    "        self.act4  = torch.nn.ReLU()\n",
    "        \n",
    "        self.fc3   = torch.nn.Linear(84, len(classes))\n",
    "        \n",
    "        #self.sm = torch.nn.Softmax(dim=1)\n",
    "    \n",
    "    def forward(self, x):\n",
    "        \n",
    "        x = self.conv1(x)\n",
    "        x = self.act1(x)\n",
    "        x = self.pool1(x)\n",
    "        \n",
    "        x = self.conv2(x)\n",
    "        x = self.act2(x)\n",
    "        x = self.pool2(x)\n",
    "        \n",
    "        x = x.view(x.size(0), x.size(1) * x.size(2) * x.size(3))\n",
    "\n",
    "        x = self.fc1(x)\n",
    "        x = self.act3(x)\n",
    "        x = self.fc2(x)\n",
    "        x = self.act4(x)\n",
    "        x = self.fc3(x)\n",
    "        \n",
    "        return x\n",
    "    \n",
    "    def inference(self, x):\n",
    "        x = self.forward(x)\n",
    "        x = self.sm(x)\n",
    "        return x\n",
    "    \n",
    "lenet5 = LeNet5()"
   ]
  },
  {
   "cell_type": "code",
   "execution_count": null,
   "metadata": {},
   "outputs": [],
   "source": []
  },
  {
   "cell_type": "code",
   "execution_count": null,
   "metadata": {},
   "outputs": [],
   "source": [
    "device = torch.device('cuda:0' if torch.cuda.is_available() else 'cpu')\n",
    "model = model.to(device)"
   ]
  },
  {
   "cell_type": "code",
   "execution_count": 24,
   "metadata": {},
   "outputs": [
    {
     "ename": "NameError",
     "evalue": "name 'model' is not defined",
     "output_type": "error",
     "traceback": [
      "\u001b[1;31m---------------------------------------------------------------------------\u001b[0m",
      "\u001b[1;31mNameError\u001b[0m                                 Traceback (most recent call last)",
      "\u001b[1;32m<ipython-input-24-339dd481e0ca>\u001b[0m in \u001b[0;36m<module>\u001b[1;34m\u001b[0m\n\u001b[0;32m      1\u001b[0m \u001b[0mloss\u001b[0m \u001b[1;33m=\u001b[0m \u001b[0mtorch\u001b[0m\u001b[1;33m.\u001b[0m\u001b[0mnn\u001b[0m\u001b[1;33m.\u001b[0m\u001b[0mCrossEntropyLoss\u001b[0m\u001b[1;33m(\u001b[0m\u001b[1;33m)\u001b[0m\u001b[1;33m\u001b[0m\u001b[1;33m\u001b[0m\u001b[0m\n\u001b[1;32m----> 2\u001b[1;33m \u001b[0moptimizer\u001b[0m \u001b[1;33m=\u001b[0m \u001b[0mtorch\u001b[0m\u001b[1;33m.\u001b[0m\u001b[0moptim\u001b[0m\u001b[1;33m.\u001b[0m\u001b[0mAdam\u001b[0m\u001b[1;33m(\u001b[0m\u001b[0mmodel\u001b[0m\u001b[1;33m.\u001b[0m\u001b[0mparameters\u001b[0m\u001b[1;33m(\u001b[0m\u001b[1;33m)\u001b[0m\u001b[1;33m,\u001b[0m \u001b[0mlr\u001b[0m\u001b[1;33m=\u001b[0m\u001b[1;36m1.0e-3\u001b[0m\u001b[1;33m)\u001b[0m\u001b[1;33m\u001b[0m\u001b[1;33m\u001b[0m\u001b[0m\n\u001b[0m",
      "\u001b[1;31mNameError\u001b[0m: name 'model' is not defined"
     ]
    }
   ],
   "source": [
    "loss = torch.nn.CrossEntropyLoss()\n",
    "optimizer = torch.optim.Adam(model.parameters(), lr=1.0e-3)"
   ]
  },
  {
   "cell_type": "code",
   "execution_count": 26,
   "metadata": {},
   "outputs": [],
   "source": [
    "X_train = []\n",
    "for i in onlyfiles_train:\n",
    "    e = cv2.imread(r'C:\\Users\\Mihail\\train_im'+'\\\\'+i)\n",
    "    e.resize(3, 28, 28)\n",
    "    X_train.append(e)"
   ]
  },
  {
   "cell_type": "code",
   "execution_count": 27,
   "metadata": {},
   "outputs": [],
   "source": [
    "X_test = []\n",
    "for i in onlyfiles_test:\n",
    "    e = cv2.imread(r'C:\\Users\\Mihail\\test_im'+'\\\\'+i)\n",
    "    e.resize(3, 28, 28)\n",
    "    X_test.append(e)"
   ]
  },
  {
   "cell_type": "code",
   "execution_count": 28,
   "metadata": {},
   "outputs": [],
   "source": [
    "X_train = torch.tensor(X_train)\n",
    "X_test = torch.tensor(X_test)"
   ]
  },
  {
   "cell_type": "code",
   "execution_count": 29,
   "metadata": {},
   "outputs": [
    {
     "data": {
      "text/plain": [
       "torch.Size([75500, 3, 28, 28])"
      ]
     },
     "execution_count": 29,
     "metadata": {},
     "output_type": "execute_result"
    }
   ],
   "source": [
    "X_train.shape"
   ]
  },
  {
   "cell_type": "code",
   "execution_count": 30,
   "metadata": {},
   "outputs": [
    {
     "data": {
      "text/plain": [
       "torch.Size([37750, 3, 28, 28])"
      ]
     },
     "execution_count": 30,
     "metadata": {},
     "output_type": "execute_result"
    }
   ],
   "source": [
    "X_test.shape"
   ]
  },
  {
   "cell_type": "code",
   "execution_count": 41,
   "metadata": {},
   "outputs": [],
   "source": [
    "X_train = X_train.type('torch.FloatTensor')\n",
    "X_test = X_test.type('torch.FloatTensor')"
   ]
  },
  {
   "cell_type": "code",
   "execution_count": 31,
   "metadata": {},
   "outputs": [],
   "source": [
    "le = preprocessing.LabelEncoder()"
   ]
  },
  {
   "cell_type": "code",
   "execution_count": 32,
   "metadata": {},
   "outputs": [
    {
     "data": {
      "text/plain": [
       "LabelEncoder()"
      ]
     },
     "execution_count": 32,
     "metadata": {},
     "output_type": "execute_result"
    }
   ],
   "source": [
    "le.fit(y_train)"
   ]
  },
  {
   "cell_type": "code",
   "execution_count": 33,
   "metadata": {},
   "outputs": [
    {
     "data": {
      "text/plain": [
       "array(['1', '2', '3', '4', '5', '6', '7', '8', '9', 'A', 'B', 'C', 'D',\n",
       "       'E', 'F', 'G', 'H', 'J', 'K', 'M', 'N', 'P', 'Q', 'R', 'S', 'T',\n",
       "       'U', 'V', 'W', 'X', 'Y', 'Z', 'a', 'b', 'c', 'd', 'e', 'f', 'g',\n",
       "       'h', 'j', 'k', 'm', 'n', 'p', 'q', 'r', 's', 't', 'u', 'v', 'w',\n",
       "       'x', 'y', 'z'], dtype='<U1')"
      ]
     },
     "execution_count": 33,
     "metadata": {},
     "output_type": "execute_result"
    }
   ],
   "source": [
    "le.classes_"
   ]
  },
  {
   "cell_type": "code",
   "execution_count": 34,
   "metadata": {},
   "outputs": [],
   "source": [
    "y_test = torch.tensor(le.transform(y_test))"
   ]
  },
  {
   "cell_type": "code",
   "execution_count": 35,
   "metadata": {},
   "outputs": [],
   "source": [
    "y_train = torch.tensor(le.transform(y_train))"
   ]
  },
  {
   "cell_type": "code",
   "execution_count": 36,
   "metadata": {},
   "outputs": [
    {
     "data": {
      "text/plain": [
       "torch.Size([37750])"
      ]
     },
     "execution_count": 36,
     "metadata": {},
     "output_type": "execute_result"
    }
   ],
   "source": [
    "y_test.shape"
   ]
  },
  {
   "cell_type": "code",
   "execution_count": 37,
   "metadata": {},
   "outputs": [
    {
     "data": {
      "text/plain": [
       "torch.Size([75500])"
      ]
     },
     "execution_count": 37,
     "metadata": {},
     "output_type": "execute_result"
    }
   ],
   "source": [
    "y_train.shape"
   ]
  },
  {
   "cell_type": "code",
   "execution_count": 38,
   "metadata": {},
   "outputs": [
    {
     "data": {
      "text/plain": [
       "torch.Size([37750, 3, 28, 28])"
      ]
     },
     "execution_count": 38,
     "metadata": {},
     "output_type": "execute_result"
    }
   ],
   "source": [
    "X_test.shape"
   ]
  },
  {
   "cell_type": "code",
   "execution_count": 67,
   "metadata": {},
   "outputs": [
    {
     "data": {
      "text/plain": [
       "torch.Size([75500, 3, 28, 28])"
      ]
     },
     "execution_count": 67,
     "metadata": {},
     "output_type": "execute_result"
    }
   ],
   "source": [
    "X_train.shape"
   ]
  },
  {
   "cell_type": "code",
   "execution_count": 57,
   "metadata": {},
   "outputs": [
    {
     "ename": "ValueError",
     "evalue": "y contains previously unseen labels: [0, 10, 11, 12, 13, 14, 15, 16, 17, 18, 19, 20, 21, 22, 23, 24, 25, 26, 27, 28, 29, 30, 31, 32, 33, 34, 35, 36, 37, 38, 39, 40, 41, 42, 43, 44, 45, 46, 47, 48, 49, 50, 51, 52, 53, 54]",
     "output_type": "error",
     "traceback": [
      "\u001b[1;31m---------------------------------------------------------------------------\u001b[0m",
      "\u001b[1;31mValueError\u001b[0m                                Traceback (most recent call last)",
      "\u001b[1;32m<ipython-input-57-ba89f45de525>\u001b[0m in \u001b[0;36m<module>\u001b[1;34m\u001b[0m\n\u001b[0;32m     15\u001b[0m \u001b[1;33m\u001b[0m\u001b[0m\n\u001b[0;32m     16\u001b[0m         \u001b[0mX_batch\u001b[0m \u001b[1;33m=\u001b[0m \u001b[0mX_train\u001b[0m\u001b[1;33m[\u001b[0m\u001b[0mbatch_indexes\u001b[0m\u001b[1;33m]\u001b[0m\u001b[1;33m.\u001b[0m\u001b[0mto\u001b[0m\u001b[1;33m(\u001b[0m\u001b[0mdevice\u001b[0m\u001b[1;33m)\u001b[0m\u001b[1;33m\u001b[0m\u001b[1;33m\u001b[0m\u001b[0m\n\u001b[1;32m---> 17\u001b[1;33m         \u001b[0my_batch\u001b[0m \u001b[1;33m=\u001b[0m \u001b[0mtorch\u001b[0m\u001b[1;33m.\u001b[0m\u001b[0mtensor\u001b[0m\u001b[1;33m(\u001b[0m\u001b[0mle\u001b[0m\u001b[1;33m.\u001b[0m\u001b[0mtransform\u001b[0m\u001b[1;33m(\u001b[0m\u001b[0my_train\u001b[0m\u001b[1;33m)\u001b[0m\u001b[1;33m)\u001b[0m\u001b[1;33m.\u001b[0m\u001b[0mto\u001b[0m\u001b[1;33m(\u001b[0m\u001b[0mdevice\u001b[0m\u001b[1;33m)\u001b[0m\u001b[1;33m\u001b[0m\u001b[1;33m\u001b[0m\u001b[0m\n\u001b[0m\u001b[0;32m     18\u001b[0m \u001b[1;33m\u001b[0m\u001b[0m\n\u001b[0;32m     19\u001b[0m         \u001b[0mpreds\u001b[0m \u001b[1;33m=\u001b[0m \u001b[0mmodel\u001b[0m\u001b[1;33m.\u001b[0m\u001b[0mforward\u001b[0m\u001b[1;33m(\u001b[0m\u001b[0mX_batch\u001b[0m\u001b[1;33m)\u001b[0m\u001b[1;33m\u001b[0m\u001b[1;33m\u001b[0m\u001b[0m\n",
      "\u001b[1;32m~\\Anaconda3\\lib\\site-packages\\sklearn\\preprocessing\\label.py\u001b[0m in \u001b[0;36mtransform\u001b[1;34m(self, y)\u001b[0m\n\u001b[0;32m    255\u001b[0m             \u001b[1;32mreturn\u001b[0m \u001b[0mnp\u001b[0m\u001b[1;33m.\u001b[0m\u001b[0marray\u001b[0m\u001b[1;33m(\u001b[0m\u001b[1;33m[\u001b[0m\u001b[1;33m]\u001b[0m\u001b[1;33m)\u001b[0m\u001b[1;33m\u001b[0m\u001b[1;33m\u001b[0m\u001b[0m\n\u001b[0;32m    256\u001b[0m \u001b[1;33m\u001b[0m\u001b[0m\n\u001b[1;32m--> 257\u001b[1;33m         \u001b[0m_\u001b[0m\u001b[1;33m,\u001b[0m \u001b[0my\u001b[0m \u001b[1;33m=\u001b[0m \u001b[0m_encode\u001b[0m\u001b[1;33m(\u001b[0m\u001b[0my\u001b[0m\u001b[1;33m,\u001b[0m \u001b[0muniques\u001b[0m\u001b[1;33m=\u001b[0m\u001b[0mself\u001b[0m\u001b[1;33m.\u001b[0m\u001b[0mclasses_\u001b[0m\u001b[1;33m,\u001b[0m \u001b[0mencode\u001b[0m\u001b[1;33m=\u001b[0m\u001b[1;32mTrue\u001b[0m\u001b[1;33m)\u001b[0m\u001b[1;33m\u001b[0m\u001b[1;33m\u001b[0m\u001b[0m\n\u001b[0m\u001b[0;32m    258\u001b[0m         \u001b[1;32mreturn\u001b[0m \u001b[0my\u001b[0m\u001b[1;33m\u001b[0m\u001b[1;33m\u001b[0m\u001b[0m\n\u001b[0;32m    259\u001b[0m \u001b[1;33m\u001b[0m\u001b[0m\n",
      "\u001b[1;32m~\\Anaconda3\\lib\\site-packages\\sklearn\\preprocessing\\label.py\u001b[0m in \u001b[0;36m_encode\u001b[1;34m(values, uniques, encode)\u001b[0m\n\u001b[0;32m    108\u001b[0m         \u001b[1;32mreturn\u001b[0m \u001b[0m_encode_python\u001b[0m\u001b[1;33m(\u001b[0m\u001b[0mvalues\u001b[0m\u001b[1;33m,\u001b[0m \u001b[0muniques\u001b[0m\u001b[1;33m,\u001b[0m \u001b[0mencode\u001b[0m\u001b[1;33m)\u001b[0m\u001b[1;33m\u001b[0m\u001b[1;33m\u001b[0m\u001b[0m\n\u001b[0;32m    109\u001b[0m     \u001b[1;32melse\u001b[0m\u001b[1;33m:\u001b[0m\u001b[1;33m\u001b[0m\u001b[1;33m\u001b[0m\u001b[0m\n\u001b[1;32m--> 110\u001b[1;33m         \u001b[1;32mreturn\u001b[0m \u001b[0m_encode_numpy\u001b[0m\u001b[1;33m(\u001b[0m\u001b[0mvalues\u001b[0m\u001b[1;33m,\u001b[0m \u001b[0muniques\u001b[0m\u001b[1;33m,\u001b[0m \u001b[0mencode\u001b[0m\u001b[1;33m)\u001b[0m\u001b[1;33m\u001b[0m\u001b[1;33m\u001b[0m\u001b[0m\n\u001b[0m\u001b[0;32m    111\u001b[0m \u001b[1;33m\u001b[0m\u001b[0m\n\u001b[0;32m    112\u001b[0m \u001b[1;33m\u001b[0m\u001b[0m\n",
      "\u001b[1;32m~\\Anaconda3\\lib\\site-packages\\sklearn\\preprocessing\\label.py\u001b[0m in \u001b[0;36m_encode_numpy\u001b[1;34m(values, uniques, encode)\u001b[0m\n\u001b[0;32m     51\u001b[0m         \u001b[1;32mif\u001b[0m \u001b[0mdiff\u001b[0m\u001b[1;33m:\u001b[0m\u001b[1;33m\u001b[0m\u001b[1;33m\u001b[0m\u001b[0m\n\u001b[0;32m     52\u001b[0m             raise ValueError(\"y contains previously unseen labels: %s\"\n\u001b[1;32m---> 53\u001b[1;33m                              % str(diff))\n\u001b[0m\u001b[0;32m     54\u001b[0m         \u001b[0mencoded\u001b[0m \u001b[1;33m=\u001b[0m \u001b[0mnp\u001b[0m\u001b[1;33m.\u001b[0m\u001b[0msearchsorted\u001b[0m\u001b[1;33m(\u001b[0m\u001b[0muniques\u001b[0m\u001b[1;33m,\u001b[0m \u001b[0mvalues\u001b[0m\u001b[1;33m)\u001b[0m\u001b[1;33m\u001b[0m\u001b[1;33m\u001b[0m\u001b[0m\n\u001b[0;32m     55\u001b[0m         \u001b[1;32mreturn\u001b[0m \u001b[0muniques\u001b[0m\u001b[1;33m,\u001b[0m \u001b[0mencoded\u001b[0m\u001b[1;33m\u001b[0m\u001b[1;33m\u001b[0m\u001b[0m\n",
      "\u001b[1;31mValueError\u001b[0m: y contains previously unseen labels: [0, 10, 11, 12, 13, 14, 15, 16, 17, 18, 19, 20, 21, 22, 23, 24, 25, 26, 27, 28, 29, 30, 31, 32, 33, 34, 35, 36, 37, 38, 39, 40, 41, 42, 43, 44, 45, 46, 47, 48, 49, 50, 51, 52, 53, 54]"
     ]
    }
   ],
   "source": [
    "'''batch_size = 100\n",
    "\n",
    "test_accuracy_history = []\n",
    "test_loss_history = []\n",
    "\n",
    "X_test = X_test.to(device)\n",
    "y_test = y_test.to(device)\n",
    "\n",
    "for epoch in range(10000):\n",
    "    order = np.random.permutation(len(X_train))\n",
    "    for start_index in range(0, len(X_train), batch_size):\n",
    "        optimizer.zero_grad()\n",
    "        \n",
    "        batch_indexes = order[start_index:start_index+batch_size]\n",
    "        \n",
    "        X_batch = X_train[batch_indexes].to(device)\n",
    "        y_batch = torch.tensor(le.transform(y_train)).to(device)\n",
    "        \n",
    "        preds = model.forward(X_batch) \n",
    "        \n",
    "        loss_value = loss(preds, y_batch)\n",
    "        loss_value.backward()\n",
    "        \n",
    "        optimizer.step()\n",
    "        \n",
    "    test_preds = model.forward(X_test)\n",
    "    test_loss_history.append(loss(test_preds, y_test).data.cpu())\n",
    "    \n",
    "    accuracy = (test_preds.argmax(dim=1) == y_test).float().mean().data.cpu()\n",
    "    test_accuracy_history.append(accuracy)\n",
    "    \n",
    "    print(accuracy)'''"
   ]
  },
  {
   "cell_type": "code",
   "execution_count": null,
   "metadata": {},
   "outputs": [],
   "source": []
  },
  {
   "cell_type": "code",
   "execution_count": null,
   "metadata": {},
   "outputs": [],
   "source": []
  },
  {
   "cell_type": "code",
   "execution_count": null,
   "metadata": {},
   "outputs": [],
   "source": []
  },
  {
   "cell_type": "code",
   "execution_count": 62,
   "metadata": {},
   "outputs": [],
   "source": [
    "#device = torch.device('cuda:0' if torch.cuda.is_available() else 'cpu')\n",
    "device = torch.device('cpu')\n",
    "lenet5 = lenet5.to(device)"
   ]
  },
  {
   "cell_type": "code",
   "execution_count": 25,
   "metadata": {},
   "outputs": [],
   "source": [
    "loss = torch.nn.CrossEntropyLoss()\n",
    "optimizer = torch.optim.Adam(lenet5.parameters(), lr=1.0e-3)"
   ]
  },
  {
   "cell_type": "code",
   "execution_count": 132,
   "metadata": {},
   "outputs": [
    {
     "ename": "RuntimeError",
     "evalue": "$ Torch: not enough memory: you tried to allocate 8GB. Buy new RAM! at ..\\aten\\src\\TH\\THGeneral.cpp:201",
     "output_type": "error",
     "traceback": [
      "\u001b[1;31m---------------------------------------------------------------------------\u001b[0m",
      "\u001b[1;31mRuntimeError\u001b[0m                              Traceback (most recent call last)",
      "\u001b[1;32m<ipython-input-132-97d2282b8f13>\u001b[0m in \u001b[0;36m<module>\u001b[1;34m\u001b[0m\n\u001b[0;32m     24\u001b[0m         \u001b[0moptimizer\u001b[0m\u001b[1;33m.\u001b[0m\u001b[0mstep\u001b[0m\u001b[1;33m(\u001b[0m\u001b[1;33m)\u001b[0m\u001b[1;33m\u001b[0m\u001b[1;33m\u001b[0m\u001b[0m\n\u001b[0;32m     25\u001b[0m \u001b[1;33m\u001b[0m\u001b[0m\n\u001b[1;32m---> 26\u001b[1;33m     \u001b[0mtest_preds\u001b[0m \u001b[1;33m=\u001b[0m \u001b[0mlenet5\u001b[0m\u001b[1;33m.\u001b[0m\u001b[0mforward\u001b[0m\u001b[1;33m(\u001b[0m\u001b[0mX_test\u001b[0m\u001b[1;33m)\u001b[0m\u001b[1;33m\u001b[0m\u001b[1;33m\u001b[0m\u001b[0m\n\u001b[0m\u001b[0;32m     27\u001b[0m     \u001b[0mtest_loss_history\u001b[0m\u001b[1;33m.\u001b[0m\u001b[0mappend\u001b[0m\u001b[1;33m(\u001b[0m\u001b[0mloss\u001b[0m\u001b[1;33m(\u001b[0m\u001b[0mtest_preds\u001b[0m\u001b[1;33m,\u001b[0m \u001b[0my_test\u001b[0m\u001b[1;33m)\u001b[0m\u001b[1;33m.\u001b[0m\u001b[0mdata\u001b[0m\u001b[1;33m.\u001b[0m\u001b[0mcpu\u001b[0m\u001b[1;33m(\u001b[0m\u001b[1;33m)\u001b[0m\u001b[1;33m)\u001b[0m\u001b[1;33m\u001b[0m\u001b[1;33m\u001b[0m\u001b[0m\n\u001b[0;32m     28\u001b[0m \u001b[1;33m\u001b[0m\u001b[0m\n",
      "\u001b[1;32m<ipython-input-58-ab90b5c8b221>\u001b[0m in \u001b[0;36mforward\u001b[1;34m(self, x)\u001b[0m\n\u001b[0;32m     23\u001b[0m     \u001b[1;32mdef\u001b[0m \u001b[0mforward\u001b[0m\u001b[1;33m(\u001b[0m\u001b[0mself\u001b[0m\u001b[1;33m,\u001b[0m \u001b[0mx\u001b[0m\u001b[1;33m)\u001b[0m\u001b[1;33m:\u001b[0m\u001b[1;33m\u001b[0m\u001b[1;33m\u001b[0m\u001b[0m\n\u001b[0;32m     24\u001b[0m \u001b[1;33m\u001b[0m\u001b[0m\n\u001b[1;32m---> 25\u001b[1;33m         \u001b[0mx\u001b[0m \u001b[1;33m=\u001b[0m \u001b[0mself\u001b[0m\u001b[1;33m.\u001b[0m\u001b[0mconv1\u001b[0m\u001b[1;33m(\u001b[0m\u001b[0mx\u001b[0m\u001b[1;33m)\u001b[0m\u001b[1;33m\u001b[0m\u001b[1;33m\u001b[0m\u001b[0m\n\u001b[0m\u001b[0;32m     26\u001b[0m         \u001b[0mx\u001b[0m \u001b[1;33m=\u001b[0m \u001b[0mself\u001b[0m\u001b[1;33m.\u001b[0m\u001b[0mact1\u001b[0m\u001b[1;33m(\u001b[0m\u001b[0mx\u001b[0m\u001b[1;33m)\u001b[0m\u001b[1;33m\u001b[0m\u001b[1;33m\u001b[0m\u001b[0m\n\u001b[0;32m     27\u001b[0m         \u001b[0mx\u001b[0m \u001b[1;33m=\u001b[0m \u001b[0mself\u001b[0m\u001b[1;33m.\u001b[0m\u001b[0mpool1\u001b[0m\u001b[1;33m(\u001b[0m\u001b[0mx\u001b[0m\u001b[1;33m)\u001b[0m\u001b[1;33m\u001b[0m\u001b[1;33m\u001b[0m\u001b[0m\n",
      "\u001b[1;32m~\\Anaconda3\\lib\\site-packages\\torch\\nn\\modules\\module.py\u001b[0m in \u001b[0;36m__call__\u001b[1;34m(self, *input, **kwargs)\u001b[0m\n\u001b[0;32m    487\u001b[0m             \u001b[0mresult\u001b[0m \u001b[1;33m=\u001b[0m \u001b[0mself\u001b[0m\u001b[1;33m.\u001b[0m\u001b[0m_slow_forward\u001b[0m\u001b[1;33m(\u001b[0m\u001b[1;33m*\u001b[0m\u001b[0minput\u001b[0m\u001b[1;33m,\u001b[0m \u001b[1;33m**\u001b[0m\u001b[0mkwargs\u001b[0m\u001b[1;33m)\u001b[0m\u001b[1;33m\u001b[0m\u001b[1;33m\u001b[0m\u001b[0m\n\u001b[0;32m    488\u001b[0m         \u001b[1;32melse\u001b[0m\u001b[1;33m:\u001b[0m\u001b[1;33m\u001b[0m\u001b[1;33m\u001b[0m\u001b[0m\n\u001b[1;32m--> 489\u001b[1;33m             \u001b[0mresult\u001b[0m \u001b[1;33m=\u001b[0m \u001b[0mself\u001b[0m\u001b[1;33m.\u001b[0m\u001b[0mforward\u001b[0m\u001b[1;33m(\u001b[0m\u001b[1;33m*\u001b[0m\u001b[0minput\u001b[0m\u001b[1;33m,\u001b[0m \u001b[1;33m**\u001b[0m\u001b[0mkwargs\u001b[0m\u001b[1;33m)\u001b[0m\u001b[1;33m\u001b[0m\u001b[1;33m\u001b[0m\u001b[0m\n\u001b[0m\u001b[0;32m    490\u001b[0m         \u001b[1;32mfor\u001b[0m \u001b[0mhook\u001b[0m \u001b[1;32min\u001b[0m \u001b[0mself\u001b[0m\u001b[1;33m.\u001b[0m\u001b[0m_forward_hooks\u001b[0m\u001b[1;33m.\u001b[0m\u001b[0mvalues\u001b[0m\u001b[1;33m(\u001b[0m\u001b[1;33m)\u001b[0m\u001b[1;33m:\u001b[0m\u001b[1;33m\u001b[0m\u001b[1;33m\u001b[0m\u001b[0m\n\u001b[0;32m    491\u001b[0m             \u001b[0mhook_result\u001b[0m \u001b[1;33m=\u001b[0m \u001b[0mhook\u001b[0m\u001b[1;33m(\u001b[0m\u001b[0mself\u001b[0m\u001b[1;33m,\u001b[0m \u001b[0minput\u001b[0m\u001b[1;33m,\u001b[0m \u001b[0mresult\u001b[0m\u001b[1;33m)\u001b[0m\u001b[1;33m\u001b[0m\u001b[1;33m\u001b[0m\u001b[0m\n",
      "\u001b[1;32m~\\Anaconda3\\lib\\site-packages\\torch\\nn\\modules\\conv.py\u001b[0m in \u001b[0;36mforward\u001b[1;34m(self, input)\u001b[0m\n\u001b[0;32m    318\u001b[0m     \u001b[1;32mdef\u001b[0m \u001b[0mforward\u001b[0m\u001b[1;33m(\u001b[0m\u001b[0mself\u001b[0m\u001b[1;33m,\u001b[0m \u001b[0minput\u001b[0m\u001b[1;33m)\u001b[0m\u001b[1;33m:\u001b[0m\u001b[1;33m\u001b[0m\u001b[1;33m\u001b[0m\u001b[0m\n\u001b[0;32m    319\u001b[0m         return F.conv2d(input, self.weight, self.bias, self.stride,\n\u001b[1;32m--> 320\u001b[1;33m                         self.padding, self.dilation, self.groups)\n\u001b[0m\u001b[0;32m    321\u001b[0m \u001b[1;33m\u001b[0m\u001b[0m\n\u001b[0;32m    322\u001b[0m \u001b[1;33m\u001b[0m\u001b[0m\n",
      "\u001b[1;31mRuntimeError\u001b[0m: $ Torch: not enough memory: you tried to allocate 8GB. Buy new RAM! at ..\\aten\\src\\TH\\THGeneral.cpp:201"
     ]
    }
   ],
   "source": [
    "batch_size = 1\n",
    "\n",
    "test_accuracy_history = []\n",
    "test_loss_history = []\n",
    "\n",
    "X_test = X_test.to(device)\n",
    "y_test = y_test.to(device)\n",
    "\n",
    "for epoch in range(45):\n",
    "    order = np.random.permutation(len(X_train))\n",
    "    for start_index in range(0, len(X_train), batch_size):\n",
    "        optimizer.zero_grad()\n",
    "        \n",
    "        batch_indexes = order[start_index:start_index+batch_size]\n",
    "        \n",
    "        X_batch = X_train[batch_indexes].to(device)\n",
    "        y_batch = y_train[batch_indexes].to(device)\n",
    "        \n",
    "        preds = lenet5.forward(X_batch) \n",
    "        \n",
    "        loss_value = loss(preds, y_batch)\n",
    "        loss_value.backward()\n",
    "        \n",
    "        optimizer.step()\n",
    "        \n",
    "    test_preds = lenet5.forward(X_test)\n",
    "    test_loss_history.append(loss(test_preds, y_test).data.cpu())\n",
    "    \n",
    "    accuracy = (test_preds.argmax(dim=1) == y_test).float().mean().data.cpu()\n",
    "    test_accuracy_history.append(accuracy)\n",
    "    \n",
    "    print(accuracy)"
   ]
  },
  {
   "cell_type": "code",
   "execution_count": null,
   "metadata": {},
   "outputs": [],
   "source": []
  },
  {
   "cell_type": "code",
   "execution_count": null,
   "metadata": {},
   "outputs": [],
   "source": []
  },
  {
   "cell_type": "code",
   "execution_count": null,
   "metadata": {},
   "outputs": [],
   "source": []
  },
  {
   "cell_type": "code",
   "execution_count": null,
   "metadata": {},
   "outputs": [],
   "source": []
  },
  {
   "cell_type": "code",
   "execution_count": null,
   "metadata": {},
   "outputs": [],
   "source": []
  },
  {
   "cell_type": "code",
   "execution_count": null,
   "metadata": {},
   "outputs": [],
   "source": []
  },
  {
   "cell_type": "code",
   "execution_count": null,
   "metadata": {},
   "outputs": [],
   "source": []
  },
  {
   "cell_type": "code",
   "execution_count": null,
   "metadata": {},
   "outputs": [],
   "source": []
  },
  {
   "cell_type": "code",
   "execution_count": null,
   "metadata": {},
   "outputs": [],
   "source": [
    "def cnn_layers(x_train_input):\n",
    "    x = layers.Conv2D(32, (3, 3),\n",
    "                      activation='relu', padding='valid')(x_train_input)\n",
    "    x = layers.MaxPooling2D(pool_size=(2, 2))(x)\n",
    "    x = layers.Conv2D(64, (3, 3), activation='relu')(x)\n",
    "    x = layers.MaxPooling2D(pool_size=(2, 2))(x)\n",
    "    x = layers.Flatten()(x)\n",
    "    x = layers.Dense(512, activation='relu')(x)\n",
    "    x = layers.Dropout(0.5)(x)\n",
    "    x_train_out = layers.Dense(NUM_CLASSES,\n",
    "                               activation='softmax',\n",
    "                               name='x_train_out')(x)\n",
    "    return x_train_out"
   ]
  },
  {
   "cell_type": "code",
   "execution_count": null,
   "metadata": {},
   "outputs": [],
   "source": [
    "epochs = 15\n",
    "capacity = 10000\n",
    "min_after_dequeue = 3000\n",
    "enqueue_many = True\n",
    "NUM_CLASSES = len(classes)\n",
    "SUM_OF_ALL_DATASAMPLES=100000\n",
    "BATCHSIZE=128\n",
    "STEPS_PER_EPOCH= SUM_OF_ALL_DATASAMPLES / BATCHSIZE\n",
    "w, h = 40,40\n"
   ]
  },
  {
   "cell_type": "code",
   "execution_count": null,
   "metadata": {},
   "outputs": [],
   "source": [
    "with tf.device('/gpu:0'):\n",
    "    K.clear_session()\n",
    "    config = tf.ConfigProto( device_count = {'GPU': 1 , 'CPU': 5} ) \n",
    "    sess = tf.Session(config=config) \n",
    "    K.set_session(sess)\n",
    "    #Get your datatensors\n",
    "    filepath=[r'C:\\Users\\Mihail\\augmented']\n",
    "    image, label = create_dataset(filepath)\n",
    "\n",
    "    model_input = layers.Input(tensor=image)\n",
    "    model_output = cnn_layers(model_input)\n",
    "    train_model = keras.models.Model(inputs=model_input, outputs=model_output)\n",
    "\n",
    "    # Pass the target tensor `y_train_batch` to `compile`\n",
    "    # via the `target_tensors` keyword argument:\n",
    "    #Compile your model\n",
    "    train_model.compile(optimizer=keras.optimizers.RMSprop(lr=0.0001),\n",
    "                       loss='categorical_crossentropy',\n",
    "                       metrics=['accuracy'],\n",
    "                       target_tensors=[label])\n",
    "\n",
    "\n",
    "    filepath_test=[r'D:\\tfrecords\\test_1.tfrecords']\n",
    "    #Get your datatensors\n",
    "    image_test, label_test = create_dataset(filepath_test)\n",
    "\n",
    "    model_input_test = layers.Input(tensor=image_test)\n",
    "    model_output_test = cnn_layers(model_input_test)\n",
    "    test_model = keras.models.Model(inputs=model_input_test, outputs=model_output_test)\n",
    "\n",
    "    # Pass the target tensor `y_train_batch` to `compile`\n",
    "    # via the `target_tensors` keyword argument:\n",
    "    test_model.compile(optimizer=keras.optimizers.RMSprop(lr=2e-3, decay=1e-5),\n",
    "                        loss='categorical_crossentropy',\n",
    "                        metrics=['accuracy'],\n",
    "                        target_tensors=[label_test])\n",
    "\n",
    "\n",
    "   #Train the model\n",
    "    train_model.fit(epochs=epochs,\n",
    "                    steps_per_epoch=100, callbacks=[EvaluateInputTensor(test_model, steps=100),\n",
    "                                                   TensorBoard(\n",
    "                            log_dir=os.path.join(r'D:\\tfrecords\\logs','tb_'.format(0))\n",
    "                                                        , histogram_freq=0\n",
    "                                                        , batch_size=32, write_graph=False\n",
    "                                                        , write_grads=False, write_images=False\n",
    "                                                       , embeddings_freq=0, embeddings_layer_names=None\n",
    "                                                        , embeddings_metadata=None, embeddings_data=None)\n",
    "                                                   \n",
    "                                                   \n",
    "                                                   ])\n",
    "\n",
    "    train_model.save_weights(r'D:\\tfrecords\\weights\\saved_wt.h5')\n",
    "\n"
   ]
  },
  {
   "cell_type": "code",
   "execution_count": null,
   "metadata": {},
   "outputs": [],
   "source": [
    "with tf.device('/gpu:0'):\n",
    "    K.clear_session()\n",
    "    config = tf.ConfigProto( device_count = {'GPU': 1 , 'CPU': 5} ) \n",
    "    sess = tf.Session(config=config) \n",
    "    K.set_session(sess)\n",
    "    #Get your datatensors\n",
    "    def create_dataset(filepath,BATCH_SIZE=128,SHUFFLE_BUFFER=50000):\n",
    "    \n",
    "        # This works with arrays as well\n",
    "        dataset = tf.data.TFRecordDataset(filepath)\n",
    "\n",
    "        # Maps the parser on every filepath in the array. You can set the number of parallel loaders here\n",
    "        dataset = dataset.map(_parse_function, num_parallel_calls=4)\n",
    "\n",
    "        # This dataset will go on forever\n",
    "        dataset = dataset.repeat().shuffle(SHUFFLE_BUFFER).batch(BATCH_SIZE)\n",
    "\n",
    "\n",
    "        # Create an iterator\n",
    "        iterator = dataset.make_one_shot_iterator()\n",
    "\n",
    "        # Create your tf representation of the iterator\n",
    "        image, label = iterator.get_next()\n",
    "\n",
    "        # Bring your picture back in shape\n",
    "\n",
    "        image = tf.reshape(image, [-1, 40, 40, 1])\n",
    "\n",
    "        # Create a one hot array for your labels\n",
    "        label = tf.one_hot(label, NUM_CLASSES)\n",
    "\n",
    "        return image, label\n",
    "    \n",
    "    def lr_schedule(epoch):\n",
    "\n",
    "        lr = 1e-3\n",
    "        if epoch > 30:\n",
    "            lr *= 0.5e-3\n",
    "        elif epoch > 22:\n",
    "            lr *= 1e-3\n",
    "        elif epoch > 15:\n",
    "            lr *= 1e-2\n",
    "        elif epoch > 8:\n",
    "            lr *= 1e-1\n",
    "        print('Learning rate: ', lr)\n",
    "        return lr\n",
    "\n",
    "    lr_scheduler = LearningRateScheduler(lr_schedule)\n",
    "\n",
    "    lr_reducer = ReduceLROnPlateau(factor=np.sqrt(0.1),\n",
    "                                   cooldown=0,\n",
    "                                   patience=5,\n",
    "                                   min_lr=0.5e-6)\n",
    "\n",
    "    filepath=[r'C:\\Users\\Mihail\\augmented']\n",
    "    image, label = create_dataset(filepath)\n",
    "\n",
    " \n",
    "    train_model = resnet_v1(image, 20, num_classes=NUM_CLASSES)\n",
    "\n",
    "\n",
    "    # Pass the target tensor `y_train_batch` to `compile`\n",
    "    # via the `target_tensors` keyword argument:\n",
    "    #Compile your model\n",
    "    train_model.compile(optimizer=Adam(lr=lr_schedule(0)),\n",
    "                       loss='categorical_crossentropy',\n",
    "                       metrics=['accuracy'],\n",
    "                       target_tensors=[label])\n",
    "\n",
    "\n",
    "    filepath_test=[r'C:\\Users\\Mihail\\augmented']\n",
    "    #Get your datatensors\n",
    "    image_test, label_test = create_dataset(filepath_test)\n",
    "\n",
    "        \n",
    "\n",
    "    test_model = resnet_v1(image_test,20, num_classes=NUM_CLASSES)\n",
    "\n",
    "    # Pass the target tensor `y_train_batch` to `compile`\n",
    "    # via the `target_tensors` keyword argument:\n",
    "    test_model.compile(optimizer=keras.optimizers.RMSprop(lr=2e-3, decay=1e-5),\n",
    "                        loss='categorical_crossentropy',\n",
    "                        metrics=['accuracy'],\n",
    "                        target_tensors=[label_test])\n",
    "\n",
    "\n",
    "   #Train the model\n",
    "    train_model.fit(epochs=epochs,\n",
    "                    steps_per_epoch=STEPS_PER_EPOCH, callbacks=[EvaluateInputTensor(test_model, steps=150),\n",
    "                                                   TensorBoard(\n",
    "                            log_dir=os.path.join(r'D:\\tfrecords\\logs','tb_'.format(0))\n",
    "                                                        , histogram_freq=0\n",
    "                                                        , batch_size=32, write_graph=False\n",
    "                                                        , write_grads=False, write_images=False\n",
    "                                                       , embeddings_freq=0, embeddings_layer_names=None\n",
    "                                                        , embeddings_metadata=None, embeddings_data=None),\n",
    "                                                    lr_scheduler\n",
    "                                                    ,lr_reducer\n",
    "                                                   ])\n",
    "\n",
    "    train_model.save_weights(r'D:\\tfrecords\\weights\\saved_wt.h5')\n",
    "\n"
   ]
  },
  {
   "cell_type": "code",
   "execution_count": null,
   "metadata": {},
   "outputs": [],
   "source": []
  },
  {
   "cell_type": "code",
   "execution_count": null,
   "metadata": {},
   "outputs": [],
   "source": []
  },
  {
   "cell_type": "code",
   "execution_count": null,
   "metadata": {},
   "outputs": [],
   "source": []
  },
  {
   "cell_type": "code",
   "execution_count": null,
   "metadata": {},
   "outputs": [],
   "source": []
  },
  {
   "cell_type": "code",
   "execution_count": null,
   "metadata": {},
   "outputs": [],
   "source": [
    "import torch"
   ]
  },
  {
   "cell_type": "code",
   "execution_count": null,
   "metadata": {},
   "outputs": [],
   "source": [
    "MNIST_train[1]"
   ]
  },
  {
   "cell_type": "code",
   "execution_count": null,
   "metadata": {},
   "outputs": [],
   "source": []
  },
  {
   "cell_type": "code",
   "execution_count": null,
   "metadata": {},
   "outputs": [],
   "source": []
  },
  {
   "cell_type": "code",
   "execution_count": null,
   "metadata": {},
   "outputs": [],
   "source": []
  },
  {
   "cell_type": "code",
   "execution_count": null,
   "metadata": {},
   "outputs": [],
   "source": []
  },
  {
   "cell_type": "code",
   "execution_count": null,
   "metadata": {},
   "outputs": [],
   "source": [
    "addrs = glob.glob(r'C:\\Users\\Mihail\\augmented')"
   ]
  },
  {
   "cell_type": "code",
   "execution_count": null,
   "metadata": {},
   "outputs": [],
   "source": [
    "le = preprocessing.LabelEncoder()"
   ]
  },
  {
   "cell_type": "code",
   "execution_count": null,
   "metadata": {},
   "outputs": [],
   "source": [
    "le.fit(labels_basic)"
   ]
  },
  {
   "cell_type": "code",
   "execution_count": null,
   "metadata": {},
   "outputs": [],
   "source": [
    "from keras.models import Sequential"
   ]
  },
  {
   "cell_type": "code",
   "execution_count": null,
   "metadata": {},
   "outputs": [],
   "source": [
    "train_class = [f[2] for f in listdir(r'C:\\Users\\Mihail\\train_im') if isfile(join(r'C:\\Users\\Mihail\\train_im', f))]"
   ]
  },
  {
   "cell_type": "code",
   "execution_count": null,
   "metadata": {},
   "outputs": [],
   "source": [
    "train_datagen = ImageDataGenerator(\n",
    "        rescale=1./255,\n",
    "        shear_range=0.2,\n",
    "        zoom_range=0.2,\n",
    "        horizontal_flip=True)\n",
    "\n",
    "test_datagen = ImageDataGenerator(rescale=1./255)\n",
    "\n",
    "train_generator = train_datagen.flow_from_directory(\n",
    "        r'C:\\Users\\Mihail\\train_im',\n",
    "        target_size=(150, 150),\n",
    "        batch_size=32,\n",
    "        classes=classes, class_mode='categorical',)"
   ]
  },
  {
   "cell_type": "code",
   "execution_count": null,
   "metadata": {},
   "outputs": [],
   "source": [
    "train_datagen = ImageDataGenerator(\n",
    "        rescale=1./255,\n",
    "        shear_range=0.2,\n",
    "        zoom_range=0.2,\n",
    "        horizontal_flip=True)\n",
    "\n",
    "test_datagen = ImageDataGenerator(rescale=1./255)\n",
    "\n",
    "train_generator = train_datagen.flow_from_directory(\n",
    "        r'C:\\Users\\Mihail\\augmented',\n",
    "        target_size=(150, 150),\n",
    "        batch_size=32,\n",
    "        classes=classes, class_mode='categorical')\n",
    "\n",
    "validation_generator = test_datagen.flow_from_directory(\n",
    "        r'C:\\Users\\Mihail\\augmented',\n",
    "        target_size=(150, 150),\n",
    "        batch_size=32,\n",
    "        classes=classes, class_mode='categorical')\n",
    "\n",
    "\n",
    "\n",
    "model.fit_generator(\n",
    "    train_generator,\n",
    "    steps_per_epoch=nb_train_samples // batch_size,\n",
    "    epochs=epochs,\n",
    "    validation_data=validation_generator,\n",
    "    validation_steps=nb_validation_samples // batch_size)\n"
   ]
  },
  {
   "cell_type": "code",
   "execution_count": null,
   "metadata": {},
   "outputs": [],
   "source": [
    "validation_generator.class_indices"
   ]
  },
  {
   "cell_type": "code",
   "execution_count": null,
   "metadata": {},
   "outputs": [],
   "source": []
  },
  {
   "cell_type": "code",
   "execution_count": null,
   "metadata": {},
   "outputs": [],
   "source": []
  },
  {
   "cell_type": "code",
   "execution_count": null,
   "metadata": {},
   "outputs": [],
   "source": []
  },
  {
   "cell_type": "code",
   "execution_count": null,
   "metadata": {},
   "outputs": [],
   "source": [
    "def _parse_function(proto):\n",
    "    # define your tfrecord again. Remember that you saved your image as a string.\n",
    "    keys_to_features = {'image': tf.FixedLenFeature([], tf.string),\n",
    "                        'label': tf.FixedLenFeature([], tf.int64)}\n",
    "    \n",
    "    # Load one example\n",
    "    parsed_features = tf.parse_single_example(proto, keys_to_features)\n",
    "    \n",
    "    # Turn your saved image string into an array\n",
    "    parsed_features['image'] = tf.decode_raw(parsed_features['image'], tf.float32)\n",
    "    \n",
    "    parsed_features['image'] = tf.reshape(parsed_features['image'], [-1, h, w, 1])\n",
    "    parsed_features['label'] = tf.cast(parsed_features['label'],  tf.int64)\n",
    "    \n",
    "    return parsed_features['image'], parsed_features['label']"
   ]
  },
  {
   "cell_type": "code",
   "execution_count": null,
   "metadata": {},
   "outputs": [],
   "source": [
    "def create_dataset(filepath,BATCH_SIZE=128,SHUFFLE_BUFFER=50000):\n",
    "\n",
    "    # This works with arrays as well\n",
    "    dataset = tf.data.TFRecordDataset(filepath)\n",
    "\n",
    "    # Maps the parser on every filepath in the array. You can set the number of parallel loaders here\n",
    "    dataset = dataset.map(_parse_function, num_parallel_calls=4)\n",
    "\n",
    "    # This dataset will go on forever\n",
    "    dataset = dataset.repeat().shuffle(SHUFFLE_BUFFER).batch(BATCH_SIZE)\n",
    "\n",
    "\n",
    "    # Create an iterator\n",
    "    iterator = dataset.make_one_shot_iterator()\n",
    "\n",
    "    # Create your tf representation of the iterator\n",
    "    image, label = iterator.get_next()\n",
    "\n",
    "    # Bring your picture back in shape\n",
    "\n",
    "    image = tf.reshape(image, [-1, 27, 23, 1])\n",
    "\n",
    "    # Create a one hot array for your labels\n",
    "    label = tf.one_hot(label, NUM_CLASSES)\n",
    "\n",
    "    return image, label"
   ]
  },
  {
   "cell_type": "code",
   "execution_count": null,
   "metadata": {},
   "outputs": [],
   "source": [
    "image.shape"
   ]
  },
  {
   "cell_type": "code",
   "execution_count": null,
   "metadata": {},
   "outputs": [],
   "source": [
    "q = create_dataset(filepath,BATCH_SIZE=128,SHUFFLE_BUFFER=50000)"
   ]
  },
  {
   "cell_type": "code",
   "execution_count": null,
   "metadata": {},
   "outputs": [],
   "source": [
    "tf.reshape(image, [-1, 23, 27, 1])"
   ]
  },
  {
   "cell_type": "code",
   "execution_count": null,
   "metadata": {},
   "outputs": [],
   "source": []
  }
 ],
 "metadata": {
  "kernelspec": {
   "display_name": "Python 3",
   "language": "python",
   "name": "python3"
  },
  "language_info": {
   "codemirror_mode": {
    "name": "ipython",
    "version": 3
   },
   "file_extension": ".py",
   "mimetype": "text/x-python",
   "name": "python",
   "nbconvert_exporter": "python",
   "pygments_lexer": "ipython3",
   "version": "3.7.3"
  }
 },
 "nbformat": 4,
 "nbformat_minor": 2
}
