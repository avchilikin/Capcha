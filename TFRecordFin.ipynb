{
 "cells": [
  {
   "cell_type": "code",
   "execution_count": 149,
   "metadata": {},
   "outputs": [],
   "source": [
    "from random import shuffle\n",
    "import glob\n",
    "import tensorflow as tf\n",
    "from sklearn.externals import joblib\n",
    "import numpy as np\n",
    "from sklearn import preprocessing\n",
    "import uuid\n",
    "from tensorflow.keras.preprocessing.image import random_shift, random_zoom, random_rotation\n",
    "import sys\n",
    "from os import listdir\n",
    "from os.path import isfile, join\n",
    "import os\n",
    "import matplotlib.pyplot as plt\n",
    "import cv2\n",
    "import keras\n",
    "\n",
    "from keras.callbacks import Callback\n",
    "from keras.callbacks import EarlyStopping, TensorBoard, ReduceLROnPlateau\n",
    "from keras import backend as K\n",
    "from keras import layers\n",
    "from keras.layers import Dense, Conv2D, BatchNormalization, Activation\n",
    "from keras.layers import AveragePooling2D, Input, Flatten, Dropout\n",
    "from tensorflow.keras.preprocessing.image import random_shift, random_zoom, random_rotation\n",
    "\n",
    "import keras\n",
    "\n",
    "from keras.optimizers import Adam\n",
    "from keras.callbacks import ModelCheckpoint, LearningRateScheduler\n",
    "from keras.callbacks import ReduceLROnPlateau\n",
    "from keras.preprocessing.image import ImageDataGenerator\n",
    "from keras.regularizers import l2\n",
    "from keras import backend as K"
   ]
  },
  {
   "cell_type": "code",
   "execution_count": 3,
   "metadata": {},
   "outputs": [],
   "source": [
    "#shuffle the addresses before saving\n",
    "img_parts = r'D:\\imageRecognition\\fecredit\\image parts\\*.jpg'"
   ]
  },
  {
   "cell_type": "code",
   "execution_count": 4,
   "metadata": {},
   "outputs": [],
   "source": [
    "cat_dog_train_path = r'C:\\Users\\odkon\\fecredit\\augmented\\*.jpg'"
   ]
  },
  {
   "cell_type": "code",
   "execution_count": 5,
   "metadata": {},
   "outputs": [],
   "source": [
    "augmented_path = r'C:\\Users\\odkon\\fecredit\\augmented'"
   ]
  },
  {
   "cell_type": "code",
   "execution_count": 289,
   "metadata": {},
   "outputs": [],
   "source": [
    "dir_parts = r'D:\\imageRecognition\\fecredit\\image parts'\n",
    "onlyfiles = [f for f in listdir(dir_parts) if isfile(join(dir_parts, f))]"
   ]
  },
  {
   "cell_type": "code",
   "execution_count": 7,
   "metadata": {},
   "outputs": [],
   "source": [
    "def train_preprocess(image):   \n",
    "\n",
    "    new = random_zoom(\n",
    "        image,\n",
    "        (np.random.uniform(low=0.6, high=1.5), np.random.uniform(low=0.6, high=1.5)),\n",
    "        row_axis=0,\n",
    "        col_axis=1,\n",
    "        channel_axis=2,\n",
    "        fill_mode='nearest',\n",
    "        cval=0.0,\n",
    "        interpolation_order=1\n",
    "    )\n",
    "\n",
    "    new = random_rotation(\n",
    "        new,\n",
    "        50,\n",
    "        row_axis=0,\n",
    "        col_axis=1,\n",
    "        channel_axis=2,\n",
    "        fill_mode='nearest',\n",
    "        cval=0.0,\n",
    "        interpolation_order=1\n",
    "    )\n",
    "\n",
    "    new=random_shift(\n",
    "        new,\n",
    "        0.45,\n",
    "        0.45,\n",
    "        row_axis=0,\n",
    "        col_axis=1,\n",
    "        channel_axis=2,\n",
    "        fill_mode='nearest',\n",
    "        cval=0.0,\n",
    "        interpolation_order=1\n",
    "    )\n",
    "\n",
    "    # Other transformations...\n",
    "    return new"
   ]
  },
  {
   "cell_type": "code",
   "execution_count": 146,
   "metadata": {},
   "outputs": [],
   "source": [
    "file_name=onlyfiles[0]\n",
    "\n",
    "image = cv2.imread(os.path.join(dir_parts,file_name))"
   ]
  },
  {
   "cell_type": "code",
   "execution_count": 150,
   "metadata": {},
   "outputs": [
    {
     "data": {
      "text/plain": [
       "(31, 25, 3)"
      ]
     },
     "execution_count": 150,
     "metadata": {},
     "output_type": "execute_result"
    }
   ],
   "source": [
    "image.shape"
   ]
  },
  {
   "cell_type": "code",
   "execution_count": 686,
   "metadata": {},
   "outputs": [
    {
     "name": "stdout",
     "output_type": "stream",
     "text": [
      "t_0_062f54cd-f91b-4a07-a883-2d46c9328aef.jpg\n",
      "t_0_095b4375-f299-487c-8359-4f266bdbfd91.jpg\n",
      "t_0_1dacca38-d7f8-407d-89cd-47dc32375ac2.jpg\n",
      "t_0_224115a9-18bf-4f9f-95db-7d7aa8b9ffa6.jpg\n",
      "t_0_2bb3b26d-556e-475b-b793-3820452000f3.jpg\n",
      "t_0_36bc6451-5fad-46e7-b27d-2007d681b742.jpg\n",
      "t_0_37807279-b346-47df-ae9b-93cc37e9496d.jpg\n",
      "t_0_3c8bb706-6795-4ea0-bdad-2fea64855b41.jpg\n",
      "t_0_3fb914e6-80c4-4ee5-848e-f93984f34397.jpg\n",
      "t_0_435e492b-af3d-4e29-96cf-a7b7f13e271e.jpg\n",
      "t_0_44494495-414c-40ab-b50e-48d408cc8758.jpg\n",
      "t_0_54f3fdf4-a93a-491b-8e04-19ae02fcd178.jpg\n",
      "t_0_5f616bd0-a44a-4254-bb43-368547770607.jpg\n",
      "t_0_61dad696-5027-4130-9d75-a984b2c7ac3a.jpg\n",
      "t_0_7394d940-b7ea-4071-abd0-e1d1876b90f8.jpg\n",
      "t_0_803747ba-6dfa-4a56-be75-059dc37eaf82.jpg\n",
      "t_0_881268bd-fd90-4c3c-b35f-a32f3fa00391.jpg\n",
      "t_0_8d499749-9b67-4158-9123-762a8bdd98d8.jpg\n",
      "t_0_a9e6ea5c-c493-4b8d-a3b1-924cc44aa3b9.jpg\n",
      "t_0_ae1a4682-16f5-484c-95aa-345de511568f.jpg\n",
      "t_0_b0565a37-27ec-43f1-96f4-e6b0dcea4bda.jpg\n",
      "t_0_b142632b-069e-49f6-aac7-cfb41a1717ce.jpg\n",
      "t_0_b5875acb-6cde-407a-87ee-2be5460b824c.jpg\n",
      "t_0_b62a4b4d-b2d9-4daa-9a92-8d730447eb2d.jpg\n",
      "t_0_bafb1db3-c92a-4f87-879e-5a98702cd71a.jpg\n",
      "t_0_bcffc5d7-77bd-42cf-b281-c1694c8ef163.jpg\n",
      "t_0_bfa24473-4b20-4159-84ad-96bd4bdf495b.jpg\n",
      "t_0_c08b973a-0910-47a4-90ef-bb83ef7c7084.jpg\n",
      "t_0_c45f64c3-e140-417f-a11c-950e15a55dd7.jpg\n",
      "t_0_dac50aff-0e2f-4e96-a0c5-18d51478b253.jpg\n",
      "t_0_e2e58e4c-3c08-4a1c-9b79-8cce46e1d15f.jpg\n",
      "t_0_f1857d50-cd84-4710-b9b1-361851a86b49.jpg\n",
      "t_0_fb46de3d-5bf4-4491-b969-3ae82c92e610.jpg\n",
      "t_1_0474ce9b-6fb3-4b1a-b20b-45eb5994622c.jpg\n",
      "t_1_08c9d6fd-2e6b-483e-914e-e696cc5f3c8a.jpg\n",
      "t_1_0a58a1cf-8fcb-4bb2-b444-70895e8c9cb2.jpg\n",
      "t_1_0dc9610c-9440-44f1-b07c-a989db2a1056.jpg\n",
      "t_1_0e0e815f-5179-4da7-bfe5-ce6bf1d1a664.jpg\n",
      "t_1_10a8243c-b6a7-406f-9527-c3fc159e509e.jpg\n",
      "t_1_1a0a27cb-900e-4fef-9cc9-24e492b6e754.jpg\n",
      "t_1_3a2ac3f1-4fbb-4177-9e87-f82a217f9233.jpg\n",
      "t_1_3e94486c-4edb-4194-8ae5-355925252c3f.jpg\n",
      "t_1_40e4d8f0-3646-4978-91b3-1c6ea96544b7.jpg\n",
      "t_1_4ad8b63c-ed6a-4ba7-a44e-16136bebc4c0.jpg\n",
      "t_1_51fbdf7b-d2f6-44dd-9d1a-2494b78f7179.jpg\n",
      "t_1_59322e6a-ec64-4723-98b2-8d32345d8633.jpg\n",
      "t_1_5b778e89-e59e-4eee-93e4-7102d85d82d9.jpg\n",
      "t_1_6e368f6c-1583-446b-9aca-03525983c0e9.jpg\n",
      "t_1_72351fbc-56a1-4478-a4b4-2871cb3aae33.jpg\n",
      "t_1_74afb71f-1995-46d8-a81d-aaba5e19c4ce.jpg\n",
      "t_1_7d4c3c29-fcbe-4d43-95f2-c399ebdc2cf7.jpg\n",
      "t_1_8668908d-fb83-4065-bc0c-32462a4c3fef.jpg\n",
      "t_1_8e65fd4d-1b03-4d90-8235-a97b3b341362.jpg\n",
      "t_1_92dfb7e1-6d1c-4bfd-ac9e-b20e4b12a43b.jpg\n",
      "t_1_9b842088-e15e-4133-a88c-e28643698cf9.jpg\n",
      "t_1_a452c09d-d235-4334-8a15-1da68144f25a.jpg\n",
      "t_1_adb3d79c-e9b6-4010-9728-23e70fade6db.jpg\n",
      "t_1_bb8e5d3a-32d5-4dab-b388-24350fc0b82a.jpg\n",
      "t_1_bcd381eb-a992-4d0a-a5a6-37e7ac39bea3.jpg\n",
      "t_1_ca52a0e6-2f47-4e2a-a7c5-d8d54a0cb4b0.jpg\n",
      "t_1_ccafda28-6cce-4e65-8d4f-1f9ee0f0b2e4.jpg\n",
      "t_1_d374b0f6-e90e-48be-a235-5418c3ff6eff.jpg\n",
      "t_1_d39ec570-4aad-48b0-9408-aea71c63203d.jpg\n",
      "t_1_d5b5dbec-a371-4763-9652-f5ffb7adebb3.jpg\n",
      "t_1_d6ceb630-9f9f-4b43-bd92-72ecbd66f1f9.jpg\n",
      "t_1_f290c85e-b2b0-47c4-8785-8533bc886f25.jpg\n",
      "t_1_f496cd44-c86c-4fb8-adf8-deb1ad3165ab.jpg\n",
      "t_1_fb54d6e5-dd04-4cfb-9931-de70498f14e5.jpg\n",
      "t_2_0152f0c5-7ffb-495d-b2eb-3484331f3506.jpg\n",
      "t_2_035fbef9-4d6d-4bc9-a517-2a157fd5b150.jpg\n",
      "t_2_12eac9d8-756b-45d7-a9cd-8c8985462c00.jpg\n",
      "t_2_1cf91ec5-ab69-4279-9e41-1f24eefc14d7.jpg\n",
      "t_2_23af9197-df79-483b-836c-7a6b1cd5f6dc.jpg\n",
      "t_2_2d0487d0-4535-42d1-ba10-564c159d4e68.jpg\n",
      "t_2_35558e5a-e61e-4328-abe7-6b4e7e85392a.jpg\n",
      "t_2_355d7584-0f2d-4e30-bdab-96f212150da4.jpg\n",
      "t_2_36bd2ded-a4d9-4636-87a8-00706ef32bc6.jpg\n",
      "t_2_38b70e59-c43d-4244-836d-470e05252868.jpg\n",
      "t_2_3acf0cbd-9cf0-4b5b-8bdb-d2a910ef7073.jpg\n",
      "t_2_45a112b7-7ee7-4a3f-99a7-ad358124d048.jpg\n",
      "t_2_5107061c-411c-4cec-a06a-d13c77e0a5e3.jpg\n",
      "t_2_58cb9922-e38e-4eef-bb76-745fd58f3186.jpg\n",
      "t_2_6124cbdd-46bc-43bf-87bb-4b8952324b97.jpg\n",
      "t_2_7f65c725-48a0-4544-9f74-2bd801130c8e.jpg\n",
      "t_2_817bf0f7-2bca-42bb-88bd-e479f7198771.jpg\n",
      "t_2_8ea72e77-005c-4da3-9bf7-9f5de2e60162.jpg\n",
      "t_2_92e49b8c-6902-4606-8f67-815a4066fdba.jpg\n",
      "t_2_93e8fe9d-c649-4789-a262-46d84da6c236.jpg\n",
      "t_2_952fb73f-d9e7-4461-9e34-b15d63e49ded.jpg\n",
      "t_2_98d11f63-98e5-4615-8e45-13cbb0217f84.jpg\n",
      "t_2_9940bdce-4d7c-4986-9e7d-2d7b48bec054.jpg\n",
      "t_2_a1032b32-70b0-4df4-98e4-b61280293cda.jpg\n",
      "t_2_a401fe71-6c5a-48d8-a9fe-a546870b0715.jpg\n",
      "t_2_a4ab7b22-f7a7-46f7-9a2f-db295898308d.jpg\n",
      "t_2_a875d048-f9ec-47db-a830-2284de087938.jpg\n",
      "t_2_a92596e7-eec0-4da4-ab1b-d1cb7d0d97b9.jpg\n",
      "t_2_b6559838-3cf1-4572-86e3-9137ba9087f7.jpg\n",
      "t_2_bc51d3c9-e6e1-4693-b2f3-3b8707bc7bf8.jpg\n",
      "t_2_bd2157e9-20b8-469d-95e4-cebe33146048.jpg\n",
      "t_2_beb080c6-e6dd-4d2a-b9be-61e45036c317.jpg\n",
      "t_2_c50090b5-4c43-48a6-8bd3-6e0d1e5cdc05.jpg\n",
      "t_2_c7267975-c30b-491f-93ad-cf32b6677275.jpg\n",
      "t_2_c98d256f-ac0a-4078-8ef2-ac63c1d772b9.jpg\n",
      "t_2_cccf2dfc-143a-4537-af6b-db6bc4239b59.jpg\n",
      "t_2_cef87ae7-50ac-4410-a773-09ef9f9b0e24.jpg\n",
      "t_2_d70b25bb-cf16-4499-873b-cd5b09c35285.jpg\n",
      "t_2_d8b92c52-e860-4029-8294-9b4de09109f7.jpg\n",
      "t_2_e04c51ca-5248-4fcd-a578-68c63179bdaf.jpg\n",
      "t_2_e2bdfd6c-aab9-4fd6-bef3-1e028845ae0d.jpg\n",
      "t_2_e5e69abd-93a5-43a3-a9b2-6f4e9dc4f969.jpg\n",
      "t_2_e670b56b-2255-4033-b39d-0b4d9727e110.jpg\n",
      "t_2_fd4431b5-79b7-43ec-8c0b-9252a9a4e708.jpg\n",
      "t_3_09b8eb4d-6d28-471e-8a4a-3f1f610ca6bb.jpg\n",
      "t_3_10f77ef9-26ed-4680-8626-bc7f261a0a2d.jpg\n",
      "t_3_1538dcdf-f6b2-4e6f-a8cd-d9eeb494093b.jpg\n",
      "t_3_18ae0983-e114-4c2a-8877-620b4d626e61.jpg\n",
      "t_3_1f76aa6c-424b-4c8a-bb88-b86bfa9e7039.jpg\n",
      "t_3_20e7bce0-d65a-4589-b55a-08f4a55675d0.jpg\n",
      "t_3_338327d6-5c21-4047-8be5-9f10ad6f67bf.jpg\n",
      "t_3_3c746f8a-a6e9-4578-a52b-e264e9b188be.jpg\n",
      "t_3_436c8210-60a9-45d0-8bf9-8111cfe5e70f.jpg\n",
      "t_3_451318ff-a29c-4388-ae77-d74d1423a064.jpg\n",
      "t_3_4e41c03d-090a-429e-bcff-0341b1134d25.jpg\n",
      "t_3_4f1a709d-4135-48ca-a627-f909d46539dd.jpg\n",
      "t_3_50c9467c-4cca-4a74-8fe9-a00e57caa2cb.jpg\n",
      "t_3_53b43c57-3edf-489a-82bf-045df09763af.jpg\n",
      "t_3_5ae5d6e5-7e77-4248-a301-68c6f160ebf5.jpg\n",
      "t_3_5b37fc59-7c51-49a0-a877-92c46641b2cc.jpg\n",
      "t_3_68f658ea-120c-47c5-87f6-3a1dc61496af.jpg\n",
      "t_3_6ba50939-81e4-44d0-862d-6edd91fafa7c.jpg\n",
      "t_3_6bd53769-a6cf-41ee-a0c5-3e0226f5499a.jpg\n",
      "t_3_6c45c819-dc54-4293-b0d5-fc7ceda5c05e.jpg\n",
      "t_3_724c5425-0042-4817-ae1b-eff54d44dee0.jpg\n",
      "t_3_783c4d35-df27-4bc0-a2bc-826f195237ba.jpg\n",
      "t_3_7dd05d32-4345-4b55-a147-2f7e7e90c759.jpg\n",
      "t_3_7e10baa4-1808-45dd-8ab8-f1894810b773.jpg\n",
      "t_3_897036d5-2b0e-4407-8caf-78ca1418bb91.jpg\n",
      "t_3_8bc5c759-da08-4dff-87a8-8cb4c606ecba.jpg\n",
      "t_3_9454de56-b9af-4bd1-a948-47fb9e48679f.jpg\n",
      "t_3_970639e7-58c7-4be7-aaf2-5ab6d992f0b0.jpg\n",
      "t_3_99751c7c-a463-4041-8c89-3c314173e4a0.jpg\n",
      "t_3_9b820c21-eaf9-4b30-bfdc-8fd055fe9a96.jpg\n",
      "t_3_ac33dba7-2d5f-4f4b-ba88-e763aeb5563a.jpg\n",
      "t_3_af450c03-d5f9-44fd-a6e7-484edceac06a.jpg\n",
      "t_3_b5752daa-13f5-4e86-8f52-f5bbe01732f6.jpg\n",
      "t_3_c9d025a6-7754-4ea9-879a-db48015a293d.jpg\n",
      "t_3_dc648b17-71cd-418b-b800-b5a0c9bf5b42.jpg\n",
      "t_3_ddaa8226-66db-4eb2-9777-aa030a0c17c7.jpg\n",
      "t_3_e1cfca04-ea1c-4476-8e7c-cb49c22ffd62.jpg\n",
      "t_3_e2a7b1d3-384b-4e6e-8257-d0349c7cd1cb.jpg\n",
      "t_3_e6d91eb2-2355-48b5-8657-e8c831be2763.jpg\n",
      "t_3_ea914f35-c7f3-4eaf-8cd1-cbb2c1c8d315.jpg\n",
      "t_3_eec3dbe5-9769-4dd1-b317-4afa0623097f.jpg\n",
      "t_3_f620099e-12f2-4c8b-b514-f800d982c872.jpg\n",
      "t_3_f972f074-c192-4c62-b78e-80706bb22852.jpg\n",
      "t_4_0b9e10ae-b239-4bc8-91d4-493e914600f5.jpg\n",
      "t_4_15525f02-c636-4894-8c08-2d84dc142d6e.jpg\n",
      "t_4_168fa28f-206a-4927-8c7b-f464f1cdc7f5.jpg\n",
      "t_4_1c485a41-34f8-47e8-ae27-bd2d474ad418.jpg\n",
      "t_4_24948bc6-d6c3-4311-8395-5577bdab0ed1.jpg\n",
      "t_4_2a29865d-7789-452e-accb-49d80ded9307.jpg\n",
      "t_4_2a9b4eaf-abab-47c7-9103-1a8ba7320b03.jpg\n",
      "t_4_2f4979ca-b1e0-41a5-b451-b59efca51fb0.jpg\n",
      "t_4_34947fe9-f503-45d9-81ed-2caaaf792fef.jpg\n",
      "t_4_39f15ce4-4689-4d47-b36c-e240d76259da.jpg\n",
      "t_4_3eb44c1a-82ec-4ff4-aba8-6fcf9c73520d.jpg\n",
      "t_4_3f9abd07-f379-44d3-a004-9f67def787e7.jpg\n",
      "t_4_58f23716-39c7-4d36-bd90-660f056a0e3a.jpg\n",
      "t_4_5c94b34d-8555-4223-92f2-9c1e77c748d2.jpg\n",
      "t_4_6920c66e-f153-4685-a6f9-f8e94339c492.jpg\n",
      "t_4_6e27e3dc-a4e2-4f34-9223-6d062159f957.jpg\n",
      "t_4_70388f15-b121-4b59-b705-80dd6b527236.jpg\n",
      "t_4_71592acb-999e-484f-9813-412f9ff153c5.jpg\n",
      "t_4_760ce541-560f-45c1-bb42-56cf7560cf09.jpg\n",
      "t_4_77ba41f4-eacc-48e7-8fa4-5b0c7a62c225.jpg\n",
      "t_4_7b9cd270-e345-49a2-a7b3-25f1ecda5148.jpg\n",
      "t_4_86732101-404e-474a-aa81-09e057428473.jpg\n",
      "t_4_930cbef8-d9f8-404d-a762-661f8f15761a.jpg\n",
      "t_4_9c5ce904-8552-4b27-8039-0f42f9438366.jpg\n",
      "t_4_a00f21ca-a604-4eff-b21e-ffdd8b4eb334.jpg\n",
      "t_4_a3cd6284-3285-4968-988d-554becafd576.jpg\n",
      "t_4_a8eb5d02-b261-4761-94f6-3fc11920cccc.jpg\n",
      "t_4_b0ad5ccc-4501-4c33-a58a-d1a0a4d519a5.jpg\n"
     ]
    },
    {
     "name": "stdout",
     "output_type": "stream",
     "text": [
      "t_4_b5dcbd30-4434-4e46-a2cf-673720b5cc41.jpg\n",
      "t_4_bbf4cf79-97b0-42ac-97cb-2415198de3df.jpg\n",
      "t_4_bc13c681-44ac-4026-ad31-234954cd7b5a.jpg\n",
      "t_4_c136e8de-dcd8-4f6f-9504-6d208a689f45.jpg\n",
      "t_4_d226bc0a-8028-4db5-9d1a-71bc31e5b457.jpg\n",
      "t_4_d3fceeee-df15-4fd6-b8e8-6ffd68a9f715.jpg\n",
      "t_4_d64911af-aecd-47b7-b240-4303a108e897.jpg\n",
      "t_4_e09b2100-455b-4947-97a1-9209d5b39001.jpg\n",
      "t_4_e1fbd0e0-55b2-4824-a2ff-a4dbf6dc1031.jpg\n",
      "t_4_e68f5b6f-dd2d-43a2-9995-9fb897c76973.jpg\n",
      "t_4_ed4da539-173b-47ae-ab5b-2e6e6d47309a.jpg\n",
      "t_4_eebeb7a6-52d0-4872-bfec-7e5359db1cf6.jpg\n",
      "t_4_f0a12760-78c2-4fbe-a722-b2371efa16ef.jpg\n",
      "t_4_f81cc14b-f4b2-4edd-be81-d74bd585f802.jpg\n",
      "t_4_f9a186af-83ac-4578-8433-3145717ed4f2.jpg\n",
      "t_5_0a39803b-8aec-4295-881f-e7dc3ba3c006.jpg\n",
      "t_5_0d7f0f72-8b50-48cc-a098-6c01d5c2b7c7.jpg\n",
      "t_5_0e8452fc-1006-4b69-ba43-6ae54598ea54.jpg\n",
      "t_5_0ff03f4c-d4e5-4110-ba49-b62b5593c58d.jpg\n",
      "t_5_11122aeb-902e-419f-8b4e-92ed6d040646.jpg\n",
      "t_5_1394b1f8-57fc-4aa7-8312-32e5860972c7.jpg\n",
      "t_5_1802e240-3419-4d5f-beb0-a3b56f56e9aa.jpg\n",
      "t_5_2813f35e-94d3-4950-9389-719cc465ac2c.jpg\n",
      "t_5_3187a92f-dbc1-4b48-b68c-82a527d75743.jpg\n",
      "t_5_3b51c527-a0b3-4924-9931-20b11cc3433b.jpg\n",
      "t_5_3dd77592-17ed-4440-9adb-06391aeb1fb2.jpg\n",
      "t_5_436d5d5b-4c16-45ad-a957-63f5d7c205e7.jpg\n",
      "t_5_48249d0e-cd60-4463-bb79-e42a1918891c.jpg\n",
      "t_5_562229ea-ce1a-4a81-9ddf-7e3d6464861d.jpg\n",
      "t_5_5acf42ca-0f8b-4dbc-8e3d-257ef4f4417b.jpg\n",
      "t_5_5c461c0c-4760-4656-ade3-bf8564876c34.jpg\n",
      "t_5_5fae565f-8432-4cd6-a19e-df72569c6a31.jpg\n",
      "t_5_61904e44-a525-4e81-a15d-8b378bc2f99e.jpg\n",
      "t_5_61eb6335-c6a0-40f1-9765-6c9c560819c6.jpg\n",
      "t_5_66f95c29-4683-42e5-a7dd-c0555c2ada7e.jpg\n",
      "t_5_6d742551-2c15-4a71-b3d6-1a3bfb7efe91.jpg\n",
      "t_5_76be7327-d400-4b27-9637-4f2800e4f59a.jpg\n",
      "t_5_7b92e143-717b-42d7-8ac3-8197b2e7266f.jpg\n",
      "t_5_8203184a-7e49-40d0-bc98-2e71231f9907.jpg\n",
      "t_5_864b70d5-e8dc-4f33-b40d-ebf3bc199141.jpg\n",
      "t_5_945e130a-d13c-4867-ab60-4d8e66ca2f1d.jpg\n",
      "t_5_96568e4a-24a7-4ac8-adcd-90ffb870f189.jpg\n",
      "t_5_9b75e321-8f81-423a-b741-1edbdcc49723.jpg\n",
      "t_5_9cb72b1e-b148-4e43-bbce-5ba7a23be082.jpg\n",
      "t_5_9ceae100-047a-4e38-9755-16f529feb489.jpg\n",
      "t_5_9eb99dc2-42e8-4d7c-bb82-8f6475fd8a6e.jpg\n",
      "t_5_a31c2ddd-b59f-414d-a727-d968ad398bdf.jpg\n",
      "t_5_a3e18e47-9cce-407f-889d-769cd9705b20.jpg\n",
      "t_5_a50db6f9-b18a-4e4c-9c36-ac19e51a54d9.jpg\n",
      "t_5_a7f4ac81-cfa7-4336-ad81-2476735fe428.jpg\n",
      "t_5_a91725db-c6fe-4ded-95e4-c513f88ef931.jpg\n",
      "t_5_b10d0ab9-b2db-4565-b44e-a36340d781b0.jpg\n",
      "t_5_b5b0d2e1-5d4a-47d7-8ba2-b85b4d40ea88.jpg\n",
      "t_5_b6e7d7f4-8407-4f05-b8b8-50a6ff8be9b6.jpg\n",
      "t_5_c2a6f08c-f4aa-4459-a094-c7b7569e1b3d.jpg\n",
      "t_5_d41649c5-6a24-448b-aedf-dce54ae5e388.jpg\n",
      "t_5_d4510777-8d76-4cc9-ba1f-d024faba6bcb.jpg\n",
      "t_5_d9bb524c-e202-4e29-a66f-3a4ecaa607aa.jpg\n",
      "t_5_e2e1d973-2804-4cdf-9b7c-5ed3fb2af9f2.jpg\n",
      "t_5_e5cfefde-f983-44c0-80d2-7d654ca2ad72.jpg\n",
      "t_5_e6160349-270b-4bd9-98d8-0e89aa58947b.jpg\n",
      "t_5_ebdb4dc0-26f8-4a1e-a43c-bf17c9c4a198.jpg\n",
      "t_5_ec758927-db16-411b-9856-904beb4a9906.jpg\n",
      "t_5_eec911a9-ba6e-4411-b94f-7f86aecc5e3f.jpg\n",
      "t_5_f450048a-b480-498d-bcf2-3d7188678f65.jpg\n",
      "t_5_fccb3db0-f7d7-4a3d-a2c8-2219f452868b.jpg\n",
      "t_6_1572441d-86a5-438f-bcb4-3eb388c567e9.jpg\n",
      "t_6_2544361c-65c8-449b-8562-5fb1bc1e8e45.jpg\n",
      "t_6_400ca69b-6819-4b80-98c7-96086ddb26f5.jpg\n",
      "t_6_51bd9be4-bd47-482d-9964-d434692926fd.jpg\n",
      "t_6_5280ab02-cae2-4e56-8b96-0a8c91075090.jpg\n",
      "t_6_555273e8-08f6-4439-9d77-6ebd472209f9.jpg\n",
      "t_6_5845a71d-5544-4bdd-a7ce-a0f61697e8ed.jpg\n",
      "t_6_5ae99c21-1865-4c04-a477-96f9068d1207.jpg\n",
      "t_6_5d486c53-7176-4ba4-8a22-a6ee175cefd3.jpg\n",
      "t_6_5ec1f77c-bc17-4eac-8e10-13d2a6759749.jpg\n",
      "t_6_5ff78f24-a278-4093-8b39-a8098a570f79.jpg\n",
      "t_6_627c2b01-95b6-4427-b680-56a461a28616.jpg\n",
      "t_6_62d60240-4167-4f12-8f62-86595105342e.jpg\n",
      "t_6_67cb0dff-19ac-4a21-a7d5-5d308fa81e0c.jpg\n",
      "t_6_7013234e-62e6-42b9-a75c-fecbc87bed38.jpg\n",
      "t_6_75ba113e-9621-4cc6-ae31-5cf8912bd842.jpg\n",
      "t_6_7aa4023a-1468-4664-b5a8-529b607bd85d.jpg\n",
      "t_6_7ce73a7f-05ba-4ba2-9782-13502a3475cc.jpg\n",
      "t_6_8ce1334b-cfb3-4b4a-8890-c1865df11119.jpg\n",
      "t_6_9381582c-473a-40f1-8f70-d7d0d8e29171.jpg\n",
      "t_6_9399612a-d8d2-4b3e-a5a8-11fe9fa4fe3c.jpg\n",
      "t_6_93b8e178-ae4b-4b9a-8a30-4cdfab4d01f0.jpg\n",
      "t_6_9f202473-cd0a-4545-a9ca-bdf0918b7dea.jpg\n",
      "t_6_a0c35db2-e2b7-42be-bb53-9ba4eb46cf92.jpg\n",
      "t_6_a35b54e1-c750-46a0-99a2-a3e138d2b047.jpg\n",
      "t_6_a628827d-4941-4083-ab7b-501b4b811f26.jpg\n",
      "t_6_b1a2387a-54df-429a-b281-a79ef9d2b0f3.jpg\n",
      "t_6_b6c85781-bea6-4332-8dc9-87a928ecefd2.jpg\n",
      "t_6_bbb216ea-7abe-4a34-bcfc-9c2d22ce8e8f.jpg\n",
      "t_6_c1fff05d-58e4-4319-9ec6-67ba6573538a.jpg\n",
      "t_6_ca221503-c298-4d21-b07d-53a865d85846.jpg\n",
      "t_6_dfd26d9a-33b9-4ba7-ac3c-a7e38b403c10.jpg\n",
      "t_6_e618b08a-3f93-4e06-8718-f36e0c683ee5.jpg\n",
      "t_6_ec6e21d3-3e07-4706-af4c-69d3a5956415.jpg\n",
      "t_6_ef892d4b-790d-4fcb-b429-fd1079e3726a.jpg\n",
      "t_6_fa7c6a77-474b-450b-abf2-06adf361cfbe.jpg\n",
      "t_6_fe3c9b59-7b06-4973-980e-3c20586be2d9.jpg\n",
      "t_7_0150094f-ac9e-46c3-ba42-f29e573a23db.jpg\n",
      "t_7_0665a88f-abdd-496a-a55a-e26b5f429547.jpg\n",
      "t_7_08beb894-a732-4870-a54d-a0fd883bc4e6.jpg\n",
      "t_7_0a4eb017-f447-490a-b4db-ac1c67adfdf6.jpg\n",
      "t_7_0d3d3ab0-b74f-47bd-8508-4c75e0bfa32f.jpg\n",
      "t_7_0ddd0416-4b66-4a70-a219-b00296087e95.jpg\n",
      "t_7_122c1912-5105-4854-b893-94ceff8c7f40.jpg\n",
      "t_7_2ee69f3a-0f30-44bb-a9d4-d60fb7518ca4.jpg\n",
      "t_7_3ffad6d3-247a-4e52-8972-257f12fa4fec.jpg\n",
      "t_7_4ee77349-65a4-42bf-a501-9b123eb17874.jpg\n",
      "t_7_4f577eb7-5478-4a2d-915c-290b12c581c4.jpg\n",
      "t_7_54a45bd3-cddf-4a70-bf26-825031d00abc.jpg\n",
      "t_7_59194afa-cec0-4f8e-a6e5-f2964e404352.jpg\n",
      "t_7_5b418955-1fa5-492b-a495-a15d3372a65b.jpg\n",
      "t_7_617f285e-ed61-49a4-811e-10d9e34cca54.jpg\n",
      "t_7_61900b6a-5536-424d-9851-b58b263b3ab0.jpg\n",
      "t_7_811fc7ad-524e-440c-a658-24183c81d1d7.jpg\n",
      "t_7_867fc194-0a34-46a9-9ba6-9e9607ecbd5b.jpg\n",
      "t_7_92d732bc-9343-4acd-9864-ddb046a12933.jpg\n",
      "t_7_93d6684f-8d9a-40a0-98d8-146f587c6dc8.jpg\n",
      "t_7_9aeb2e50-207a-4162-b3f2-678305d66767.jpg\n",
      "t_7_ca653184-7358-442e-942f-6972e06e5399.jpg\n",
      "t_7_d95dac49-3ed4-4c45-904f-e6d758f3da89.jpg\n",
      "t_7_da151cce-24d5-43b1-94fc-73e39b96b997.jpg\n",
      "t_7_df2426fe-4da1-4552-ae56-62faee832370.jpg\n",
      "t_7_e2309903-e6dc-4833-a86a-5f85c063747f.jpg\n",
      "t_7_e45d7858-a82a-49a1-8b6c-7d13f71c9427.jpg\n",
      "t_7_eb04bb55-95cc-47ee-9a6d-997edca76ea5.jpg\n",
      "t_7_ec6c0656-6761-4449-b210-fba604134607.jpg\n",
      "t_7_f6d23360-f8ba-4709-ae78-a0b6be4af841.jpg\n",
      "t_8_02a891b9-7f61-4fd7-b819-3b1c7289ad75.jpg\n",
      "t_8_04b54add-ea2d-4251-992d-dafb0b6800eb.jpg\n",
      "t_8_0d52b460-5e46-4de6-a8d3-751a84ff275e.jpg\n",
      "t_8_0f57fb42-1464-439c-af0c-4e3576ebade7.jpg\n",
      "t_8_12e6e331-cf8f-4c6a-84e3-7db8c6911be3.jpg\n",
      "t_8_151f62a7-e207-413e-adcb-7b82de7027de.jpg\n",
      "t_8_18ca98a6-c2c7-439f-96fb-52e01fed4e51.jpg\n",
      "t_8_1aeca170-df70-4118-afae-c8e189e24dda.jpg\n",
      "t_8_24a5ab86-a97e-47ba-bb0a-a842662e6dc2.jpg\n",
      "t_8_29c49d00-0b60-414b-887f-fef412860e05.jpg\n",
      "t_8_2a4985b7-3dae-4744-a2ba-459146f6570b.jpg\n",
      "t_8_2af99704-6ac6-4787-88a4-31b5d678e2eb.jpg\n",
      "t_8_3dfb1273-ede0-4608-8252-0023e2da045c.jpg\n",
      "t_8_4bbcd4fd-9894-4b82-9e0c-8560c0a737fb.jpg\n",
      "t_8_5191991a-4d0d-421f-9410-715b66ec497a.jpg\n",
      "t_8_55cd90c5-8bb5-4e85-b278-f3db181ae178.jpg\n",
      "t_8_58a57772-4ec6-4af2-b442-289586c48427.jpg\n",
      "t_8_5997118d-2240-4a7d-bc11-880dd7641557.jpg\n",
      "t_8_5aa8a9ae-0c5d-463e-ae3a-74cff370c000.jpg\n",
      "t_8_5b0868c2-b7b6-4aa5-94a9-363b0a4d412b.jpg\n",
      "t_8_5ff09bb8-1d3b-4800-b248-b53cdb5a1503.jpg\n",
      "t_8_69d65beb-a873-4f19-86cf-1f7e547cbfb5.jpg\n",
      "t_8_787ec589-3db4-4238-a939-dfea85d70630.jpg\n",
      "t_8_792ab25d-dd1e-468d-b8f2-cb15520d40b6.jpg\n",
      "t_8_82230f6c-294f-46bb-9568-7e3434e541cf.jpg\n",
      "t_8_86d06304-ba57-4865-859b-3b9035dbd4f7.jpg\n",
      "t_8_87010af8-2b9f-49f5-8a33-1fe7834a101c.jpg\n",
      "t_8_a4493bd5-2a29-4fa4-813b-e120feb1a636.jpg\n",
      "t_8_a6dcdaf2-9c06-4778-941a-2722379b4b4c.jpg\n",
      "t_8_aaba1d9f-1537-4cdf-999d-7a8653f8f857.jpg\n",
      "t_8_b10a1976-4d59-4f6d-9a35-40e013b5fe13.jpg\n",
      "t_8_bbcabe35-8448-46a9-8733-4eb211fe80d6.jpg\n",
      "t_8_c4a8dc86-f424-456e-be22-536685c20bb1.jpg\n",
      "t_8_cb21ab12-c496-410b-8993-cfabaa99a0f8.jpg\n",
      "t_8_d3cec5e1-0227-4ddd-b6d8-8d5db63ee57e.jpg\n",
      "t_8_d44f1686-bb99-46b4-a904-a6d27e164810.jpg\n",
      "t_8_d5bc39f9-1f6e-48c1-8a12-aa296964746d.jpg\n",
      "t_8_db0288b5-e50b-48c6-9de2-0f2052883b6f.jpg\n",
      "t_8_dd3f5004-9a0e-4699-8451-195ae66905c2.jpg\n",
      "t_8_de4bea73-2317-41e8-ad49-dd16f63916e3.jpg\n",
      "t_8_ec421828-2dc6-4928-8cfd-f1dc3ddcceac.jpg\n",
      "t_8_f2cf30b9-082a-4473-9001-dd654d761cff.jpg\n",
      "t_8_f781eb99-40f8-4667-8a08-9aecdd5cd7d0.jpg\n",
      "t_9_085b30b1-f2f5-4da4-a444-e97ad55014bc.jpg\n",
      "t_9_0f993241-df78-460c-93ac-19968a89e056.jpg\n",
      "t_9_1174a475-afeb-4050-bbab-369222850f0a.jpg\n",
      "t_9_12033e67-cd94-47f5-a029-a3e4c1f8716e.jpg\n",
      "t_9_15dce1c6-783a-4184-a15e-38d074105eca.jpg\n",
      "t_9_17637257-799f-4d78-838f-90bd4e8f1476.jpg\n",
      "t_9_1c922459-5459-4768-a28f-ff3dcd48cede.jpg\n"
     ]
    },
    {
     "name": "stdout",
     "output_type": "stream",
     "text": [
      "t_9_214c5701-a44c-40f2-b21e-189fb17ab4a1.jpg\n",
      "t_9_2395c913-e785-4d02-997d-88f7d2743abc.jpg\n",
      "t_9_25e216a7-a40a-4f6d-871d-09c2e942904b.jpg\n",
      "t_9_2783d4b9-2541-4d24-be15-e68cbcc4a27b.jpg\n",
      "t_9_27c2faaf-aa96-473a-93b0-f34cd41b849e.jpg\n",
      "t_9_2ad4ca67-2416-4346-8ce5-19e2e62facf7.jpg\n",
      "t_9_323c638e-c985-4a02-83e6-6824efceff55.jpg\n",
      "t_9_362f0f75-c170-4b9e-afd8-a78b874d6986.jpg\n",
      "t_9_371ce5e8-90fc-473c-84c2-ecebbe9c0ab4.jpg\n",
      "t_9_3fab492d-1307-4079-a2d0-7bb35d7575aa.jpg\n",
      "t_9_41e025d7-447d-4eef-a6a4-e970a0a45d43.jpg\n",
      "t_9_430d282d-62ee-44ff-962a-773eecf2a034.jpg\n",
      "t_9_441425f3-b51c-48b3-bd9d-3266737a4be2.jpg\n",
      "t_9_4bd653a3-baa1-4d85-8e3a-6367ec565488.jpg\n",
      "t_9_53442172-6d77-4a78-a74d-154433729617.jpg\n",
      "t_9_537b20b8-a085-492b-bf5d-d2160a53a8ce.jpg\n",
      "t_9_66c2bab7-c671-45e3-8cf7-6d91c26a6467.jpg\n",
      "t_9_67228a09-6420-4306-b4d7-63d41c7cfd0e.jpg\n",
      "t_9_750a961e-4e23-4916-b1e7-ec8189ef3607.jpg\n",
      "t_9_7d6ee00e-c304-40ae-8cc8-5b9bd4d8c70b.jpg\n",
      "t_9_8c9753a6-c1ec-49ba-8273-8910c5745790.jpg\n",
      "t_9_8e2ec1a2-9c77-4e7d-9fa3-b3916c4dbfcf.jpg\n",
      "t_9_8e5bd3cb-448e-47ba-8a4f-310fc8f2a518.jpg\n",
      "t_9_ae1ac8d0-41c7-4346-a5eb-720196b6fc16.jpg\n",
      "t_9_b750eb35-5c49-40d1-8a15-e1a6190a4eea.jpg\n",
      "t_9_b92f2584-0bb3-4558-a785-6713339f7cd9.jpg\n",
      "t_9_bf3e5ed4-19b6-43b6-80bc-9bfca9e234cb.jpg\n",
      "t_9_c02b6697-fcb6-4cc4-9359-44a48a0f455e.jpg\n",
      "t_9_c1276f1b-3888-480c-969b-a90484f56925.jpg\n",
      "t_9_d0af6b4a-0000-4693-84f4-d22e92ee1ee5.jpg\n",
      "t_9_d1833f95-d7f0-46f4-b6ac-607e027175e9.jpg\n",
      "t_9_d2ebfa02-1556-4475-8e99-0a4523aa02bf.jpg\n",
      "t_9_d6e552b0-25a2-4e9e-85ce-f63e780b652e.jpg\n",
      "t_9_df85eed3-d1cf-4f55-b439-c4127647ca0c.jpg\n",
      "t_9_e7e57ead-2a2a-455c-8836-a2e4d2f7a331.jpg\n",
      "t_9_e94e6b64-7605-47a8-a4e1-e4acb8e5faeb.jpg\n",
      "t_A_079f29b7-7039-4e3a-b3dc-b59e6ce97ac8.jpg\n",
      "t_A_0b1b8d1a-aa90-4cf5-baed-6fc1494ee41c.jpg\n",
      "t_A_176d00b3-bc6e-4b11-abf2-18c42495df24.jpg\n",
      "t_A_1a145edc-32db-4cfa-8cc9-528e548660c4.jpg\n",
      "t_A_1d69f66d-16a4-4daa-aebe-82be8a2f328e.jpg\n",
      "t_A_1f5fe05a-6d8f-4b3f-bb17-ecd416756d6c.jpg\n",
      "t_A_25781fa0-93e8-4910-a910-d984985f7e23.jpg\n",
      "t_A_26bf05a3-d893-4930-b79e-62405e14e36d.jpg\n",
      "t_A_2a51e60e-e7bd-4e7c-bfda-6bef1334ddea.jpg\n",
      "t_A_2b2bae50-28d3-4d13-9586-87b8ce646436.jpg\n",
      "t_A_2cad9a37-13e7-43b3-ad7d-8b38224219df.jpg\n",
      "t_A_38f5819d-da48-4d4c-833f-00be7e15a68f.jpg\n",
      "t_A_3bcc4e09-ea8f-45e4-b4c5-3ce8552550d0.jpg\n",
      "t_A_3c65bff7-bd48-49d2-9aa6-072bfc98ea2a.jpg\n",
      "t_A_4e0ad50d-4528-4f82-aaed-84cde60b4cd1.jpg\n",
      "t_A_4e6a49e8-de11-4192-80b1-e8f123544286.jpg\n",
      "t_A_50d3febf-711a-45e3-8ab6-85f80fb7ea29.jpg\n",
      "t_A_51b9abb0-b5b8-4739-bfdb-3e19b62b5e2d.jpg\n",
      "t_A_51caca12-1e0d-426d-941b-07940aa5e836.jpg\n",
      "t_A_521d9b96-f227-402a-838c-c7baeb6f7080.jpg\n",
      "t_A_5d91b57e-aa1d-4486-9743-9552428f85a4.jpg\n",
      "t_A_6838cb84-2358-4a65-abc6-28533c177c43.jpg\n",
      "t_A_68bfa690-4c52-45e1-8dd3-1910e464248d.jpg\n",
      "t_A_69819236-7eff-4873-8b15-5276148a493d.jpg\n",
      "t_A_6b74cb6f-d4e2-40b6-a76e-c2ecfd7556a3.jpg\n",
      "t_A_6d92c01a-01e3-4e1f-81a3-cbe826e30291.jpg\n",
      "t_A_70585396-63b2-42f8-8aad-7e9b3d62ba20.jpg\n",
      "t_A_7989502e-dd0c-45db-aeba-8c428e28fc60.jpg\n",
      "t_A_7b5b25ff-a1e2-4b26-a9fd-7d2cf9749ebd.jpg\n",
      "t_A_8e9281ee-65e4-4dc8-af3c-c78649c0e4da.jpg\n",
      "t_A_8f14a472-b756-40de-aab3-3c3a61b36be6.jpg\n",
      "t_A_92fade3e-62d1-42a0-90b9-b7224320be0a.jpg\n",
      "t_A_ab95c252-6352-4f9d-acb9-ac89de44e1b2.jpg\n",
      "t_A_ad25cd31-3f40-4756-b121-37cbe5acfd3e.jpg\n",
      "t_A_add11bfe-f517-4259-a45e-4d373353c01a.jpg\n",
      "t_A_bae458cc-fa74-46cc-adea-d8f0cc037063.jpg\n",
      "t_A_c0a11b7c-0089-44f2-b953-7a0ae9bcef83.jpg\n",
      "t_A_c3d539a5-3fef-46ed-bd9a-f93712413a78.jpg\n",
      "t_A_cca666b1-3057-49c9-8ffc-40428edba9f5.jpg\n",
      "t_A_cd24aaee-fe68-4fd7-be92-a995238f8ae1.jpg\n",
      "t_A_cea7d289-3f2e-4a4e-a2fd-fff62954d952.jpg\n",
      "t_A_d1f52776-47a7-4a31-ac7c-e74c5b55ebde.jpg\n",
      "t_A_d8e2980c-5025-4fd2-8cac-34267e39bb64.jpg\n",
      "t_A_f0392d86-9ce6-454e-a4b2-05e13ad979de.jpg\n",
      "t_A_f7035976-8eb4-4bc0-b0b0-b25c18fbeed5.jpg\n",
      "t_A_fee36254-ffe2-4281-bd3c-7ad5a73454fb.jpg\n",
      "t_B_013ab564-0bec-4b06-abb3-05fb114ba440.jpg\n",
      "t_B_0543f574-a2f6-45d6-9a3c-4f111d500f99.jpg\n",
      "t_B_098238d4-071b-459f-92ba-4763b2383ea8.jpg\n",
      "t_B_134c3633-f3fe-419d-8331-562f8954e29f.jpg\n",
      "t_B_1eebcfc2-daff-4eec-8f5a-faa387052835.jpg\n",
      "t_B_205864d1-8847-453b-8088-c8995f8ceda9.jpg\n",
      "t_B_256e24b2-d5e1-4809-8a32-a8bc48d274b4.jpg\n",
      "t_B_2ccb899b-ac5a-485f-a180-06b89b2caa6c.jpg\n",
      "t_B_2e851f3f-308d-4a72-87cc-475fb0944dde.jpg\n",
      "t_B_3bf6bd02-eea2-4941-85b8-cb23ae4c4d5e.jpg\n",
      "t_B_3f2c2cec-c0e4-4c84-aa11-8d2c3db1d8b3.jpg\n",
      "t_B_5127ada2-5c68-47b3-96ac-b50bc93b536e.jpg\n",
      "t_B_5f182e90-0f77-42ec-b067-a340d3c3c4b8.jpg\n",
      "t_B_61847411-640e-4fc0-b192-691b3b34ea4f.jpg\n",
      "t_B_681f726e-d8eb-479d-a7ab-b07e667946af.jpg\n",
      "t_B_6ff79c79-5089-47e8-bad2-e48df91e81b5.jpg\n",
      "t_B_762c408a-3244-467b-a339-18ca8f58453b.jpg\n",
      "t_B_794e275f-717a-45e5-87d2-6858d69c3f50.jpg\n",
      "t_B_850990bf-ff77-4d82-9aca-edf7cc89ddd9.jpg\n",
      "t_B_88ca20b4-7965-41aa-b074-f19bd78b2416.jpg\n",
      "t_B_8ea4e0fc-4011-4602-a6cc-a91a30c022e9.jpg\n",
      "t_B_8ea6788a-b230-46de-b70c-1c4566d5d5b3.jpg\n",
      "t_B_8ff848e1-5596-4648-9644-ad3f99740b7b.jpg\n",
      "t_B_9e19963f-15fc-454c-84e5-27dfd30c7fbd.jpg\n",
      "t_B_a53c2e6a-6841-4f53-872f-f3def2bb51f2.jpg\n",
      "t_B_a8377ed8-6cf7-4130-8a79-41ee6071e470.jpg\n",
      "t_B_ae2bbd33-d500-4d6d-b0a0-75c0b1a44dc2.jpg\n",
      "t_B_b2d97a6c-ed99-4489-b9ac-0222a1a94927.jpg\n",
      "t_B_b6ba1250-fbe8-4608-891e-ba339f8c4051.jpg\n",
      "t_B_b9f8d21e-be0e-43d9-8085-9eb443eff372.jpg\n",
      "t_B_ba03cf53-1c6f-495f-aedf-a009f6f8a86c.jpg\n",
      "t_B_bffed50b-9554-4636-a274-f8742737b4a2.jpg\n",
      "t_B_c0286821-a034-4eac-9459-a5d5bd410981.jpg\n",
      "t_B_c22d9d4c-efc7-4ce5-8ebb-49ee1469dd61.jpg\n",
      "t_B_c3515a6a-5153-4cbe-a0c7-90277fb2a3da.jpg\n",
      "t_B_d5c61806-2901-4275-a1b8-1dce32661211.jpg\n",
      "t_B_de2a4ad1-ebd5-48f8-a133-e0bd406a19ee.jpg\n",
      "t_B_e1ab29d6-e7ea-4659-a5eb-6ecf6a158c43.jpg\n",
      "t_B_f890745b-b469-420c-b0ba-cfcc23802f13.jpg\n",
      "t_B_fc1b6e30-0e53-434c-9c2a-64462cf5d71a.jpg\n",
      "t_B_fc776e42-0d90-41b2-be7b-27c2e21e236f.jpg\n",
      "t_C_11eb07b3-4627-4b79-aa97-0dcff3a7458e.jpg\n",
      "t_C_17e18822-2289-49dd-9982-391d8879a84e.jpg\n",
      "t_C_18191b5a-8f84-445d-855f-66f752e86a4d.jpg\n",
      "t_C_194875a2-b5d7-420d-830f-50e596414612.jpg\n",
      "t_C_2a80c515-31b8-4c8f-8ca1-0714f82bd3e1.jpg\n",
      "t_C_304097f3-9c36-4c1c-9367-a05e578cae4d.jpg\n",
      "t_C_340f07eb-5e8d-42c3-8a9f-dfb984075380.jpg\n",
      "t_C_3806dd32-05e4-4534-a5be-b3d149766492.jpg\n",
      "t_C_3c90dc69-423e-4c63-afc3-15f0456e490f.jpg\n",
      "t_C_3fdf31b2-da6b-4ad5-8642-3f593d7cd989.jpg\n",
      "t_C_4b376818-cdce-4b02-ae88-1e87f8ee7fc4.jpg\n",
      "t_C_4ece4cff-f84d-493b-85bf-31268d8f1ae4.jpg\n",
      "t_C_53028353-1310-4bda-a400-cea90afd8494.jpg\n",
      "t_C_58451d09-5f81-40b9-b012-fed40f3ec8c7.jpg\n",
      "t_C_5bcf21dc-6c32-4861-9fde-cf3a8059a154.jpg\n",
      "t_C_633b47dc-4007-4157-8e27-fb42b3b9e5a0.jpg\n",
      "t_C_65a1d9fa-6935-4da5-ba1a-a7b5b04ed270.jpg\n",
      "t_C_68c65bc1-9cf2-4e54-ad5f-be2c7e8f0af5.jpg\n",
      "t_C_75837149-cb51-4d1c-b9e7-0b4734709e1a.jpg\n",
      "t_C_7c047b68-24d8-4199-aee6-fa06f235a34a.jpg\n",
      "t_C_7d82468b-26ae-4ec6-a6a0-177b731293f9.jpg\n",
      "t_C_84bed54f-f840-4ea6-bc9f-00cfd7e39ad8.jpg\n",
      "t_C_887e4dc2-2396-499e-9564-c66161383ff0.jpg\n",
      "t_C_8f70b760-e8b5-4ba3-90de-d73eef69cbd5.jpg\n",
      "t_C_a3682372-dbaf-497c-8e88-5916a5dc521d.jpg\n",
      "t_C_a9ca9cf4-6d87-4c35-8876-ae8bedc19a7b.jpg\n",
      "t_C_aa1611f1-0fd6-4d4e-8820-87f8ae702baf.jpg\n",
      "t_C_b8dc81d3-9756-406a-8355-1824b2a5ce36.jpg\n",
      "t_C_bd125095-609f-4ff7-b312-3730cafeb084.jpg\n",
      "t_C_bde7fa5b-4887-4025-ad0e-102ea38c6992.jpg\n",
      "t_C_c7b15713-4558-4ef3-a39f-3794ad95cad8.jpg\n",
      "t_C_c81b3a8f-6a08-4036-afe7-304ea85e09c3.jpg\n",
      "t_C_ca572712-b9da-4c22-b4fe-afc13200b6f0.jpg\n",
      "t_C_cc124c8c-6a65-4cf0-b94c-a17c45240d55.jpg\n",
      "t_C_cd93ec13-1624-4073-bb12-3fc0bec3bd3c.jpg\n",
      "t_C_d60ee864-0c68-4e19-9cd8-e1cb55a546c0.jpg\n",
      "t_C_d7c410d0-083d-4d9d-912a-f1c411867742.jpg\n",
      "t_C_d950a4aa-fa43-4a37-be3a-719a55b2169b.jpg\n",
      "t_C_da5ac5ad-fcce-43b0-aea1-b5b5e79e8430.jpg\n",
      "t_C_db3d0d17-02d4-41cb-9ffa-04382e6baf5d.jpg\n",
      "t_C_db8cfbc6-5ec4-43c7-a8ec-68e4cedaa032.jpg\n",
      "t_C_e6f1214b-9d2d-46e4-ac25-b9e4785ebbbc.jpg\n",
      "t_C_e9b06a78-7e86-47a2-8f63-81ef7703fa54.jpg\n",
      "t_C_f9c4e495-1ec8-49d5-a3ab-45d4fc0c7ff9.jpg\n",
      "t_D_0b8f7f9c-9d41-4c5d-8a92-d7be02933985.jpg\n",
      "t_D_0c8ed0fb-601b-4439-8bd6-421d960f5a41.jpg\n",
      "t_D_1c47d39b-b01d-4d8e-895b-54a1de16c0ed.jpg\n",
      "t_D_1dbcdeb0-c9da-4598-b525-561017eabfa2.jpg\n",
      "t_D_1e621c98-3876-477c-9b1a-7e9545c4bd0d.jpg\n",
      "t_D_2115e5a1-8fd8-4456-b441-d1f938c6e4a3.jpg\n",
      "t_D_21c4fd37-9f86-49d5-8853-8251c0f2998a.jpg\n",
      "t_D_302be1d6-53f1-4af6-a4bf-7cf8af5fd6a3.jpg\n",
      "t_D_3a84feaf-6336-4d4c-9d5c-3309aa96c57b.jpg\n",
      "t_D_3f0c2c92-a88d-40f0-b932-007d28e4cb8d.jpg\n",
      "t_D_46d7bacc-3c56-4839-99e3-660d85306326.jpg\n",
      "t_D_480298d1-98e5-4885-a82d-167c9da2f685.jpg\n",
      "t_D_484d155b-ce11-450e-b815-db4eb53f95d5.jpg\n",
      "t_D_4c81b5d2-6081-48f4-aa74-4b1072b453d5.jpg\n",
      "t_D_5105f466-a182-4c8c-a530-42ca2aabab19.jpg\n",
      "t_D_5e1dd868-ef40-48f2-bacb-7792fd46fbb9.jpg\n"
     ]
    },
    {
     "name": "stdout",
     "output_type": "stream",
     "text": [
      "t_D_6183bb14-1382-4496-8cff-ba4d6b389c5c.jpg\n",
      "t_D_62ead05a-43c4-427b-9709-cfce1e7a5c0e.jpg\n",
      "t_D_63554364-e7cd-47a5-b87a-05ea1a34355b.jpg\n",
      "t_D_6a6797b0-10cd-4fc5-b9b4-77b6290c8e24.jpg\n",
      "t_D_6ccabad1-3b17-42e2-b757-b296c5416c7d.jpg\n",
      "t_D_6ce01be1-2889-45ea-9dc0-a327a84013bf.jpg\n",
      "t_D_6f4b86af-01c7-44f4-ab8a-34631c2094bb.jpg\n",
      "t_D_70f18401-9b44-4174-9072-1468b4732481.jpg\n",
      "t_D_7588e138-b04e-4004-9c28-0eed82e49fb2.jpg\n",
      "t_D_780c6202-27e7-46ef-a640-8bcf705372eb.jpg\n",
      "t_D_9714ad5e-4ec2-4052-b9a3-fe1b632d143e.jpg\n",
      "t_D_97a40774-1ff8-4b09-aa79-26e54bc952e1.jpg\n",
      "t_D_9b24f018-f95a-4aa7-9f80-906dd943a288.jpg\n",
      "t_D_ab75dee6-35ec-4446-9bc4-3db1c95c02aa.jpg\n",
      "t_D_b30764d7-0f98-46aa-a19f-7218f876b969.jpg\n",
      "t_D_ba29e0d2-053f-473a-8508-d2103d7c6379.jpg\n",
      "t_D_cb4aa9f1-54e8-42b1-b941-88e0033d062c.jpg\n",
      "t_D_d25ab112-3e15-4b97-986d-b52a0730659e.jpg\n",
      "t_D_e67f71fe-f7f2-4ed1-8359-804c162d6886.jpg\n",
      "t_D_ec68216b-fe18-437f-941c-ffb69055868b.jpg\n",
      "t_D_f2dec5b3-ce73-4248-8368-6d339e565d38.jpg\n",
      "t_D_f579e220-5ef7-40ee-b121-adc2d9aed21e.jpg\n",
      "t_D_f6966273-2ebd-424b-9958-7104b095a3ab.jpg\n",
      "t_D_fafaf7be-20c9-44ef-af81-73cc202e2e21.jpg\n",
      "t_E_03131d95-d9da-4eb8-96eb-494d5d143f9d.jpg\n",
      "t_E_05479031-dc94-4a22-b2ad-b061d2416e51.jpg\n",
      "t_E_0980c7ce-9fe7-4833-9ce0-e214c62423f8.jpg\n",
      "t_E_1398173c-68b0-4d3a-91a9-48a2cf3691bb.jpg\n",
      "t_E_1802c267-3c5f-4d3d-bb5f-3939128b1a17.jpg\n",
      "t_E_19207e43-1950-4acd-a6b9-4449d05855c8.jpg\n",
      "t_E_1ac8df6c-f7b6-44fd-861f-35e80b65a0c1.jpg\n",
      "t_E_1f198615-e8fd-4704-b431-b764faf39121.jpg\n",
      "t_E_1fbaa028-ac85-41fd-9069-9dd877587dc2.jpg\n",
      "t_E_22e33b95-1f48-4034-8836-a7783a48e934.jpg\n",
      "t_E_339653f4-cebd-420a-89f0-a7158bfa27be.jpg\n",
      "t_E_3b61f066-044a-4ac6-996b-bc812db7f6f7.jpg\n",
      "t_E_3d040689-338d-4ba2-9244-048a4fab4eff.jpg\n",
      "t_E_3daebf53-b1f1-4964-8a52-f5a54b1cfd5e.jpg\n",
      "t_E_3dd31510-ed08-4da1-bbd4-591a5a000a0d.jpg\n",
      "t_E_47529d58-fde0-4f98-92f7-baefe4ce7003.jpg\n",
      "t_E_4886c1b7-6f26-41be-a9db-2a47cae70ade.jpg\n",
      "t_E_50a0c7cd-263b-4594-a026-90119ea2ee29.jpg\n",
      "t_E_74202c5d-c403-407f-9c7d-64d8cd128fd0.jpg\n",
      "t_E_748064de-44cb-4467-ab61-ac5d63cbe373.jpg\n",
      "t_E_7cf2b370-34c8-4765-b141-8693f98fd0dc.jpg\n",
      "t_E_7d0a0e26-2fca-4e02-9b4b-f3e9d34ea1e8.jpg\n",
      "t_E_82e0413f-2cb0-468e-872a-3657efc86342.jpg\n",
      "t_E_878ff4d2-e757-48a5-9719-12d3f22e50c9.jpg\n",
      "t_E_89935d78-c19f-4538-85a3-aa140e825797.jpg\n",
      "t_E_8a87d392-0011-4f6c-b0cc-3bd3b9413eb1.jpg\n",
      "t_E_993168a9-5bb5-4232-8b66-ee0e8ca4a96c.jpg\n",
      "t_E_a0dd20f5-c1ce-4294-b196-9c3e089ec900.jpg\n",
      "t_E_ae0233c3-c34a-41b7-a2cb-8eb5a8b80c68.jpg\n",
      "t_E_b094aca4-d556-4b2f-952b-d712ac353bf0.jpg\n",
      "t_E_b2ab5fb5-ca90-4f57-a1c4-339880c26b39.jpg\n",
      "t_E_b3c34518-7307-4af8-bf75-36aab9b4661f.jpg\n",
      "t_E_b3eb7cc5-dd29-412c-9a7c-a138c56aba18.jpg\n",
      "t_E_c0601f08-7384-44c2-8eef-41d6d47bbf64.jpg\n",
      "t_E_c54a554a-e013-406a-b60c-2b570e2b6648.jpg\n",
      "t_E_c5941240-7c65-4647-9085-533baf734821.jpg\n",
      "t_E_c666ce20-c851-4562-8783-227c31b6c45e.jpg\n",
      "t_E_c66e30db-2926-4f70-949d-6b486719634d.jpg\n",
      "t_E_cc344153-737c-4f97-8107-8bb74319920f.jpg\n",
      "t_E_d2cf3726-831d-4a54-9788-caadcd5f34d0.jpg\n",
      "t_E_d951f26f-1a7f-49e5-ad6a-485ab25aa034.jpg\n",
      "t_E_dd4fb779-ed98-4cd2-93c8-5e79cf32c16b.jpg\n",
      "t_E_ef0979fc-460d-49b5-b271-4fbd82051f8f.jpg\n",
      "t_E_f22e1b2a-4627-440f-b315-3469c31d23c0.jpg\n",
      "t_E_fef37e40-a8e8-4701-ba74-85db4ca6557e.jpg\n",
      "t_F_022685fe-4a27-44c9-8cbc-40eb8518153c.jpg\n",
      "t_F_02d0bda5-5429-40c8-963c-96320a3714bf.jpg\n",
      "t_F_0dd0d65e-c1a2-4675-a5e9-dd2fa15a9f61.jpg\n",
      "t_F_1bef9b62-b465-4436-af0c-cf0cdb41198d.jpg\n",
      "t_F_1d7016b0-13a8-4701-a2d0-cae81cb6ed6b.jpg\n",
      "t_F_1e9866aa-9aa5-43ff-b9a1-0340e5bb81d4.jpg\n",
      "t_F_22568c21-51b5-4f8b-b51b-6f2a008f8c5b.jpg\n",
      "t_F_2a502a80-e268-47fe-9f28-7b31befed354.jpg\n",
      "t_F_2c9a8fcd-f36d-437e-bce8-5b7c05a33673.jpg\n",
      "t_F_2dca0256-9f17-4ad9-9ad1-0079ee80ab08.jpg\n",
      "t_F_33c856e2-dee1-4a6f-a1db-da7829192e3f.jpg\n",
      "t_F_3c632191-d081-443e-a59d-bb701b0736a5.jpg\n",
      "t_F_4e2e7e4a-d242-4507-9472-df58c7449b39.jpg\n",
      "t_F_4ebc3ec1-466f-4a96-97d7-7a0034676c7f.jpg\n",
      "t_F_58d014bf-85c3-4a61-b0f6-61fac8a4063a.jpg\n",
      "t_F_7877d14c-04a4-46e0-92c3-3cae4996424c.jpg\n",
      "t_F_7a082f00-a118-46e4-959f-2b572c74a012.jpg\n",
      "t_F_84a3d631-c2aa-4f35-bc15-49844edf3c09.jpg\n",
      "t_F_86bbe23a-d106-41bd-ab59-e51ef3d651fc.jpg\n",
      "t_F_97389903-015c-4fed-89a8-592930639371.jpg\n",
      "t_F_a2132264-f985-4ece-8a0a-8439601b53c7.jpg\n",
      "t_F_a5e37b3e-2776-4004-a696-992f83042cff.jpg\n",
      "t_F_a6354a5a-7713-4b02-9477-3d88f25b0e36.jpg\n",
      "t_F_bda97f7a-a804-4c8f-b16e-c5adf51fa858.jpg\n",
      "t_F_c1554769-7872-43fb-8cff-ef028de46025.jpg\n",
      "t_F_c3b76483-5fa6-45aa-aa5d-5a96ac2df2b3.jpg\n",
      "t_F_cebd9190-3217-489a-a9f2-54fa8898a95b.jpg\n",
      "t_F_d041bc19-0200-4c63-ab5d-df0dace09041.jpg\n",
      "t_F_d0459bfb-55e6-43e7-97f2-a651cf99a9d5.jpg\n",
      "t_F_d2b41b3a-198d-4c1e-9b88-fdd2125d323d.jpg\n",
      "t_F_d4e67b2c-7815-4ca7-811a-ef09ad74ade7.jpg\n",
      "t_F_e0a28b81-15d7-4c26-b14b-ecc7ebb5ddae.jpg\n",
      "t_F_e68e3fb7-821b-4b9e-9e69-18a216630f48.jpg\n",
      "t_F_f5fdc31d-4418-44dc-955c-0e3e05d66fd0.jpg\n",
      "t_G_09ce39d0-23a4-4e4c-a7ef-4546ac7c7c77.jpg\n",
      "t_G_09f7374c-bbdb-496c-a6d7-398bb39d207b.jpg\n",
      "t_G_1a6b100f-4f30-429d-8531-e3f86f667df8.jpg\n",
      "t_G_1c63d8fe-8074-448a-a6d3-897f8e565ba2.jpg\n",
      "t_G_2ae3b6aa-ae36-4710-b66c-bc5213d4b101.jpg\n",
      "t_G_309a7834-aebd-444f-a711-dfaf5bf531b4.jpg\n",
      "t_G_3433ab65-dd46-42aa-84b1-45088d2c92ad.jpg\n",
      "t_G_4397a4c5-da47-4ab4-bb85-babf2fd3b092.jpg\n",
      "t_G_4a1b42e0-cd7e-4a70-afa5-a3e2e27d04ad.jpg\n",
      "t_G_4db57eaf-e9d2-44a7-bdf7-6c4b2435c1b5.jpg\n",
      "t_G_528a38bb-f6c3-4fa4-88fe-d44c005f91bb.jpg\n",
      "t_G_5b9fba07-b92e-4b57-a230-94b6a857b4ba.jpg\n",
      "t_G_5cc707fa-2731-4d70-a015-63c0d6d8cbe2.jpg\n",
      "t_G_5d958516-3f05-464e-b7f2-094dee9683a3.jpg\n",
      "t_G_6080febc-54ca-406c-91d7-1209fc2384b8.jpg\n",
      "t_G_69abca3b-f49b-42d5-ab40-6aaf92643b41.jpg\n",
      "t_G_6b9accc2-3dd3-4d37-bbb2-3f08aa29bc28.jpg\n",
      "t_G_787d0ef0-2b72-4f38-825f-9b8cec879b21.jpg\n",
      "t_G_80957a47-82b0-4fd1-8d9d-7a5732fe8487.jpg\n",
      "t_G_81f63d5f-32d2-4450-a831-a09abf8c0358.jpg\n",
      "t_G_82e4c99c-b1a6-49d7-9e23-4f266e3823d5.jpg\n",
      "t_G_8819348a-720e-4fdc-922a-912c148ebc8c.jpg\n",
      "t_G_8973ccdd-4040-4685-9bd7-91e5814fb06c.jpg\n",
      "t_G_8abe4812-7aaf-4a6f-9c37-9371e2720fc1.jpg\n",
      "t_G_8b9bd451-d062-4ae7-961f-496fddac8dd8.jpg\n",
      "t_G_8ceba9b6-79d1-461a-ace4-4ea55762a606.jpg\n",
      "t_G_8d9d69ab-6eac-405b-9c7b-ee17746a5374.jpg\n",
      "t_G_9016ffca-bd77-48af-a384-e2153b2a61e0.jpg\n",
      "t_G_9b607277-9601-4fb3-b612-ede017ea5263.jpg\n",
      "t_G_9c278421-f8a3-49c1-bc0f-a5ebc46bfdff.jpg\n",
      "t_G_a0f12c77-4573-4149-8ebb-ab17b0c37f9c.jpg\n",
      "t_G_a3f28570-7e04-41d6-9e93-b87ab1f88d81.jpg\n",
      "t_G_a5ad99f9-016b-445e-a55a-3a4d73620943.jpg\n",
      "t_G_a68c2cef-f398-4051-8921-c6c8fddf2137.jpg\n",
      "t_G_ab042ba6-3732-4211-ac39-aea590028d52.jpg\n",
      "t_G_ad8464d6-f13d-4109-9c73-87384d6bc8bd.jpg\n",
      "t_G_c65ff59b-c74e-4d09-995e-0f24d1091240.jpg\n",
      "t_G_c97ca057-7107-4ee7-95a8-e4047b41bdcf.jpg\n",
      "t_G_c9ea6eca-8044-493f-a218-bfd74fe8dea9.jpg\n",
      "t_G_ca821f81-b73b-46ef-acfb-678b3f532420.jpg\n",
      "t_G_cf7e44b5-6ef6-4b77-8c67-63bdfeb23e90.jpg\n",
      "t_G_d0dac7f3-f5cb-4b69-aa3c-538d8adcb50b.jpg\n",
      "t_G_d2a6c158-b0f0-4b98-9dee-1a96c21809f7.jpg\n",
      "t_G_d6d6c2c9-03f4-4e47-8fae-7ef1cdb10634.jpg\n",
      "t_G_da18c84f-cf4f-4972-8d91-c3bbe77eac9f.jpg\n",
      "t_G_dac9604b-0f38-45ad-bcd3-d3c5e0bd4011.jpg\n",
      "t_G_dc93e5d6-4016-41f9-bf1d-dda8537b1c3a.jpg\n",
      "t_G_e1015148-a9ea-4856-a5b1-7be85d962d61.jpg\n",
      "t_G_ecb6f4ad-26e1-42ed-a72b-abea7cabe2dd.jpg\n",
      "t_G_f814514b-3d12-4582-b873-395dc0a8b83c.jpg\n",
      "t_G_f9c3f2a1-e483-4288-9731-31a0bb183a4b.jpg\n",
      "t_G_fd88066c-910c-4907-bd8f-1269beae5748.jpg\n",
      "t_H_06383779-6680-41a7-aec8-bbc458ea73c3.jpg\n",
      "t_H_0800c73e-37f5-4295-80ed-b97f8e13dcf4.jpg\n",
      "t_H_0e57051d-4db3-4c8a-9d98-9f78fffa3b84.jpg\n",
      "t_H_17a0ef9a-7296-476e-8f41-ba6299369650.jpg\n",
      "t_H_1ad8fc35-a0bc-46c6-b10e-076a4dfa4337.jpg\n",
      "t_H_25dd534f-9943-4c95-8311-2ca6e4f69a9e.jpg\n",
      "t_H_3283ff6f-57e5-426e-a593-aff19a846084.jpg\n",
      "t_H_377b6bfc-0a58-4b44-9ce7-b3b8e4da95c3.jpg\n",
      "t_H_3e650c9d-5fa3-4441-8760-66d235c8149d.jpg\n",
      "t_H_3ec8e076-726f-4b60-b59a-aa00f7404bf1.jpg\n",
      "t_H_3faa9f78-1029-4310-a4bf-915ed2e1f029.jpg\n",
      "t_H_504a53b4-54be-4665-9495-6db4cbfde7d7.jpg\n",
      "t_H_5099fbf6-67a7-4191-8d5c-50cbf9a9cb9d.jpg\n",
      "t_H_5c85019f-fd93-403b-b022-bde03e949cf6.jpg\n",
      "t_H_5cc25099-b9a5-436f-a01d-0e5ac0b49afe.jpg\n",
      "t_H_5ebe1aa3-de99-411b-abc2-21170ff07819.jpg\n",
      "t_H_61424f25-6c8c-4a22-b17c-65d2e388ca8d.jpg\n",
      "t_H_61489f43-4458-49f0-8b84-2eee1cfc5e8a.jpg\n",
      "t_H_61e7668d-7f9a-409a-a779-55a3f1c3b51d.jpg\n",
      "t_H_6dceb623-bd7c-4dbe-85b9-40800777a80d.jpg\n",
      "t_H_6e20c156-5ba5-4503-b6fc-ad3e241f042a.jpg\n",
      "t_H_706d8474-ecdd-47d5-b498-63a71ac24593.jpg\n",
      "t_H_72250312-4d9d-4fb0-a875-3320e0d3d451.jpg\n",
      "t_H_76d27fce-5ff8-4522-8c58-6ee6d56b14e9.jpg\n",
      "t_H_78a63cf7-75b4-4fe1-a653-498d7f195008.jpg\n",
      "t_H_7927e7c9-90a4-48e7-a92d-b82303f3a348.jpg\n",
      "t_H_7c523fb1-df64-4e78-a421-58385f12c284.jpg\n",
      "t_H_7eb29318-4db2-46ee-bb0e-cd5e59bd91e0.jpg\n"
     ]
    },
    {
     "name": "stdout",
     "output_type": "stream",
     "text": [
      "t_H_8fa465f7-9ec8-40db-b47f-08558e08593d.jpg\n",
      "t_H_90613996-3665-4af4-94a4-f11ab4822a5c.jpg\n",
      "t_H_990d0ff8-e464-4bd5-8589-839a56454399.jpg\n",
      "t_H_9e0ed5b4-527d-4450-8434-abc4f01a3bdd.jpg\n",
      "t_H_9e3835b7-9de6-4f50-bb53-2360f163a063.jpg\n",
      "t_H_a01a60a4-8587-4639-a344-06948f3a0193.jpg\n",
      "t_H_b412a3e0-866d-4d56-9f60-4d82efc0f27f.jpg\n",
      "t_H_b5e81faa-ed20-4ed9-9bea-90dc019532ee.jpg\n",
      "t_H_bd484475-8d13-48d7-aa8f-388bd644704b.jpg\n",
      "t_H_c4ec7746-8022-4ca4-8779-894a68c2f76d.jpg\n",
      "t_H_d2ee25e3-6148-474c-845f-35f611ca96d9.jpg\n",
      "t_H_d9583051-d3c1-41a4-a875-271ae0072274.jpg\n",
      "t_H_dcd4a66a-46e5-4ee2-89c9-221eb552c58b.jpg\n",
      "t_H_f9dc42c3-19b6-44e3-a581-242dc3a4c77d.jpg\n",
      "t_I_0cfafe4f-41a5-4c61-8445-28328889de40.jpg\n",
      "t_I_0d6c67c3-ff90-4e16-9c4b-ee3ee10bd7ad.jpg\n",
      "t_I_0e96ca62-0376-48b5-9594-53a4616fcedb.jpg\n",
      "t_I_135f280e-f65e-4dec-8766-304951f1d190.jpg\n",
      "t_I_16c84a17-5155-4264-be74-fcdede09dce1.jpg\n",
      "t_I_17821f9d-16f0-46aa-acf3-1b431dd6cfb0.jpg\n",
      "t_I_185681b6-1828-43cf-9db2-3457db389edd.jpg\n",
      "t_I_1a2dd15a-48b0-4d40-b08a-65596d090dd4.jpg\n",
      "t_I_25fb27f5-7a33-40f6-b719-5195d28fd070.jpg\n",
      "t_I_26364d6d-6ed8-4fc0-810e-17b51b8f4c50.jpg\n",
      "t_I_275df024-110d-4252-a562-4682a80daf9a.jpg\n",
      "t_I_27a327c8-f34f-4e3e-89e6-dea6ab168465.jpg\n",
      "t_I_27b93793-6fa7-471c-8160-53d7edab55f7.jpg\n",
      "t_I_3133fb08-8ba6-475e-bdd5-84840307933a.jpg\n",
      "t_I_349139bc-c2b4-4f00-82a1-7c55e77de485.jpg\n",
      "t_I_34bdb5b7-3c80-45d0-9782-89c5ad24b4a4.jpg\n",
      "t_I_354c0e0d-4e15-4f69-bc73-0f1e7be90fb7.jpg\n",
      "t_I_3950276b-f72e-4158-a597-57472a7fa8f8.jpg\n",
      "t_I_3c01813d-7f0e-46bd-9b23-f110ecd18c8c.jpg\n",
      "t_I_3eb95e79-7845-4e00-9691-4fdf61da6056.jpg\n",
      "t_I_5375aa6a-f1ba-4584-965f-90ed5dd1a7d1.jpg\n",
      "t_I_5f41983d-e5e2-40af-a773-0f77c41abc8e.jpg\n",
      "t_I_6051cc30-ac8d-4766-bed8-a19a765a9521.jpg\n",
      "t_I_64af0c57-a9d0-4d01-bf06-da3bb793fa71.jpg\n",
      "t_I_6772e2b7-6ca7-4d2a-9ef6-652f8425f692.jpg\n",
      "t_I_6a308d1c-25c2-4d36-bbd9-9ef625a70b09.jpg\n",
      "t_I_74a0cd4d-43b6-4766-a7e0-527818c85d12.jpg\n",
      "t_I_8e1903d2-b2ff-4c10-8bd4-18d56eb3d3ef.jpg\n",
      "t_I_91a62fc7-fda6-4142-a60d-63a5592a06cd.jpg\n",
      "t_I_a5e26c51-25c7-45c7-a863-ecd012ce2305.jpg\n",
      "t_I_a7323e45-7cd0-4839-9e78-3a569daa9f04.jpg\n",
      "t_I_aa8718fb-ba99-498a-9a19-7099b2524dd8.jpg\n",
      "t_I_ab0b58bf-4dfb-41d9-9491-c4dfdaec6295.jpg\n",
      "t_I_ab233666-4492-440f-9e0f-967ca5259502.jpg\n",
      "t_I_bd7ad556-66ac-43e6-934e-351b89f684dc.jpg\n",
      "t_I_c07f88ff-770c-4c45-a99d-3b3ef4ef9a54.jpg\n",
      "t_I_c634cf82-2050-451b-84da-c61a56d9bfa3.jpg\n",
      "t_I_c6b4e293-c356-45a8-be69-1a9ebf942b2c.jpg\n",
      "t_I_ddfb53ef-1bb4-4b89-948c-3c69656899e5.jpg\n",
      "t_I_e39cbe1a-2682-416e-a4c3-aac0428246d5.jpg\n",
      "t_I_e8fd1d85-8c66-4bb8-bebc-09b04fd13b52.jpg\n",
      "t_I_e9bddb3e-dc3d-4c21-befb-acfe5465042e.jpg\n",
      "t_I_ee47ed8b-5b07-40a2-9717-7f761eec0b2b.jpg\n",
      "t_I_fe2e6e85-d6e9-4105-ac32-8cc7e76d94b3.jpg\n",
      "t_J_0e121789-0015-45e7-827c-e26152810d8a.jpg\n",
      "t_J_0e472586-22d1-4f5a-b761-33b7fa9fcf41.jpg\n",
      "t_J_1b4d7ba9-9e84-4320-893a-92956f6d9975.jpg\n",
      "t_J_1da7f4e3-9efe-407f-ad50-9a0ea633695d.jpg\n",
      "t_J_355d6464-1971-415c-8089-6f803d3bf268.jpg\n",
      "t_J_374c07b3-f121-4ce8-978c-e7ec0fd1cc3f.jpg\n",
      "t_J_3926957a-dbeb-4d39-b447-e54948a95eb4.jpg\n",
      "t_J_42153fe6-f473-40aa-970d-edae8075033d.jpg\n",
      "t_J_42224f76-78f0-49b7-a6ff-0c312a2b5c91.jpg\n",
      "t_J_47e178da-d570-4c7e-80d0-0a95b51e5c6f.jpg\n",
      "t_J_49f1c815-d7bb-4b9f-bf3a-a77d244ce5f6.jpg\n",
      "t_J_57d9756b-999f-47fe-bfbe-6250071094c8.jpg\n",
      "t_J_58395cf1-433c-4326-b641-48e82cc7dd09.jpg\n",
      "t_J_5a8821e0-51dd-4068-a9ea-19b477030e7a.jpg\n",
      "t_J_65cf5f00-29e5-4838-bba7-cdf614ad7c80.jpg\n",
      "t_J_6646846a-52ec-42de-b76b-d82e825dd6fb.jpg\n",
      "t_J_669f411c-bc16-44e8-a71e-a2fae05e6667.jpg\n",
      "t_J_679fadf9-a3c6-4de4-a022-eb23c21a58fb.jpg\n",
      "t_J_6c90dc3f-03b5-40e6-9024-73a27fce2835.jpg\n",
      "t_J_71964fdd-3914-4957-b3ea-23c7618cac6a.jpg\n",
      "t_J_74b6ca8c-bc72-4715-a596-e4a678482a70.jpg\n",
      "t_J_78a21b28-55b3-42a8-aff7-2aeea4c23162.jpg\n",
      "t_J_7f052c94-ceeb-4ec8-90d5-b9c21a41a436.jpg\n",
      "t_J_7fcea3d1-253f-4912-85fa-631ca5a9540b.jpg\n",
      "t_J_87e19884-e281-4c31-b91e-2aa19c7a9405.jpg\n",
      "t_J_88964309-5511-4ab1-8ebc-6bae265688bc.jpg\n",
      "t_J_8b041a63-b98a-48f7-9ec5-3647ea07b784.jpg\n",
      "t_J_97465a7f-9eec-4e51-abad-04a22bb6598b.jpg\n",
      "t_J_97db0297-e4a1-4e91-b3cc-442f00c2f8f8.jpg\n",
      "t_J_9ba984ba-9386-4566-8f46-e919eb6f8237.jpg\n",
      "t_J_a46c5a7f-0eeb-481b-9605-6f5d2c6754b8.jpg\n",
      "t_J_a4cee881-2c8d-4ea2-a121-6094a32f964c.jpg\n",
      "t_J_a8fbbd26-4dd9-45dc-b0a8-ae45315cbf94.jpg\n",
      "t_J_ad30ce56-6139-4a31-aa0d-f9eeaa5dc37b.jpg\n",
      "t_J_b4dd03d5-6164-4f77-800e-a690c26450c2.jpg\n",
      "t_J_c70e8aee-f261-4d6f-9a4f-4b6b9167ebcb.jpg\n",
      "t_J_e233c499-fab2-4873-806f-3fd68ef0af2e.jpg\n",
      "t_J_e3b9b66a-dc35-402c-9ad3-18d698db9edd.jpg\n",
      "t_J_e4cc08e4-ef5b-4081-ad78-585eee39e360.jpg\n",
      "t_J_ec6fd9bf-37dc-49a9-aa2e-42735239b4a2.jpg\n",
      "t_J_fa04e157-75c4-4007-b22f-ceacd837c3ad.jpg\n",
      "t_K_005c7c6d-a468-4495-8648-61cf03cbe3cd.jpg\n",
      "t_K_0f618a85-0228-4316-80d2-c5a7eb65899e.jpg\n",
      "t_K_10eaf693-7fce-44e7-a0bf-ffd0a859ff4b.jpg\n",
      "t_K_156a0d57-e351-41fc-a9ca-a1baf037fdda.jpg\n",
      "t_K_1ccd1ee9-91c1-4d1f-be7e-bb8948cc2234.jpg\n",
      "t_K_1ea216c8-1f89-4a54-9f96-dad924436e79.jpg\n",
      "t_K_220c378f-63ea-41eb-b012-679db965ebfd.jpg\n",
      "t_K_254ce402-eace-4812-98db-57d78106527c.jpg\n",
      "t_K_26f90e69-aae6-475c-9e5c-d6fa55f0b133.jpg\n",
      "t_K_303fdd40-c364-4af1-9c1b-5c77c1881a6a.jpg\n",
      "t_K_30b66406-bc61-4f98-8fbe-3cfd74121cf6.jpg\n",
      "t_K_32fdf413-aa0f-489f-918e-4df516054319.jpg\n",
      "t_K_3402e423-4d86-428c-89b2-5558cf2ec717.jpg\n",
      "t_K_5470f95d-42be-42b6-a470-f67ea2b0897c.jpg\n",
      "t_K_79dc89a9-f506-453a-9d40-37e751b44cb5.jpg\n",
      "t_K_898c9da7-8b50-4623-8b66-f25f26c2cf34.jpg\n",
      "t_K_9bc5df8e-610f-483b-b56d-4403bd318078.jpg\n",
      "t_K_a109acf2-668e-4f96-b8c0-34cec9c1c5c4.jpg\n",
      "t_K_a55923f6-0370-4771-bd98-26c616688ad0.jpg\n",
      "t_K_a9da8f92-f4f8-4629-b9e7-855c7f1e121b.jpg\n",
      "t_K_b103c99f-03bc-4bfc-b8ea-df2de450e276.jpg\n",
      "t_K_b6d7669d-7251-4c1f-90d8-27650cc915b5.jpg\n",
      "t_K_bdee089e-649d-4897-b1b4-2ca19b61950f.jpg\n",
      "t_K_cb42b2f9-cf4a-4318-9589-d98fea0cf623.jpg\n",
      "t_K_d4b727f5-3e43-4197-95b7-11445b255a07.jpg\n",
      "t_K_d830b032-d538-4936-93dc-85a73e85de02.jpg\n",
      "t_K_de6cad04-4e67-4b12-a367-54784d81cd2d.jpg\n",
      "t_K_e1ae4c22-1641-4d81-b68b-d70644496356.jpg\n",
      "t_K_e7d338e4-6653-4834-8cba-b88a04d654fd.jpg\n",
      "t_K_edee4123-d5c6-4aaa-96a7-bb6e0dce1861.jpg\n",
      "t_K_ee5e3cd1-1157-4d5a-9c9f-09027e0f2060.jpg\n",
      "t_K_f4a777e3-21c9-4044-a4d1-6005a22cc85e.jpg\n",
      "t_K_f4d8aa4c-7f40-4ed4-bb0f-74023856c5b5.jpg\n",
      "t_K_f5e0bf5f-61d6-4524-847c-3c969e0e92a2.jpg\n",
      "t_K_f62e6ab1-9590-4a4d-9e24-dd22c86f61b1.jpg\n",
      "t_K_f66f7440-8641-4322-a5dd-7c97633199df.jpg\n",
      "t_K_f712dc1e-9eb9-416a-bf0a-42fad2816de9.jpg\n",
      "t_K_f9954fe7-19c3-4330-9e70-493998272aed.jpg\n",
      "t_K_fdf7100c-9a5f-4959-b452-fcffc7a5270d.jpg\n",
      "t_L_03198e06-ba87-4e7e-9832-08f6945b3d32.jpg\n",
      "t_L_089e5881-0f29-46cc-88c2-8a275074e501.jpg\n",
      "t_L_0b382c3f-d27a-4b83-9899-1eda3a0e285b.jpg\n",
      "t_L_0cca77cb-c86b-4f39-acae-69a375e1179d.jpg\n",
      "t_L_1438fd13-2b73-4e16-9135-5fc4d9b1a4f5.jpg\n",
      "t_L_18bce425-a96e-4c90-bfd5-b215acdf5a83.jpg\n",
      "t_L_1c16b44b-7955-4018-a8de-694f4dcb6a04.jpg\n",
      "t_L_1edd992a-e190-4d44-848e-04c29d159214.jpg\n",
      "t_L_2300adc7-1264-47b4-9290-4a56df3fd777.jpg\n",
      "t_L_28c0c2c0-87ca-4ce8-aea9-cd05c709f09f.jpg\n",
      "t_L_361fab04-d2cd-41ec-9666-8b709b42a995.jpg\n",
      "t_L_373c8378-64a6-4061-8ec5-181377edb6b2.jpg\n",
      "t_L_3a17b5ad-4f96-4025-857e-8a47e911b3da.jpg\n",
      "t_L_3d126b75-4fa5-4297-90e6-d3e532ee0b5a.jpg\n",
      "t_L_4a3658ec-8b97-4fe7-838c-e9aa1f3912bd.jpg\n",
      "t_L_509499b6-df95-4800-877a-62ffcd093ce9.jpg\n",
      "t_L_5f959805-244b-47df-9168-4f0ce3fa00df.jpg\n",
      "t_L_60208ea1-dab3-41fb-90c5-8e9e61e20750.jpg\n",
      "t_L_62989b56-9785-41f5-97c2-8d1829f2d5c2.jpg\n",
      "t_L_69cf108f-e9ce-424b-8b0c-3a9f67f14007.jpg\n",
      "t_L_72c5f3cb-dc16-42d5-a35c-8a8af87f6dcc.jpg\n",
      "t_L_78570da9-c94a-4a4c-a386-da0bb7e319a6.jpg\n",
      "t_L_78f61362-a08d-40d4-a3d5-179a1d750111.jpg\n",
      "t_L_7dccf9de-009f-4fd5-89f8-57e7c4dae297.jpg\n",
      "t_L_90ba7e74-e368-4baa-8a1e-721f4c52e3fe.jpg\n",
      "t_L_92979d60-28a9-40d3-bd1a-47408a5e07ce.jpg\n",
      "t_L_99ad14c0-0846-4a7c-98f7-5120255a897e.jpg\n",
      "t_L_a692ad87-f6f6-4d16-8ad1-f083d38ce2ed.jpg\n",
      "t_L_aa353cd4-14c3-4069-9203-38b06e2e8352.jpg\n",
      "t_L_aef73a7a-907e-4982-8516-54a696d853ad.jpg\n",
      "t_L_af2fdc91-c620-489a-87e9-63171da12775.jpg\n",
      "t_L_c3479172-af54-43d0-8043-71481f2c9a6a.jpg\n",
      "t_L_c8e34c9d-d9cd-4d73-90b8-887389f98dab.jpg\n",
      "t_L_dfd41b28-a36a-4624-98e1-c1f8db43e12d.jpg\n",
      "t_L_e113d834-924b-4006-b734-fa2536f44cb8.jpg\n",
      "t_L_f5085d9b-7bf0-4e50-b23d-db04afebc426.jpg\n",
      "t_L_fa4bfb55-c87c-407e-9a89-892b1f33c78c.jpg\n",
      "t_L_ff7d9e55-e67f-447b-b66b-003836034290.jpg\n",
      "t_M_037790c2-d7fa-4f48-977c-39f74932f474.jpg\n",
      "t_M_04d965ec-9dc4-421e-bac7-91169484d070.jpg\n",
      "t_M_1181fb5c-5967-4b0f-b7cf-12ec57c8a3d1.jpg\n",
      "t_M_123b1aff-dcee-41bd-9dde-2aa6b25b9a4d.jpg\n",
      "t_M_20826562-de33-45dd-ac4d-a3cfebe71439.jpg\n",
      "t_M_217c3aac-373f-46ae-824d-39266669decd.jpg\n",
      "t_M_241372e5-f8a9-430f-ba27-ae3179939c37.jpg\n"
     ]
    },
    {
     "name": "stdout",
     "output_type": "stream",
     "text": [
      "t_M_293706a3-0448-4206-8024-91fdb2c56f9b.jpg\n",
      "t_M_2ebbcf65-7dde-4b5f-8e90-9b64fdf88695.jpg\n",
      "t_M_33e60171-bab8-495d-97fe-bb301a08a0ad.jpg\n",
      "t_M_3867a797-cb72-4d36-8890-12143c20a563.jpg\n",
      "t_M_40767648-6f08-4af0-b80c-105ee34d903c.jpg\n",
      "t_M_4c9fe12f-3d95-49e0-aa29-1044dcb31282.jpg\n",
      "t_M_4df80e88-80cc-4c0d-899e-c5e66eed0e67.jpg\n",
      "t_M_4f8bf00d-b3bf-432f-90f1-e0955e379dbd.jpg\n",
      "t_M_50f09015-3ece-4d5f-a80e-a01504300a2e.jpg\n",
      "t_M_68e8eb2b-f05a-4a25-a43b-820553d8b6dc.jpg\n",
      "t_M_6d5235cf-7ce4-4930-b02d-a8ab82b3a5c0.jpg\n",
      "t_M_75537a51-6da7-41d2-8d10-c2a43e78f2f9.jpg\n",
      "t_M_761f441a-a7dd-44cb-8051-877e05f941de.jpg\n",
      "t_M_7a264bdf-429f-47ac-acca-a75452ca3a80.jpg\n",
      "t_M_7a7779ae-f78b-4660-aa1e-c04d84512639.jpg\n",
      "t_M_8cb08050-9824-4dd3-9797-9121d53358e2.jpg\n",
      "t_M_8d35a271-5031-404d-84a1-10e8736b9924.jpg\n",
      "t_M_8e9fefb7-be63-4cd7-a48c-970f7de93938.jpg\n",
      "t_M_920b6ea8-a963-4d79-8560-672f45c20e01.jpg\n",
      "t_M_94f3c107-e60b-4398-bd6d-ca5a648eb8f1.jpg\n",
      "t_M_96d406b8-faeb-4871-a9fb-195269c4e806.jpg\n",
      "t_M_97754553-679b-4d68-9dcd-726d915079ed.jpg\n",
      "t_M_a6649aa5-fb75-4ebb-a3e9-6763689a6657.jpg\n",
      "t_M_aa275ba1-1d2b-4b36-a0d5-83a23b4d7651.jpg\n",
      "t_M_b3ab94bb-9dba-4a9d-a1e8-01d01709d5f0.jpg\n",
      "t_M_bdbd441f-cfab-49ab-93ba-b529404b4829.jpg\n",
      "t_M_c0bde8d3-5392-4468-91bb-c675d915850b.jpg\n",
      "t_M_c10081ab-b14c-4788-886b-73227847a57e.jpg\n",
      "t_M_d4f2dbe9-f1d6-41e5-8e7e-1a6bb3a966bd.jpg\n",
      "t_M_dd2deb43-bc73-418d-adfa-ba87c3199818.jpg\n",
      "t_M_e59d25c0-1c7f-47e6-869f-00d2b933f371.jpg\n",
      "t_M_ea113dc1-96f8-46bd-811e-b8b8d9fe0936.jpg\n",
      "t_N_00daeabf-216b-4b00-968a-aa05ba95f325.jpg\n",
      "t_N_0846a676-d63f-4027-8ef5-aecfc4653936.jpg\n",
      "t_N_12780c45-b560-4605-b388-ac26c6176c79.jpg\n",
      "t_N_16ff2e12-8807-4e4f-b58c-252916d652c0.jpg\n",
      "t_N_18cabe55-4408-4122-aaca-82bb96fe1384.jpg\n",
      "t_N_1f60f6b3-2919-4983-9251-77b06b49bea2.jpg\n",
      "t_N_255304ca-8de7-4966-990d-371c3a2f79d1.jpg\n",
      "t_N_26a4e428-0c26-497a-b0a9-3694095ba2d8.jpg\n",
      "t_N_30629d4c-7107-4800-87ee-edbe9edbc405.jpg\n",
      "t_N_337344fe-9aa8-48cb-9064-eecaab58dda1.jpg\n",
      "t_N_35aee223-c13a-4d46-ab59-9af31f6a97da.jpg\n",
      "t_N_3780840b-1eec-48f4-a203-f6f0522b5e75.jpg\n",
      "t_N_39249a23-985f-460e-b0fb-f82729fc6a83.jpg\n",
      "t_N_3d19cefe-b08b-4e13-bf2f-b7348955b873.jpg\n",
      "t_N_40a43e23-0fdc-4b3c-a7e0-f143b729fbee.jpg\n",
      "t_N_4438dd43-5e0c-4a6d-a0f5-5aa5b459c022.jpg\n",
      "t_N_457051e5-836e-4dd9-b0e1-06c6e5d80476.jpg\n",
      "t_N_45f9235d-a9b3-4e3a-b786-6f37e3164e2b.jpg\n",
      "t_N_492f2319-2470-4e4c-b136-8511ade63bad.jpg\n",
      "t_N_50dce75d-2f6a-44b7-8666-22d0d7df286a.jpg\n",
      "t_N_51625a7c-5c92-4ab5-b8e0-3dce62ff1355.jpg\n",
      "t_N_5555ed91-6fa0-4fa7-b6ea-746d6ba2ef74.jpg\n",
      "t_N_562e7df6-5d27-4fed-ab60-be150e03b07c.jpg\n",
      "t_N_57fdcc0f-f664-4c35-b184-b570fb6890da.jpg\n",
      "t_N_59d8ff0d-72e9-4f27-be89-855fbaef99f7.jpg\n",
      "t_N_5abc496b-c29a-4c96-b6f4-4658beb38b0b.jpg\n",
      "t_N_5f9a5410-4223-4aa6-9187-bba59a8cb308.jpg\n",
      "t_N_664b0e6b-8726-442a-8391-0845fa57a949.jpg\n",
      "t_N_69f1c0b0-bef8-4ecd-96c6-4a5625266a74.jpg\n",
      "t_N_6f32d1af-6b0c-4d08-94ec-6e68757bb931.jpg\n",
      "t_N_7df9e3f6-6f90-4b90-a875-aa3f7a6e2215.jpg\n",
      "t_N_97e009dd-a411-4315-a588-8d7afa5601da.jpg\n",
      "t_N_9bcb9f78-a942-443d-bc52-ed53f13b6fac.jpg\n",
      "t_N_a3d70eef-7327-4fcc-9a64-13404ae1013a.jpg\n",
      "t_N_b229227e-679d-4703-8187-db2130483518.jpg\n",
      "t_N_b6b45e33-f20c-4bd9-9fb3-bc563e92d82b.jpg\n",
      "t_N_b8029973-9ec0-41b2-bbee-14a266426cde.jpg\n",
      "t_N_ba606b41-a421-4803-9788-02ef7d32bb59.jpg\n",
      "t_N_bf7510cf-0a70-46db-94f1-5df6df7f7730.jpg\n",
      "t_N_bfdeb387-a049-4943-b421-871cdc1b24f3.jpg\n",
      "t_N_d20952f8-557c-4ee9-893f-6763685b1704.jpg\n",
      "t_N_d5d6294e-0f42-43bc-8515-588e9bcb6173.jpg\n",
      "t_N_d5e3c18e-d3eb-4cbc-a461-fe064a2273ec.jpg\n",
      "t_N_d894943e-ebf4-4266-97ff-ecf95164dbd6.jpg\n",
      "t_N_ddf97d4a-5e8a-4511-b412-a6c13811bbf5.jpg\n",
      "t_N_df51ddc7-6b70-4f63-8993-28613ba9668a.jpg\n",
      "t_N_e190b91d-a4ea-442d-ac51-035ca2f2b3f3.jpg\n",
      "t_N_e3e8f69a-9479-4438-97e3-110f1abe8077.jpg\n",
      "t_O_0002f88e-6043-47a2-861f-630f6a7a8f68.jpg\n",
      "t_O_061bf6d4-7e84-4ace-b2fe-89660193737c.jpg\n",
      "t_O_062d7d6a-b651-4224-b247-3f29c9512f59.jpg\n",
      "t_O_0ac7110c-ed05-44dc-8a39-39ee75a505a7.jpg\n",
      "t_O_0de500e9-72f4-40ec-9b9e-fc80e3dca76f.jpg\n",
      "t_O_0f0bca63-dd82-46bb-b5c2-e7ba4d9bad76.jpg\n",
      "t_O_1d5ed4cc-47a3-4917-a156-38754412dc96.jpg\n",
      "t_O_1e59542a-eb59-4019-8120-f8521139d725.jpg\n",
      "t_O_2493cb59-de11-4ac5-893c-a1f02da96a6b.jpg\n",
      "t_O_25e8adb4-5f69-4362-b32b-3ad8ea471426.jpg\n",
      "t_O_2c8627cf-da37-4049-8f5a-7184a0082f85.jpg\n",
      "t_O_2f9d0291-432b-4ceb-adf8-8af81d6657a9.jpg\n",
      "t_O_4b1d4332-35c0-4486-ad9f-693781f57750.jpg\n",
      "t_O_4e9ea7be-e1d5-449e-8a79-dcecafffa871.jpg\n",
      "t_O_5269cfba-1bd9-4ac6-ba3d-381d7d6faf84.jpg\n",
      "t_O_56ddec16-a99b-41b0-8f3d-6f9610bb2f25.jpg\n",
      "t_O_56fe5124-4f52-47d6-8313-f55ff0218534.jpg\n",
      "t_O_582026fa-3d8d-4a82-9825-5a7ddff3c2c5.jpg\n",
      "t_O_5897c5a2-bf83-4250-91a6-166f646dbe65.jpg\n",
      "t_O_59bdadf0-2764-4151-97b9-7f7fdbc405e3.jpg\n",
      "t_O_5bfd3fa4-8939-4125-9828-eb7f548059f7.jpg\n",
      "t_O_619f7acd-f563-48bc-93cc-16462a14c23f.jpg\n",
      "t_O_6b4d3eca-12f7-4331-93e7-771ddc14624c.jpg\n",
      "t_O_734c3f96-0b8e-4148-9d8b-e88684a53251.jpg\n",
      "t_O_769bf7b9-ac7a-4f5b-9718-b957cdf70dac.jpg\n",
      "t_O_77b2b728-45c1-45ea-afc7-46525efa2a02.jpg\n",
      "t_O_796f3a9e-5ee4-443b-9fc0-29233dfbb425.jpg\n",
      "t_O_7de82219-cd6e-430b-8cb7-7dba5fce92c5.jpg\n",
      "t_O_8964d508-ddab-4f7b-85e9-28b18216db57.jpg\n",
      "t_O_8fcd4920-4b37-484f-b20f-13a094176e6f.jpg\n",
      "t_O_90d7950d-bf8c-45d0-8b52-6805a27f9726.jpg\n",
      "t_O_933c758f-1689-42df-80d9-ceb23d6553f1.jpg\n",
      "t_O_9af86517-4dd3-4d77-933d-b6bc9c01d655.jpg\n",
      "t_O_9ff0c3fd-ef6f-4cea-a854-14c1fb6fec6d.jpg\n",
      "t_O_a1daa976-7d6c-4b88-8302-22dbe693ba3d.jpg\n",
      "t_O_a3460160-17cc-4b08-bf09-42b42668fc1d.jpg\n",
      "t_O_a84b72bf-e599-4070-a573-e48f5408a269.jpg\n",
      "t_O_aa0ec9c5-296d-4188-a207-5a2541a47b3a.jpg\n",
      "t_O_b402ff4e-24ef-4f06-adc5-22ae7bac9048.jpg\n",
      "t_O_bd66c8e6-dbb1-4738-830d-ac9e9d4c2623.jpg\n",
      "t_O_c139a007-d8c6-4cee-b9b3-d398a37f3877.jpg\n",
      "t_O_c21dc53e-08f0-48b8-82a6-8cff0a8e3145.jpg\n",
      "t_O_c7750ea6-ac43-4450-b5fe-2bf1d78aaf08.jpg\n",
      "t_O_d4cce2d5-4c41-42ea-bf55-7ed11dc32591.jpg\n",
      "t_O_d969a041-92af-46a3-af16-e3bc990f3d12.jpg\n",
      "t_O_d9887675-a720-443a-a519-eddbafd935c8.jpg\n",
      "t_O_dc88f42e-7e41-48fd-b225-64e550a18add.jpg\n",
      "t_O_dddc28d3-1aa1-4055-8d22-123231922236.jpg\n",
      "t_O_e4ca21e7-88ea-429a-8cd2-f3aa99381fc2.jpg\n",
      "t_O_e5dd93df-cf02-4b07-a61a-f87341f3a681.jpg\n",
      "t_O_e5f92c53-40eb-4b8e-9cdd-0ec1a91d87a4.jpg\n",
      "t_O_ee64e3d5-77b3-44ca-a961-b0e00056b508.jpg\n",
      "t_O_f0c4dd63-c70f-435e-aae7-58e9897baa39.jpg\n",
      "t_O_f12d6964-a1ed-4a7b-b01d-32cf59b29b6e.jpg\n",
      "t_O_f1dbcc75-a3f2-4cb2-b3e4-24a8cb99df65.jpg\n",
      "t_O_f739e5b1-1a8d-400c-ba7d-4699d115242f.jpg\n",
      "t_O_f75764a3-02d4-40f0-bc98-a4babf781896.jpg\n",
      "t_O_fa51be38-b630-4ae8-95f2-0af39b57ce88.jpg\n",
      "t_P_0ab66842-5d81-4c1e-b64c-79e27eb46907.jpg\n",
      "t_P_0ff9f75a-74ea-4d63-8361-36fa785d8698.jpg\n",
      "t_P_13e328db-07ef-48a3-9613-0b8274698abc.jpg\n",
      "t_P_1e38aed4-d82a-4587-a571-40087e33d3cc.jpg\n",
      "t_P_22497eef-0393-4656-8f25-d680a72f4fe2.jpg\n",
      "t_P_26d006f6-04c5-44d1-bd76-1eee23f61499.jpg\n",
      "t_P_375c1568-6841-459b-955d-034e212cca90.jpg\n",
      "t_P_3d3ee00e-83fc-4230-9936-efb935d05fbc.jpg\n",
      "t_P_3dd4abda-3f24-4095-b2f4-bac6363e4cda.jpg\n",
      "t_P_473713f9-02a5-42f2-872b-6416fe35c3d8.jpg\n",
      "t_P_50728078-be76-41f3-b38e-01e43cbadb88.jpg\n",
      "t_P_60f25290-5e70-492c-be4a-4d0d7698ac40.jpg\n",
      "t_P_63f4c2a2-6543-4c77-95cb-700044435479.jpg\n",
      "t_P_676f4663-537c-4263-8acc-9961c45ec48b.jpg\n",
      "t_P_6a3feb44-a019-4835-8e20-ac31897bffc3.jpg\n",
      "t_P_6b944454-5d93-4f37-8258-82835a6251f6.jpg\n",
      "t_P_6ba9421c-b59f-46d4-acf8-ba98c0c12a3f.jpg\n",
      "t_P_7b46f191-dc86-4227-beb8-87f8a3d46c6c.jpg\n",
      "t_P_7cdfe094-22a4-4e0e-a799-13b76cf3646f.jpg\n",
      "t_P_7f7b6e1b-e95c-47a5-b6fb-1d9e043967d6.jpg\n",
      "t_P_8b702c38-1b32-457a-86d7-42fe1859d489.jpg\n",
      "t_P_8e70a1ab-1ba6-4263-bd31-a22b29199442.jpg\n",
      "t_P_8ea01bc4-bba5-4062-8f67-5654b8af8aa4.jpg\n",
      "t_P_946da98b-cc80-4392-a9c1-e6f1a7c2f0fc.jpg\n",
      "t_P_98bf8173-b8fd-419a-b7d4-388750d9be51.jpg\n",
      "t_P_a361d766-e5e4-42e9-b12c-39ed608e0a6a.jpg\n",
      "t_P_a4943c8f-163a-4244-9600-ffd574eb7a39.jpg\n",
      "t_P_a9cdf0d2-6927-4c0e-aecb-749a1792ab7a.jpg\n",
      "t_P_aa8e7799-4abb-44a8-bdb2-53c4e9260e75.jpg\n",
      "t_P_b0a39a3a-b0d2-46a4-ac4b-feec68675cd5.jpg\n",
      "t_P_b1cbb809-7f27-46f8-a229-223cc92cbc8f.jpg\n",
      "t_P_bbc01ace-fbd6-4f6b-9704-1eb5440082aa.jpg\n",
      "t_P_c836e64b-8cc3-48b3-8636-f29e69e1c347.jpg\n",
      "t_P_cf8215d9-6ed3-41ca-96b3-0f9886d602fc.jpg\n",
      "t_P_d85a4b57-37f2-4aa6-93cf-bb4fd602de0b.jpg\n",
      "t_P_dabc0e30-b525-42b9-b9cc-2daad3862cce.jpg\n",
      "t_P_e177cc43-eb0f-4bc7-a384-b5cda14b2118.jpg\n",
      "t_P_ec9b3789-7a25-407e-b17a-20ca81edab77.jpg\n",
      "t_P_ee4c473a-ae01-4372-8667-5f104a8171a3.jpg\n",
      "t_P_ef2deed2-2309-40f8-af92-cb117c44fcd7.jpg\n",
      "t_P_ef39685e-8bc4-41fe-95d6-fa6a3443d37f.jpg\n",
      "t_P_f13f3883-9227-44e0-8cc8-da4548b85f83.jpg\n",
      "t_P_f7893c7b-4bfd-40e9-b411-6f8ff387db79.jpg\n",
      "t_P_f96cde1a-ae34-4e4e-b56d-74b41b503f4b.jpg\n",
      "t_Q_0b3c242c-bc5d-4a5a-983e-f738f18a43ad.jpg\n"
     ]
    },
    {
     "name": "stdout",
     "output_type": "stream",
     "text": [
      "t_Q_0be7e14c-ade5-4ed2-b0bd-9bc705c5bde5.jpg\n",
      "t_Q_0ee78c39-c1d4-4b5c-a3ad-def9c813c65c.jpg\n",
      "t_Q_27522bc3-85af-4940-bfee-bbb5abc764a6.jpg\n",
      "t_Q_2abde79a-b844-4c71-967a-c8479052840f.jpg\n",
      "t_Q_2cf211dd-d503-4174-8c31-0915f971c7e1.jpg\n",
      "t_Q_2ee5c139-a69e-46e6-b910-065e633c16a8.jpg\n",
      "t_Q_30f7e54e-fce9-487f-a3b7-09c56dc239f9.jpg\n",
      "t_Q_34702486-b065-4b12-93d5-ddf445968329.jpg\n",
      "t_Q_34b03f74-07bb-4a75-81d4-c96e93efbc8f.jpg\n",
      "t_Q_35a717c1-f5bb-4198-a27e-827dac39ea28.jpg\n",
      "t_Q_37c6466e-6484-42d9-b689-d10de1226d21.jpg\n",
      "t_Q_4079d092-6e44-46ab-aa8f-0fe89e8c4449.jpg\n",
      "t_Q_49c42e4a-1694-4fc7-b6ad-248ab743a454.jpg\n",
      "t_Q_52dcc681-290e-4590-add2-5f24aecdc0ee.jpg\n",
      "t_Q_628fe1b2-1257-4837-8014-e2792e14bc7a.jpg\n",
      "t_Q_639445ee-f363-4c33-9e6d-83220712e0e7.jpg\n",
      "t_Q_63beedff-184e-47c1-9290-0df9eae9b03a.jpg\n",
      "t_Q_6648e509-72ca-44e9-9197-f0ddded82921.jpg\n",
      "t_Q_6cb15460-b9f7-44e1-8375-3bce4c07b6cf.jpg\n",
      "t_Q_7dd0c030-f5fb-4642-8725-f193f3dbd460.jpg\n",
      "t_Q_82d117af-640c-468d-96ac-1ee9771fc80e.jpg\n",
      "t_Q_830d91f6-9d1f-446f-8da8-8a5c30f168ec.jpg\n",
      "t_Q_8f8537f8-f865-4377-b65a-73e29af73f09.jpg\n",
      "t_Q_93681c71-e1ec-41c6-9d79-8603d16480a3.jpg\n",
      "t_Q_96f0b931-c27a-42fd-9fd9-62ec88d61807.jpg\n",
      "t_Q_9a84ae08-3999-4370-af3a-92cfb843d290.jpg\n",
      "t_Q_9be83925-76be-494b-bc54-961e07197582.jpg\n",
      "t_Q_9c398576-1357-407a-a1cf-7826ec07d5f7.jpg\n",
      "t_Q_a305071b-408a-430d-a80f-98e1a7bf1fa7.jpg\n",
      "t_Q_a375f2e4-43a3-43a1-9697-82a34d2c3a8d.jpg\n",
      "t_Q_b738ff7a-1617-44d7-9437-6deb9f96aa4b.jpg\n",
      "t_Q_b8255a64-3687-423a-b75a-3dcdae8a4d91.jpg\n",
      "t_Q_cb6da0de-57d2-42c2-b45b-51c79c297169.jpg\n",
      "t_Q_db8392fa-4cb2-4083-9e79-0288d99d80c8.jpg\n",
      "t_Q_df60ef65-aca9-4b01-8a06-65370b35ddd6.jpg\n",
      "t_Q_e2711442-9e0c-45f7-801b-2be0584edd78.jpg\n",
      "t_Q_e32adc43-72e9-4734-b005-ddfd794a703b.jpg\n",
      "t_Q_e9880057-c834-4b55-87e8-fa524de0ca82.jpg\n",
      "t_Q_e98ad10e-1dcf-4cac-b5ab-20164291854e.jpg\n",
      "t_Q_eeea262e-3586-45ef-afff-9594c6f097fa.jpg\n",
      "t_Q_ef1b7b83-d63e-4ed1-93fb-29c34d948fee.jpg\n",
      "t_R_077d4ae5-f66a-4e7a-bb2c-7df83123af01.jpg\n",
      "t_R_0a410b25-0363-4559-b7ff-8c8c5be50e95.jpg\n",
      "t_R_10292629-f517-469a-a529-fb55326453f2.jpg\n",
      "t_R_10ef38d5-f376-4151-adae-24db2e70d4ed.jpg\n",
      "t_R_12ed286e-ad39-4b56-88f9-0e56131d97d5.jpg\n",
      "t_R_1cbf44e5-3c17-49e6-9135-f6d1dcdf19c2.jpg\n",
      "t_R_23bb9721-4e43-467e-a619-9b2ead3d35ab.jpg\n",
      "t_R_325785aa-1f53-473c-8ccc-01a5f374d2e9.jpg\n",
      "t_R_3857d627-6085-4e33-b292-f6e9c3d73471.jpg\n",
      "t_R_3dba7550-280d-4ca7-9aaa-4b472f2439b3.jpg\n",
      "t_R_44467b04-9dcb-4b1a-beb3-8dd72ad3e798.jpg\n",
      "t_R_4b03ffb6-1b03-462c-a71b-392cd88b304d.jpg\n",
      "t_R_58a6cbfc-353c-4d8a-af50-6b725781d6e7.jpg\n",
      "t_R_65a3053e-7091-4144-8475-c8b960a7320b.jpg\n",
      "t_R_698cbc30-8f99-42cc-b60d-9b44ed7e485d.jpg\n",
      "t_R_73eb05e4-96f9-4c43-980b-a11267183e13.jpg\n",
      "t_R_743e78ae-72e4-4420-9557-f97d43842afe.jpg\n",
      "t_R_77e07b45-b874-473d-9d71-098ebd68c309.jpg\n",
      "t_R_7b1987ba-80aa-463f-87b5-262e7a7d2495.jpg\n",
      "t_R_7c3c8dc8-4b63-4dd6-80a6-daf4c6678dc9.jpg\n",
      "t_R_7d1411d7-885e-4c2e-aef6-3eccfdca3358.jpg\n",
      "t_R_8ef63a51-976f-4ce7-bff8-bac8cdeca8a8.jpg\n",
      "t_R_939f3828-0685-48cd-8a87-5ff20fd68564.jpg\n",
      "t_R_9d82a4e5-8b86-4a2b-8243-0e23b5ae7a7b.jpg\n",
      "t_R_9df1bca2-3764-46a9-bace-166127d17f7d.jpg\n",
      "t_R_a623e4db-57ae-420e-a530-f07bb0ff4399.jpg\n",
      "t_R_ae5ac983-3999-477b-b1e3-0b3c4d488cf0.jpg\n",
      "t_R_b8129268-8f78-4b29-b67e-82638682e3e3.jpg\n",
      "t_R_bafc3617-9865-47d1-bf93-f3816c8c8770.jpg\n",
      "t_R_c528802c-ef71-48b8-9b1b-36a565667751.jpg\n",
      "t_R_d36bb044-d831-4bba-8760-090ace3ef1ce.jpg\n",
      "t_R_d455b770-70d9-47c0-9000-2cfb6c68078f.jpg\n",
      "t_R_db06cb47-41a2-4619-8c55-4973360ab3fc.jpg\n",
      "t_R_dba0761c-52b0-4b45-a383-39a9fb8119c8.jpg\n",
      "t_R_ead6f47e-b78b-48a1-a1dc-c24d7faf0757.jpg\n",
      "t_R_f4c514cf-edd3-4f11-80d0-0888e97e562c.jpg\n",
      "t_R_fc8732e2-53fb-4b19-a385-b3c5b87f47fb.jpg\n",
      "t_S_07bb97da-dbec-4aeb-b859-6029fd818810.jpg\n",
      "t_S_0e18641c-8dd3-4f28-ae91-be408dc2c548.jpg\n",
      "t_S_16c92c44-bad4-454e-aa92-06d4c65140ee.jpg\n",
      "t_S_18f8c8c1-ff0d-4628-9dd7-a4a319b313d4.jpg\n",
      "t_S_1a0ec913-e955-4bbb-bbd9-5b4114c1249e.jpg\n",
      "t_S_1a7b7445-aef9-476b-8e2e-f2ddb21a8877.jpg\n",
      "t_S_274347f3-b1f5-4322-b827-5f02088a6599.jpg\n",
      "t_S_2d9a7a82-3f7f-429d-888a-3075c09a1a2b.jpg\n",
      "t_S_36b96670-c7cc-41f1-987d-65ce5e23467b.jpg\n",
      "t_S_3b2d7964-3beb-450d-bc83-0588e81d285d.jpg\n",
      "t_S_49081806-19f1-4ef9-841c-71096dd64f86.jpg\n",
      "t_S_4a7e9e19-ca64-4c2a-a105-a470532513d9.jpg\n",
      "t_S_527acc08-9dba-4faa-8aa8-a189a517b3cb.jpg\n",
      "t_S_5e9f5625-091b-4e75-9dad-6cfb2ee520ab.jpg\n",
      "t_S_5f9cc907-3933-423e-a2f6-af18b2ad2be5.jpg\n",
      "t_S_6bf21f6d-630c-4ce3-ba7b-aaac7d9ab34e.jpg\n",
      "t_S_6c529e8f-648c-4c16-b1ab-b438f620f897.jpg\n",
      "t_S_7b0423a6-4cac-4f89-92de-9f37248e6d19.jpg\n",
      "t_S_8a08e50d-eb04-40d3-9fd4-1025ef40d886.jpg\n",
      "t_S_9bf67a09-9a46-4d6a-950a-5ebc94020ef8.jpg\n",
      "t_S_aba82493-5132-4369-9734-569ade8a8944.jpg\n",
      "t_S_b1184117-8178-4e9a-a054-8f0d00d2fcfb.jpg\n",
      "t_S_b9f4ba98-a748-4ebf-8d84-637212a44b47.jpg\n",
      "t_S_bbc68c6d-0c0c-4776-a78f-fbc3f28ab13b.jpg\n",
      "t_S_bc349473-341e-475c-85aa-26e3bc5cf34b.jpg\n",
      "t_S_bf01e9ca-526a-49f1-ad45-8c5721ed3a97.jpg\n",
      "t_S_ca6137d9-7c96-44af-a4c7-68297cf8366c.jpg\n",
      "t_S_d88e6725-9de0-45e9-a523-028316815978.jpg\n",
      "t_S_d9e431ae-1f3d-46b8-903a-c1ab181a3f47.jpg\n",
      "t_S_e766632b-1e62-485c-89ff-182d3b16b47e.jpg\n",
      "t_S_efb02290-938f-4489-92ac-3126c67e3803.jpg\n",
      "t_S_f1de95da-bfef-4300-a279-d73191690585.jpg\n",
      "t_S_f2d714c0-ef5d-4b36-a402-b535360e61a7.jpg\n",
      "t_S_fdc0b8d4-37e8-462b-96ba-a46857dd7919.jpg\n",
      "t_T_082caf69-6356-4391-acd1-3f4077bd8a39.jpg\n",
      "t_T_08cde1ed-00aa-4551-9e38-450764249b97.jpg\n",
      "t_T_09fe8c46-6d3d-494d-8243-2aca6aff57b9.jpg\n",
      "t_T_0e241f39-918d-4376-982a-d16c1116b754.jpg\n",
      "t_T_1ef2bea8-f23b-493c-ac40-981004e93951.jpg\n",
      "t_T_1fe76985-77ce-4736-9785-6f487fcc4e1a.jpg\n",
      "t_T_21810981-d684-417f-bcbe-bc26c1f8bddd.jpg\n",
      "t_T_26ca826c-0313-46f6-8e7c-348f99b28972.jpg\n",
      "t_T_310eea37-617a-4419-a7a9-63d147d80563.jpg\n",
      "t_T_32401266-b1c6-428b-84b3-6d28eed10a90.jpg\n",
      "t_T_33d6c554-669d-4524-a164-cfbad795f0a1.jpg\n",
      "t_T_35d73ff0-c335-44c0-a674-db4a139b411d.jpg\n",
      "t_T_428b9443-0c06-4406-a89e-e09a3d17e422.jpg\n",
      "t_T_44164696-11d5-42a8-bf8f-50fec3578ab8.jpg\n",
      "t_T_498e78ef-be1f-4f2a-9b2f-37c2f6424f18.jpg\n",
      "t_T_58c936d2-2caf-4132-a57f-8994f4a5acf0.jpg\n",
      "t_T_5a03f0ac-db4c-40cf-b100-41b869dfe311.jpg\n",
      "t_T_6703f1ab-c2d2-4a0b-bd96-897d58077d5a.jpg\n",
      "t_T_6c44fdf7-72ee-4ec5-9ba2-4e7c698528c6.jpg\n",
      "t_T_72440b4b-bb55-4f14-acea-d9a7857b08b1.jpg\n",
      "t_T_79be5217-1018-45b9-866f-0b9c8702c1b5.jpg\n",
      "t_T_83a4cf11-3beb-45af-b6ef-fd34e02132cd.jpg\n",
      "t_T_9195896c-a021-47bd-9c64-ea9aaa207b72.jpg\n",
      "t_T_92ae6fa1-87a1-4102-82a3-0ccd26d1b8ab.jpg\n",
      "t_T_97a37668-1cd4-46cc-a4a1-e5cd1fa0a6de.jpg\n",
      "t_T_987754ae-f7f8-4f40-b758-8c03cf0276a4.jpg\n",
      "t_T_9a70a0c0-241a-456e-b8a5-9a531682f639.jpg\n",
      "t_T_9bf922bd-748b-4a1d-a746-dd4325d0551f.jpg\n",
      "t_T_a189b754-9a40-4b4e-a2c3-0f7cb73606d3.jpg\n",
      "t_T_a9bbb51c-9a9f-4124-b9db-b2a4e5d25ff7.jpg\n",
      "t_T_b7029d32-a7a3-4a9f-8c02-ce1443929ae4.jpg\n",
      "t_T_bc6e4384-0d98-446f-a835-706118a6bed7.jpg\n",
      "t_T_be828313-4b80-401b-8905-eeaaf2f7bd4d.jpg\n",
      "t_T_c1de49d2-359e-4533-9617-fe8ddb6de73a.jpg\n",
      "t_T_c2e70196-a9e3-4ffb-b22f-a8fdcef2de3b.jpg\n",
      "t_T_c4783f07-2c50-4fa1-9824-01224d70493b.jpg\n",
      "t_T_c68de929-46a1-47f7-a1e8-6780ed31f8f2.jpg\n",
      "t_T_d3d45702-f76f-4593-8119-89fa58e91401.jpg\n",
      "t_T_d41a10f7-4d16-426d-8a78-ce39bfb8e33b.jpg\n",
      "t_T_d43baacc-712f-445b-bb5b-9a17aacec4f3.jpg\n",
      "t_T_ded46ddf-7940-4a49-a293-be8a7ca3d95f.jpg\n",
      "t_T_e3750c18-65ff-4138-a720-7a56469d6e6c.jpg\n",
      "t_T_e8e9eda7-b03b-4086-82ab-83ff7d9f0c64.jpg\n",
      "t_T_f273cfa7-e863-4944-a351-bf4434d2a112.jpg\n",
      "t_T_fc05642d-9102-48c4-b1d5-2915dae8f3c9.jpg\n",
      "t_U_13fc9867-4ea7-44a6-a262-fdfcf048f2dc.jpg\n",
      "t_U_15347dde-140a-436b-8629-515d863c5931.jpg\n",
      "t_U_175f76a0-9aa3-4e7b-9d9f-c07c7f473f17.jpg\n",
      "t_U_1be9b8c0-70f4-431b-ac28-ddfd1418fb55.jpg\n",
      "t_U_2e948b95-59b2-4527-869d-23a6283ee0fe.jpg\n",
      "t_U_57e2f44a-a82e-45ab-af5f-b433c3d9a4bb.jpg\n",
      "t_U_5a57666f-665c-48d6-81bd-54409ef3ae98.jpg\n",
      "t_U_5c5087db-7ea5-4791-a8e0-6106d76a2f8b.jpg\n",
      "t_U_5c534ab8-7420-4bf2-ae79-7cd02bf0a255.jpg\n",
      "t_U_6067cd18-2ed4-424e-92f7-a96c24db9d62.jpg\n",
      "t_U_638f69a6-3523-4b5a-b461-c6ec23792572.jpg\n",
      "t_U_6522b6c7-e886-4d2e-9c78-7bf35317a2c5.jpg\n",
      "t_U_65c0a670-fa47-4414-9b8f-1921f1f861d0.jpg\n",
      "t_U_6a9c1d06-7373-4675-b0ad-d3064b2a21d0.jpg\n",
      "t_U_7799a8f3-b49e-44d5-a902-8ee76016015d.jpg\n",
      "t_U_9b194291-dd96-4959-9d64-fd6a10d78d84.jpg\n",
      "t_U_9ddc76e7-c69f-4329-9c40-e4f061cf5d23.jpg\n",
      "t_U_a2fc1ff1-cd8c-42d0-a278-6bcd3cc2832e.jpg\n",
      "t_U_a3ebcede-cd12-4609-ae8f-ce7648b6c967.jpg\n",
      "t_U_a650e13e-8fdf-49e2-8f83-ed7ed430883c.jpg\n",
      "t_U_a759a198-a8c7-4c9d-91c5-94eaf11c0ee2.jpg\n",
      "t_U_b21819f0-98cd-4f52-bce7-93d8902d5bfd.jpg\n",
      "t_U_b921b6d8-ec95-4d6c-87e7-8350a055e633.jpg\n",
      "t_U_c1a60ec9-610d-4c8f-861e-182f9ea83af1.jpg\n",
      "t_U_c71fb387-3f0c-4f77-a5f1-757e883d5a67.jpg\n",
      "t_U_cc6ace6a-1d5b-4b3f-b9db-cf98924cb631.jpg\n"
     ]
    },
    {
     "name": "stdout",
     "output_type": "stream",
     "text": [
      "t_U_d52e9e64-0cfa-4238-9c94-7fce17a5b3db.jpg\n",
      "t_U_d57aad45-0048-4ab1-8f0f-96f8fcf3e94e.jpg\n",
      "t_U_dcac74b8-cc02-49a1-9b7b-44f3db03479d.jpg\n",
      "t_U_e1d701f4-e749-4532-b386-a36a226e6270.jpg\n",
      "t_U_e4035a3c-be28-43ad-ad72-d523efa2f76b.jpg\n",
      "t_U_f2e8f325-bccc-4ca7-8d5d-7aa174bc19a1.jpg\n",
      "t_U_f7241fce-5602-4a8d-9e90-3a55577917c6.jpg\n",
      "t_U_f84ea153-2037-4360-a2f5-389ab0c6bcfb.jpg\n",
      "t_U_f9860d4c-983d-4112-b083-dc40a1f82b03.jpg\n",
      "t_V_040f53c4-bc14-47f2-ada6-e6469180864d.jpg\n",
      "t_V_0579e28e-2eb3-4c9b-911c-b28bab1c6077.jpg\n",
      "t_V_06ec7c4a-229b-42fe-aa10-f69dac523f67.jpg\n",
      "t_V_072d21c5-cdd0-4530-bfba-7daa0736d279.jpg\n",
      "t_V_0ea26337-a142-4b09-be63-02349d24d33b.jpg\n",
      "t_V_15331595-d073-4c05-a34d-834731976f5f.jpg\n",
      "t_V_1e77d95c-1ae5-4642-9b4a-36793c76eaaf.jpg\n",
      "t_V_26a2893b-5158-406f-9faa-f5f1f0c053ce.jpg\n",
      "t_V_2a6aa735-4b8a-461b-94f7-aca3bb2d0c00.jpg\n",
      "t_V_32abce7a-60c0-4a3f-bf28-3df2aa3125e7.jpg\n",
      "t_V_3adbb7ab-c45b-470a-8f79-9fe87ac3ae4f.jpg\n",
      "t_V_44507ced-dc2f-41db-94bf-5bf4283568a7.jpg\n",
      "t_V_4c6d3863-edfb-4843-89d9-c9fcbf06c581.jpg\n",
      "t_V_53551eae-4a7b-45c3-9546-0c9d8c145216.jpg\n",
      "t_V_58d132a0-da7f-45c7-a569-7a2eb1a4d368.jpg\n",
      "t_V_59232768-fd7c-42c4-90ff-5f1122369481.jpg\n",
      "t_V_592dfa97-8f7e-4cf0-9f0e-80119a3814df.jpg\n",
      "t_V_5e7497f4-bb7f-4d62-9014-bc6ae09bb54c.jpg\n",
      "t_V_5f6ecb83-2fa7-43cb-8728-8151c5c54b8d.jpg\n",
      "t_V_6541fb41-1b14-46a9-8243-b7c75c18fc18.jpg\n",
      "t_V_72397d4c-c128-4e90-8757-748de3d31ffc.jpg\n",
      "t_V_79ee8125-3715-445e-b550-7c9a44a786c0.jpg\n",
      "t_V_8177dea7-d0e9-4a82-9122-aeefbd49cfdc.jpg\n",
      "t_V_8b905f97-aff5-4a8b-8b9a-0fd2dd2e62cf.jpg\n",
      "t_V_8e32dc7b-84ad-4a96-b7de-d0272ccdb43c.jpg\n",
      "t_V_91630c74-d649-464b-b8dd-54a690683008.jpg\n",
      "t_V_9e0f319d-0619-444b-bef1-80ed66409ee1.jpg\n",
      "t_V_a171ade0-8e5d-4d3f-911c-8c990a5cff04.jpg\n",
      "t_V_abc45f1b-5053-49e2-9baa-9f2179a7cb7e.jpg\n",
      "t_V_ade20eac-c451-4411-9134-69de69eaa136.jpg\n",
      "t_V_b42acc6d-41a0-49b4-91d2-da9d6b6d9117.jpg\n",
      "t_V_b7501101-e2ad-4fcf-9101-0f97c925da39.jpg\n",
      "t_V_b7c9e2a1-71d1-4a78-b7ad-ec9496a5d08d.jpg\n",
      "t_V_c148eea7-3501-4762-bf46-2e34293538b8.jpg\n",
      "t_V_c7ef5300-65b4-4a46-b277-905b278b6f99.jpg\n",
      "t_V_c84942fb-1072-4489-a90d-6013876748e7.jpg\n",
      "t_V_cf07cc2d-1b22-405e-afcf-aaa8cc30cd1b.jpg\n",
      "t_V_e503d0e7-5fa7-4802-bf94-818da6174945.jpg\n",
      "t_V_e9733cf2-fa80-4e3b-a5ab-84eff6bbf762.jpg\n",
      "t_V_f099dbaa-9758-4c3a-9723-fe2e45b8f2a5.jpg\n",
      "t_V_f1971cc1-a0d5-478f-ae4b-a61b27ba68c2.jpg\n",
      "t_V_f67efbaf-3451-4d66-bc34-c0b39282bd8e.jpg\n",
      "t_V_fa958a08-ded4-4fda-bef4-40e15aed1eec.jpg\n",
      "t_V_ffd60258-7efb-449b-94ce-2c4ea85ae448.jpg\n",
      "t_W_008052d7-22ad-413c-85ae-906460693e8f.jpg\n",
      "t_W_11af4225-c06a-4c00-9a65-e24f14b6d34a.jpg\n",
      "t_W_126ceead-0eee-4a25-984e-4a61e50c1580.jpg\n",
      "t_W_1cfa0095-cc13-4fb4-866a-d1fedde90e37.jpg\n",
      "t_W_1db65663-6387-44d4-9286-808e0cfd3a4f.jpg\n",
      "t_W_1ed31e55-caae-4c9f-a576-ba1524f565db.jpg\n",
      "t_W_2579bac1-a5ea-4bf1-99ff-5070fe7f397b.jpg\n",
      "t_W_28411175-123d-482a-8f34-2e167d5b3a87.jpg\n",
      "t_W_2bde9926-7d98-4656-881c-86cab900197e.jpg\n",
      "t_W_2ce9466e-43b3-40c8-8471-dbab5b633364.jpg\n",
      "t_W_32ea3bb0-18fa-410d-b936-047c9362ca97.jpg\n",
      "t_W_40ec1ee8-608f-4adf-ae60-bcc54ed41a6e.jpg\n",
      "t_W_45c5e4af-e839-4768-b85b-b41b37d2a237.jpg\n",
      "t_W_4b2e3dc2-779e-4037-8346-86c324ac4717.jpg\n",
      "t_W_4f23d488-23bb-41ce-bca5-df7f15322060.jpg\n",
      "t_W_5a4fcf81-1f0c-468f-907c-4e5b9f2ddea0.jpg\n",
      "t_W_74791f7e-54ed-46b3-a23c-dbbba396fdd6.jpg\n",
      "t_W_7b520a9a-a836-4859-8938-6e857556b4da.jpg\n",
      "t_W_7cba2d8f-98d0-4243-9312-cedaae75b8e7.jpg\n",
      "t_W_80c83061-9f4a-4212-ad97-bb352988ebcd.jpg\n",
      "t_W_8a1b74ca-aa66-4a6c-aa16-ea06ee8e0093.jpg\n",
      "t_W_8d738191-195f-4f17-9b05-ce7109477776.jpg\n",
      "t_W_906bbb60-8419-4657-a5d9-143b4ac7e871.jpg\n",
      "t_W_96788064-b917-4f2a-be4f-49cf887dd33c.jpg\n",
      "t_W_9aeb47d6-2e92-4df3-afde-062203c15aba.jpg\n",
      "t_W_a2a0ad44-9aa9-465f-80ec-a69aaad35892.jpg\n",
      "t_W_ac0ec5f3-0053-4ac8-bb8b-7ca9f1fae771.jpg\n",
      "t_W_b22b517a-6248-4b7a-b1b3-c9d08c7cf602.jpg\n",
      "t_W_bc9df17d-5d17-4a1b-9781-0559a242bbfc.jpg\n",
      "t_W_ca2f5c48-896f-45e5-b6d6-4c5c78684e65.jpg\n",
      "t_W_ca50fe03-0879-45dd-ae8b-9cefd9805e65.jpg\n",
      "t_W_ce852996-a31e-4f3a-8c07-0b77f90cebe3.jpg\n",
      "t_W_d33ef798-95f3-4cec-9662-28d9e628126b.jpg\n",
      "t_W_ea041374-0924-4727-97cb-7860676c318f.jpg\n",
      "t_W_f1c1296b-a4ac-443e-aaae-dc182e0391ac.jpg\n",
      "t_W_f283c4cc-b5ff-408c-ab4b-749d108b0b74.jpg\n",
      "t_W_faba9f79-c199-4c4c-92c1-1d4e7b8863a2.jpg\n",
      "t_W_fc2dbb77-5412-439c-b577-41ecef90a1df.jpg\n",
      "t_X_0f327a98-6494-4da9-8885-81e0302e9ef5.jpg\n",
      "t_X_0fd6637a-7ce9-4a53-ba3b-0618d0dbd49a.jpg\n",
      "t_X_13447289-6747-40bd-9c56-c7084b4e1555.jpg\n",
      "t_X_23102386-c93e-44c7-97aa-8029f885b3a8.jpg\n",
      "t_X_2f1f45e6-0294-4cfa-90af-f0009571d13a.jpg\n",
      "t_X_387bb774-b7d2-42b8-a3b1-fb020f6a0687.jpg\n",
      "t_X_3a36e3c3-9bf1-40c4-b2f5-3ae86e5057bd.jpg\n",
      "t_X_3e29331b-990d-4c11-a4d7-51490d449c42.jpg\n",
      "t_X_3ed0d2c9-984d-49e1-a6dc-55dd7329180e.jpg\n",
      "t_X_465c052a-15d7-48b5-b7e0-53c0592f28f0.jpg\n",
      "t_X_48cb5119-b399-4286-a1d3-86fcf670379f.jpg\n",
      "t_X_4eb212b5-9635-474c-8a69-29771b150c80.jpg\n",
      "t_X_52f07ae6-2fd9-440f-bd63-e57b1a0b6ffc.jpg\n",
      "t_X_52fe4c78-c64c-4ba5-b3a0-ec28fab68465.jpg\n",
      "t_X_58052d43-307f-4516-96c3-716af8df8115.jpg\n",
      "t_X_59c4a1cc-bdd6-4278-89b8-9993ae6163b2.jpg\n",
      "t_X_5cd17b1d-ec93-465f-80e5-69710c757ffc.jpg\n",
      "t_X_87266471-b8cc-4f43-8a32-620ad1211b36.jpg\n",
      "t_X_8d2039aa-ea41-4870-a141-59ba9eb3fdd6.jpg\n",
      "t_X_9044bf5c-de06-4afb-8e10-9bbcb83bf7a7.jpg\n",
      "t_X_90c00962-5f40-4fba-8446-b6ca8bb0be79.jpg\n",
      "t_X_92913781-b617-4d0b-bcd2-c258ca953337.jpg\n",
      "t_X_93ccf633-8d6e-4205-9c01-7ac348ef621d.jpg\n",
      "t_X_9572fae4-c026-415d-b3b1-63836d715c3c.jpg\n",
      "t_X_9821bc48-db2d-4e79-9ce0-65a050f79790.jpg\n",
      "t_X_9e0d8ef1-7014-48b1-8b89-03492adc0d78.jpg\n",
      "t_X_a3ce7338-44fe-438d-9b5d-8cd74c0e3da2.jpg\n",
      "t_X_aa91ac83-0887-4fd6-9184-e1301a61c3dd.jpg\n",
      "t_X_bc530642-34b9-4049-8d0e-ab97f14f5493.jpg\n",
      "t_X_c367e69b-ec7a-4e57-ab5e-d6b277ea83fd.jpg\n",
      "t_X_c580efb6-8527-4b73-987d-0e3128c595f0.jpg\n",
      "t_X_cb6d77f3-8d0f-4ae2-9dc1-c6be8ddc7780.jpg\n",
      "t_X_d00be882-b378-44bc-a995-8c22a3dd6fc5.jpg\n",
      "t_X_d911cd17-e3ec-4aee-a34e-de368584f5b9.jpg\n",
      "t_X_e13adaa4-7f1c-4c4b-8b9f-fcc49249a425.jpg\n",
      "t_X_e65896ca-ea6f-4d76-8d58-009f69e24c70.jpg\n",
      "t_X_e851e4b5-30cb-4947-99f0-a836361781bf.jpg\n",
      "t_X_e954c4f9-548a-488b-ae59-2b9c471c469e.jpg\n",
      "t_X_ef7458d1-150a-4dde-865a-eea35b6c8d33.jpg\n",
      "t_X_f4bb56c2-e25d-46e5-9bbb-86b0e7a50870.jpg\n",
      "t_X_fa055bc6-a4d6-4b7d-9d0e-96b20c9ae94e.jpg\n",
      "t_X_fd4a57d9-060d-4f53-aa30-cd35c9fe1e9b.jpg\n",
      "t_Y_0af39362-a380-4bc4-9745-4d4b888afe07.jpg\n",
      "t_Y_14013c0e-b164-4d0e-9be5-f6f854b841bd.jpg\n",
      "t_Y_1561cc01-2010-4f05-ae9f-5cda9ab9dedd.jpg\n",
      "t_Y_1720d386-fe0f-432f-abeb-56af5716caec.jpg\n",
      "t_Y_219f50d7-2226-4aa4-9e5f-72820248f9b9.jpg\n",
      "t_Y_221a38f9-c946-4bf0-9572-20d1baaf59b7.jpg\n",
      "t_Y_2afa5593-ba03-43a3-a376-c481494a3549.jpg\n",
      "t_Y_30860fbd-92ce-442f-be55-9f0d4fca8ac9.jpg\n",
      "t_Y_476ad462-a4d4-4860-95f8-ae027c2cd2c9.jpg\n",
      "t_Y_4c772f4a-9f74-47b9-bbd5-2bc61e171404.jpg\n",
      "t_Y_4d80afe6-43a4-41fd-8e35-73d114216981.jpg\n",
      "t_Y_550d0402-985e-4fdb-a1dc-d4d7c03e9a55.jpg\n",
      "t_Y_5bcb5c72-71e9-458a-ac81-bab756fd9b1d.jpg\n",
      "t_Y_62fb8ba6-8b46-46b3-93eb-9e1f2e0c62d9.jpg\n",
      "t_Y_7a922b07-c404-4446-8afd-d9317ce2756d.jpg\n",
      "t_Y_7b6da049-76f0-4c70-a7e7-52424d1e73f4.jpg\n",
      "t_Y_7ff41822-0b38-421e-be01-9eece8a2c4f3.jpg\n",
      "t_Y_887b0f9f-75d8-416c-b272-7b61fc4332b0.jpg\n",
      "t_Y_89a0c418-25af-46d4-a75a-90a9437f2bbc.jpg\n",
      "t_Y_95610f3a-c204-4430-9155-5c7727835f49.jpg\n",
      "t_Y_9eb67cf7-7a0c-44f9-97ce-e6fa1eb6afb5.jpg\n",
      "t_Y_a3997e89-0497-423e-bfed-6739df3bd173.jpg\n",
      "t_Y_a603f2f0-e57f-4297-ad5c-980bb0796390.jpg\n",
      "t_Y_b9c635aa-986e-4e4a-bdc8-a3d4b7d16e6f.jpg\n",
      "t_Y_c5280a68-64a5-4f4a-bc18-912697359a1b.jpg\n",
      "t_Y_d9146977-1783-4e19-bc44-1a54e772d51a.jpg\n",
      "t_Y_e9479182-c018-40f4-854c-4f2c89f81106.jpg\n",
      "t_Y_ec500512-d2cf-4315-9d7c-14dd685c9b32.jpg\n",
      "t_Y_eec20113-e2d2-4550-91ef-1d6770fe00e2.jpg\n"
     ]
    }
   ],
   "source": [
    "for file_name in onlyfiles:\n",
    "\n",
    "    image = cv2.imread(os.path.join(dir_parts,file_name))\n",
    "    \n",
    "    print(file_name)\n",
    "\n",
    "    image=cv2.cvtColor(image, cv2.COLOR_BGR2GRAY)\n",
    "\n",
    "    #image = cv2.resize(image, (40, 40))\n",
    "\n",
    "    plt.imsave(os.path.join(augmented_path, file_name), image , cmap = plt.cm.gray)\n",
    "\n",
    "    image = image.reshape([image.shape[0], image.shape[1],1])\n",
    "\n",
    "    for i in np.arange(250):\n",
    "        new = train_preprocess(image)\n",
    "        new = new.reshape([new.shape[0], new.shape[1]])\n",
    "        plt.imsave(os.path.join(augmented_path,'{}_{}.jpg'.format(file_name[:3],uuid.uuid4())), new , cmap = plt.cm.gray)"
   ]
  },
  {
   "cell_type": "code",
   "execution_count": 2,
   "metadata": {},
   "outputs": [
    {
     "ename": "NameError",
     "evalue": "name 'glob' is not defined",
     "output_type": "error",
     "traceback": [
      "\u001b[1;31m---------------------------------------------------------------------------\u001b[0m",
      "\u001b[1;31mNameError\u001b[0m                                 Traceback (most recent call last)",
      "\u001b[1;32m<ipython-input-2-0b29b98557ad>\u001b[0m in \u001b[0;36m<module>\u001b[1;34m\u001b[0m\n\u001b[1;32m----> 1\u001b[1;33m \u001b[0maddrs\u001b[0m \u001b[1;33m=\u001b[0m \u001b[0mglob\u001b[0m\u001b[1;33m.\u001b[0m\u001b[0mglob\u001b[0m\u001b[1;33m(\u001b[0m\u001b[1;34mr'C:\\Users\\Mihail\\augmented'\u001b[0m\u001b[1;33m)\u001b[0m\u001b[1;33m\u001b[0m\u001b[1;33m\u001b[0m\u001b[0m\n\u001b[0m",
      "\u001b[1;31mNameError\u001b[0m: name 'glob' is not defined"
     ]
    }
   ],
   "source": [
    "addrs = glob.glob(dir_parts)"
   ]
  },
  {
   "cell_type": "code",
   "execution_count": 9,
   "metadata": {},
   "outputs": [],
   "source": [
    "labels_basic = [addr.split(\"\\\\\")[-1][2:3] for addr in addrs]"
   ]
  },
  {
   "cell_type": "code",
   "execution_count": 10,
   "metadata": {},
   "outputs": [],
   "source": [
    "le = preprocessing.LabelEncoder()"
   ]
  },
  {
   "cell_type": "code",
   "execution_count": 11,
   "metadata": {},
   "outputs": [
    {
     "data": {
      "text/plain": [
       "LabelEncoder()"
      ]
     },
     "execution_count": 11,
     "metadata": {},
     "output_type": "execute_result"
    }
   ],
   "source": [
    "le.fit(labels_basic)"
   ]
  },
  {
   "cell_type": "code",
   "execution_count": 12,
   "metadata": {},
   "outputs": [],
   "source": [
    "_ = joblib.dump(le, r'D:\\imageRecognition\\labelencoder.joblib', compress=9)"
   ]
  },
  {
   "cell_type": "code",
   "execution_count": 142,
   "metadata": {},
   "outputs": [],
   "source": [
    "le = joblib.load(r'D:\\imageRecognition\\labelencoder.joblib')"
   ]
  },
  {
   "cell_type": "code",
   "execution_count": 174,
   "metadata": {},
   "outputs": [
    {
     "data": {
      "text/plain": [
       "array(['0', '1', '2', '3', '4', '5', '6', '7', '8', '9', 'A', 'B', 'C',\n",
       "       'D', 'E', 'F', 'G', 'H', 'I', 'J', 'K', 'L', 'M', 'N', 'O', 'P',\n",
       "       'Q', 'R', 'S', 'T', 'U', 'V', 'W', 'X', 'Y'], dtype='<U1')"
      ]
     },
     "execution_count": 174,
     "metadata": {},
     "output_type": "execute_result"
    }
   ],
   "source": [
    "le.classes_"
   ]
  },
  {
   "cell_type": "code",
   "execution_count": 151,
   "metadata": {},
   "outputs": [],
   "source": [
    "img = load_image(train_addrs[0])"
   ]
  },
  {
   "cell_type": "code",
   "execution_count": 152,
   "metadata": {},
   "outputs": [
    {
     "data": {
      "text/plain": [
       "(40, 40)"
      ]
     },
     "execution_count": 152,
     "metadata": {},
     "output_type": "execute_result"
    }
   ],
   "source": [
    "img.shape"
   ]
  },
  {
   "cell_type": "code",
   "execution_count": null,
   "metadata": {},
   "outputs": [],
   "source": []
  },
  {
   "cell_type": "code",
   "execution_count": 13,
   "metadata": {},
   "outputs": [],
   "source": [
    "labels = le.transform(labels_basic) "
   ]
  },
  {
   "cell_type": "code",
   "execution_count": 14,
   "metadata": {},
   "outputs": [],
   "source": [
    "# read addresses and labels from the 'train' folder\n",
    "  # 0 = Cat, 1 = Dog\n",
    "# to shuffle data\n",
    "if shuffle_data:\n",
    "    c = list(zip(addrs, labels))\n",
    "    shuffle(c)\n",
    "    addrs, labels = zip(*c)\n",
    "    \n",
    "# Divide the hata into 60% train, 20% validation, and 20% test\n",
    "train_addrs = addrs[0:int(0.8*len(addrs))]\n",
    "train_labels = labels[0:int(0.8*len(labels))]\n",
    "test_addrs = addrs[int(0.8*len(addrs)):]\n",
    "test_labels = labels[int(0.8*len(labels)):]"
   ]
  },
  {
   "cell_type": "code",
   "execution_count": 3,
   "metadata": {},
   "outputs": [
    {
     "ename": "NameError",
     "evalue": "name 'train_labels' is not defined",
     "output_type": "error",
     "traceback": [
      "\u001b[1;31m---------------------------------------------------------------------------\u001b[0m",
      "\u001b[1;31mNameError\u001b[0m                                 Traceback (most recent call last)",
      "\u001b[1;32m<ipython-input-3-b866f921e498>\u001b[0m in \u001b[0;36m<module>\u001b[1;34m\u001b[0m\n\u001b[1;32m----> 1\u001b[1;33m \u001b[0mtrain_labels\u001b[0m\u001b[1;33m\u001b[0m\u001b[1;33m\u001b[0m\u001b[0m\n\u001b[0m",
      "\u001b[1;31mNameError\u001b[0m: name 'train_labels' is not defined"
     ]
    }
   ],
   "source": [
    "len(train_addrs)"
   ]
  },
  {
   "cell_type": "code",
   "execution_count": 176,
   "metadata": {},
   "outputs": [],
   "source": [
    "from absl import app as absl_app "
   ]
  },
  {
   "cell_type": "code",
   "execution_count": 14,
   "metadata": {},
   "outputs": [],
   "source": [
    "w,h=40,40"
   ]
  },
  {
   "cell_type": "code",
   "execution_count": 153,
   "metadata": {},
   "outputs": [],
   "source": [
    "def load_image(addr):\n",
    "    # read an image and resize to (224, 224)\n",
    "    # cv2 load images as BGR, convert it to RGB\n",
    "    img = cv2.imread(addr)\n",
    "    img = cv2.cvtColor(img, cv2.COLOR_BGR2GRAY)\n",
    "    img = cv2.resize(img, (w, h), interpolation=cv2.INTER_CUBIC)\n",
    "    img = img.astype(np.float32)\n",
    "    return img"
   ]
  },
  {
   "cell_type": "code",
   "execution_count": 119,
   "metadata": {},
   "outputs": [],
   "source": [
    "def _int64_feature(value):\n",
    "    return tf.train.Feature(int64_list=tf.train.Int64List(value=[value]))\n",
    "def _bytes_feature(value):\n",
    "    return tf.train.Feature(bytes_list=tf.train.BytesList(value=[value]))"
   ]
  },
  {
   "cell_type": "code",
   "execution_count": 120,
   "metadata": {},
   "outputs": [
    {
     "name": "stdout",
     "output_type": "stream",
     "text": [
      "Train data: 0/289754\n",
      "0\n",
      "10000\n",
      "20000\n",
      "30000\n",
      "40000\n",
      "50000\n",
      "60000\n",
      "70000\n",
      "80000\n",
      "90000\n",
      "Train data: 100000/289754\n",
      "100000\n",
      "110000\n",
      "120000\n",
      "130000\n",
      "140000\n",
      "150000\n",
      "160000\n",
      "170000\n",
      "180000\n",
      "190000\n",
      "Train data: 200000/289754\n",
      "200000\n",
      "210000\n",
      "220000\n",
      "230000\n",
      "240000\n",
      "250000\n",
      "260000\n",
      "270000\n",
      "280000\n"
     ]
    }
   ],
   "source": [
    "train_filename = r'C:\\Users\\odkon\\fecredit\\tfrecords\\train_1.tfrecords' # address to save the TFRecords file\n",
    "# open the TFRecords file\n",
    "writer = tf.python_io.TFRecordWriter(train_filename)\n",
    "\n",
    "j=1\n",
    "for i in range(len(train_addrs)):\n",
    "    # print how many images are saved every 1000 images\n",
    "    if not i % 100000:\n",
    "        print('Train data: {}/{}'.format(i, len(train_addrs)))\n",
    "        writer.close()\n",
    "        train_filename = r'C:\\Users\\odkon\\fecredit\\tfrecords\\train_{}.tfrecords'.format(j)  # address to save the TFRecords file\n",
    "        # open the TFRecords file\n",
    "        writer = tf.python_io.TFRecordWriter(train_filename)\n",
    "        j=j+1\n",
    "        sys.stdout.flush()\n",
    "    # Load the image\n",
    "    \n",
    "    if not i % 10000:\n",
    "        print(i)\n",
    "    img = load_image(train_addrs[i])\n",
    "    label = train_labels[i]\n",
    "    # Create a feature\n",
    "    feature = {'label': _int64_feature(label),\n",
    "               'image': _bytes_feature(tf.compat.as_bytes(img.tostring()))}\n",
    "    # Create an example protocol buffer\n",
    "    example = tf.train.Example(features=tf.train.Features(feature=feature))\n",
    "    \n",
    "    # Serialize to string and write on the file\n",
    "    writer.write(example.SerializeToString())\n",
    "    \n",
    "writer.close()\n",
    "sys.stdout.flush()"
   ]
  },
  {
   "cell_type": "code",
   "execution_count": 121,
   "metadata": {},
   "outputs": [
    {
     "name": "stdout",
     "output_type": "stream",
     "text": [
      "Train data: 0/72439\n",
      "0\n",
      "10000\n",
      "20000\n",
      "30000\n",
      "40000\n",
      "50000\n",
      "60000\n",
      "70000\n"
     ]
    }
   ],
   "source": [
    "train_filename = r'C:\\Users\\odkon\\fecredit\\tfrecords\\test_1.tfrecords' # address to save the TFRecords file\n",
    "# open the TFRecords file\n",
    "writer = tf.python_io.TFRecordWriter(train_filename)\n",
    "\n",
    "j=1\n",
    "for i in range(len(test_addrs)):\n",
    "    # print how many images are saved every 1000 images\n",
    "    if not i % 100000:\n",
    "        print('Train data: {}/{}'.format(i, len(test_addrs)))\n",
    "        writer.close()\n",
    "        train_filename = r'C:\\Users\\odkon\\fecredit\\tfrecords\\test_{}.tfrecords'.format(j)  # address to save the TFRecords file\n",
    "        # open the TFRecords file\n",
    "        writer = tf.python_io.TFRecordWriter(train_filename)\n",
    "        j=j+1\n",
    "        sys.stdout.flush()\n",
    "    # Load the image\n",
    "    \n",
    "    if not i % 10000:\n",
    "        print(i)\n",
    "    img = load_image(test_addrs[i])\n",
    "    label = test_labels[i]\n",
    "    # Create a feature\n",
    "    feature = {'label': _int64_feature(label),\n",
    "               'image': _bytes_feature(tf.compat.as_bytes(img.tostring()))}\n",
    "    # Create an example protocol buffer\n",
    "    example = tf.train.Example(features=tf.train.Features(feature=feature))\n",
    "    \n",
    "    # Serialize to string and write on the file\n",
    "    writer.write(example.SerializeToString())\n",
    "    \n",
    "writer.close()\n",
    "sys.stdout.flush()"
   ]
  },
  {
   "cell_type": "code",
   "execution_count": 2,
   "metadata": {},
   "outputs": [],
   "source": [
    "def _parse_function(proto):\n",
    "    # define your tfrecord again. Remember that you saved your image as a string.\n",
    "    keys_to_features = {'image': tf.FixedLenFeature([], tf.string),\n",
    "                        'label': tf.FixedLenFeature([], tf.int64)}\n",
    "    \n",
    "    # Load one example\n",
    "    parsed_features = tf.parse_single_example(proto, keys_to_features)\n",
    "    \n",
    "    # Turn your saved image string into an array\n",
    "    parsed_features['image'] = tf.decode_raw(parsed_features['image'], tf.float32)\n",
    "    \n",
    "    parsed_features['image'] = tf.reshape(parsed_features['image'], [-1, h, w, 1])\n",
    "    parsed_features['label'] = tf.cast(parsed_features['label'],  tf.int64)\n",
    "    \n",
    "    return parsed_features['image'], parsed_features['label']"
   ]
  },
  {
   "cell_type": "code",
   "execution_count": 3,
   "metadata": {},
   "outputs": [],
   "source": [
    "class EvaluateInputTensor(Callback):\n",
    "    \"\"\" Validate a model which does not expect external numpy data during training.\n",
    "\n",
    "    Keras does not expect external numpy data at training time, and thus cannot\n",
    "    accept numpy arrays for validation when all of a Keras Model's\n",
    "    `Input(input_tensor)` layers are provided an  `input_tensor` parameter,\n",
    "    and the call to `Model.compile(target_tensors)` defines all `target_tensors`.\n",
    "    Instead, create a second model for validation which is also configured\n",
    "    with input tensors and add it to the `EvaluateInputTensor` callback\n",
    "    to perform validation.\n",
    "\n",
    "    It is recommended that this callback be the first in the list of callbacks\n",
    "    because it defines the validation variables required by many other callbacks,\n",
    "    and Callbacks are made in order.\n",
    "\n",
    "    # Arguments\n",
    "        model: Keras model on which to call model.evaluate().\n",
    "        steps: Integer or `None`.\n",
    "            Total number of steps (batches of samples)\n",
    "            before declaring the evaluation round finished.\n",
    "            Ignored with the default value of `None`.\n",
    "    \"\"\"\n",
    "\n",
    "    def __init__(self, model, steps, metrics_prefix='val', verbose=1):\n",
    "        # parameter of callbacks passed during initialization\n",
    "        # pass evalation mode directly\n",
    "        super(EvaluateInputTensor, self).__init__()\n",
    "        self.val_model = model\n",
    "        self.num_steps = steps\n",
    "        self.verbose = verbose\n",
    "        self.metrics_prefix = metrics_prefix\n",
    "\n",
    "    def on_epoch_end(self, epoch, logs={}):\n",
    "        self.val_model.set_weights(self.model.get_weights())\n",
    "        results = self.val_model.evaluate(None, None, steps=int(self.num_steps),\n",
    "                                          verbose=self.verbose)\n",
    "        metrics_str = '\\n'\n",
    "        for result, name in zip(results, self.val_model.metrics_names):\n",
    "            metric_name = self.metrics_prefix + '_' + name\n",
    "            logs[metric_name] = result\n",
    "            if self.verbose > 0:\n",
    "                metrics_str = metrics_str + metric_name + ': ' + str(result) + ' '\n",
    "\n",
    "        if self.verbose > 0:\n",
    "            print(metrics_str)"
   ]
  },
  {
   "cell_type": "code",
   "execution_count": 6,
   "metadata": {},
   "outputs": [],
   "source": [
    "def cnn_layers(x_train_input):\n",
    "    x = layers.Conv2D(32, (3, 3),\n",
    "                      activation='relu', padding='valid')(x_train_input)\n",
    "    x = layers.MaxPooling2D(pool_size=(2, 2))(x)\n",
    "    x = layers.Conv2D(64, (3, 3), activation='relu')(x)\n",
    "    x = layers.MaxPooling2D(pool_size=(2, 2))(x)\n",
    "    x = layers.Flatten()(x)\n",
    "    x = layers.Dense(512, activation='relu')(x)\n",
    "    x = layers.Dropout(0.5)(x)\n",
    "    x_train_out = layers.Dense(NUM_CLASSES,\n",
    "                               activation='softmax',\n",
    "                               name='x_train_out')(x)\n",
    "    return x_train_out"
   ]
  },
  {
   "cell_type": "code",
   "execution_count": 7,
   "metadata": {},
   "outputs": [],
   "source": [
    "epochs = 15\n",
    "capacity = 10000\n",
    "min_after_dequeue = 3000\n",
    "enqueue_many = True\n",
    "NUM_CLASSES = 35\n",
    "SUM_OF_ALL_DATASAMPLES=100000\n",
    "BATCHSIZE=128\n",
    "STEPS_PER_EPOCH= SUM_OF_ALL_DATASAMPLES / BATCHSIZE\n",
    "w, h = 40,40\n"
   ]
  },
  {
   "cell_type": "code",
   "execution_count": 20,
   "metadata": {
    "scrolled": true
   },
   "outputs": [
    {
     "name": "stdout",
     "output_type": "stream",
     "text": [
      "Epoch 1/15\n",
      "100/100 [==============================] - 13s 132ms/step - loss: 15.5664 - acc: 0.0309\n",
      "100/100 [==============================] - 5s 49ms/step\n",
      "\n",
      "val_loss: 15.676112518310546 val_acc: 0.027421875 \n",
      "Epoch 2/15\n",
      "100/100 [==============================] - 14s 137ms/step - loss: 15.5381 - acc: 0.0315\n",
      "100/100 [==============================] - 4s 44ms/step\n",
      "\n",
      "val_loss: 15.401607570648194 val_acc: 0.02984375 \n",
      "Epoch 3/15\n",
      "100/100 [==============================] - 13s 133ms/step - loss: 15.5368 - acc: 0.0298\n",
      "100/100 [==============================] - 4s 43ms/step\n",
      "\n",
      "val_loss: 15.62841209411621 val_acc: 0.03 \n",
      "Epoch 4/15\n",
      "100/100 [==============================] - 13s 133ms/step - loss: 15.5272 - acc: 0.0313\n",
      "100/100 [==============================] - 4s 44ms/step\n",
      "\n",
      "val_loss: 15.610632734298706 val_acc: 0.031484375 \n",
      "Epoch 5/15\n",
      "100/100 [==============================] - 13s 135ms/step - loss: 15.5350 - acc: 0.0283\n",
      "100/100 [==============================] - 4s 43ms/step\n",
      "\n",
      "val_loss: 15.174227256774902 val_acc: 0.026875 \n",
      "Epoch 6/15\n",
      "100/100 [==============================] - 13s 134ms/step - loss: 8.1134 - acc: 0.0301\n",
      "100/100 [==============================] - 4s 43ms/step\n",
      "\n",
      "val_loss: 3.5658480095863343 val_acc: 0.034765625 \n",
      "Epoch 7/15\n",
      "100/100 [==============================] - 14s 139ms/step - loss: 3.5622 - acc: 0.0365\n",
      "100/100 [==============================] - 4s 43ms/step\n",
      "\n",
      "val_loss: 3.5398582124710085 val_acc: 0.041640625 \n",
      "Epoch 8/15\n",
      " 91/100 [==========================>...] - ETA: 1s - loss: 3.5405 - acc: 0.0424"
     ]
    },
    {
     "ename": "KeyboardInterrupt",
     "evalue": "",
     "output_type": "error",
     "traceback": [
      "\u001b[1;31m---------------------------------------------------------------------------\u001b[0m",
      "\u001b[1;31mKeyboardInterrupt\u001b[0m                         Traceback (most recent call last)",
      "\u001b[1;32m<ipython-input-20-7ce425df5d85>\u001b[0m in \u001b[0;36m<module>\u001b[1;34m\u001b[0m\n\u001b[0;32m     46\u001b[0m                                                         \u001b[1;33m,\u001b[0m \u001b[0mwrite_grads\u001b[0m\u001b[1;33m=\u001b[0m\u001b[1;32mFalse\u001b[0m\u001b[1;33m,\u001b[0m \u001b[0mwrite_images\u001b[0m\u001b[1;33m=\u001b[0m\u001b[1;32mFalse\u001b[0m\u001b[1;33m\u001b[0m\u001b[1;33m\u001b[0m\u001b[0m\n\u001b[0;32m     47\u001b[0m                                                        \u001b[1;33m,\u001b[0m \u001b[0membeddings_freq\u001b[0m\u001b[1;33m=\u001b[0m\u001b[1;36m0\u001b[0m\u001b[1;33m,\u001b[0m \u001b[0membeddings_layer_names\u001b[0m\u001b[1;33m=\u001b[0m\u001b[1;32mNone\u001b[0m\u001b[1;33m\u001b[0m\u001b[1;33m\u001b[0m\u001b[0m\n\u001b[1;32m---> 48\u001b[1;33m                                                         , embeddings_metadata=None, embeddings_data=None)\n\u001b[0m\u001b[0;32m     49\u001b[0m \u001b[1;33m\u001b[0m\u001b[0m\n\u001b[0;32m     50\u001b[0m \u001b[1;33m\u001b[0m\u001b[0m\n",
      "\u001b[1;32m~\\Anaconda3\\lib\\site-packages\\keras\\engine\\training.py\u001b[0m in \u001b[0;36mfit\u001b[1;34m(self, x, y, batch_size, epochs, verbose, callbacks, validation_split, validation_data, shuffle, class_weight, sample_weight, initial_epoch, steps_per_epoch, validation_steps, **kwargs)\u001b[0m\n\u001b[0;32m   1037\u001b[0m                                         \u001b[0minitial_epoch\u001b[0m\u001b[1;33m=\u001b[0m\u001b[0minitial_epoch\u001b[0m\u001b[1;33m,\u001b[0m\u001b[1;33m\u001b[0m\u001b[1;33m\u001b[0m\u001b[0m\n\u001b[0;32m   1038\u001b[0m                                         \u001b[0msteps_per_epoch\u001b[0m\u001b[1;33m=\u001b[0m\u001b[0msteps_per_epoch\u001b[0m\u001b[1;33m,\u001b[0m\u001b[1;33m\u001b[0m\u001b[1;33m\u001b[0m\u001b[0m\n\u001b[1;32m-> 1039\u001b[1;33m                                         validation_steps=validation_steps)\n\u001b[0m\u001b[0;32m   1040\u001b[0m \u001b[1;33m\u001b[0m\u001b[0m\n\u001b[0;32m   1041\u001b[0m     def evaluate(self, x=None, y=None,\n",
      "\u001b[1;32m~\\Anaconda3\\lib\\site-packages\\keras\\engine\\training_arrays.py\u001b[0m in \u001b[0;36mfit_loop\u001b[1;34m(model, f, ins, out_labels, batch_size, epochs, verbose, callbacks, val_f, val_ins, shuffle, callback_metrics, initial_epoch, steps_per_epoch, validation_steps)\u001b[0m\n\u001b[0;32m    152\u001b[0m                 \u001b[0mbatch_logs\u001b[0m\u001b[1;33m[\u001b[0m\u001b[1;34m'size'\u001b[0m\u001b[1;33m]\u001b[0m \u001b[1;33m=\u001b[0m \u001b[1;36m1\u001b[0m\u001b[1;33m\u001b[0m\u001b[1;33m\u001b[0m\u001b[0m\n\u001b[0;32m    153\u001b[0m                 \u001b[0mcallbacks\u001b[0m\u001b[1;33m.\u001b[0m\u001b[0mon_batch_begin\u001b[0m\u001b[1;33m(\u001b[0m\u001b[0mstep_index\u001b[0m\u001b[1;33m,\u001b[0m \u001b[0mbatch_logs\u001b[0m\u001b[1;33m)\u001b[0m\u001b[1;33m\u001b[0m\u001b[1;33m\u001b[0m\u001b[0m\n\u001b[1;32m--> 154\u001b[1;33m                 \u001b[0mouts\u001b[0m \u001b[1;33m=\u001b[0m \u001b[0mf\u001b[0m\u001b[1;33m(\u001b[0m\u001b[0mins\u001b[0m\u001b[1;33m)\u001b[0m\u001b[1;33m\u001b[0m\u001b[1;33m\u001b[0m\u001b[0m\n\u001b[0m\u001b[0;32m    155\u001b[0m \u001b[1;33m\u001b[0m\u001b[0m\n\u001b[0;32m    156\u001b[0m                 \u001b[0mouts\u001b[0m \u001b[1;33m=\u001b[0m \u001b[0mto_list\u001b[0m\u001b[1;33m(\u001b[0m\u001b[0mouts\u001b[0m\u001b[1;33m)\u001b[0m\u001b[1;33m\u001b[0m\u001b[1;33m\u001b[0m\u001b[0m\n",
      "\u001b[1;32m~\\Anaconda3\\lib\\site-packages\\keras\\backend\\tensorflow_backend.py\u001b[0m in \u001b[0;36m__call__\u001b[1;34m(self, inputs)\u001b[0m\n\u001b[0;32m   2713\u001b[0m                 \u001b[1;32mreturn\u001b[0m \u001b[0mself\u001b[0m\u001b[1;33m.\u001b[0m\u001b[0m_legacy_call\u001b[0m\u001b[1;33m(\u001b[0m\u001b[0minputs\u001b[0m\u001b[1;33m)\u001b[0m\u001b[1;33m\u001b[0m\u001b[1;33m\u001b[0m\u001b[0m\n\u001b[0;32m   2714\u001b[0m \u001b[1;33m\u001b[0m\u001b[0m\n\u001b[1;32m-> 2715\u001b[1;33m             \u001b[1;32mreturn\u001b[0m \u001b[0mself\u001b[0m\u001b[1;33m.\u001b[0m\u001b[0m_call\u001b[0m\u001b[1;33m(\u001b[0m\u001b[0minputs\u001b[0m\u001b[1;33m)\u001b[0m\u001b[1;33m\u001b[0m\u001b[1;33m\u001b[0m\u001b[0m\n\u001b[0m\u001b[0;32m   2716\u001b[0m         \u001b[1;32melse\u001b[0m\u001b[1;33m:\u001b[0m\u001b[1;33m\u001b[0m\u001b[1;33m\u001b[0m\u001b[0m\n\u001b[0;32m   2717\u001b[0m             \u001b[1;32mif\u001b[0m \u001b[0mpy_any\u001b[0m\u001b[1;33m(\u001b[0m\u001b[0mis_tensor\u001b[0m\u001b[1;33m(\u001b[0m\u001b[0mx\u001b[0m\u001b[1;33m)\u001b[0m \u001b[1;32mfor\u001b[0m \u001b[0mx\u001b[0m \u001b[1;32min\u001b[0m \u001b[0minputs\u001b[0m\u001b[1;33m)\u001b[0m\u001b[1;33m:\u001b[0m\u001b[1;33m\u001b[0m\u001b[1;33m\u001b[0m\u001b[0m\n",
      "\u001b[1;32m~\\Anaconda3\\lib\\site-packages\\keras\\backend\\tensorflow_backend.py\u001b[0m in \u001b[0;36m_call\u001b[1;34m(self, inputs)\u001b[0m\n\u001b[0;32m   2673\u001b[0m             \u001b[0mfetched\u001b[0m \u001b[1;33m=\u001b[0m \u001b[0mself\u001b[0m\u001b[1;33m.\u001b[0m\u001b[0m_callable_fn\u001b[0m\u001b[1;33m(\u001b[0m\u001b[1;33m*\u001b[0m\u001b[0marray_vals\u001b[0m\u001b[1;33m,\u001b[0m \u001b[0mrun_metadata\u001b[0m\u001b[1;33m=\u001b[0m\u001b[0mself\u001b[0m\u001b[1;33m.\u001b[0m\u001b[0mrun_metadata\u001b[0m\u001b[1;33m)\u001b[0m\u001b[1;33m\u001b[0m\u001b[1;33m\u001b[0m\u001b[0m\n\u001b[0;32m   2674\u001b[0m         \u001b[1;32melse\u001b[0m\u001b[1;33m:\u001b[0m\u001b[1;33m\u001b[0m\u001b[1;33m\u001b[0m\u001b[0m\n\u001b[1;32m-> 2675\u001b[1;33m             \u001b[0mfetched\u001b[0m \u001b[1;33m=\u001b[0m \u001b[0mself\u001b[0m\u001b[1;33m.\u001b[0m\u001b[0m_callable_fn\u001b[0m\u001b[1;33m(\u001b[0m\u001b[1;33m*\u001b[0m\u001b[0marray_vals\u001b[0m\u001b[1;33m)\u001b[0m\u001b[1;33m\u001b[0m\u001b[1;33m\u001b[0m\u001b[0m\n\u001b[0m\u001b[0;32m   2676\u001b[0m         \u001b[1;32mreturn\u001b[0m \u001b[0mfetched\u001b[0m\u001b[1;33m[\u001b[0m\u001b[1;33m:\u001b[0m\u001b[0mlen\u001b[0m\u001b[1;33m(\u001b[0m\u001b[0mself\u001b[0m\u001b[1;33m.\u001b[0m\u001b[0moutputs\u001b[0m\u001b[1;33m)\u001b[0m\u001b[1;33m]\u001b[0m\u001b[1;33m\u001b[0m\u001b[1;33m\u001b[0m\u001b[0m\n\u001b[0;32m   2677\u001b[0m \u001b[1;33m\u001b[0m\u001b[0m\n",
      "\u001b[1;32m~\\Anaconda3\\lib\\site-packages\\tensorflow\\python\\client\\session.py\u001b[0m in \u001b[0;36m__call__\u001b[1;34m(self, *args, **kwargs)\u001b[0m\n\u001b[0;32m   1437\u001b[0m           ret = tf_session.TF_SessionRunCallable(\n\u001b[0;32m   1438\u001b[0m               \u001b[0mself\u001b[0m\u001b[1;33m.\u001b[0m\u001b[0m_session\u001b[0m\u001b[1;33m.\u001b[0m\u001b[0m_session\u001b[0m\u001b[1;33m,\u001b[0m \u001b[0mself\u001b[0m\u001b[1;33m.\u001b[0m\u001b[0m_handle\u001b[0m\u001b[1;33m,\u001b[0m \u001b[0margs\u001b[0m\u001b[1;33m,\u001b[0m \u001b[0mstatus\u001b[0m\u001b[1;33m,\u001b[0m\u001b[1;33m\u001b[0m\u001b[1;33m\u001b[0m\u001b[0m\n\u001b[1;32m-> 1439\u001b[1;33m               run_metadata_ptr)\n\u001b[0m\u001b[0;32m   1440\u001b[0m         \u001b[1;32mif\u001b[0m \u001b[0mrun_metadata\u001b[0m\u001b[1;33m:\u001b[0m\u001b[1;33m\u001b[0m\u001b[1;33m\u001b[0m\u001b[0m\n\u001b[0;32m   1441\u001b[0m           \u001b[0mproto_data\u001b[0m \u001b[1;33m=\u001b[0m \u001b[0mtf_session\u001b[0m\u001b[1;33m.\u001b[0m\u001b[0mTF_GetBuffer\u001b[0m\u001b[1;33m(\u001b[0m\u001b[0mrun_metadata_ptr\u001b[0m\u001b[1;33m)\u001b[0m\u001b[1;33m\u001b[0m\u001b[1;33m\u001b[0m\u001b[0m\n",
      "\u001b[1;31mKeyboardInterrupt\u001b[0m: "
     ]
    }
   ],
   "source": [
    "with tf.device('/gpu:0'):\n",
    "    K.clear_session()\n",
    "    config = tf.ConfigProto( device_count = {'GPU': 1 , 'CPU': 5} ) \n",
    "    sess = tf.Session(config=config) \n",
    "    K.set_session(sess)\n",
    "    #Get your datatensors\n",
    "    filepath=[r'D:\\tfrecords\\train_1.tfrecords',r'D:\\tfrecords\\train_2.tfrecords',r'D:\\tfrecords\\train_3.tfrecords']\n",
    "    image, label = create_dataset(filepath)\n",
    "\n",
    "    model_input = layers.Input(tensor=image)\n",
    "    model_output = cnn_layers(model_input)\n",
    "    train_model = keras.models.Model(inputs=model_input, outputs=model_output)\n",
    "\n",
    "    # Pass the target tensor `y_train_batch` to `compile`\n",
    "    # via the `target_tensors` keyword argument:\n",
    "    #Compile your model\n",
    "    train_model.compile(optimizer=keras.optimizers.RMSprop(lr=0.0001),\n",
    "                       loss='categorical_crossentropy',\n",
    "                       metrics=['accuracy'],\n",
    "                       target_tensors=[label])\n",
    "\n",
    "\n",
    "    filepath_test=[r'D:\\tfrecords\\test_1.tfrecords']\n",
    "    #Get your datatensors\n",
    "    image_test, label_test = create_dataset(filepath_test)\n",
    "\n",
    "    model_input_test = layers.Input(tensor=image_test)\n",
    "    model_output_test = cnn_layers(model_input_test)\n",
    "    test_model = keras.models.Model(inputs=model_input_test, outputs=model_output_test)\n",
    "\n",
    "    # Pass the target tensor `y_train_batch` to `compile`\n",
    "    # via the `target_tensors` keyword argument:\n",
    "    test_model.compile(optimizer=keras.optimizers.RMSprop(lr=2e-3, decay=1e-5),\n",
    "                        loss='categorical_crossentropy',\n",
    "                        metrics=['accuracy'],\n",
    "                        target_tensors=[label_test])\n",
    "\n",
    "\n",
    "   #Train the model\n",
    "    train_model.fit(epochs=epochs,\n",
    "                    steps_per_epoch=100, callbacks=[EvaluateInputTensor(test_model, steps=100),\n",
    "                                                   TensorBoard(\n",
    "                            log_dir=os.path.join(r'D:\\tfrecords\\logs','tb_'.format(0))\n",
    "                                                        , histogram_freq=0\n",
    "                                                        , batch_size=32, write_graph=False\n",
    "                                                        , write_grads=False, write_images=False\n",
    "                                                       , embeddings_freq=0, embeddings_layer_names=None\n",
    "                                                        , embeddings_metadata=None, embeddings_data=None)\n",
    "                                                   \n",
    "                                                   \n",
    "                                                   ])\n",
    "\n",
    "    train_model.save_weights(r'D:\\tfrecords\\weights\\saved_wt.h5')\n",
    "\n"
   ]
  },
  {
   "cell_type": "code",
   "execution_count": 4,
   "metadata": {},
   "outputs": [],
   "source": [
    "epochs = 45\n",
    "capacity = 10000\n",
    "min_after_dequeue = 3000\n",
    "enqueue_many = True\n",
    "NUM_CLASSES = 35\n",
    "SUM_OF_ALL_DATASAMPLES=100000\n",
    "BATCHSIZE=128\n",
    "STEPS_PER_EPOCH= 150\n",
    "w, h = 40,40\n"
   ]
  },
  {
   "cell_type": "code",
   "execution_count": null,
   "metadata": {},
   "outputs": [],
   "source": []
  },
  {
   "cell_type": "code",
   "execution_count": null,
   "metadata": {},
   "outputs": [],
   "source": []
  },
  {
   "cell_type": "code",
   "execution_count": 15,
   "metadata": {},
   "outputs": [
    {
     "name": "stdout",
     "output_type": "stream",
     "text": [
      "Learning rate:  0.001\n",
      "Epoch 1/45\n",
      "Learning rate:  0.001\n",
      "150/150 [==============================] - 20s 136ms/step - loss: 3.1980 - acc: 0.1580\n",
      "150/150 [==============================] - 6s 43ms/step\n",
      "\n",
      "val_loss: 4.141778674125671 val_acc: 0.13614583333333333 \n",
      "Epoch 2/45\n",
      "Learning rate:  0.001\n",
      "150/150 [==============================] - 17s 115ms/step - loss: 1.7117 - acc: 0.5356\n",
      "150/150 [==============================] - 5s 35ms/step\n",
      "\n",
      "val_loss: 1.7736513257026671 val_acc: 0.5023958333333334 \n",
      "Epoch 3/45\n",
      "Learning rate:  0.001\n",
      "150/150 [==============================] - 17s 116ms/step - loss: 1.1121 - acc: 0.7106\n",
      "150/150 [==============================] - 5s 35ms/step\n",
      "\n",
      "val_loss: 1.2748169175783792 val_acc: 0.6430729166666667 \n",
      "Epoch 4/45\n",
      "Learning rate:  0.001\n",
      "150/150 [==============================] - 17s 116ms/step - loss: 0.8890 - acc: 0.7772\n",
      "150/150 [==============================] - 5s 36ms/step\n",
      "\n",
      "val_loss: 1.4388701979319254 val_acc: 0.5871354166666667 \n",
      "Epoch 5/45\n",
      "Learning rate:  0.001\n",
      "150/150 [==============================] - 17s 116ms/step - loss: 0.7491 - acc: 0.8163\n",
      "150/150 [==============================] - 5s 36ms/step\n",
      "\n",
      "val_loss: 0.8479894387722016 val_acc: 0.77890625 \n",
      "Epoch 6/45\n",
      "Learning rate:  0.001\n",
      "150/150 [==============================] - 17s 116ms/step - loss: 0.6792 - acc: 0.8377\n",
      "150/150 [==============================] - 5s 36ms/step\n",
      "\n",
      "val_loss: 1.095352976322174 val_acc: 0.7052083333333333 \n",
      "Epoch 7/45\n",
      "Learning rate:  0.001\n",
      "150/150 [==============================] - 17s 116ms/step - loss: 0.6134 - acc: 0.8549\n",
      "150/150 [==============================] - 5s 35ms/step\n",
      "\n",
      "val_loss: 0.8192688937981923 val_acc: 0.7888020833333333 \n",
      "Epoch 8/45\n",
      "Learning rate:  0.001\n",
      "150/150 [==============================] - 17s 116ms/step - loss: 0.5610 - acc: 0.8720\n",
      "150/150 [==============================] - 5s 36ms/step\n",
      "\n",
      "val_loss: 0.9063937946160634 val_acc: 0.7478645833333334 \n",
      "Epoch 9/45\n",
      "Learning rate:  0.001\n",
      "150/150 [==============================] - 17s 116ms/step - loss: 0.5529 - acc: 0.8720\n",
      "150/150 [==============================] - 5s 36ms/step\n",
      "\n",
      "val_loss: 0.7804926963647206 val_acc: 0.80171875 \n",
      "Epoch 10/45\n",
      "Learning rate:  0.0001\n",
      "150/150 [==============================] - 17s 116ms/step - loss: 0.4525 - acc: 0.9075\n",
      "150/150 [==============================] - 5s 36ms/step\n",
      "\n",
      "val_loss: 0.46414693832397463 val_acc: 0.9071875 \n",
      "Epoch 11/45\n",
      "Learning rate:  0.0001\n",
      "150/150 [==============================] - 17s 116ms/step - loss: 0.4201 - acc: 0.9183\n",
      "150/150 [==============================] - 5s 36ms/step\n",
      "\n",
      "val_loss: 0.4182176508506139 val_acc: 0.9190104166666667 \n",
      "Epoch 12/45\n",
      "Learning rate:  0.0001\n",
      "150/150 [==============================] - 17s 116ms/step - loss: 0.4178 - acc: 0.9180\n",
      "150/150 [==============================] - 5s 36ms/step\n",
      "\n",
      "val_loss: 0.4111104263861974 val_acc: 0.9209895833333334 \n",
      "Epoch 13/45\n",
      "Learning rate:  0.0001\n",
      "150/150 [==============================] - 17s 116ms/step - loss: 0.4068 - acc: 0.9207\n",
      "150/150 [==============================] - 5s 36ms/step\n",
      "\n",
      "val_loss: 0.3924545321861903 val_acc: 0.9266145833333334 \n",
      "Epoch 14/45\n",
      "Learning rate:  0.0001\n",
      "150/150 [==============================] - 17s 116ms/step - loss: 0.4016 - acc: 0.9216\n",
      "150/150 [==============================] - 5s 36ms/step\n",
      "\n",
      "val_loss: 0.4025217322508494 val_acc: 0.9246354166666667 \n",
      "Epoch 15/45\n",
      "Learning rate:  0.0001\n",
      "150/150 [==============================] - 17s 116ms/step - loss: 0.3928 - acc: 0.9258\n",
      "150/150 [==============================] - 5s 36ms/step\n",
      "\n",
      "val_loss: 0.40751987814903257 val_acc: 0.9222916666666666 \n",
      "Epoch 16/45\n",
      "Learning rate:  0.0001\n",
      "150/150 [==============================] - 17s 116ms/step - loss: 0.3889 - acc: 0.9269\n",
      "150/150 [==============================] - 5s 36ms/step\n",
      "\n",
      "val_loss: 0.38718816856543226 val_acc: 0.92609375 \n",
      "Epoch 17/45\n",
      "Learning rate:  1e-05\n",
      "150/150 [==============================] - 17s 117ms/step - loss: 0.3837 - acc: 0.9269\n",
      "150/150 [==============================] - 5s 36ms/step\n",
      "\n",
      "val_loss: 0.3754015286763509 val_acc: 0.9315104166666667 \n",
      "Epoch 18/45\n",
      "Learning rate:  1e-05\n",
      "150/150 [==============================] - 17s 117ms/step - loss: 0.3759 - acc: 0.9319\n",
      "150/150 [==============================] - 5s 36ms/step\n",
      "\n",
      "val_loss: 0.3718703144788742 val_acc: 0.9325520833333333 \n",
      "Epoch 19/45\n",
      "Learning rate:  1e-05\n",
      "150/150 [==============================] - 18s 117ms/step - loss: 0.3741 - acc: 0.9308\n",
      "150/150 [==============================] - 5s 36ms/step\n",
      "\n",
      "val_loss: 0.37003574053446453 val_acc: 0.9315625 \n",
      "Epoch 20/45\n",
      "Learning rate:  1e-05\n",
      "150/150 [==============================] - 18s 117ms/step - loss: 0.3800 - acc: 0.9304\n",
      "150/150 [==============================] - 5s 36ms/step\n",
      "\n",
      "val_loss: 0.3750715657075246 val_acc: 0.93390625 \n",
      "Epoch 21/45\n",
      "Learning rate:  1e-05\n",
      "150/150 [==============================] - 18s 117ms/step - loss: 0.3730 - acc: 0.9326\n",
      "150/150 [==============================] - 5s 36ms/step\n",
      "\n",
      "val_loss: 0.36464939494927723 val_acc: 0.935625 \n",
      "Epoch 22/45\n",
      "Learning rate:  1e-05\n",
      "150/150 [==============================] - 17s 117ms/step - loss: 0.3692 - acc: 0.9329\n",
      "150/150 [==============================] - 5s 36ms/step\n",
      "\n",
      "val_loss: 0.36949045936266584 val_acc: 0.9330729166666667 \n",
      "Epoch 23/45\n",
      "Learning rate:  1e-05\n",
      "150/150 [==============================] - 17s 117ms/step - loss: 0.3706 - acc: 0.9326\n",
      "150/150 [==============================] - 5s 36ms/step\n",
      "\n",
      "val_loss: 0.3694831982254982 val_acc: 0.934375 \n",
      "Epoch 24/45\n",
      "Learning rate:  1e-06\n",
      "150/150 [==============================] - 18s 117ms/step - loss: 0.3624 - acc: 0.9345\n",
      "150/150 [==============================] - 6s 37ms/step\n",
      "\n",
      "val_loss: 0.3636170309782028 val_acc: 0.9358333333333333 \n",
      "Epoch 25/45\n",
      "Learning rate:  1e-06\n",
      "150/150 [==============================] - 18s 117ms/step - loss: 0.3606 - acc: 0.9346\n",
      "150/150 [==============================] - 5s 36ms/step\n",
      "\n",
      "val_loss: 0.3604991163810094 val_acc: 0.936875 \n",
      "Epoch 26/45\n",
      "Learning rate:  1e-06\n",
      "150/150 [==============================] - 18s 118ms/step - loss: 0.3711 - acc: 0.9315\n",
      "150/150 [==============================] - 5s 36ms/step\n",
      "\n",
      "val_loss: 0.36888415525356927 val_acc: 0.9325 \n",
      "Epoch 27/45\n",
      "Learning rate:  1e-06\n",
      "150/150 [==============================] - 18s 117ms/step - loss: 0.3664 - acc: 0.9336\n",
      "150/150 [==============================] - 5s 36ms/step\n",
      "\n",
      "val_loss: 0.3614755914608638 val_acc: 0.9364583333333333 \n",
      "Epoch 28/45\n",
      "Learning rate:  1e-06\n",
      "150/150 [==============================] - 18s 118ms/step - loss: 0.3671 - acc: 0.9341\n",
      "150/150 [==============================] - 5s 37ms/step\n",
      "\n",
      "val_loss: 0.3644978787501653 val_acc: 0.9353645833333334 \n",
      "Epoch 29/45\n",
      "Learning rate:  1e-06\n",
      "127/150 [========================>.....] - ETA: 2s - loss: 0.3634 - acc: 0.9368"
     ]
    },
    {
     "ename": "KeyboardInterrupt",
     "evalue": "",
     "output_type": "error",
     "traceback": [
      "\u001b[1;31m---------------------------------------------------------------------------\u001b[0m",
      "\u001b[1;31mKeyboardInterrupt\u001b[0m                         Traceback (most recent call last)",
      "\u001b[1;32m<ipython-input-15-584c926acd5a>\u001b[0m in \u001b[0;36m<module>\u001b[1;34m\u001b[0m\n\u001b[0;32m     96\u001b[0m                                                         , embeddings_metadata=None, embeddings_data=None),\n\u001b[0;32m     97\u001b[0m                                                     \u001b[0mlr_scheduler\u001b[0m\u001b[1;33m\u001b[0m\u001b[1;33m\u001b[0m\u001b[0m\n\u001b[1;32m---> 98\u001b[1;33m                                                     \u001b[1;33m,\u001b[0m\u001b[0mlr_reducer\u001b[0m\u001b[1;33m\u001b[0m\u001b[1;33m\u001b[0m\u001b[0m\n\u001b[0m\u001b[0;32m     99\u001b[0m                                                    ])\n\u001b[0;32m    100\u001b[0m \u001b[1;33m\u001b[0m\u001b[0m\n",
      "\u001b[1;32m~\\Anaconda3\\envs\\tf_gpu\\lib\\site-packages\\keras\\engine\\training.py\u001b[0m in \u001b[0;36mfit\u001b[1;34m(self, x, y, batch_size, epochs, verbose, callbacks, validation_split, validation_data, shuffle, class_weight, sample_weight, initial_epoch, steps_per_epoch, validation_steps, **kwargs)\u001b[0m\n\u001b[0;32m   1037\u001b[0m                                         \u001b[0minitial_epoch\u001b[0m\u001b[1;33m=\u001b[0m\u001b[0minitial_epoch\u001b[0m\u001b[1;33m,\u001b[0m\u001b[1;33m\u001b[0m\u001b[1;33m\u001b[0m\u001b[0m\n\u001b[0;32m   1038\u001b[0m                                         \u001b[0msteps_per_epoch\u001b[0m\u001b[1;33m=\u001b[0m\u001b[0msteps_per_epoch\u001b[0m\u001b[1;33m,\u001b[0m\u001b[1;33m\u001b[0m\u001b[1;33m\u001b[0m\u001b[0m\n\u001b[1;32m-> 1039\u001b[1;33m                                         validation_steps=validation_steps)\n\u001b[0m\u001b[0;32m   1040\u001b[0m \u001b[1;33m\u001b[0m\u001b[0m\n\u001b[0;32m   1041\u001b[0m     def evaluate(self, x=None, y=None,\n",
      "\u001b[1;32m~\\Anaconda3\\envs\\tf_gpu\\lib\\site-packages\\keras\\engine\\training_arrays.py\u001b[0m in \u001b[0;36mfit_loop\u001b[1;34m(model, f, ins, out_labels, batch_size, epochs, verbose, callbacks, val_f, val_ins, shuffle, callback_metrics, initial_epoch, steps_per_epoch, validation_steps)\u001b[0m\n\u001b[0;32m    152\u001b[0m                 \u001b[0mbatch_logs\u001b[0m\u001b[1;33m[\u001b[0m\u001b[1;34m'size'\u001b[0m\u001b[1;33m]\u001b[0m \u001b[1;33m=\u001b[0m \u001b[1;36m1\u001b[0m\u001b[1;33m\u001b[0m\u001b[1;33m\u001b[0m\u001b[0m\n\u001b[0;32m    153\u001b[0m                 \u001b[0mcallbacks\u001b[0m\u001b[1;33m.\u001b[0m\u001b[0mon_batch_begin\u001b[0m\u001b[1;33m(\u001b[0m\u001b[0mstep_index\u001b[0m\u001b[1;33m,\u001b[0m \u001b[0mbatch_logs\u001b[0m\u001b[1;33m)\u001b[0m\u001b[1;33m\u001b[0m\u001b[1;33m\u001b[0m\u001b[0m\n\u001b[1;32m--> 154\u001b[1;33m                 \u001b[0mouts\u001b[0m \u001b[1;33m=\u001b[0m \u001b[0mf\u001b[0m\u001b[1;33m(\u001b[0m\u001b[0mins\u001b[0m\u001b[1;33m)\u001b[0m\u001b[1;33m\u001b[0m\u001b[1;33m\u001b[0m\u001b[0m\n\u001b[0m\u001b[0;32m    155\u001b[0m \u001b[1;33m\u001b[0m\u001b[0m\n\u001b[0;32m    156\u001b[0m                 \u001b[0mouts\u001b[0m \u001b[1;33m=\u001b[0m \u001b[0mto_list\u001b[0m\u001b[1;33m(\u001b[0m\u001b[0mouts\u001b[0m\u001b[1;33m)\u001b[0m\u001b[1;33m\u001b[0m\u001b[1;33m\u001b[0m\u001b[0m\n",
      "\u001b[1;32m~\\Anaconda3\\envs\\tf_gpu\\lib\\site-packages\\keras\\backend\\tensorflow_backend.py\u001b[0m in \u001b[0;36m__call__\u001b[1;34m(self, inputs)\u001b[0m\n\u001b[0;32m   2713\u001b[0m                 \u001b[1;32mreturn\u001b[0m \u001b[0mself\u001b[0m\u001b[1;33m.\u001b[0m\u001b[0m_legacy_call\u001b[0m\u001b[1;33m(\u001b[0m\u001b[0minputs\u001b[0m\u001b[1;33m)\u001b[0m\u001b[1;33m\u001b[0m\u001b[1;33m\u001b[0m\u001b[0m\n\u001b[0;32m   2714\u001b[0m \u001b[1;33m\u001b[0m\u001b[0m\n\u001b[1;32m-> 2715\u001b[1;33m             \u001b[1;32mreturn\u001b[0m \u001b[0mself\u001b[0m\u001b[1;33m.\u001b[0m\u001b[0m_call\u001b[0m\u001b[1;33m(\u001b[0m\u001b[0minputs\u001b[0m\u001b[1;33m)\u001b[0m\u001b[1;33m\u001b[0m\u001b[1;33m\u001b[0m\u001b[0m\n\u001b[0m\u001b[0;32m   2716\u001b[0m         \u001b[1;32melse\u001b[0m\u001b[1;33m:\u001b[0m\u001b[1;33m\u001b[0m\u001b[1;33m\u001b[0m\u001b[0m\n\u001b[0;32m   2717\u001b[0m             \u001b[1;32mif\u001b[0m \u001b[0mpy_any\u001b[0m\u001b[1;33m(\u001b[0m\u001b[0mis_tensor\u001b[0m\u001b[1;33m(\u001b[0m\u001b[0mx\u001b[0m\u001b[1;33m)\u001b[0m \u001b[1;32mfor\u001b[0m \u001b[0mx\u001b[0m \u001b[1;32min\u001b[0m \u001b[0minputs\u001b[0m\u001b[1;33m)\u001b[0m\u001b[1;33m:\u001b[0m\u001b[1;33m\u001b[0m\u001b[1;33m\u001b[0m\u001b[0m\n",
      "\u001b[1;32m~\\Anaconda3\\envs\\tf_gpu\\lib\\site-packages\\keras\\backend\\tensorflow_backend.py\u001b[0m in \u001b[0;36m_call\u001b[1;34m(self, inputs)\u001b[0m\n\u001b[0;32m   2673\u001b[0m             \u001b[0mfetched\u001b[0m \u001b[1;33m=\u001b[0m \u001b[0mself\u001b[0m\u001b[1;33m.\u001b[0m\u001b[0m_callable_fn\u001b[0m\u001b[1;33m(\u001b[0m\u001b[1;33m*\u001b[0m\u001b[0marray_vals\u001b[0m\u001b[1;33m,\u001b[0m \u001b[0mrun_metadata\u001b[0m\u001b[1;33m=\u001b[0m\u001b[0mself\u001b[0m\u001b[1;33m.\u001b[0m\u001b[0mrun_metadata\u001b[0m\u001b[1;33m)\u001b[0m\u001b[1;33m\u001b[0m\u001b[1;33m\u001b[0m\u001b[0m\n\u001b[0;32m   2674\u001b[0m         \u001b[1;32melse\u001b[0m\u001b[1;33m:\u001b[0m\u001b[1;33m\u001b[0m\u001b[1;33m\u001b[0m\u001b[0m\n\u001b[1;32m-> 2675\u001b[1;33m             \u001b[0mfetched\u001b[0m \u001b[1;33m=\u001b[0m \u001b[0mself\u001b[0m\u001b[1;33m.\u001b[0m\u001b[0m_callable_fn\u001b[0m\u001b[1;33m(\u001b[0m\u001b[1;33m*\u001b[0m\u001b[0marray_vals\u001b[0m\u001b[1;33m)\u001b[0m\u001b[1;33m\u001b[0m\u001b[1;33m\u001b[0m\u001b[0m\n\u001b[0m\u001b[0;32m   2676\u001b[0m         \u001b[1;32mreturn\u001b[0m \u001b[0mfetched\u001b[0m\u001b[1;33m[\u001b[0m\u001b[1;33m:\u001b[0m\u001b[0mlen\u001b[0m\u001b[1;33m(\u001b[0m\u001b[0mself\u001b[0m\u001b[1;33m.\u001b[0m\u001b[0moutputs\u001b[0m\u001b[1;33m)\u001b[0m\u001b[1;33m]\u001b[0m\u001b[1;33m\u001b[0m\u001b[1;33m\u001b[0m\u001b[0m\n\u001b[0;32m   2677\u001b[0m \u001b[1;33m\u001b[0m\u001b[0m\n",
      "\u001b[1;32m~\\Anaconda3\\envs\\tf_gpu\\lib\\site-packages\\tensorflow\\python\\client\\session.py\u001b[0m in \u001b[0;36m__call__\u001b[1;34m(self, *args, **kwargs)\u001b[0m\n\u001b[0;32m   1437\u001b[0m           ret = tf_session.TF_SessionRunCallable(\n\u001b[0;32m   1438\u001b[0m               \u001b[0mself\u001b[0m\u001b[1;33m.\u001b[0m\u001b[0m_session\u001b[0m\u001b[1;33m.\u001b[0m\u001b[0m_session\u001b[0m\u001b[1;33m,\u001b[0m \u001b[0mself\u001b[0m\u001b[1;33m.\u001b[0m\u001b[0m_handle\u001b[0m\u001b[1;33m,\u001b[0m \u001b[0margs\u001b[0m\u001b[1;33m,\u001b[0m \u001b[0mstatus\u001b[0m\u001b[1;33m,\u001b[0m\u001b[1;33m\u001b[0m\u001b[1;33m\u001b[0m\u001b[0m\n\u001b[1;32m-> 1439\u001b[1;33m               run_metadata_ptr)\n\u001b[0m\u001b[0;32m   1440\u001b[0m         \u001b[1;32mif\u001b[0m \u001b[0mrun_metadata\u001b[0m\u001b[1;33m:\u001b[0m\u001b[1;33m\u001b[0m\u001b[1;33m\u001b[0m\u001b[0m\n\u001b[0;32m   1441\u001b[0m           \u001b[0mproto_data\u001b[0m \u001b[1;33m=\u001b[0m \u001b[0mtf_session\u001b[0m\u001b[1;33m.\u001b[0m\u001b[0mTF_GetBuffer\u001b[0m\u001b[1;33m(\u001b[0m\u001b[0mrun_metadata_ptr\u001b[0m\u001b[1;33m)\u001b[0m\u001b[1;33m\u001b[0m\u001b[1;33m\u001b[0m\u001b[0m\n",
      "\u001b[1;31mKeyboardInterrupt\u001b[0m: "
     ]
    }
   ],
   "source": [
    "with tf.device('/gpu:0'):\n",
    "    K.clear_session()\n",
    "    config = tf.ConfigProto( device_count = {'GPU': 1 , 'CPU': 5} ) \n",
    "    sess = tf.Session(config=config) \n",
    "    K.set_session(sess)\n",
    "    #Get your datatensors\n",
    "    def create_dataset(filepath,BATCH_SIZE=128,SHUFFLE_BUFFER=50000):\n",
    "    \n",
    "        # This works with arrays as well\n",
    "        dataset = tf.data.TFRecordDataset(filepath)\n",
    "\n",
    "        # Maps the parser on every filepath in the array. You can set the number of parallel loaders here\n",
    "        dataset = dataset.map(_parse_function, num_parallel_calls=4)\n",
    "\n",
    "        # This dataset will go on forever\n",
    "        dataset = dataset.repeat().shuffle(SHUFFLE_BUFFER).batch(BATCH_SIZE)\n",
    "\n",
    "\n",
    "        # Create an iterator\n",
    "        iterator = dataset.make_one_shot_iterator()\n",
    "\n",
    "        # Create your tf representation of the iterator\n",
    "        image, label = iterator.get_next()\n",
    "\n",
    "        # Bring your picture back in shape\n",
    "\n",
    "        image = tf.reshape(image, [-1, 40, 40, 1])\n",
    "\n",
    "        # Create a one hot array for your labels\n",
    "        label = tf.one_hot(label, NUM_CLASSES)\n",
    "\n",
    "        return image, label\n",
    "    \n",
    "    def lr_schedule(epoch):\n",
    "\n",
    "        lr = 1e-3\n",
    "        if epoch > 30:\n",
    "            lr *= 0.5e-3\n",
    "        elif epoch > 22:\n",
    "            lr *= 1e-3\n",
    "        elif epoch > 15:\n",
    "            lr *= 1e-2\n",
    "        elif epoch > 8:\n",
    "            lr *= 1e-1\n",
    "        print('Learning rate: ', lr)\n",
    "        return lr\n",
    "\n",
    "    lr_scheduler = LearningRateScheduler(lr_schedule)\n",
    "\n",
    "    lr_reducer = ReduceLROnPlateau(factor=np.sqrt(0.1),\n",
    "                                   cooldown=0,\n",
    "                                   patience=5,\n",
    "                                   min_lr=0.5e-6)\n",
    "\n",
    "    filepath=[r'D:\\tfrecords\\train_1.tfrecords',r'D:\\tfrecords\\train_2.tfrecords',r'D:\\tfrecords\\train_3.tfrecords']\n",
    "    image, label = create_dataset(filepath)\n",
    "\n",
    " \n",
    "    train_model = resnet_v1(image, 20, num_classes=NUM_CLASSES)\n",
    "\n",
    "\n",
    "    # Pass the target tensor `y_train_batch` to `compile`\n",
    "    # via the `target_tensors` keyword argument:\n",
    "    #Compile your model\n",
    "    train_model.compile(optimizer=Adam(lr=lr_schedule(0)),\n",
    "                       loss='categorical_crossentropy',\n",
    "                       metrics=['accuracy'],\n",
    "                       target_tensors=[label])\n",
    "\n",
    "\n",
    "    filepath_test=[r'D:\\tfrecords\\test_1.tfrecords']\n",
    "    #Get your datatensors\n",
    "    image_test, label_test = create_dataset(filepath_test)\n",
    "\n",
    "        \n",
    "\n",
    "    test_model = resnet_v1(image_test,20, num_classes=NUM_CLASSES)\n",
    "\n",
    "    # Pass the target tensor `y_train_batch` to `compile`\n",
    "    # via the `target_tensors` keyword argument:\n",
    "    test_model.compile(optimizer=keras.optimizers.RMSprop(lr=2e-3, decay=1e-5),\n",
    "                        loss='categorical_crossentropy',\n",
    "                        metrics=['accuracy'],\n",
    "                        target_tensors=[label_test])\n",
    "\n",
    "\n",
    "   #Train the model\n",
    "    train_model.fit(epochs=epochs,\n",
    "                    steps_per_epoch=STEPS_PER_EPOCH, callbacks=[EvaluateInputTensor(test_model, steps=150),\n",
    "                                                   TensorBoard(\n",
    "                            log_dir=os.path.join(r'D:\\tfrecords\\logs','tb_'.format(0))\n",
    "                                                        , histogram_freq=0\n",
    "                                                        , batch_size=32, write_graph=False\n",
    "                                                        , write_grads=False, write_images=False\n",
    "                                                       , embeddings_freq=0, embeddings_layer_names=None\n",
    "                                                        , embeddings_metadata=None, embeddings_data=None),\n",
    "                                                    lr_scheduler\n",
    "                                                    ,lr_reducer\n",
    "                                                   ])\n",
    "\n",
    "    train_model.save_weights(r'D:\\tfrecords\\weights\\saved_wt.h5')\n",
    "\n"
   ]
  },
  {
   "cell_type": "code",
   "execution_count": 16,
   "metadata": {},
   "outputs": [],
   "source": [
    "train_model.save_weights(r'D:\\tfrecords\\weights\\saved_wt.h5')"
   ]
  },
  {
   "cell_type": "code",
   "execution_count": 64,
   "metadata": {},
   "outputs": [],
   "source": [
    "import base64"
   ]
  },
  {
   "cell_type": "code",
   "execution_count": 2,
   "metadata": {},
   "outputs": [],
   "source": [
    "def resnet_layer(inputs,\n",
    "                 num_filters=16,\n",
    "                 kernel_size=3,\n",
    "                 strides=1,\n",
    "                 activation='relu',\n",
    "                 batch_normalization=True,\n",
    "                 conv_first=True):\n",
    "    \"\"\"2D Convolution-Batch Normalization-Activation stack builder\n",
    "\n",
    "    # Arguments\n",
    "        inputs (tensor): input tensor from input image or previous layer\n",
    "        num_filters (int): Conv2D number of filters\n",
    "        kernel_size (int): Conv2D square kernel dimensions\n",
    "        strides (int): Conv2D square stride dimensions\n",
    "        activation (string): activation name\n",
    "        batch_normalization (bool): whether to include batch normalization\n",
    "        conv_first (bool): conv-bn-activation (True) or\n",
    "            bn-activation-conv (False)\n",
    "\n",
    "    # Returns\n",
    "        x (tensor): tensor as input to the next layer\n",
    "    \"\"\"\n",
    "    conv = Conv2D(num_filters,\n",
    "                  kernel_size=kernel_size,\n",
    "                  strides=strides,\n",
    "                  padding='same',\n",
    "                  kernel_initializer='he_normal',\n",
    "                  kernel_regularizer=l2(1e-4))\n",
    "\n",
    "    x = inputs\n",
    "    if conv_first:\n",
    "        x = conv(x)\n",
    "        if batch_normalization:\n",
    "            x = BatchNormalization()(x)\n",
    "        if activation is not None:\n",
    "            x = Activation(activation)(x)\n",
    "    else:\n",
    "        if batch_normalization:\n",
    "            x = BatchNormalization()(x)\n",
    "        if activation is not None:\n",
    "            x = Activation(activation)(x)\n",
    "        x = conv(x)\n",
    "    return x\n",
    "\n",
    "\n",
    "def resnet_v1(image,depth, num_classes=10):\n",
    "    \"\"\"ResNet Version 1 Model builder [a]\n",
    "\n",
    "    Stacks of 2 x (3 x 3) Conv2D-BN-ReLU\n",
    "    Last ReLU is after the shortcut connection.\n",
    "    At the beginning of each stage, the feature map size is halved (downsampled)\n",
    "    by a convolutional layer with strides=2, while the number of filters is\n",
    "    doubled. Within each stage, the layers have the same number filters and the\n",
    "    same number of filters.\n",
    "    Features maps sizes:\n",
    "    stage 0: 32x32, 16\n",
    "    stage 1: 16x16, 32\n",
    "    stage 2:  8x8,  64\n",
    "    The Number of parameters is approx the same as Table 6 of [a]:\n",
    "    ResNet20 0.27M\n",
    "    ResNet32 0.46M\n",
    "    ResNet44 0.66M\n",
    "    ResNet56 0.85M\n",
    "    ResNet110 1.7M\n",
    "\n",
    "    # Arguments\n",
    "        input_shape (tensor): shape of input image tensor\n",
    "        depth (int): number of core convolutional layers\n",
    "        num_classes (int): number of classes (CIFAR10 has 10)\n",
    "\n",
    "    # Returns\n",
    "        model (Model): Keras model instance\n",
    "    \"\"\"\n",
    "    if (depth - 2) % 6 != 0:\n",
    "        raise ValueError('depth should be 6n+2 (eg 20, 32, 44 in [a])')\n",
    "    # Start model definition.\n",
    "    num_filters = 16\n",
    "    num_res_blocks = int((depth - 2) / 6)\n",
    "\n",
    "    inputs = Input(tensor=image)\n",
    "    x = resnet_layer(inputs=inputs)\n",
    "    # Instantiate the stack of residual units\n",
    "    for stack in range(3):\n",
    "        for res_block in range(num_res_blocks):\n",
    "            strides = 1\n",
    "            if stack > 0 and res_block == 0:  # first layer but not first stack\n",
    "                strides = 2  # downsample\n",
    "            y = resnet_layer(inputs=x,\n",
    "                             num_filters=num_filters,\n",
    "                             strides=strides)\n",
    "            y = resnet_layer(inputs=y,\n",
    "                             num_filters=num_filters,\n",
    "                             activation=None)\n",
    "            if stack > 0 and res_block == 0:  # first layer but not first stack\n",
    "                # linear projection residual shortcut connection to match\n",
    "                # changed dims\n",
    "                x = resnet_layer(inputs=x,\n",
    "                                 num_filters=num_filters,\n",
    "                                 kernel_size=1,\n",
    "                                 strides=strides,\n",
    "                                 activation=None,\n",
    "                                 batch_normalization=False)\n",
    "            x = keras.layers.add([x, y])\n",
    "            x = Activation('relu')(x)\n",
    "        num_filters *= 2\n",
    "\n",
    "    # Add classifier on top.\n",
    "    # v1 does not use BN after last shortcut connection-ReLU\n",
    "    x = AveragePooling2D(pool_size=8)(x)\n",
    "    y = Flatten()(x)\n",
    "    outputs = Dense(num_classes,\n",
    "                    activation='softmax',\n",
    "                    kernel_initializer='he_normal')(y)\n",
    "\n",
    "    # Instantiate model.\n",
    "    model = keras.models.Model(inputs=inputs, outputs=outputs)\n",
    "    return model"
   ]
  },
  {
   "cell_type": "code",
   "execution_count": null,
   "metadata": {},
   "outputs": [],
   "source": []
  },
  {
   "cell_type": "code",
   "execution_count": null,
   "metadata": {},
   "outputs": [],
   "source": []
  },
  {
   "cell_type": "code",
   "execution_count": null,
   "metadata": {},
   "outputs": [],
   "source": [
    "###### LOADING"
   ]
  },
  {
   "cell_type": "code",
   "execution_count": 143,
   "metadata": {},
   "outputs": [],
   "source": [
    "def resnet_layer(inputs,\n",
    "                 num_filters=16,\n",
    "                 kernel_size=3,\n",
    "                 strides=1,\n",
    "                 activation='relu',\n",
    "                 batch_normalization=True,\n",
    "                 conv_first=True):\n",
    "    \"\"\"2D Convolution-Batch Normalization-Activation stack builder\n",
    "\n",
    "    # Arguments\n",
    "        inputs (tensor): input tensor from input image or previous layer\n",
    "        num_filters (int): Conv2D number of filters\n",
    "        kernel_size (int): Conv2D square kernel dimensions\n",
    "        strides (int): Conv2D square stride dimensions\n",
    "        activation (string): activation name\n",
    "        batch_normalization (bool): whether to include batch normalization\n",
    "        conv_first (bool): conv-bn-activation (True) or\n",
    "            bn-activation-conv (False)\n",
    "\n",
    "    # Returns\n",
    "        x (tensor): tensor as input to the next layer\n",
    "    \"\"\"\n",
    "    conv = Conv2D(num_filters,\n",
    "                  kernel_size=kernel_size,\n",
    "                  strides=strides,\n",
    "                  padding='same',\n",
    "                  kernel_initializer='he_normal',\n",
    "                  kernel_regularizer=l2(1e-4))\n",
    "\n",
    "    x = inputs\n",
    "    if conv_first:\n",
    "        x = conv(x)\n",
    "        if batch_normalization:\n",
    "            x = BatchNormalization()(x)\n",
    "        if activation is not None:\n",
    "            x = Activation(activation)(x)\n",
    "    else:\n",
    "        if batch_normalization:\n",
    "            x = BatchNormalization()(x)\n",
    "        if activation is not None:\n",
    "            x = Activation(activation)(x)\n",
    "        x = conv(x)\n",
    "    return x\n",
    "\n",
    "\n",
    "def resnet_v1(depth, num_classes=10):\n",
    "    \"\"\"ResNet Version 1 Model builder [a]\n",
    "\n",
    "    Stacks of 2 x (3 x 3) Conv2D-BN-ReLU\n",
    "    Last ReLU is after the shortcut connection.\n",
    "    At the beginning of each stage, the feature map size is halved (downsampled)\n",
    "    by a convolutional layer with strides=2, while the number of filters is\n",
    "    doubled. Within each stage, the layers have the same number filters and the\n",
    "    same number of filters.\n",
    "    Features maps sizes:\n",
    "    stage 0: 32x32, 16\n",
    "    stage 1: 16x16, 32\n",
    "    stage 2:  8x8,  64\n",
    "    The Number of parameters is approx the same as Table 6 of [a]:\n",
    "    ResNet20 0.27M\n",
    "    ResNet32 0.46M\n",
    "    ResNet44 0.66M\n",
    "    ResNet56 0.85M\n",
    "    ResNet110 1.7M\n",
    "\n",
    "    # Arguments\n",
    "        input_shape (tensor): shape of input image tensor\n",
    "        depth (int): number of core convolutional layers\n",
    "        num_classes (int): number of classes (CIFAR10 has 10)\n",
    "\n",
    "    # Returns\n",
    "        model (Model): Keras model instance\n",
    "    \"\"\"\n",
    "    if (depth - 2) % 6 != 0:\n",
    "        raise ValueError('depth should be 6n+2 (eg 20, 32, 44 in [a])')\n",
    "    # Start model definition.\n",
    "    num_filters = 16\n",
    "    num_res_blocks = int((depth - 2) / 6)\n",
    "\n",
    "    inputs = Input(shape=(40,40,1))\n",
    "    x = resnet_layer(inputs=inputs)\n",
    "    # Instantiate the stack of residual units\n",
    "    for stack in range(3):\n",
    "        for res_block in range(num_res_blocks):\n",
    "            strides = 1\n",
    "            if stack > 0 and res_block == 0:  # first layer but not first stack\n",
    "                strides = 2  # downsample\n",
    "            y = resnet_layer(inputs=x,\n",
    "                             num_filters=num_filters,\n",
    "                             strides=strides)\n",
    "            y = resnet_layer(inputs=y,\n",
    "                             num_filters=num_filters,\n",
    "                             activation=None)\n",
    "            if stack > 0 and res_block == 0:  # first layer but not first stack\n",
    "                # linear projection residual shortcut connection to match\n",
    "                # changed dims\n",
    "                x = resnet_layer(inputs=x,\n",
    "                                 num_filters=num_filters,\n",
    "                                 kernel_size=1,\n",
    "                                 strides=strides,\n",
    "                                 activation=None,\n",
    "                                 batch_normalization=False)\n",
    "            x = keras.layers.add([x, y])\n",
    "            x = Activation('relu')(x)\n",
    "        num_filters *= 2\n",
    "\n",
    "    # Add classifier on top.\n",
    "    # v1 does not use BN after last shortcut connection-ReLU\n",
    "    x = AveragePooling2D(pool_size=8)(x)\n",
    "    y = Flatten()(x)\n",
    "    outputs = Dense(num_classes,\n",
    "                    activation='softmax',\n",
    "                    kernel_initializer='he_normal')(y)\n",
    "\n",
    "    # Instantiate model.\n",
    "    model = keras.models.Model(inputs=inputs, outputs=outputs)\n",
    "    return model"
   ]
  },
  {
   "cell_type": "code",
   "execution_count": 145,
   "metadata": {},
   "outputs": [
    {
     "name": "stdout",
     "output_type": "stream",
     "text": [
      "WARNING:tensorflow:From C:\\Users\\odkon\\Anaconda3\\lib\\site-packages\\tensorflow\\python\\framework\\op_def_library.py:263: colocate_with (from tensorflow.python.framework.ops) is deprecated and will be removed in a future version.\n",
      "Instructions for updating:\n",
      "Colocations handled automatically by placer.\n"
     ]
    }
   ],
   "source": [
    "train_model = resnet_v1(20, num_classes=35)"
   ]
  },
  {
   "cell_type": "code",
   "execution_count": 146,
   "metadata": {},
   "outputs": [],
   "source": [
    "train_model.load_weights(r'D:\\imageRecognition\\fecredit\\saved_wt.h5')"
   ]
  },
  {
   "cell_type": "code",
   "execution_count": 147,
   "metadata": {},
   "outputs": [],
   "source": [
    "train_model.compile(optimizer='rmsprop',\n",
    "                   loss='categorical_crossentropy',\n",
    "                   metrics=['accuracy'])"
   ]
  },
  {
   "cell_type": "code",
   "execution_count": 148,
   "metadata": {},
   "outputs": [
    {
     "name": "stdout",
     "output_type": "stream",
     "text": [
      "__________________________________________________________________________________________________\n",
      "Layer (type)                    Output Shape         Param #     Connected to                     \n",
      "==================================================================================================\n",
      "input_1 (InputLayer)            (None, 40, 40, 1)    0                                            \n",
      "__________________________________________________________________________________________________\n",
      "conv2d_1 (Conv2D)               (None, 40, 40, 16)   160         input_1[0][0]                    \n",
      "__________________________________________________________________________________________________\n",
      "batch_normalization_1 (BatchNor (None, 40, 40, 16)   64          conv2d_1[0][0]                   \n",
      "__________________________________________________________________________________________________\n",
      "activation_1 (Activation)       (None, 40, 40, 16)   0           batch_normalization_1[0][0]      \n",
      "__________________________________________________________________________________________________\n",
      "conv2d_2 (Conv2D)               (None, 40, 40, 16)   2320        activation_1[0][0]               \n",
      "__________________________________________________________________________________________________\n",
      "batch_normalization_2 (BatchNor (None, 40, 40, 16)   64          conv2d_2[0][0]                   \n",
      "__________________________________________________________________________________________________\n",
      "activation_2 (Activation)       (None, 40, 40, 16)   0           batch_normalization_2[0][0]      \n",
      "__________________________________________________________________________________________________\n",
      "conv2d_3 (Conv2D)               (None, 40, 40, 16)   2320        activation_2[0][0]               \n",
      "__________________________________________________________________________________________________\n",
      "batch_normalization_3 (BatchNor (None, 40, 40, 16)   64          conv2d_3[0][0]                   \n",
      "__________________________________________________________________________________________________\n",
      "add_1 (Add)                     (None, 40, 40, 16)   0           activation_1[0][0]               \n",
      "                                                                 batch_normalization_3[0][0]      \n",
      "__________________________________________________________________________________________________\n",
      "activation_3 (Activation)       (None, 40, 40, 16)   0           add_1[0][0]                      \n",
      "__________________________________________________________________________________________________\n",
      "conv2d_4 (Conv2D)               (None, 40, 40, 16)   2320        activation_3[0][0]               \n",
      "__________________________________________________________________________________________________\n",
      "batch_normalization_4 (BatchNor (None, 40, 40, 16)   64          conv2d_4[0][0]                   \n",
      "__________________________________________________________________________________________________\n",
      "activation_4 (Activation)       (None, 40, 40, 16)   0           batch_normalization_4[0][0]      \n",
      "__________________________________________________________________________________________________\n",
      "conv2d_5 (Conv2D)               (None, 40, 40, 16)   2320        activation_4[0][0]               \n",
      "__________________________________________________________________________________________________\n",
      "batch_normalization_5 (BatchNor (None, 40, 40, 16)   64          conv2d_5[0][0]                   \n",
      "__________________________________________________________________________________________________\n",
      "add_2 (Add)                     (None, 40, 40, 16)   0           activation_3[0][0]               \n",
      "                                                                 batch_normalization_5[0][0]      \n",
      "__________________________________________________________________________________________________\n",
      "activation_5 (Activation)       (None, 40, 40, 16)   0           add_2[0][0]                      \n",
      "__________________________________________________________________________________________________\n",
      "conv2d_6 (Conv2D)               (None, 40, 40, 16)   2320        activation_5[0][0]               \n",
      "__________________________________________________________________________________________________\n",
      "batch_normalization_6 (BatchNor (None, 40, 40, 16)   64          conv2d_6[0][0]                   \n",
      "__________________________________________________________________________________________________\n",
      "activation_6 (Activation)       (None, 40, 40, 16)   0           batch_normalization_6[0][0]      \n",
      "__________________________________________________________________________________________________\n",
      "conv2d_7 (Conv2D)               (None, 40, 40, 16)   2320        activation_6[0][0]               \n",
      "__________________________________________________________________________________________________\n",
      "batch_normalization_7 (BatchNor (None, 40, 40, 16)   64          conv2d_7[0][0]                   \n",
      "__________________________________________________________________________________________________\n",
      "add_3 (Add)                     (None, 40, 40, 16)   0           activation_5[0][0]               \n",
      "                                                                 batch_normalization_7[0][0]      \n",
      "__________________________________________________________________________________________________\n",
      "activation_7 (Activation)       (None, 40, 40, 16)   0           add_3[0][0]                      \n",
      "__________________________________________________________________________________________________\n",
      "conv2d_8 (Conv2D)               (None, 20, 20, 32)   4640        activation_7[0][0]               \n",
      "__________________________________________________________________________________________________\n",
      "batch_normalization_8 (BatchNor (None, 20, 20, 32)   128         conv2d_8[0][0]                   \n",
      "__________________________________________________________________________________________________\n",
      "activation_8 (Activation)       (None, 20, 20, 32)   0           batch_normalization_8[0][0]      \n",
      "__________________________________________________________________________________________________\n",
      "conv2d_9 (Conv2D)               (None, 20, 20, 32)   9248        activation_8[0][0]               \n",
      "__________________________________________________________________________________________________\n",
      "conv2d_10 (Conv2D)              (None, 20, 20, 32)   544         activation_7[0][0]               \n",
      "__________________________________________________________________________________________________\n",
      "batch_normalization_9 (BatchNor (None, 20, 20, 32)   128         conv2d_9[0][0]                   \n",
      "__________________________________________________________________________________________________\n",
      "add_4 (Add)                     (None, 20, 20, 32)   0           conv2d_10[0][0]                  \n",
      "                                                                 batch_normalization_9[0][0]      \n",
      "__________________________________________________________________________________________________\n",
      "activation_9 (Activation)       (None, 20, 20, 32)   0           add_4[0][0]                      \n",
      "__________________________________________________________________________________________________\n",
      "conv2d_11 (Conv2D)              (None, 20, 20, 32)   9248        activation_9[0][0]               \n",
      "__________________________________________________________________________________________________\n",
      "batch_normalization_10 (BatchNo (None, 20, 20, 32)   128         conv2d_11[0][0]                  \n",
      "__________________________________________________________________________________________________\n",
      "activation_10 (Activation)      (None, 20, 20, 32)   0           batch_normalization_10[0][0]     \n",
      "__________________________________________________________________________________________________\n",
      "conv2d_12 (Conv2D)              (None, 20, 20, 32)   9248        activation_10[0][0]              \n",
      "__________________________________________________________________________________________________\n",
      "batch_normalization_11 (BatchNo (None, 20, 20, 32)   128         conv2d_12[0][0]                  \n",
      "__________________________________________________________________________________________________\n",
      "add_5 (Add)                     (None, 20, 20, 32)   0           activation_9[0][0]               \n",
      "                                                                 batch_normalization_11[0][0]     \n",
      "__________________________________________________________________________________________________\n",
      "activation_11 (Activation)      (None, 20, 20, 32)   0           add_5[0][0]                      \n",
      "__________________________________________________________________________________________________\n",
      "conv2d_13 (Conv2D)              (None, 20, 20, 32)   9248        activation_11[0][0]              \n",
      "__________________________________________________________________________________________________\n",
      "batch_normalization_12 (BatchNo (None, 20, 20, 32)   128         conv2d_13[0][0]                  \n",
      "__________________________________________________________________________________________________\n",
      "activation_12 (Activation)      (None, 20, 20, 32)   0           batch_normalization_12[0][0]     \n",
      "__________________________________________________________________________________________________\n",
      "conv2d_14 (Conv2D)              (None, 20, 20, 32)   9248        activation_12[0][0]              \n",
      "__________________________________________________________________________________________________\n",
      "batch_normalization_13 (BatchNo (None, 20, 20, 32)   128         conv2d_14[0][0]                  \n",
      "__________________________________________________________________________________________________\n",
      "add_6 (Add)                     (None, 20, 20, 32)   0           activation_11[0][0]              \n",
      "                                                                 batch_normalization_13[0][0]     \n",
      "__________________________________________________________________________________________________\n",
      "activation_13 (Activation)      (None, 20, 20, 32)   0           add_6[0][0]                      \n",
      "__________________________________________________________________________________________________\n",
      "conv2d_15 (Conv2D)              (None, 10, 10, 64)   18496       activation_13[0][0]              \n",
      "__________________________________________________________________________________________________\n",
      "batch_normalization_14 (BatchNo (None, 10, 10, 64)   256         conv2d_15[0][0]                  \n",
      "__________________________________________________________________________________________________\n",
      "activation_14 (Activation)      (None, 10, 10, 64)   0           batch_normalization_14[0][0]     \n",
      "__________________________________________________________________________________________________\n",
      "conv2d_16 (Conv2D)              (None, 10, 10, 64)   36928       activation_14[0][0]              \n",
      "__________________________________________________________________________________________________\n",
      "conv2d_17 (Conv2D)              (None, 10, 10, 64)   2112        activation_13[0][0]              \n",
      "__________________________________________________________________________________________________\n",
      "batch_normalization_15 (BatchNo (None, 10, 10, 64)   256         conv2d_16[0][0]                  \n",
      "__________________________________________________________________________________________________\n",
      "add_7 (Add)                     (None, 10, 10, 64)   0           conv2d_17[0][0]                  \n",
      "                                                                 batch_normalization_15[0][0]     \n",
      "__________________________________________________________________________________________________\n",
      "activation_15 (Activation)      (None, 10, 10, 64)   0           add_7[0][0]                      \n",
      "__________________________________________________________________________________________________\n",
      "conv2d_18 (Conv2D)              (None, 10, 10, 64)   36928       activation_15[0][0]              \n",
      "__________________________________________________________________________________________________\n",
      "batch_normalization_16 (BatchNo (None, 10, 10, 64)   256         conv2d_18[0][0]                  \n",
      "__________________________________________________________________________________________________\n",
      "activation_16 (Activation)      (None, 10, 10, 64)   0           batch_normalization_16[0][0]     \n",
      "__________________________________________________________________________________________________\n",
      "conv2d_19 (Conv2D)              (None, 10, 10, 64)   36928       activation_16[0][0]              \n",
      "__________________________________________________________________________________________________\n",
      "batch_normalization_17 (BatchNo (None, 10, 10, 64)   256         conv2d_19[0][0]                  \n",
      "__________________________________________________________________________________________________\n",
      "add_8 (Add)                     (None, 10, 10, 64)   0           activation_15[0][0]              \n",
      "                                                                 batch_normalization_17[0][0]     \n",
      "__________________________________________________________________________________________________\n",
      "activation_17 (Activation)      (None, 10, 10, 64)   0           add_8[0][0]                      \n",
      "__________________________________________________________________________________________________\n",
      "conv2d_20 (Conv2D)              (None, 10, 10, 64)   36928       activation_17[0][0]              \n",
      "__________________________________________________________________________________________________\n",
      "batch_normalization_18 (BatchNo (None, 10, 10, 64)   256         conv2d_20[0][0]                  \n",
      "__________________________________________________________________________________________________\n",
      "activation_18 (Activation)      (None, 10, 10, 64)   0           batch_normalization_18[0][0]     \n",
      "__________________________________________________________________________________________________\n",
      "conv2d_21 (Conv2D)              (None, 10, 10, 64)   36928       activation_18[0][0]              \n",
      "__________________________________________________________________________________________________\n",
      "batch_normalization_19 (BatchNo (None, 10, 10, 64)   256         conv2d_21[0][0]                  \n",
      "__________________________________________________________________________________________________\n",
      "add_9 (Add)                     (None, 10, 10, 64)   0           activation_17[0][0]              \n",
      "                                                                 batch_normalization_19[0][0]     \n",
      "__________________________________________________________________________________________________\n",
      "activation_19 (Activation)      (None, 10, 10, 64)   0           add_9[0][0]                      \n",
      "__________________________________________________________________________________________________\n",
      "average_pooling2d_1 (AveragePoo (None, 1, 1, 64)     0           activation_19[0][0]              \n",
      "__________________________________________________________________________________________________\n",
      "flatten_1 (Flatten)             (None, 64)           0           average_pooling2d_1[0][0]        \n",
      "__________________________________________________________________________________________________\n",
      "dense_1 (Dense)                 (None, 35)           2275        flatten_1[0][0]                  \n",
      "==================================================================================================\n",
      "Total params: 275,779\n",
      "Trainable params: 274,403\n",
      "Non-trainable params: 1,376\n",
      "__________________________________________________________________________________________________\n"
     ]
    }
   ],
   "source": [
    "train_model.summary()"
   ]
  },
  {
   "cell_type": "code",
   "execution_count": 151,
   "metadata": {},
   "outputs": [],
   "source": [
    "file_name=onlyfiles[1300]"
   ]
  },
  {
   "cell_type": "code",
   "execution_count": 154,
   "metadata": {},
   "outputs": [],
   "source": [
    "img = load_image(os.path.join(dir_parts,file_name))"
   ]
  },
  {
   "cell_type": "code",
   "execution_count": 155,
   "metadata": {},
   "outputs": [
    {
     "data": {
      "text/plain": [
       "array([[254., 254., 253., ..., 230., 225., 223.],\n",
       "       [253., 252., 252., ..., 228., 224., 224.],\n",
       "       [253., 252., 253., ..., 228., 225., 226.],\n",
       "       ...,\n",
       "       [255., 255., 255., ..., 193., 202., 209.],\n",
       "       [255., 255., 255., ..., 192., 200., 207.],\n",
       "       [255., 255., 255., ..., 192., 200., 207.]], dtype=float32)"
      ]
     },
     "execution_count": 155,
     "metadata": {},
     "output_type": "execute_result"
    }
   ],
   "source": [
    "img"
   ]
  },
  {
   "cell_type": "code",
   "execution_count": 156,
   "metadata": {},
   "outputs": [],
   "source": [
    "res = train_model.predict(np.array([img.reshape(40,40,1),img.reshape(40,40,1),img.reshape(40,40,1) ]))"
   ]
  },
  {
   "cell_type": "code",
   "execution_count": 157,
   "metadata": {},
   "outputs": [
    {
     "data": {
      "text/plain": [
       "array([[4.0165617e-09, 4.5777860e-08, 1.9025176e-06, 1.7543153e-08,\n",
       "        1.2374440e-10, 7.7478717e-09, 5.6428657e-09, 1.0568726e-06,\n",
       "        2.9984512e-10, 3.8362278e-09, 5.4472551e-09, 1.1076520e-10,\n",
       "        3.6036948e-08, 1.3037076e-06, 2.0905810e-08, 3.9916315e-10,\n",
       "        4.4263597e-08, 6.8703763e-09, 5.0920901e-10, 1.6240080e-07,\n",
       "        6.2820313e-06, 3.5955486e-06, 1.2797132e-07, 2.1796442e-04,\n",
       "        5.6026405e-08, 9.8956912e-11, 4.3009408e-08, 4.4327150e-11,\n",
       "        6.8023378e-09, 1.3802639e-09, 1.7568852e-06, 9.9372393e-01,\n",
       "        6.0371403e-03, 4.7272735e-08, 4.4796211e-06],\n",
       "       [4.0165617e-09, 4.5777860e-08, 1.9025176e-06, 1.7543153e-08,\n",
       "        1.2374440e-10, 7.7478717e-09, 5.6428657e-09, 1.0568726e-06,\n",
       "        2.9984512e-10, 3.8362278e-09, 5.4472551e-09, 1.1076520e-10,\n",
       "        3.6036948e-08, 1.3037076e-06, 2.0905810e-08, 3.9916315e-10,\n",
       "        4.4263597e-08, 6.8703763e-09, 5.0920901e-10, 1.6240080e-07,\n",
       "        6.2820313e-06, 3.5955486e-06, 1.2797132e-07, 2.1796442e-04,\n",
       "        5.6026405e-08, 9.8956912e-11, 4.3009408e-08, 4.4327150e-11,\n",
       "        6.8023378e-09, 1.3802639e-09, 1.7568852e-06, 9.9372393e-01,\n",
       "        6.0371403e-03, 4.7272735e-08, 4.4796211e-06],\n",
       "       [4.0165617e-09, 4.5777860e-08, 1.9025176e-06, 1.7543153e-08,\n",
       "        1.2374440e-10, 7.7478717e-09, 5.6428657e-09, 1.0568726e-06,\n",
       "        2.9984512e-10, 3.8362278e-09, 5.4472551e-09, 1.1076520e-10,\n",
       "        3.6036948e-08, 1.3037076e-06, 2.0905810e-08, 3.9916315e-10,\n",
       "        4.4263597e-08, 6.8703763e-09, 5.0920901e-10, 1.6240080e-07,\n",
       "        6.2820313e-06, 3.5955486e-06, 1.2797132e-07, 2.1796442e-04,\n",
       "        5.6026405e-08, 9.8956912e-11, 4.3009408e-08, 4.4327150e-11,\n",
       "        6.8023378e-09, 1.3802639e-09, 1.7568852e-06, 9.9372393e-01,\n",
       "        6.0371403e-03, 4.7272735e-08, 4.4796211e-06]], dtype=float32)"
      ]
     },
     "execution_count": 157,
     "metadata": {},
     "output_type": "execute_result"
    }
   ],
   "source": [
    "res"
   ]
  },
  {
   "cell_type": "code",
   "execution_count": 158,
   "metadata": {},
   "outputs": [
    {
     "data": {
      "text/plain": [
       "array([31, 31, 31], dtype=int64)"
      ]
     },
     "execution_count": 158,
     "metadata": {},
     "output_type": "execute_result"
    }
   ],
   "source": [
    "np.argmax(res, axis=1)"
   ]
  },
  {
   "cell_type": "code",
   "execution_count": 159,
   "metadata": {},
   "outputs": [
    {
     "data": {
      "text/plain": [
       "array(['V', 'V', 'V'], dtype='<U1')"
      ]
     },
     "execution_count": 159,
     "metadata": {},
     "output_type": "execute_result"
    }
   ],
   "source": [
    "le.inverse_transform(np.argmax(res, axis=1))"
   ]
  },
  {
   "cell_type": "code",
   "execution_count": 75,
   "metadata": {},
   "outputs": [
    {
     "data": {
      "text/plain": [
       "array([[227., 242., 251., ..., 245., 244., 241.],\n",
       "       [220., 229., 238., ..., 239., 237., 237.],\n",
       "       [215., 219., 225., ..., 235., 234., 235.],\n",
       "       ...,\n",
       "       [255., 255., 255., ..., 255., 255., 254.],\n",
       "       [255., 255., 255., ..., 255., 252., 254.],\n",
       "       [255., 255., 255., ..., 255., 251., 243.]], dtype=float32)"
      ]
     },
     "execution_count": 75,
     "metadata": {},
     "output_type": "execute_result"
    }
   ],
   "source": [
    "img"
   ]
  },
  {
   "cell_type": "code",
   "execution_count": 61,
   "metadata": {},
   "outputs": [],
   "source": [
    "res = train_model.predict(img.reshape(-1,40,40,1))"
   ]
  },
  {
   "cell_type": "code",
   "execution_count": 81,
   "metadata": {},
   "outputs": [
    {
     "data": {
      "text/plain": [
       "array(['V'], dtype='<U1')"
      ]
     },
     "execution_count": 81,
     "metadata": {},
     "output_type": "execute_result"
    }
   ],
   "source": [
    "le.inverse_transform([31]) "
   ]
  },
  {
   "cell_type": "code",
   "execution_count": 77,
   "metadata": {},
   "outputs": [
    {
     "data": {
      "text/plain": [
       "array(['V', 'V'], dtype='<U1')"
      ]
     },
     "execution_count": 77,
     "metadata": {},
     "output_type": "execute_result"
    }
   ],
   "source": [
    "le.inverse_transform([np.argmax(res),np.argmax(res)]) "
   ]
  },
  {
   "cell_type": "code",
   "execution_count": 63,
   "metadata": {},
   "outputs": [
    {
     "data": {
      "text/plain": [
       "<matplotlib.image.AxesImage at 0x1b2be279c18>"
      ]
     },
     "execution_count": 63,
     "metadata": {},
     "output_type": "execute_result"
    },
    {
     "data": {
      "image/png": "[encoded data removed]",
      "text/plain": [
       "<Figure size 432x288 with 1 Axes>"
      ]
     },
     "metadata": {
      "needs_background": "light"
     },
     "output_type": "display_data"
    }
   ],
   "source": [
    "plt.imshow(img, interpolation='nearest', cmap=plt.cm.gray)"
   ]
  },
  {
   "cell_type": "code",
   "execution_count": 159,
   "metadata": {},
   "outputs": [],
   "source": [
    "img = load_image(train_addrs[0])"
   ]
  },
  {
   "cell_type": "code",
   "execution_count": 175,
   "metadata": {},
   "outputs": [
    {
     "data": {
      "text/plain": [
       "<matplotlib.image.AxesImage at 0x139bbda3780>"
      ]
     },
     "execution_count": 175,
     "metadata": {},
     "output_type": "execute_result"
    },
    {
     "data": {
      "image/png": "[encoded data removed]",
      "text/plain": [
       "<Figure size 432x288 with 1 Axes>"
      ]
     },
     "metadata": {
      "needs_background": "light"
     },
     "output_type": "display_data"
    }
   ],
   "source": [
    "plt.imshow(img, interpolation='nearest', cmap=plt.cm.gray)"
   ]
  },
  {
   "cell_type": "code",
   "execution_count": 162,
   "metadata": {},
   "outputs": [],
   "source": [
    "res = test_model.predict(img.reshape(-1,40,40,1))"
   ]
  },
  {
   "cell_type": "code",
   "execution_count": 163,
   "metadata": {},
   "outputs": [
    {
     "data": {
      "text/plain": [
       "array([[0.02741268, 0.02776559, 0.02894875, 0.02876039, 0.02891649,\n",
       "        0.02982137, 0.02776642, 0.02712759, 0.02892109, 0.02899154,\n",
       "        0.02928422, 0.02854966, 0.02895372, 0.02849161, 0.02915966,\n",
       "        0.02756532, 0.0300161 , 0.02880745, 0.02911929, 0.02851778,\n",
       "        0.0283795 , 0.02822355, 0.02816197, 0.02945782, 0.03048441,\n",
       "        0.02895823, 0.02859381, 0.02796   , 0.02752955, 0.02914381,\n",
       "        0.02765793, 0.02894188, 0.02809941, 0.02867618, 0.02683518]],\n",
       "      dtype=float32)"
      ]
     },
     "execution_count": 163,
     "metadata": {},
     "output_type": "execute_result"
    }
   ],
   "source": [
    "res"
   ]
  },
  {
   "cell_type": "code",
   "execution_count": 165,
   "metadata": {},
   "outputs": [
    {
     "data": {
      "text/plain": [
       "24"
      ]
     },
     "execution_count": 165,
     "metadata": {},
     "output_type": "execute_result"
    }
   ],
   "source": [
    "np.argmax(res)"
   ]
  },
  {
   "cell_type": "code",
   "execution_count": 172,
   "metadata": {},
   "outputs": [
    {
     "data": {
      "text/plain": [
       "array(['O'], dtype='<U1')"
      ]
     },
     "execution_count": 172,
     "metadata": {},
     "output_type": "execute_result"
    }
   ],
   "source": [
    "le.inverse_transform([np.argmax(res)]) "
   ]
  },
  {
   "cell_type": "code",
   "execution_count": 66,
   "metadata": {},
   "outputs": [],
   "source": [
    "encoded = base64.b64encode(img)"
   ]
  },
  {
   "cell_type": "code",
   "execution_count": 67,
   "metadata": {},
   "outputs": [
    {
     "data": {
      "text/plain": [
       "b'\\x00\\x00cC\\x00\\x00rC\\x00\\x00{C\\x00\\x00~C\\x00\\x00\\x7fC\\x00\\x00\\x7fC\\x00\\x00}C\\x00\\x00\\x7fC\\x00\\x00\\x7fC\\x00\\x00\\x7fC\\x00\\x00\\x7fC\\x00\\x00\\x7fC\\x00\\x00{C\\x00\\x00uC\\x00\\x00qC\\x00\\x00qC\\x00\\x00qC\\x00\\x00sC\\x00\\x00sC\\x00\\x00sC\\x00\\x00sC\\x00\\x00sC\\x00\\x00qC\\x00\\x00qC\\x00\\x00pC\\x00\\x00uC\\x00\\x00}C\\x00\\x00~C\\x00\\x00|C\\x00\\x00zC\\x00\\x00xC\\x00\\x00xC\\x00\\x00qC\\x00\\x00kC\\x00\\x00nC\\x00\\x00tC\\x00\\x00wC\\x00\\x00uC\\x00\\x00tC\\x00\\x00qC\\x00\\x00\\\\C\\x00\\x00eC\\x00\\x00nC\\x00\\x00wC\\x00\\x00{C\\x00\\x00}C\\x00\\x00\\x7fC\\x00\\x00\\x7fC\\x00\\x00~C\\x00\\x00~C\\x00\\x00\\x7fC\\x00\\x00\\x7fC\\x00\\x00}C\\x00\\x00zC\\x00\\x00wC\\x00\\x00tC\\x00\\x00rC\\x00\\x00rC\\x00\\x00sC\\x00\\x00sC\\x00\\x00tC\\x00\\x00tC\\x00\\x00rC\\x00\\x00rC\\x00\\x00tC\\x00\\x00xC\\x00\\x00}C\\x00\\x00\\x7fC\\x00\\x00~C\\x00\\x00yC\\x00\\x00rC\\x00\\x00nC\\x00\\x00oC\\x00\\x00uC\\x00\\x00zC\\x00\\x00zC\\x00\\x00tC\\x00\\x00oC\\x00\\x00mC\\x00\\x00mC\\x00\\x00WC\\x00\\x00[C\\x00\\x00aC\\x00\\x00eC\\x00\\x00kC\\x00\\x00uC\\x00\\x00{C\\x00\\x00|C\\x00\\x00}C\\x00\\x00}C\\x00\\x00\\x7fC\\x00\\x00\\x7fC\\x00\\x00\\x7fC\\x00\\x00\\x7fC\\x00\\x00{C\\x00\\x00wC\\x00\\x00uC\\x00\\x00rC\\x00\\x00qC\\x00\\x00rC\\x00\\x00rC\\x00\\x00rC\\x00\\x00rC\\x00\\x00uC\\x00\\x00yC\\x00\\x00}C\\x00\\x00~C\\x00\\x00}C\\x00\\x00xC\\x00\\x00pC\\x00\\x00jC\\x00\\x00lC\\x00\\x00rC\\x00\\x00yC\\x00\\x00}C\\x00\\x00xC\\x00\\x00oC\\x00\\x00kC\\x00\\x00jC\\x00\\x00kC\\x00\\x00aC\\x00\\x00bC\\x00\\x00ZC\\x00\\x00QC\\x00\\x00RC\\x00\\x00[C\\x00\\x00hC\\x00\\x00rC\\x00\\x00yC\\x00\\x00{C\\x00\\x00~C\\x00\\x00}C\\x00\\x00}C\\x00\\x00\\x7fC\\x00\\x00\\x7fC\\x00\\x00}C\\x00\\x00yC\\x00\\x00vC\\x00\\x00tC\\x00\\x00tC\\x00\\x00uC\\x00\\x00uC\\x00\\x00wC\\x00\\x00zC\\x00\\x00~C\\x00\\x00\\x7fC\\x00\\x00{C\\x00\\x00wC\\x00\\x00nC\\x00\\x00iC\\x00\\x00mC\\x00\\x00tC\\x00\\x00wC\\x00\\x00vC\\x00\\x00uC\\x00\\x00qC\\x00\\x00nC\\x00\\x00kC\\x00\\x00kC\\x00\\x00kC\\x00\\x00vC\\x00\\x00uC\\x00\\x00jC\\x00\\x00^C\\x00\\x00UC\\x00\\x00MC\\x00\\x00PC\\x00\\x00^C\\x00\\x00lC\\x00\\x00rC\\x00\\x00wC\\x00\\x00yC\\x00\\x00|C\\x00\\x00\\x7fC\\x00\\x00\\x7fC\\x00\\x00~C\\x00\\x00|C\\x00\\x00{C\\x00\\x00yC\\x00\\x00xC\\x00\\x00yC\\x00\\x00zC\\x00\\x00|C\\x00\\x00~C\\x00\\x00\\x7fC\\x00\\x00{C\\x00\\x00rC\\x00\\x00nC\\x00\\x00mC\\x00\\x00rC\\x00\\x00{C\\x00\\x00}C\\x00\\x00zC\\x00\\x00uC\\x00\\x00oC\\x00\\x00lC\\x00\\x00kC\\x00\\x00lC\\x00\\x00kC\\x00\\x00kC\\x00\\x00\\x7fC\\x00\\x00\\x7fC\\x00\\x00|C\\x00\\x00yC\\x00\\x00qC\\x00\\x00bC\\x00\\x00YC\\x00\\x00[C\\x00\\x00^C\\x00\\x00dC\\x00\\x00cC\\x00\\x00eC\\x00\\x00pC\\x00\\x00wC\\x00\\x00wC\\x00\\x00yC\\x00\\x00~C\\x00\\x00\\x7fC\\x00\\x00\\x7fC\\x00\\x00~C\\x00\\x00~C\\x00\\x00\\x7fC\\x00\\x00\\x7fC\\x00\\x00}C\\x00\\x00zC\\x00\\x00sC\\x00\\x00jC\\x00\\x00jC\\x00\\x00tC\\x00\\x00}C\\x00\\x00\\x7fC\\x00\\x00\\x7fC\\x00\\x00~C\\x00\\x00wC\\x00\\x00mC\\x00\\x00fC\\x00\\x00eC\\x00\\x00jC\\x00\\x00mC\\x00\\x00lC\\x00\\x00\\x7fC\\x00\\x00~C\\x00\\x00~C\\x00\\x00\\x7fC\\x00\\x00~C\\x00\\x00yC\\x00\\x00gC\\x00\\x00NC\\x00\\x00GC\\x00\\x00\\\\C\\x00\\x00\\\\C\\x00\\x00WC\\x00\\x00XC\\x00\\x00ZC\\x00\\x00^C\\x00\\x00hC\\x00\\x00sC\\x00\\x00xC\\x00\\x00{C\\x00\\x00~C\\x00\\x00\\x7fC\\x00\\x00\\x7fC\\x00\\x00~C\\x00\\x00vC\\x00\\x00kC\\x00\\x00fC\\x00\\x00kC\\x00\\x00tC\\x00\\x00|C\\x00\\x00\\x7fC\\x00\\x00\\x7fC\\x00\\x00\\x7fC\\x00\\x00\\x7fC\\x00\\x00zC\\x00\\x00nC\\x00\\x00eC\\x00\\x00dC\\x00\\x00hC\\x00\\x00kC\\x00\\x00mC\\x00\\x00\\x7fC\\x00\\x00~C\\x00\\x00\\x7fC\\x00\\x00\\x7fC\\x00\\x00~C\\x00\\x00zC\\x00\\x00WC\\x00\\x00\"C\\x00\\x00$C\\x00\\x00SC\\x00\\x00lC\\x00\\x00dC\\x00\\x00VC\\x00\\x00JC\\x00\\x00JC\\x00\\x00UC\\x00\\x00]C\\x00\\x00bC\\x00\\x00kC\\x00\\x00sC\\x00\\x00yC\\x00\\x00yC\\x00\\x00vC\\x00\\x00mC\\x00\\x00eC\\x00\\x00fC\\x00\\x00sC\\x00\\x00}C\\x00\\x00\\x7fC\\x00\\x00~C\\x00\\x00}C\\x00\\x00}C\\x00\\x00~C\\x00\\x00zC\\x00\\x00rC\\x00\\x00kC\\x00\\x00fC\\x00\\x00fC\\x00\\x00gC\\x00\\x00lC\\x00\\x00\\x7fC\\x00\\x00\\x7fC\\x00\\x00\\x7fC\\x00\\x00\\x7fC\\x00\\x00\\x7fC\\x00\\x00xC\\x00\\x00SC\\x00\\x00\\x0fC\\x00\\x00\\x08C\\x00\\x00AC\\x00\\x00uC\\x00\\x00xC\\x00\\x00oC\\x00\\x00dC\\x00\\x00^C\\x00\\x00YC\\x00\\x00SC\\x00\\x00TC\\x00\\x00]C\\x00\\x00aC\\x00\\x00\\\\C\\x00\\x00ZC\\x00\\x00`C\\x00\\x00gC\\x00\\x00mC\\x00\\x00vC\\x00\\x00}C\\x00\\x00\\x7fC\\x00\\x00\\x7fC\\x00\\x00\\x7fC\\x00\\x00pC\\x00\\x00jC\\x00\\x00sC\\x00\\x00yC\\x00\\x00sC\\x00\\x00pC\\x00\\x00kC\\x00\\x00hC\\x00\\x00gC\\x00\\x00gC\\x00\\x00~C\\x00\\x00\\x7fC\\x00\\x00~C\\x00\\x00\\x7fC\\x00\\x00\\x7fC\\x00\\x00|C\\x00\\x00`C\\x00\\x00#C\\x00\\x00\\xf2B\\x00\\x00 C\\x00\\x00bC\\x00\\x00}C\\x00\\x00~C\\x00\\x00xC\\x00\\x00vC\\x00\\x00kC\\x00\\x00bC\\x00\\x00aC\\x00\\x00aC\\x00\\x00UC\\x00\\x00DC\\x00\\x00DC\\x00\\x00VC\\x00\\x00aC\\x00\\x00cC\\x00\\x00lC\\x00\\x00uC\\x00\\x00wC\\x00\\x00{C\\x00\\x00vC\\x00\\x00NC\\x00\\x005C\\x00\\x00TC\\x00\\x00tC\\x00\\x00sC\\x00\\x00lC\\x00\\x00nC\\x00\\x00mC\\x00\\x00iC\\x00\\x00fC\\x00\\x00\\x7fC\\x00\\x00\\x7fC\\x00\\x00\\x7fC\\x00\\x00\\x7fC\\x00\\x00\\x7fC\\x00\\x00\\x7fC\\x00\\x00oC\\x00\\x00<C\\x00\\x00\\xe8B\\x00\\x00\\xecB\\x00\\x00DC\\x00\\x00uC\\x00\\x00~C\\x00\\x00{C\\x00\\x00}C\\x00\\x00{C\\x00\\x00vC\\x00\\x00pC\\x00\\x00dC\\x00\\x00TC\\x00\\x00NC\\x00\\x00WC\\x00\\x00eC\\x00\\x00hC\\x00\\x00bC\\x00\\x00cC\\x00\\x00fC\\x00\\x00gC\\x00\\x00hC\\x00\\x00ZC\\x00\\x00!C\\x00\\x00\\xeeB\\x00\\x00)C\\x00\\x00hC\\x00\\x00wC\\x00\\x00nC\\x00\\x00mC\\x00\\x00lC\\x00\\x00nC\\x00\\x00jC\\x00\\x00~C\\x00\\x00\\x7fC\\x00\\x00\\x7fC\\x00\\x00~C\\x00\\x00\\x7fC\\x00\\x00\\x7fC\\x00\\x00zC\\x00\\x00VC\\x00\\x00\\x08C\\x00\\x00\\xc8B\\x00\\x00$C\\x00\\x00iC\\x00\\x00~C\\x00\\x00\\x7fC\\x00\\x00}C\\x00\\x00}C\\x00\\x00yC\\x00\\x00pC\\x00\\x00gC\\x00\\x00aC\\x00\\x00`C\\x00\\x00fC\\x00\\x00lC\\x00\\x00qC\\x00\\x00sC\\x00\\x00rC\\x00\\x00kC\\x00\\x00hC\\x00\\x00]C\\x00\\x009C\\x00\\x00\\xf4B\\x00\\x00\\xb2B\\x00\\x00\\x16C\\x00\\x00ZC\\x00\\x00rC\\x00\\x00nC\\x00\\x00lC\\x00\\x00kC\\x00\\x00oC\\x00\\x00oC\\x00\\x00\\x7fC\\x00\\x00\\x7fC\\x00\\x00\\x7fC\\x00\\x00~C\\x00\\x00\\x7fC\\x00\\x00\\x7fC\\x00\\x00~C\\x00\\x00jC\\x00\\x00,C\\x00\\x00\\xc2B\\x00\\x00\\xd8B\\x00\\x00EC\\x00\\x00tC\\x00\\x00}C\\x00\\x00}C\\x00\\x00wC\\x00\\x00mC\\x00\\x00hC\\x00\\x00mC\\x00\\x00tC\\x00\\x00rC\\x00\\x00mC\\x00\\x00lC\\x00\\x00mC\\x00\\x00rC\\x00\\x00vC\\x00\\x00tC\\x00\\x00xC\\x00\\x00eC\\x00\\x00\\x1eC\\x00\\x00\\xa2B\\x00\\x00\\xbaB\\x00\\x00$C\\x00\\x00SC\\x00\\x00aC\\x00\\x00`C\\x00\\x00cC\\x00\\x00eC\\x00\\x00jC\\x00\\x00kC\\x00\\x00\\x7fC\\x00\\x00\\x7fC\\x00\\x00\\x7fC\\x00\\x00\\x7fC\\x00\\x00\\x7fC\\x00\\x00~C\\x00\\x00\\x7fC\\x00\\x00xC\\x00\\x00LC\\x00\\x00\\xd2B\\x00\\x00xB\\x00\\x00\\x13C\\x00\\x00fC\\x00\\x00}C\\x00\\x00yC\\x00\\x00lC\\x00\\x00gC\\x00\\x00jC\\x00\\x00sC\\x00\\x00|C\\x00\\x00~C\\x00\\x00yC\\x00\\x00tC\\x00\\x00nC\\x00\\x00mC\\x00\\x00nC\\x00\\x00sC\\x00\\x00yC\\x00\\x00YC\\x00\\x00\\xfcB\\x00\\x00`B\\x00\\x00\\xe0B\\x00\\x00BC\\x00\\x00_C\\x00\\x00cC\\x00\\x00bC\\x00\\x00aC\\x00\\x00^C\\x00\\x00_C\\x00\\x00bC\\x00\\x00\\x7fC\\x00\\x00~C\\x00\\x00\\x7fC\\x00\\x00\\x7fC\\x00\\x00\\x7fC\\x00\\x00}C\\x00\\x00\\x7fC\\x00\\x00~C\\x00\\x00bC\\x00\\x00\\x17C\\x00\\x00\\x9aB\\x00\\x00\\xdeB\\x00\\x00LC\\x00\\x00rC\\x00\\x00oC\\x00\\x00mC\\x00\\x00rC\\x00\\x00xC\\x00\\x00}C\\x00\\x00|C\\x00\\x00|C\\x00\\x00}C\\x00\\x00{C\\x00\\x00zC\\x00\\x00tC\\x00\\x00pC\\x00\\x00qC\\x00\\x00aC\\x00\\x00/C\\x00\\x00\\xbeB\\x00\\x00\\x86B\\x00\\x00\\x12C\\x00\\x00gC\\x00\\x00rC\\x00\\x00sC\\x00\\x00vC\\x00\\x00oC\\x00\\x00gC\\x00\\x00cC\\x00\\x00cC\\x00\\x00\\x7fC\\x00\\x00~C\\x00\\x00{C\\x00\\x00{C\\x00\\x00|C\\x00\\x00xC\\x00\\x00xC\\x00\\x00{C\\x00\\x00oC\\x00\\x00AC\\x00\\x00\\xd8B\\x00\\x00\\x92B\\x00\\x00\\x0cC\\x00\\x00VC\\x00\\x00nC\\x00\\x00sC\\x00\\x00|C\\x00\\x00~C\\x00\\x00~C\\x00\\x00~C\\x00\\x00~C\\x00\\x00~C\\x00\\x00~C\\x00\\x00\\x7fC\\x00\\x00}C\\x00\\x00zC\\x00\\x00vC\\x00\\x00NC\\x00\\x00\\xf4B\\x00\\x00dB\\x00\\x00\\xceB\\x00\\x00?C\\x00\\x00oC\\x00\\x00}C\\x00\\x00zC\\x00\\x00{C\\x00\\x00zC\\x00\\x00uC\\x00\\x00vC\\x00\\x00qC\\x00\\x00{C\\x00\\x00yC\\x00\\x00uC\\x00\\x00sC\\x00\\x00sC\\x00\\x00qC\\x00\\x00pC\\x00\\x00sC\\x00\\x00oC\\x00\\x00SC\\x00\\x00\\x00C\\x00\\x00<B\\x00\\x00\\xbcB\\x00\\x00FC\\x00\\x00uC\\x00\\x00}C\\x00\\x00}C\\x00\\x00}C\\x00\\x00}C\\x00\\x00~C\\x00\\x00}C\\x00\\x00~C\\x00\\x00\\x7fC\\x00\\x00\\x7fC\\x00\\x00~C\\x00\\x00}C\\x00\\x00hC\\x00\\x00-C\\x00\\x00\\xb6B\\x00\\x00\\x94B\\x00\\x00\\x0fC\\x00\\x00TC\\x00\\x00nC\\x00\\x00xC\\x00\\x00yC\\x00\\x00~C\\x00\\x00\\x7fC\\x00\\x00}C\\x00\\x00}C\\x00\\x00zC\\x00\\x00wC\\x00\\x00rC\\x00\\x00oC\\x00\\x00mC\\x00\\x00lC\\x00\\x00mC\\x00\\x00mC\\x00\\x00lC\\x00\\x00nC\\x00\\x00ZC\\x00\\x00 C\\x00\\x00\\xa6B\\x00\\x00\\xccB\\x00\\x00AC\\x00\\x00tC\\x00\\x00}C\\x00\\x00}C\\x00\\x00}C\\x00\\x00\\x7fC\\x00\\x00~C\\x00\\x00~C\\x00\\x00\\x7fC\\x00\\x00\\x7fC\\x00\\x00\\x7fC\\x00\\x00\\x7fC\\x00\\x00zC\\x00\\x00IC\\x00\\x00\\xe0B\\x00\\x00\\x9eB\\x00\\x00\\x00C\\x00\\x00EC\\x00\\x00eC\\x00\\x00kC\\x00\\x00lC\\x00\\x00qC\\x00\\x00xC\\x00\\x00}C\\x00\\x00}C\\x00\\x00\\x7fC\\x00\\x00~C\\x00\\x00qC\\x00\\x00lC\\x00\\x00jC\\x00\\x00jC\\x00\\x00iC\\x00\\x00lC\\x00\\x00lC\\x00\\x00gC\\x00\\x00eC\\x00\\x00WC\\x00\\x006C\\x00\\x00\\x05C\\x00\\x00\\xdaB\\x00\\x00\\x19C\\x00\\x00_C\\x00\\x00|C\\x00\\x00zC\\x00\\x00|C\\x00\\x00\\x7fC\\x00\\x00~C\\x00\\x00~C\\x00\\x00\\x7fC\\x00\\x00~C\\x00\\x00~C\\x00\\x00|C\\x00\\x00eC\\x00\\x00\\x11C\\x00\\x00\\\\B\\x00\\x00\\xbeB\\x00\\x009C\\x00\\x00jC\\x00\\x00tC\\x00\\x00qC\\x00\\x00oC\\x00\\x00pC\\x00\\x00pC\\x00\\x00sC\\x00\\x00xC\\x00\\x00~C\\x00\\x00|C\\x00\\x00lC\\x00\\x00iC\\x00\\x00iC\\x00\\x00jC\\x00\\x00iC\\x00\\x00iC\\x00\\x00dC\\x00\\x00\\\\C\\x00\\x00ZC\\x00\\x00\\\\C\\x00\\x00OC\\x00\\x00+C\\x00\\x00\\xe6B\\x00\\x00\\xe0B\\x00\\x00?C\\x00\\x00uC\\x00\\x00|C\\x00\\x00{C\\x00\\x00~C\\x00\\x00\\x7fC\\x00\\x00\\x7fC\\x00\\x00\\x7fC\\x00\\x00~C\\x00\\x00\\x7fC\\x00\\x00qC\\x00\\x002C\\x00\\x00\\x9cB\\x00\\x00\\\\B\\x00\\x00\\x0fC\\x00\\x00`C\\x00\\x00xC\\x00\\x00~C\\x00\\x00|C\\x00\\x00zC\\x00\\x00xC\\x00\\x00qC\\x00\\x00mC\\x00\\x00pC\\x00\\x00qC\\x00\\x00wC\\x00\\x00jC\\x00\\x00jC\\x00\\x00kC\\x00\\x00kC\\x00\\x00fC\\x00\\x00aC\\x00\\x00ZC\\x00\\x00UC\\x00\\x00UC\\x00\\x00_C\\x00\\x00bC\\x00\\x00HC\\x00\\x00\\x0eC\\x00\\x00\\xd2B\\x00\\x00\\x19C\\x00\\x00aC\\x00\\x00~C\\x00\\x00|C\\x00\\x00}C\\x00\\x00\\x7fC\\x00\\x00~C\\x00\\x00~C\\x00\\x00\\x7fC\\x00\\x00~C\\x00\\x00UC\\x00\\x00\\xdaB\\x00\\x00DB\\x00\\x00\\xe2B\\x00\\x00MC\\x00\\x00tC\\x00\\x00}C\\x00\\x00}C\\x00\\x00~C\\x00\\x00\\x7fC\\x00\\x00~C\\x00\\x00xC\\x00\\x00sC\\x00\\x00oC\\x00\\x00iC\\x00\\x00lC\\x00\\x00jC\\x00\\x00jC\\x00\\x00hC\\x00\\x00dC\\x00\\x00_C\\x00\\x00ZC\\x00\\x00YC\\x00\\x00]C\\x00\\x00eC\\x00\\x00iC\\x00\\x00lC\\x00\\x00YC\\x00\\x00$C\\x00\\x00\\xdcB\\x00\\x00\\xeeB\\x00\\x00?C\\x00\\x00qC\\x00\\x00~C\\x00\\x00}C\\x00\\x00~C\\x00\\x00\\x7fC\\x00\\x00\\x7fC\\x00\\x00\\x7fC\\x00\\x00hC\\x00\\x00%C\\x00\\x00\\x94B\\x00\\x00\\xb2B\\x00\\x006C\\x00\\x00rC\\x00\\x00|C\\x00\\x00|C\\x00\\x00}C\\x00\\x00\\x7fC\\x00\\x00\\x7fC\\x00\\x00\\x7fC\\x00\\x00\\x7fC\\x00\\x00~C\\x00\\x00xC\\x00\\x00rC\\x00\\x00kC\\x00\\x00gC\\x00\\x00hC\\x00\\x00aC\\x00\\x00[C\\x00\\x00WC\\x00\\x00WC\\x00\\x00^C\\x00\\x00hC\\x00\\x00jC\\x00\\x00lC\\x00\\x00lC\\x00\\x00eC\\x00\\x00:C\\x00\\x00\\xe4B\\x00\\x00\\x92B\\x00\\x00\\nC\\x00\\x00eC\\x00\\x00\\x7fC\\x00\\x00}C\\x00\\x00|C\\x00\\x00\\x7fC\\x00\\x00\\x7fC\\x00\\x00vC\\x00\\x00MC\\x00\\x00\\x00C\\x00\\x00\\xb4B\\x00\\x00\\x19C\\x00\\x00eC\\x00\\x00zC\\x00\\x00\\x7fC\\x00\\x00~C\\x00\\x00\\x7fC\\x00\\x00\\x7fC\\x00\\x00~C\\x00\\x00~C\\x00\\x00\\x7fC\\x00\\x00\\x7fC\\x00\\x00}C\\x00\\x00|C\\x00\\x00xC\\x00\\x00hC\\x00\\x00cC\\x00\\x00XC\\x00\\x00OC\\x00\\x00RC\\x00\\x00_C\\x00\\x00gC\\x00\\x00hC\\x00\\x00hC\\x00\\x00lC\\x00\\x00iC\\x00\\x00hC\\x00\\x00RC\\x00\\x00\\x06C\\x00\\x00\\x8cB\\x00\\x00\\xe4B\\x00\\x00OC\\x00\\x00xC\\x00\\x00zC\\x00\\x00{C\\x00\\x00}C\\x00\\x00~C\\x00\\x00`C\\x00\\x00\\x17C\\x00\\x00\\xcaB\\x00\\x00\\x08C\\x00\\x00PC\\x00\\x00wC\\x00\\x00~C\\x00\\x00|C\\x00\\x00}C\\x00\\x00}C\\x00\\x00}C\\x00\\x00}C\\x00\\x00}C\\x00\\x00}C\\x00\\x00|C\\x00\\x00|C\\x00\\x00|C\\x00\\x00}C\\x00\\x00WC\\x00\\x00OC\\x00\\x00JC\\x00\\x00MC\\x00\\x00SC\\x00\\x00WC\\x00\\x00YC\\x00\\x00[C\\x00\\x00\\\\C\\x00\\x00^C\\x00\\x00^C\\x00\\x00`C\\x00\\x00VC\\x00\\x00*C\\x00\\x00\\xe0B\\x00\\x00\\xd6B\\x00\\x00!C\\x00\\x00ZC\\x00\\x00hC\\x00\\x00kC\\x00\\x00oC\\x00\\x00bC\\x00\\x00.C\\x00\\x00\\xccB\\x00\\x00\\xd2B\\x00\\x00+C\\x00\\x00^C\\x00\\x00lC\\x00\\x00mC\\x00\\x00lC\\x00\\x00mC\\x00\\x00nC\\x00\\x00nC\\x00\\x00nC\\x00\\x00mC\\x00\\x00lC\\x00\\x00mC\\x00\\x00mC\\x00\\x00mC\\x00\\x00lC\\x00\\x00EC\\x00\\x00GC\\x00\\x00LC\\x00\\x00RC\\x00\\x00TC\\x00\\x00SC\\x00\\x00TC\\x00\\x00VC\\x00\\x00TC\\x00\\x00UC\\x00\\x00XC\\x00\\x00\\\\C\\x00\\x00\\\\C\\x00\\x00JC\\x00\\x00\\x13C\\x00\\x00\\xaeB\\x00\\x00\\xcaB\\x00\\x004C\\x00\\x00aC\\x00\\x00gC\\x00\\x00ZC\\x00\\x00#C\\x00\\x00\\xc4B\\x00\\x00\\xc0B\\x00\\x00\\x1bC\\x00\\x00OC\\x00\\x00aC\\x00\\x00aC\\x00\\x00dC\\x00\\x00fC\\x00\\x00fC\\x00\\x00fC\\x00\\x00fC\\x00\\x00eC\\x00\\x00eC\\x00\\x00dC\\x00\\x00eC\\x00\\x00eC\\x00\\x00eC\\x00\\x00eC\\x00\\x00NC\\x00\\x00XC\\x00\\x00aC\\x00\\x00bC\\x00\\x00bC\\x00\\x00bC\\x00\\x00bC\\x00\\x00bC\\x00\\x00dC\\x00\\x00eC\\x00\\x00eC\\x00\\x00kC\\x00\\x00pC\\x00\\x00iC\\x00\\x00:C\\x00\\x00\\xccB\\x00\\x00\\x9cB\\x00\\x00\\x1cC\\x00\\x00gC\\x00\\x00sC\\x00\\x00EC\\x00\\x00\\xccB\\x00\\x00|B\\x00\\x00\\x07C\\x00\\x00TC\\x00\\x00rC\\x00\\x00vC\\x00\\x00tC\\x00\\x00tC\\x00\\x00wC\\x00\\x00xC\\x00\\x00wC\\x00\\x00wC\\x00\\x00wC\\x00\\x00vC\\x00\\x00vC\\x00\\x00vC\\x00\\x00vC\\x00\\x00vC\\x00\\x00wC\\x00\\x00fC\\x00\\x00iC\\x00\\x00jC\\x00\\x00jC\\x00\\x00jC\\x00\\x00lC\\x00\\x00lC\\x00\\x00jC\\x00\\x00mC\\x00\\x00oC\\x00\\x00oC\\x00\\x00vC\\x00\\x00}C\\x00\\x00zC\\x00\\x00ZC\\x00\\x00\\x0eC\\x00\\x00\\xb8B\\x00\\x00\\x0bC\\x00\\x00UC\\x00\\x00XC\\x00\\x00\\x12C\\x00\\x00\\x9aB\\x00\\x00\\xdaB\\x00\\x00CC\\x00\\x00tC\\x00\\x00}C\\x00\\x00\\x7fC\\x00\\x00\\x7fC\\x00\\x00\\x7fC\\x00\\x00\\x7fC\\x00\\x00\\x7fC\\x00\\x00\\x7fC\\x00\\x00\\x7fC\\x00\\x00\\x7fC\\x00\\x00\\x7fC\\x00\\x00\\x7fC\\x00\\x00\\x7fC\\x00\\x00\\x7fC\\x00\\x00\\x7fC\\x00\\x00\\x7fC\\x00\\x00tC\\x00\\x00oC\\x00\\x00kC\\x00\\x00jC\\x00\\x00iC\\x00\\x00hC\\x00\\x00jC\\x00\\x00lC\\x00\\x00kC\\x00\\x00pC\\x00\\x00tC\\x00\\x00{C\\x00\\x00\\x7fC\\x00\\x00}C\\x00\\x00jC\\x00\\x002C\\x00\\x00\\xe8B\\x00\\x00\\xe8B\\x00\\x00\\x0bC\\x00\\x00\\xe8B\\x00\\x00|B\\x00\\x00\\x9cB\\x00\\x00+C\\x00\\x00kC\\x00\\x00{C\\x00\\x00|C\\x00\\x00|C\\x00\\x00}C\\x00\\x00\\x7fC\\x00\\x00\\x7fC\\x00\\x00}C\\x00\\x00~C\\x00\\x00\\x7fC\\x00\\x00\\x7fC\\x00\\x00\\x7fC\\x00\\x00\\x7fC\\x00\\x00\\x7fC\\x00\\x00\\x7fC\\x00\\x00~C\\x00\\x00~C\\x00\\x00zC\\x00\\x00uC\\x00\\x00pC\\x00\\x00nC\\x00\\x00lC\\x00\\x00kC\\x00\\x00lC\\x00\\x00oC\\x00\\x00qC\\x00\\x00vC\\x00\\x00{C\\x00\\x00}C\\x00\\x00~C\\x00\\x00\\x7fC\\x00\\x00xC\\x00\\x00SC\\x00\\x00\\x17C\\x00\\x00\\xc2B\\x00\\x00DB\\x00\\x000A\\x00\\x00\\xc8A\\x00\\x00\\xe8B\\x00\\x00TC\\x00\\x00wC\\x00\\x00yC\\x00\\x00|C\\x00\\x00|C\\x00\\x00}C\\x00\\x00~C\\x00\\x00}C\\x00\\x00\\x7fC\\x00\\x00\\x7fC\\x00\\x00\\x7fC\\x00\\x00\\x7fC\\x00\\x00~C\\x00\\x00\\x7fC\\x00\\x00\\x7fC\\x00\\x00\\x7fC\\x00\\x00\\x7fC\\x00\\x00\\x7fC\\x00\\x00~C\\x00\\x00{C\\x00\\x00xC\\x00\\x00vC\\x00\\x00uC\\x00\\x00tC\\x00\\x00tC\\x00\\x00uC\\x00\\x00yC\\x00\\x00{C\\x00\\x00~C\\x00\\x00~C\\x00\\x00~C\\x00\\x00\\x7fC\\x00\\x00~C\\x00\\x00mC\\x00\\x00;C\\x00\\x00\\xe2B\\x00\\x00\\xc8A\\x00\\x00\\x00\\x00\\x00\\x00hB\\x00\\x00/C\\x00\\x00oC\\x00\\x00zC\\x00\\x00uC\\x00\\x00uC\\x00\\x00uC\\x00\\x00xC\\x00\\x00zC\\x00\\x00zC\\x00\\x00|C\\x00\\x00}C\\x00\\x00~C\\x00\\x00\\x7fC\\x00\\x00~C\\x00\\x00\\x7fC\\x00\\x00\\x7fC\\x00\\x00\\x7fC\\x00\\x00\\x7fC\\x00\\x00\\x7fC\\x00\\x00\\x7fC\\x00\\x00\\x7fC\\x00\\x00}C\\x00\\x00|C\\x00\\x00{C\\x00\\x00{C\\x00\\x00{C\\x00\\x00{C\\x00\\x00}C\\x00\\x00~C\\x00\\x00\\x7fC\\x00\\x00\\x7fC\\x00\\x00\\x7fC\\x00\\x00\\x7fC\\x00\\x00\\x7fC\\x00\\x00zC\\x00\\x00YC\\x00\\x00\\x15C\\x00\\x00`B\\x00\\x00\\xa8A\\x00\\x00\\xe6B\\x00\\x00ZC\\x00\\x00vC\\x00\\x00sC\\x00\\x00oC\\x00\\x00mC\\x00\\x00mC\\x00\\x00oC\\x00\\x00sC\\x00\\x00vC\\x00\\x00wC\\x00\\x00zC\\x00\\x00}C\\x00\\x00~C\\x00\\x00\\x7fC\\x00\\x00\\x7fC\\x00\\x00\\x7fC\\x00\\x00\\x7fC\\x00\\x00\\x7fC\\x00\\x00\\x7fC\\x00\\x00\\x7fC\\x00\\x00\\x7fC\\x00\\x00\\x7fC\\x00\\x00\\x7fC\\x00\\x00\\x7fC\\x00\\x00\\x7fC\\x00\\x00\\x7fC\\x00\\x00\\x7fC\\x00\\x00~C\\x00\\x00\\x7fC\\x00\\x00\\x7fC\\x00\\x00\\x7fC\\x00\\x00\\x7fC\\x00\\x00\\x7fC\\x00\\x00\\x7fC\\x00\\x00\\x7fC\\x00\\x00oC\\x00\\x008C\\x00\\x00\\xe4B\\x00\\x00\\xcaB\\x00\\x00-C\\x00\\x00iC\\x00\\x00oC\\x00\\x00lC\\x00\\x00jC\\x00\\x00iC\\x00\\x00hC\\x00\\x00jC\\x00\\x00lC\\x00\\x00oC\\x00\\x00qC\\x00\\x00wC\\x00\\x00zC\\x00\\x00}C\\x00\\x00~C\\x00\\x00~C\\x00\\x00\\x7fC\\x00\\x00\\x7fC\\x00\\x00\\x7fC\\x00\\x00\\x7fC\\x00\\x00\\x7fC\\x00\\x00\\x7fC\\x00\\x00\\x7fC\\x00\\x00\\x7fC\\x00\\x00\\x7fC\\x00\\x00\\x7fC\\x00\\x00~C\\x00\\x00~C\\x00\\x00\\x7fC\\x00\\x00\\x7fC\\x00\\x00\\x7fC\\x00\\x00\\x7fC\\x00\\x00\\x7fC\\x00\\x00\\x7fC\\x00\\x00\\x7fC\\x00\\x00\\x7fC\\x00\\x00zC\\x00\\x00bC\\x00\\x00EC\\x00\\x00CC\\x00\\x00[C\\x00\\x00gC\\x00\\x00hC\\x00\\x00iC\\x00\\x00iC\\x00\\x00hC\\x00\\x00gC\\x00\\x00gC\\x00\\x00hC\\x00\\x00kC\\x00\\x00lC\\x00\\x00qC\\x00\\x00vC\\x00\\x00zC\\x00\\x00}C\\x00\\x00}C\\x00\\x00~C\\x00\\x00\\x7fC\\x00\\x00\\x7fC\\x00\\x00\\x7fC\\x00\\x00\\x7fC\\x00\\x00\\x7fC\\x00\\x00\\x7fC\\x00\\x00\\x7fC\\x00\\x00\\x7fC\\x00\\x00\\x7fC\\x00\\x00\\x7fC\\x00\\x00\\x7fC\\x00\\x00\\x7fC\\x00\\x00\\x7fC\\x00\\x00\\x7fC\\x00\\x00\\x7fC\\x00\\x00\\x7fC\\x00\\x00\\x7fC\\x00\\x00\\x7fC\\x00\\x00~C\\x00\\x00\\x7fC\\x00\\x00|C\\x00\\x00wC\\x00\\x00sC\\x00\\x00lC\\x00\\x00eC\\x00\\x00dC\\x00\\x00fC\\x00\\x00hC\\x00\\x00iC\\x00\\x00hC\\x00\\x00eC\\x00\\x00dC\\x00\\x00eC\\x00\\x00iC\\x00\\x00mC\\x00\\x00rC\\x00\\x00xC\\x00\\x00{C\\x00\\x00}C\\x00\\x00~C\\x00\\x00\\x7fC\\x00\\x00\\x7fC\\x00\\x00\\x7fC\\x00\\x00\\x7fC\\x00\\x00\\x7fC\\x00\\x00\\x7fC\\x00\\x00\\x7fC\\x00\\x00\\x7fC\\x00\\x00\\x7fC\\x00\\x00\\x7fC\\x00\\x00\\x7fC\\x00\\x00~C\\x00\\x00\\x7fC\\x00\\x00\\x7fC\\x00\\x00\\x7fC\\x00\\x00\\x7fC\\x00\\x00\\x7fC\\x00\\x00\\x7fC\\x00\\x00~C\\x00\\x00\\x7fC\\x00\\x00\\x7fC\\x00\\x00~C\\x00\\x00vC\\x00\\x00iC\\x00\\x00dC\\x00\\x00aC\\x00\\x00cC\\x00\\x00gC\\x00\\x00iC\\x00\\x00hC\\x00\\x00dC\\x00\\x00aC\\x00\\x00bC\\x00\\x00fC\\x00\\x00iC\\x00\\x00nC\\x00\\x00tC\\x00\\x00yC\\x00\\x00}C\\x00\\x00~C\\x00\\x00\\x7fC\\x00\\x00\\x7fC\\x00\\x00\\x7fC\\x00\\x00\\x7fC\\x00\\x00\\x7fC\\x00\\x00~C\\x00\\x00~C\\x00\\x00\\x7fC\\x00\\x00\\x7fC\\x00\\x00\\x7fC\\x00\\x00\\x7fC\\x00\\x00\\x7fC\\x00\\x00\\x7fC\\x00\\x00\\x7fC\\x00\\x00\\x7fC\\x00\\x00\\x7fC\\x00\\x00\\x7fC\\x00\\x00\\x7fC\\x00\\x00~C\\x00\\x00~C\\x00\\x00|C\\x00\\x00{C\\x00\\x00tC\\x00\\x00hC\\x00\\x00cC\\x00\\x00bC\\x00\\x00dC\\x00\\x00fC\\x00\\x00hC\\x00\\x00hC\\x00\\x00eC\\x00\\x00bC\\x00\\x00bC\\x00\\x00eC\\x00\\x00fC\\x00\\x00kC\\x00\\x00sC\\x00\\x00yC\\x00\\x00}C\\x00\\x00\\x7fC\\x00\\x00\\x7fC\\x00\\x00\\x7fC\\x00\\x00\\x7fC\\x00\\x00\\x7fC\\x00\\x00\\x7fC\\x00\\x00\\x7fC\\x00\\x00\\x7fC\\x00\\x00\\x7fC\\x00\\x00\\x7fC\\x00\\x00\\x7fC\\x00\\x00\\x7fC\\x00\\x00\\x7fC\\x00\\x00\\x7fC\\x00\\x00\\x7fC\\x00\\x00\\x7fC\\x00\\x00\\x7fC\\x00\\x00\\x7fC\\x00\\x00\\x7fC\\x00\\x00\\x7fC\\x00\\x00\\x7fC\\x00\\x00~C\\x00\\x00yC\\x00\\x00qC\\x00\\x00jC\\x00\\x00dC\\x00\\x00bC\\x00\\x00dC\\x00\\x00fC\\x00\\x00gC\\x00\\x00eC\\x00\\x00dC\\x00\\x00bC\\x00\\x00cC\\x00\\x00dC\\x00\\x00eC\\x00\\x00iC\\x00\\x00qC\\x00\\x00yC\\x00\\x00}C\\x00\\x00\\x7fC\\x00\\x00\\x7fC\\x00\\x00\\x7fC\\x00\\x00~C\\x00\\x00\\x7fC\\x00\\x00\\x7fC\\x00\\x00\\x7fC\\x00\\x00\\x7fC\\x00\\x00\\x7fC\\x00\\x00\\x7fC\\x00\\x00\\x7fC\\x00\\x00\\x7fC\\x00\\x00\\x7fC\\x00\\x00\\x7fC\\x00\\x00\\x7fC\\x00\\x00\\x7fC\\x00\\x00\\x7fC\\x00\\x00\\x7fC\\x00\\x00\\x7fC\\x00\\x00\\x7fC\\x00\\x00\\x7fC\\x00\\x00}C\\x00\\x00xC\\x00\\x00oC\\x00\\x00jC\\x00\\x00gC\\x00\\x00eC\\x00\\x00dC\\x00\\x00cC\\x00\\x00cC\\x00\\x00cC\\x00\\x00cC\\x00\\x00cC\\x00\\x00cC\\x00\\x00cC\\x00\\x00eC\\x00\\x00jC\\x00\\x00qC\\x00\\x00zC\\x00\\x00\\x7fC\\x00\\x00\\x7fC\\x00\\x00\\x7fC\\x00\\x00|C\\x00\\x00~C\\x00\\x00\\x7fC\\x00\\x00\\x7fC\\x00\\x00\\x7fC\\x00\\x00\\x7fC\\x00\\x00\\x7fC\\x00\\x00\\x7fC\\x00\\x00\\x7fC\\x00\\x00\\x7fC\\x00\\x00\\x7fC\\x00\\x00\\x7fC\\x00\\x00\\x7fC\\x00\\x00\\x7fC\\x00\\x00\\x7fC\\x00\\x00\\x7fC\\x00\\x00\\x7fC\\x00\\x00\\x7fC\\x00\\x00\\x7fC\\x00\\x00}C\\x00\\x00xC\\x00\\x00oC\\x00\\x00iC\\x00\\x00gC\\x00\\x00eC\\x00\\x00dC\\x00\\x00cC\\x00\\x00cC\\x00\\x00cC\\x00\\x00cC\\x00\\x00cC\\x00\\x00cC\\x00\\x00cC\\x00\\x00eC\\x00\\x00jC\\x00\\x00qC\\x00\\x00zC\\x00\\x00~C\\x00\\x00\\x7fC\\x00\\x00\\x7fC\\x00\\x00{C\\x00\\x00sC'"
      ]
     },
     "execution_count": 67,
     "metadata": {},
     "output_type": "execute_result"
    }
   ],
   "source": [
    "base64.b64decode(encoded)\n"
   ]
  },
  {
   "cell_type": "code",
   "execution_count": 19,
   "metadata": {},
   "outputs": [],
   "source": [
    "import base64"
   ]
  },
  {
   "cell_type": "code",
   "execution_count": 26,
   "metadata": {},
   "outputs": [],
   "source": [
    "def base64_encode_image(a):\n",
    "\t# base64 encode the input NumPy array\n",
    "\treturn base64.b64encode(a).decode(\"utf-8\")\n",
    " \n",
    "def base64_decode_image(a, dtype, shape):\n",
    "\t# if this is Python 3, we need the extra step of encoding the\n",
    "\t# serialized NumPy string as a byte object\n",
    "\n",
    "\ta = bytes(a, encoding=\"utf-8\")\n",
    " \n",
    "\t# convert the string to a NumPy array using the supplied data\n",
    "\t# type and target shape\n",
    "\ta = np.frombuffer(base64.decodestring(a), dtype=dtype)\n",
    "\ta = a.reshape(shape)\n",
    " \n",
    "\t# return the decoded image\n",
    "\treturn a"
   ]
  },
  {
   "cell_type": "code",
   "execution_count": null,
   "metadata": {},
   "outputs": [],
   "source": [
    "s = base64.b64encode(t)\n",
    "r = base64.decodebytes(s)\n",
    "q = np.frombuffer(r, dtype=np.float64)"
   ]
  },
  {
   "cell_type": "code",
   "execution_count": 326,
   "metadata": {},
   "outputs": [],
   "source": [
    "file_name=onlyfiles[0]\n",
    "\n",
    "image = cv2.imread(os.path.join(dir_parts,file_name))\n"
   ]
  },
  {
   "cell_type": "code",
   "execution_count": 328,
   "metadata": {},
   "outputs": [],
   "source": [
    "h, w = image.shape[0], image.shape[1]\n",
    "\n",
    "image = cv2.resize(image, (np.round(40*w/h).astype(int),40))\n",
    "\n",
    "h, w = image.shape[0], image.shape[1]\n",
    "\n",
    "left = np.round((40 - w)/2).astype(int)\n",
    "\n",
    "right = 40 - left - w\n",
    "\n",
    "constant= cv2.copyMakeBorder(image,0,0,left,right,cv2.BORDER_REPLICATE)\n",
    "\n"
   ]
  },
  {
   "cell_type": "code",
   "execution_count": null,
   "metadata": {},
   "outputs": [],
   "source": [
    "top np.floor(40)\n",
    "bottom\n",
    "left\n",
    "right"
   ]
  },
  {
   "cell_type": "code",
   "execution_count": null,
   "metadata": {},
   "outputs": [],
   "source": []
  },
  {
   "cell_type": "code",
   "execution_count": 233,
   "metadata": {},
   "outputs": [],
   "source": [
    "image=image[:,:,0].copy(order=\"C\")"
   ]
  },
  {
   "cell_type": "code",
   "execution_count": 234,
   "metadata": {},
   "outputs": [],
   "source": [
    "array = np.array([image, image, image])"
   ]
  },
  {
   "cell_type": "code",
   "execution_count": 235,
   "metadata": {},
   "outputs": [],
   "source": [
    "ln = array.shape[0]"
   ]
  },
  {
   "cell_type": "code",
   "execution_count": 236,
   "metadata": {},
   "outputs": [
    {
     "data": {
      "text/plain": [
       "3"
      ]
     },
     "execution_count": 236,
     "metadata": {},
     "output_type": "execute_result"
    }
   ],
   "source": [
    "ln"
   ]
  },
  {
   "cell_type": "code",
   "execution_count": 247,
   "metadata": {},
   "outputs": [],
   "source": [
    "res = base64.b64encode(array).decode(\"utf-8\")"
   ]
  },
  {
   "cell_type": "code",
   "execution_count": 248,
   "metadata": {},
   "outputs": [],
   "source": [
    "b=base64.b64decode(res)"
   ]
  },
  {
   "cell_type": "code",
   "execution_count": 249,
   "metadata": {},
   "outputs": [],
   "source": [
    "a = np.frombuffer(b, dtype=np.uint8).reshape(-1,w,h,1)\n"
   ]
  },
  {
   "cell_type": "code",
   "execution_count": 250,
   "metadata": {},
   "outputs": [
    {
     "data": {
      "text/plain": [
       "(3, 40, 40, 1)"
      ]
     },
     "execution_count": 250,
     "metadata": {},
     "output_type": "execute_result"
    }
   ],
   "source": [
    "a.shape"
   ]
  },
  {
   "cell_type": "code",
   "execution_count": 251,
   "metadata": {},
   "outputs": [
    {
     "data": {
      "text/plain": [
       "array([[[[253],\n",
       "         [253],\n",
       "         [252],\n",
       "         ...,\n",
       "         [254],\n",
       "         [253],\n",
       "         [253]],\n",
       "\n",
       "        [[252],\n",
       "         [252],\n",
       "         [252],\n",
       "         ...,\n",
       "         [252],\n",
       "         [252],\n",
       "         [252]],\n",
       "\n",
       "        [[249],\n",
       "         [248],\n",
       "         [246],\n",
       "         ...,\n",
       "         [253],\n",
       "         [253],\n",
       "         [253]],\n",
       "\n",
       "        ...,\n",
       "\n",
       "        [[242],\n",
       "         [239],\n",
       "         [234],\n",
       "         ...,\n",
       "         [206],\n",
       "         [201],\n",
       "         [197]],\n",
       "\n",
       "        [[251],\n",
       "         [248],\n",
       "         [245],\n",
       "         ...,\n",
       "         [216],\n",
       "         [213],\n",
       "         [211]],\n",
       "\n",
       "        [[252],\n",
       "         [252],\n",
       "         [253],\n",
       "         ...,\n",
       "         [224],\n",
       "         [223],\n",
       "         [222]]],\n",
       "\n",
       "\n",
       "       [[[253],\n",
       "         [253],\n",
       "         [252],\n",
       "         ...,\n",
       "         [254],\n",
       "         [253],\n",
       "         [253]],\n",
       "\n",
       "        [[252],\n",
       "         [252],\n",
       "         [252],\n",
       "         ...,\n",
       "         [252],\n",
       "         [252],\n",
       "         [252]],\n",
       "\n",
       "        [[249],\n",
       "         [248],\n",
       "         [246],\n",
       "         ...,\n",
       "         [253],\n",
       "         [253],\n",
       "         [253]],\n",
       "\n",
       "        ...,\n",
       "\n",
       "        [[242],\n",
       "         [239],\n",
       "         [234],\n",
       "         ...,\n",
       "         [206],\n",
       "         [201],\n",
       "         [197]],\n",
       "\n",
       "        [[251],\n",
       "         [248],\n",
       "         [245],\n",
       "         ...,\n",
       "         [216],\n",
       "         [213],\n",
       "         [211]],\n",
       "\n",
       "        [[252],\n",
       "         [252],\n",
       "         [253],\n",
       "         ...,\n",
       "         [224],\n",
       "         [223],\n",
       "         [222]]],\n",
       "\n",
       "\n",
       "       [[[253],\n",
       "         [253],\n",
       "         [252],\n",
       "         ...,\n",
       "         [254],\n",
       "         [253],\n",
       "         [253]],\n",
       "\n",
       "        [[252],\n",
       "         [252],\n",
       "         [252],\n",
       "         ...,\n",
       "         [252],\n",
       "         [252],\n",
       "         [252]],\n",
       "\n",
       "        [[249],\n",
       "         [248],\n",
       "         [246],\n",
       "         ...,\n",
       "         [253],\n",
       "         [253],\n",
       "         [253]],\n",
       "\n",
       "        ...,\n",
       "\n",
       "        [[242],\n",
       "         [239],\n",
       "         [234],\n",
       "         ...,\n",
       "         [206],\n",
       "         [201],\n",
       "         [197]],\n",
       "\n",
       "        [[251],\n",
       "         [248],\n",
       "         [245],\n",
       "         ...,\n",
       "         [216],\n",
       "         [213],\n",
       "         [211]],\n",
       "\n",
       "        [[252],\n",
       "         [252],\n",
       "         [253],\n",
       "         ...,\n",
       "         [224],\n",
       "         [223],\n",
       "         [222]]]], dtype=uint8)"
      ]
     },
     "execution_count": 251,
     "metadata": {},
     "output_type": "execute_result"
    }
   ],
   "source": [
    "a"
   ]
  },
  {
   "cell_type": "code",
   "execution_count": 140,
   "metadata": {},
   "outputs": [],
   "source": [
    "image = cv2.resize(a[0], (10, 20))"
   ]
  },
  {
   "cell_type": "code",
   "execution_count": 141,
   "metadata": {},
   "outputs": [
    {
     "data": {
      "text/plain": [
       "<matplotlib.image.AxesImage at 0x283b13ad9b0>"
      ]
     },
     "execution_count": 141,
     "metadata": {},
     "output_type": "execute_result"
    },
    {
     "data": {
      "image/png": "[encoded data removed]",
      "text/plain": [
       "<Figure size 432x288 with 1 Axes>"
      ]
     },
     "metadata": {
      "needs_background": "light"
     },
     "output_type": "display_data"
    }
   ],
   "source": [
    "plt.imshow(image, interpolation='nearest', cmap=plt.cm.gray)"
   ]
  },
  {
   "cell_type": "code",
   "execution_count": 121,
   "metadata": {},
   "outputs": [
    {
     "data": {
      "text/plain": [
       "<matplotlib.image.AxesImage at 0x283b118c518>"
      ]
     },
     "execution_count": 121,
     "metadata": {},
     "output_type": "execute_result"
    },
    {
     "data": {
      "image/png": "[encoded data removed]",
      "text/plain": [
       "<Figure size 432x288 with 1 Axes>"
      ]
     },
     "metadata": {
      "needs_background": "light"
     },
     "output_type": "display_data"
    }
   ],
   "source": [
    "plt.imshow(a, interpolation='nearest', cmap=plt.cm.gray)"
   ]
  },
  {
   "cell_type": "code",
   "execution_count": 135,
   "metadata": {},
   "outputs": [
    {
     "data": {
      "text/plain": [
       "<matplotlib.image.AxesImage at 0x283b12fc048>"
      ]
     },
     "execution_count": 135,
     "metadata": {},
     "output_type": "execute_result"
    },
    {
     "data": {
      "image/png": "[encoded data removed]",
      "text/plain": [
       "<Figure size 432x288 with 1 Axes>"
      ]
     },
     "metadata": {
      "needs_background": "light"
     },
     "output_type": "display_data"
    }
   ],
   "source": [
    "plt.imshow(a[2], interpolation='nearest', cmap=plt.cm.gray)"
   ]
  },
  {
   "cell_type": "code",
   "execution_count": null,
   "metadata": {},
   "outputs": [],
   "source": []
  },
  {
   "cell_type": "code",
   "execution_count": null,
   "metadata": {},
   "outputs": [],
   "source": []
  },
  {
   "cell_type": "code",
   "execution_count": 113,
   "metadata": {},
   "outputs": [
    {
     "data": {
      "text/plain": [
       "array([[253, 253, 246, 229, 207, 194, 199, 210, 233, 249, 253, 254, 254,\n",
       "        250, 253, 253, 254, 255, 254, 254, 255, 255, 252, 254, 253],\n",
       "       [251, 252, 244, 226, 214, 214, 216, 215, 220, 230, 243, 250, 249,\n",
       "        251, 254, 249, 250, 254, 255, 255, 255, 254, 252, 252, 252],\n",
       "       [246, 239, 228, 222, 228, 239, 241, 236, 228, 227, 234, 240, 241,\n",
       "        242, 246, 251, 252, 254, 255, 255, 254, 255, 255, 254, 254],\n",
       "       [233, 217, 210, 223, 241, 249, 251, 252, 242, 244, 235, 222, 219,\n",
       "        224, 234, 244, 247, 247, 252, 255, 253, 252, 253, 251, 251],\n",
       "       [223, 213, 216, 234, 247, 248, 247, 251, 250, 251, 241, 230, 220,\n",
       "        218, 226, 229, 230, 232, 243, 253, 251, 248, 247, 247, 247],\n",
       "       [231, 235, 240, 245, 247, 248, 250, 251, 253, 251, 253, 250, 239,\n",
       "        235, 234, 230, 222, 223, 231, 244, 251, 252, 252, 252, 251],\n",
       "       [244, 247, 247, 242, 239, 243, 247, 249, 251, 249, 238, 203, 181,\n",
       "        180, 187, 215, 225, 227, 228, 234, 242, 249, 253, 255, 255],\n",
       "       [245, 240, 234, 231, 230, 231, 234, 236, 231, 207, 164,  91,  43,\n",
       "         18,  44, 146, 225, 234, 235, 230, 230, 234, 240, 248, 250],\n",
       "       [238, 229, 225, 223, 223, 225, 228, 221, 188, 127,  74,  69,  61,\n",
       "         27,   1,  59, 160, 226, 243, 238, 235, 228, 229, 231, 235],\n",
       "       [229, 224, 224, 223, 221, 221, 222, 200, 131,  46,  69, 153, 190,\n",
       "        180, 122,  60,  93, 187, 241, 248, 249, 241, 234, 227, 227],\n",
       "       [224, 220, 224, 222, 221, 220, 217, 169,  67,  33, 124, 213, 241,\n",
       "        246, 219, 137,  66, 118, 212, 249, 249, 248, 248, 242, 240],\n",
       "       [224, 222, 224, 220, 221, 223, 212, 134,  39,  74, 172, 216, 237,\n",
       "        252, 249, 195,  77,  60, 177, 245, 246, 251, 255, 254, 252],\n",
       "       [220, 222, 226, 222, 223, 224, 203, 108,  11,  92, 194, 218, 232,\n",
       "        250, 254, 215, 108,  72, 175, 241, 248, 251, 252, 254, 254],\n",
       "       [210, 215, 224, 225, 225, 225, 199, 105,  26, 110, 196, 216, 230,\n",
       "        249, 254, 227, 142, 100, 179, 239, 247, 248, 254, 253, 255],\n",
       "       [210, 210, 216, 223, 225, 226, 199, 117,  71, 140, 201, 217, 232,\n",
       "        247, 253, 236, 145,  82, 163, 240, 248, 249, 254, 252, 254],\n",
       "       [219, 211, 208, 217, 222, 224, 198, 127,  95, 151, 203, 217, 233,\n",
       "        247, 255, 237, 141,  59, 152, 241, 251, 252, 246, 255, 255],\n",
       "       [223, 216, 214, 211, 216, 222, 206, 136,  99, 149, 202, 221, 233,\n",
       "        251, 254, 236, 140,  71, 160, 237, 252, 251, 247, 255, 255],\n",
       "       [223, 221, 220, 212, 213, 218, 205, 142, 101, 148, 204, 224, 239,\n",
       "        252, 253, 226, 127,  69, 165, 241, 251, 249, 251, 253, 255],\n",
       "       [226, 224, 225, 219, 215, 214, 202, 151,  89, 135, 204, 230, 244,\n",
       "        252, 255, 214,  95,  45, 158, 242, 250, 248, 254, 255, 255],\n",
       "       [219, 220, 224, 223, 220, 217, 202, 154,  98, 120, 195, 235, 245,\n",
       "        249, 251, 188,  65,  53, 178, 247, 249, 250, 253, 254, 255],\n",
       "       [203, 206, 212, 215, 220, 227, 213, 170, 104,  85, 155, 227, 252,\n",
       "        247, 222, 132,  48, 110, 219, 248, 247, 250, 253, 254, 254],\n",
       "       [211, 201, 199, 204, 209, 214, 211, 192, 133,  69,  92, 159, 191,\n",
       "        182, 143,  68,  71, 177, 240, 245, 250, 248, 252, 254, 252],\n",
       "       [238, 222, 213, 212, 204, 200, 203, 202, 174,  99,  59,  66,  74,\n",
       "         72,  63,  60, 150, 227, 248, 248, 251, 248, 247, 246, 242],\n",
       "       [250, 247, 244, 236, 220, 216, 218, 218, 198, 162, 115,  87,  74,\n",
       "         77,  97, 156, 218, 248, 253, 251, 244, 249, 245, 236, 230],\n",
       "       [251, 252, 253, 250, 245, 246, 246, 240, 222, 208, 195, 181, 168,\n",
       "        165, 184, 219, 242, 246, 250, 249, 245, 242, 235, 226, 221],\n",
       "       [249, 252, 255, 255, 253, 255, 255, 251, 248, 243, 241, 233, 219,\n",
       "        207, 205, 219, 223, 226, 233, 238, 236, 231, 228, 226, 218],\n",
       "       [235, 241, 249, 253, 253, 254, 255, 254, 255, 254, 255, 249, 240,\n",
       "        231, 223, 220, 221, 224, 228, 228, 222, 217, 216, 216, 212],\n",
       "       [221, 226, 235, 245, 251, 254, 254, 252, 254, 254, 255, 255, 251,\n",
       "        249, 242, 232, 236, 243, 242, 230, 217, 212, 209, 201, 194],\n",
       "       [233, 226, 221, 226, 237, 246, 252, 255, 255, 254, 255, 255, 255,\n",
       "        255, 251, 241, 244, 252, 253, 239, 225, 220, 211, 198, 186],\n",
       "       [250, 242, 230, 224, 224, 227, 235, 246, 252, 254, 254, 254, 253,\n",
       "        254, 255, 250, 246, 249, 249, 242, 233, 228, 220, 212, 205],\n",
       "       [252, 253, 249, 241, 231, 219, 220, 229, 238, 248, 251, 254, 255,\n",
       "        254, 255, 251, 250, 246, 243, 240, 234, 230, 227, 224, 222]],\n",
       "      dtype=uint8)"
      ]
     },
     "execution_count": 113,
     "metadata": {},
     "output_type": "execute_result"
    }
   ],
   "source": [
    "a"
   ]
  },
  {
   "cell_type": "code",
   "execution_count": 160,
   "metadata": {},
   "outputs": [],
   "source": [
    "a = np.array([[1,2],[1,2]])"
   ]
  },
  {
   "cell_type": "code",
   "execution_count": 161,
   "metadata": {},
   "outputs": [
    {
     "data": {
      "text/plain": [
       "array([[1, 2],\n",
       "       [1, 2]])"
      ]
     },
     "execution_count": 161,
     "metadata": {},
     "output_type": "execute_result"
    }
   ],
   "source": [
    "a"
   ]
  },
  {
   "cell_type": "code",
   "execution_count": 162,
   "metadata": {},
   "outputs": [
    {
     "data": {
      "text/plain": [
       "array([[1, 2],\n",
       "       [1, 2],\n",
       "       [1, 2],\n",
       "       [1, 2]])"
      ]
     },
     "execution_count": 162,
     "metadata": {},
     "output_type": "execute_result"
    }
   ],
   "source": [
    "np.vstack([a,a])"
   ]
  },
  {
   "cell_type": "code",
   "execution_count": 282,
   "metadata": {},
   "outputs": [],
   "source": [
    "import time\n",
    "\n",
    "import requests\n",
    " \n",
    "# initialize the Keras REST API endpoint URL along with the input\n",
    "# image path\n",
    "KERAS_REST_API_URL = \"http://localhost:8081/FEcapcha\"\n",
    "IMAGE_DIR = r\"D:\\imageRecognition\\fecredit\\imageRecognitionProject\\imageRecognitionProject\\30 captcha\""
   ]
  },
  {
   "cell_type": "code",
   "execution_count": 338,
   "metadata": {},
   "outputs": [],
   "source": [
    "onlyfiles = [f for f in listdir(IMAGE_DIR) if isfile(join(IMAGE_DIR, f))]"
   ]
  },
  {
   "cell_type": "code",
   "execution_count": 287,
   "metadata": {},
   "outputs": [
    {
     "name": "stdout",
     "output_type": "stream",
     "text": [
      "file name = 3E9LF.jfif NN prediction= 3E9LF True\n",
      "file name = 5GAN2.jfif NN prediction= 5GAN2 True\n",
      "file name = 5HBN2.jfif NN prediction= 5HBN2 True\n",
      "file name = 5XBNI.jfif NN prediction= 5XBNI True\n",
      "file name = 6ICAM.jfif NN prediction= 6ICAM True\n",
      "file name = 7IVP3.jfif NN prediction= 7IVP3 True\n",
      "file name = 82DQK.jfif NN prediction= 82DQK True\n",
      "file name = 8KWQ5.jfif NN prediction= 8K7Q5 False\n",
      "file name = 9KXR5.jfif NN prediction= 9KXR3 False\n",
      "file name = AM1T8.jfif NN prediction= AM1T8 True\n",
      "file name = B6IUO.jfif NN prediction= B6IUO True\n",
      "file name = BOIV9.jfif NN prediction= BOIT9 False\n",
      "file name = FRMYS.jfif NN prediction= FHHYS False\n",
      "file name = GT71D.jfif NN prediction= GT71D True\n",
      "file name = HBO3V.jfif NN prediction= HBO3V True\n",
      "file name = IVP4W.jfif NN prediction= IVP4W True\n",
      "file name = LYS7I.jfif NN prediction= LY27I False\n",
      "file name = MGTQL.jfif NN prediction= MGTQL True\n",
      "file name = O2U93.jfif NN prediction= C2U93 False\n",
      "file name = P4W05.jfif NN prediction= P4WO5 False\n",
      "file name = PJVQ4.jfif NN prediction= PJVQ4 True\n",
      "file name = QLXR6.jfif NN prediction= QLXR6 True\n",
      "file name = T82E9.jfif NN prediction= T82E9 True\n",
      "file name = TO2US.jfif NN prediction= TO2US True\n",
      "file name = UO2E9.jfif NN prediction= UO2E9 True\n",
      "file name = UO3FO.jfif NN prediction= UO3FO True\n",
      "file name = VO4GA.jfif NN prediction= VO4GA True\n",
      "file name = WAMHT.jfif NN prediction= WAMHT True\n",
      "file name = XBNHU.jfif NN prediction= XBNHU True\n",
      "file name = XR6HB.jfif NN prediction= XR6HB True\n"
     ]
    }
   ],
   "source": [
    "for file in onlyfiles:\n",
    "    payload = {\"image\": open(os.path.join(IMAGE_DIR,file), 'rb').read()}\n",
    "    res = requests.post(KERAS_REST_API_URL, files=payload).json()['result']['string']\n",
    "    print(\"file name =\", file, \"NN prediction=\", res, res in file )\n",
    "    time.sleep(1)"
   ]
  },
  {
   "cell_type": "code",
   "execution_count": 344,
   "metadata": {},
   "outputs": [],
   "source": [
    "IMAGE_DIR = r\"D:\\imageRecognition\\fecredit\\imageRecognitionProject\\imageRecognitionProject\\30 captcha\"\n",
    "KERAS_REST_API_URL = \"http://103.9.159.186:8081/FEcapcha\"\n",
    "payload = {\"image\": open(os.path.join(IMAGE_DIR,file), 'rb').read()}\n",
    "res = requests.post(KERAS_REST_API_URL, files=payload)"
   ]
  },
  {
   "cell_type": "code",
   "execution_count": null,
   "metadata": {},
   "outputs": [],
   "source": [
    "res"
   ]
  },
  {
   "cell_type": "code",
   "execution_count": 341,
   "metadata": {},
   "outputs": [
    {
     "name": "stdout",
     "output_type": "stream",
     "text": [
      "file name = 3E9LF.jfif NN prediction= 3E9LF True\n",
      "file name = 5GAN2.jfif NN prediction= 5GAN2 True\n",
      "file name = 5HBN2.jfif NN prediction= 5HBN2 True\n",
      "file name = 5XBNI.jfif NN prediction= 5XBN7 False\n",
      "file name = 6ICAM.jfif NN prediction= 67CAM False\n",
      "file name = 7IVP3.jfif NN prediction= 7TVP3 False\n",
      "file name = 82DQK.jfif NN prediction= 82DQK True\n",
      "file name = 8KWQ5.jfif NN prediction= 8K7Q5 False\n",
      "file name = 9KXR5.jfif NN prediction= GKXR3 False\n",
      "file name = AM1T8.jfif NN prediction= AM1T8 True\n",
      "file name = B6IUO.jfif NN prediction= B67UO False\n",
      "file name = BOIV9.jfif NN prediction= BO7T9 False\n",
      "file name = FRMYS.jfif NN prediction= FTHYS False\n",
      "file name = GT71D.jfif NN prediction= GT71D True\n",
      "file name = HBO3V.jfif NN prediction= HBO3V True\n",
      "file name = IVP4W.jfif NN prediction= TVP4N False\n",
      "file name = LYS7I.jfif NN prediction= LY27T False\n",
      "file name = MGTQL.jfif NN prediction= MG7QL False\n",
      "file name = O2U93.jfif NN prediction= C2U93 False\n",
      "file name = P4W05.jfif NN prediction= P4WO5 False\n",
      "file name = PJVQ4.jfif NN prediction= PJVQ4 True\n",
      "file name = QLXR6.jfif NN prediction= QLXR6 True\n",
      "file name = T82E9.jfif NN prediction= T87E9 False\n",
      "file name = TO2US.jfif NN prediction= TO2US True\n",
      "file name = UO2E9.jfif NN prediction= UO2E9 True\n",
      "file name = UO3FO.jfif NN prediction= CO3FO False\n",
      "file name = VO4GA.jfif NN prediction= VO4GA True\n",
      "file name = WAMHT.jfif NN prediction= WAMHT True\n",
      "file name = XBNHU.jfif NN prediction= XBNHU True\n",
      "file name = XR6HB.jfif NN prediction= XR6HB True\n"
     ]
    }
   ],
   "source": [
    "for file in onlyfiles[]:\n",
    "    payload = {\"image\": open(os.path.join(IMAGE_DIR,file), 'rb').read()}\n",
    "    res = requests.post(KERAS_REST_API_URL, files=payload).json()['result']['string']\n",
    "    print(\"file name =\", file, \"NN prediction=\", res, res in file )\n",
    "    time.sleep(1)"
   ]
  },
  {
   "cell_type": "code",
   "execution_count": 280,
   "metadata": {},
   "outputs": [],
   "source": [
    "payload = {\"image\": open(os.path.join(IMAGE_DIR,file), 'rb').read()}"
   ]
  },
  {
   "cell_type": "code",
   "execution_count": 281,
   "metadata": {},
   "outputs": [
    {
     "data": {
      "text/plain": [
       "{'success': True, 'result': {'string': '5GAN2'}}"
      ]
     },
     "execution_count": 281,
     "metadata": {},
     "output_type": "execute_result"
    }
   ],
   "source": [
    "requests.post(KERAS_REST_API_URL, files=payload).json()"
   ]
  },
  {
   "cell_type": "code",
   "execution_count": 272,
   "metadata": {},
   "outputs": [
    {
     "data": {
      "text/plain": [
       "{'success': False, 'result': 'None'}"
      ]
     },
     "execution_count": 272,
     "metadata": {},
     "output_type": "execute_result"
    }
   ],
   "source": [
    "r"
   ]
  },
  {
   "cell_type": "code",
   "execution_count": 217,
   "metadata": {},
   "outputs": [],
   "source": [
    "image = open(os.path.join(IMAGE_DIR,file), \"rb\").read()"
   ]
  },
  {
   "cell_type": "code",
   "execution_count": 218,
   "metadata": {},
   "outputs": [
    {
     "data": {
      "text/plain": [
       "b'\\xff\\xd8\\xff\\xe0\\x00\\x10JFIF\\x00\\x01\\x01\\x01\\x00`\\x00`\\x00\\x00\\xff\\xdb\\x00C\\x00\\x08\\x06\\x06\\x07\\x06\\x05\\x08\\x07\\x07\\x07\\t\\t\\x08\\n\\x0c\\x14\\r\\x0c\\x0b\\x0b\\x0c\\x19\\x12\\x13\\x0f\\x14\\x1d\\x1a\\x1f\\x1e\\x1d\\x1a\\x1c\\x1c $.\\' \",#\\x1c\\x1c(7),01444\\x1f\\'9=82<.342\\xff\\xdb\\x00C\\x01\\t\\t\\t\\x0c\\x0b\\x0c\\x18\\r\\r\\x182!\\x1c!22222222222222222222222222222222222222222222222222\\xff\\xc0\\x00\\x11\\x08\\x004\\x00\\xee\\x03\\x01\"\\x00\\x02\\x11\\x01\\x03\\x11\\x01\\xff\\xc4\\x00\\x1f\\x00\\x00\\x01\\x05\\x01\\x01\\x01\\x01\\x01\\x01\\x00\\x00\\x00\\x00\\x00\\x00\\x00\\x00\\x01\\x02\\x03\\x04\\x05\\x06\\x07\\x08\\t\\n\\x0b\\xff\\xc4\\x00\\xb5\\x10\\x00\\x02\\x01\\x03\\x03\\x02\\x04\\x03\\x05\\x05\\x04\\x04\\x00\\x00\\x01}\\x01\\x02\\x03\\x00\\x04\\x11\\x05\\x12!1A\\x06\\x13Qa\\x07\"q\\x142\\x81\\x91\\xa1\\x08#B\\xb1\\xc1\\x15R\\xd1\\xf0$3br\\x82\\t\\n\\x16\\x17\\x18\\x19\\x1a%&\\'()*456789:CDEFGHIJSTUVWXYZcdefghijstuvwxyz\\x83\\x84\\x85\\x86\\x87\\x88\\x89\\x8a\\x92\\x93\\x94\\x95\\x96\\x97\\x98\\x99\\x9a\\xa2\\xa3\\xa4\\xa5\\xa6\\xa7\\xa8\\xa9\\xaa\\xb2\\xb3\\xb4\\xb5\\xb6\\xb7\\xb8\\xb9\\xba\\xc2\\xc3\\xc4\\xc5\\xc6\\xc7\\xc8\\xc9\\xca\\xd2\\xd3\\xd4\\xd5\\xd6\\xd7\\xd8\\xd9\\xda\\xe1\\xe2\\xe3\\xe4\\xe5\\xe6\\xe7\\xe8\\xe9\\xea\\xf1\\xf2\\xf3\\xf4\\xf5\\xf6\\xf7\\xf8\\xf9\\xfa\\xff\\xc4\\x00\\x1f\\x01\\x00\\x03\\x01\\x01\\x01\\x01\\x01\\x01\\x01\\x01\\x01\\x00\\x00\\x00\\x00\\x00\\x00\\x01\\x02\\x03\\x04\\x05\\x06\\x07\\x08\\t\\n\\x0b\\xff\\xc4\\x00\\xb5\\x11\\x00\\x02\\x01\\x02\\x04\\x04\\x03\\x04\\x07\\x05\\x04\\x04\\x00\\x01\\x02w\\x00\\x01\\x02\\x03\\x11\\x04\\x05!1\\x06\\x12AQ\\x07aq\\x13\"2\\x81\\x08\\x14B\\x91\\xa1\\xb1\\xc1\\t#3R\\xf0\\x15br\\xd1\\n\\x16$4\\xe1%\\xf1\\x17\\x18\\x19\\x1a&\\'()*56789:CDEFGHIJSTUVWXYZcdefghijstuvwxyz\\x82\\x83\\x84\\x85\\x86\\x87\\x88\\x89\\x8a\\x92\\x93\\x94\\x95\\x96\\x97\\x98\\x99\\x9a\\xa2\\xa3\\xa4\\xa5\\xa6\\xa7\\xa8\\xa9\\xaa\\xb2\\xb3\\xb4\\xb5\\xb6\\xb7\\xb8\\xb9\\xba\\xc2\\xc3\\xc4\\xc5\\xc6\\xc7\\xc8\\xc9\\xca\\xd2\\xd3\\xd4\\xd5\\xd6\\xd7\\xd8\\xd9\\xda\\xe2\\xe3\\xe4\\xe5\\xe6\\xe7\\xe8\\xe9\\xea\\xf2\\xf3\\xf4\\xf5\\xf6\\xf7\\xf8\\xf9\\xfa\\xff\\xda\\x00\\x0c\\x03\\x01\\x00\\x02\\x11\\x03\\x11\\x00?\\x00\\xf5\\xed\\x0fV\\xb2\\x8e\\xc6`\\xd28&\\xf2\\xe8\\xff\\x00\\xaas\\xc1\\x9d\\xc8\\xedN\\xd7u{\\'\\xf0\\xf6\\xa4\\xab#\\xe5\\xade\\x03\\xf7O\\xfd\\xc3\\xedXV\\xfa\\xd5\\xc2\\xc5q\\x15\\xbb\\xecE\\xbc\\xb9!\\x87S\\x99\\x9c\\xd5m{\\xc7K\\xe1\\xef\\r\\xde\\xddjp}\\xb22\\x864\\x878\\xf3\\x19\\xb8\\nO\\xa7\\xa9\\xf4\\xcd\\\\(WrVk\\xee\\xff\\x00\\x82i\\xcdM\\xe9g\\xf7\\xff\\x00\\xc0:\\xeb-f\\xc14\\xeb}\\xd2\\xb8\\xc4K\\x9f\\xdd?\\xa0\\xf6\\xac\\xdbO\\x12i\\x0b\\xae\\xeaL\\xd7\\x80\\x07\\x11\\x05\\xf9\\x1b\\x9c\\x03\\x9e\\xd5\\xe5i?\\xc5\\xab\\xdf\\x0cZj\\x89\\xab\\xd8\\xc1gs\\x1ea\\xb2\\xf2\\xd3\\xcc*\\x07\\x03%\\x0e3\\x8e\\xef\\xdf\\x9cT\\xde\\t\\xd7d\\xd7m/e\\xbb\\x84C\\x7f\\x14\\xfb\\'@\\x08\\x03\\x8e1\\x9eG~)\\xd6\\xc3V\\xa6\\x9c\\xb9\\xa2\\xed\\xbd\\xaf\\xa7\\xae\\xa6\\x94\\x95)\\xda\\xe9\\xab\\xf9\\xff\\x00\\xc0=C\\xc3\\x1a\\xbd\\x92h1\\x03+g\\xcd\\x98\\xf1\\x13\\x1e\\xb2\\xb9\\xf4\\xad\\x8f\\xed\\x9b\\x1f\\xf9\\xea\\xff\\x00\\xf7\\xe5\\xff\\x00\\xc2\\xb0>\\x1d\\xdc<\\xbe\\x1d11\\xc8\\x8ai6\\xfe.\\xd5\\xd7V\\x13\\xf6\\x8eM\\xa6\\xbe\\xef\\xf8$\\xb5N.\\xcd?\\xbf\\xfe\\x01C\\xfbf\\xc7\\xfez\\xbf\\xfd\\xf9\\x7f\\xf0\\xacS\\xa7\\xf8j2^\\xc67\\xd3\\xa5<\\x99,#\\x92\\x02\\xc7\\xb6\\xe0\\x80\\x07\\xc7\\xa3du\\xf5\\xae\\x05\\xfe#|B\\xd4\\xfca\\xaeh\\xbe\\x1b\\xd0\\xf4\\x8b\\xd5\\xd3n\\x1e3\\xe6e\\x18 r\\xa0\\x92\\xd2\\xa8\\'\\x8e\\xd5w\\xfb\\x7f\\xe3g\\xfd\\t\\xfa\\'\\xfd\\xfe_\\xfeH\\xae\\xb5\\x84\\xc4\\xc5\\'\\xed\"\\xaf\\xf2\\xfdIr\\xa4\\x9b\\\\\\xafO?\\xf8\\x07c\\xfd\\xa1\\x7fe\\xf3A\\xaa\\x8dE:\\xb4wv\\xa5\\x1c\\xfb+\\xc6\\xa0(\\xfa\\xa9\\xaa\\xbag\\x89m\\x1bN[\\r[M\\x9d#`\\xdb\\xd8Bf\\x84\\x82O\\x04\\xe39\\xf6\\xc5K\\xe0\\x9dC\\xc6\\xf7\\xc6\\xf7\\xfe\\x13\\x1d\\x1e\\xc7N\\t\\xb3\\xec\\xdfep\\xdb\\xf3\\xbbvq#\\xf4\\xf9}:\\xf7\\xad\\xdd*D\\x8bG\\x85\\xa4uU\\x1b\\xb9\\'\\x1f\\xc4k\\x96\\xa2\\x9c+(\\xcd\\xc5\\xe8\\xf6\\xf9y\\xdb\\xf0-8:N\\xc9\\xee\\xba\\xfa\\xf9\\x18\\x90k\\x160\\xc8\\xc9\\xa3\\xea\\x82P\\x83-c:\\xbbm\\x1e\\xc7\\x1b\\x93\\xb0\\x19\\xca\\x8fJ\\xd1\\xb7\\xf1N\\x9e\\xe8\\xa2\\xe4\\xcbk)}\\x81%\\x8d\\xbef\\xff\\x00d\\xe3\\x90{w>\\x954\\xfa~\\x8d\\xac\\x12^+y\\x9b9,\\x87\\x0cO\\xb9^Mg\\xeaZ\\x1a\\xdai\\xf3\\xcc\\xba\\xad\\xc4v\\xf1#3%\\xc2\\x89\\xd1\\x10\\x03\\xc2\\xaf\\x04\\x10:\\x1c\\xe6\\x9f+{K\\xf0\\xff\\x00\\x83\\xfa\\x19\\xde\\x0bt\\xfe\\xff\\x00\\xf8\\x04\\x97Z\\xb5\\x95\\xf6\\xa7\\x05\\xbf\\x98\\xe6\\xda\\xdc\\xf9\\xd3~\\xe9\\xf0\\xcf\\xfc\\nF9\\xc7,s\\xdc!\\x15cR\\xd7m\"\\xd3\\xa7x\\xa5}\\xe1x\\xfd\\xd3\\xff\\x00\\x85`YG\\xe2\\xad\\x067\\xb9\\xfe\\xce\\x86\\xf2)\\xdb\\xcd\\x96\\xde\\t\\xb2\\xf1\\x00\\x00\\xc0-\\x8d\\xc4 U\\x00g;O<\\x8a\\xdc\\xb7\\xf1\\x0e\\x9b\\xa8\\xc6\\x96\\xb7^e\\x8d\\xcd\\xc2\\xe0Z\\xde!\\x8aC\\xc7`z\\xf7\\xe4q\\xc5\\'J\\xb7F\\xbe\\xef\\xf8%)ROT\\xfe\\xff\\x00\\xf8\\x07\\x03-\\xf5\\xac\\xca\\xc2Gf\\r\\xd71\\xb7\\xf8V\\xaf\\x85\\xb5\\xe8\\xac\\xf5\\x06\\xb7\\x9aI\\x0c\\x0c\\x84\\xf9\\x9e[`c\\xd7\\x8e\\xb5\\xa7?\\x86n\\xbc\\xd2m\\x99%\\x88\\x9e\\x0e\\xe01W-\\xac\\xa3\\xd1a\"U\\x17\\x17\\xb7\\x1f$p/V\\xff\\x00\\xebz\\x9e\\xd5\\x8a\\xa7U\\xbd\\x1a\\xbf\\xa7\\xfc\\x13\\xb6u\\xe8\\xf2Y\\xab\\xfc\\xff\\x00\\xe0\\x1as\\xeb\\xfad\\x10\\x97\\x9av\\t\\xd3\\x98_\\x9c\\xf6\\xe9\\xd4\\xd72\\x82\\x0b\\xdby~\\xce\\xd2\\xe9\\xd6/\\x80\\xbat\\xd0;G \\x07\\x9d\\xe88U<\\xfc\\xa8@nwn\\x07\\x03\\x9f\\xd1\\x1ci~(\\xf1e\\xd6\\xa3\\x14mq\\x15\\xe4)\\x14\\x81\\xcbG\\x13\\x18W\\xd7\\x1d\\xb1\\xc9\\x1d\\xabi\\xaf\\xae\\x9aO0\\xce\\xfb\\xbds]\\x8a\\x8dE\\xa2\\x92\\xbe\\x9d;\\xa4\\xf4\\xd7\\xf18[\\xa6\\x9e\\xce\\xde\\xbd\\x9f\\xa1\\xd0A\\xe2\\xabm\\xe6;\\xdby\\xed\\x8a\\xaeZO-\\x9a/\\xc1\\xb0\\x0fOa\\xde\\xaf&\\xbb\\xa7H\\x8a\\xf1\\xce\\xce\\x8c2\\x19br\\x08\\xfc\\xaa-\\x16\\xfc\\xea\\x16r$\\xe03\\xa7\\xca\\xd9\\x1fx\\x1a\\xf2_\\x01xR\\xfb\\xc5\\x9a.\\xa3||a\\xe2;\\t\\x93Q\\x96\\x10\\x96\\xb7\\xcc#\\xda\\xb8\\xc7\\xcb\\xd7<\\xfa\\xf6\\xa5\\n\\x15\\x1a\\x93\\x94\\x92\\xb7\\x93\\xeb\\xf3\\x13\\x955\\xd1\\xfd\\xff\\x00\\xf0\\x0fa\\xfe\\xd9\\xb1\\xff\\x00\\x9e\\xaf\\xff\\x00~_\\xfc)\\x1bZ\\xb1\\nO\\x9a\\xfc\\x0f\\xf9\\xe2\\xff\\x00\\xe1\\\\~\\x8b\\xe1\\xa9\\xbc1\\xaa\\xc7{\\xaax\\x8b\\xc4\\xd7Q\\xc6\\x18f\\xebQ3\\xda\\xb6F2\\xeb\\xb4\\x15\\xc6z\\x9c\\x0c\\xfa\\xd7z\\x92G4{\\x91\\xd5\\xd5\\x86AS\\x9c\\x83YN\\x13O\\xdd\\x92\\x7f\\'\\xfecR\\xa7\\xd6/\\xef_\\xe4y\\xfd\\xf6\\xb7m<\\xaf$\\xf3\\x10\\t\\xc0\\xca7O\\xca\\xa0\\xf0\\xa7\\x88-l\\xee\\x05\\x8f\\xda\\tH\\x9f\\xcbP\\x11\\xbeh\\xcf\\xdd8\\xc7o\\xbb\\xef\\xb4\\x9e\\xf5\\x07\\x89mfM^h\\x90\\x16\\x89\\x0f\\xca\\x07\\xe7X\\xa9\\x1c\\xbav\\xa5g\\xa8\\xb6QU\\xc4L}7\\x11\\xb4\\xfb\\xfc\\xdbG\\xfc\\x08\\x9a\\xdb\\x9d\\xf2\\xb5u\\xfd|\\xcfu\\xaa\\x12\\xa3\\xe5n\\xff\\x00\\xf0\\x0f\\\\\\xfe\\xd9\\xb1\\xff\\x00\\x9e\\xaf\\xff\\x00~_\\xfc*\\x0b\\x9f\\x11\\xd8@\\xac\\x11\\xa4\\x96lebX\\x9f\\'\\xb7\\xa7\\x03\\xde\\x99o\\xa8^j\\xd6\\xd1=\\x80\\x10\\xc4\\xc8\\x0b\\\\M\\x19\\xe4\\x91\\x9f\\x91O\\xde\\x1e\\xfd9\\xe35~\\xce\\xc2\\x0b%c\\x18&G9\\x92F9g>\\xa6\\xb9\\xd2\\xa9\\xd5\\xaf\\xbb\\xfe\\t\\xe1\\xb7O\\xb3\\xfb\\xff\\x00\\xe0\\x18\\xcbsoz\\xeb6\\xa5s)\\x19\\xca\\xda\"?\\x94\\xbf\\\\(\\xdf\\xf8\\xf1\\xe8\\x05i6\\xb9\\xa7\"\\xeey\\xd9G\\xa9\\x89\\xff\\x00\\xc2\\xb4k\\x9c\\xf1\\x04\\xeenV\\x0c\\x90\\x81s\\x8fZq\\x85V\\xedu\\xf7\\x7f\\xc15\\xa3\\nug\\xcbg\\xf7\\xff\\x00\\xc0//\\x88\\xf4\\x97m\\xabu\\x93\\xe8#\\x7f\\xf0\\xa9\\xbf\\xb6l\\x7f\\xe7\\xab\\xff\\x00\\xdf\\x97\\xff\\x00\\n\\xe4\\x95\\x8a\\xb0*pGC]\\x9e\\x9f3Oa\\x0c\\x8d\\xf7\\x8a\\xf3\\xfc\\xaa\\xa7N\\xa2\\xd9\\xaf\\xbb\\xfe\\t\\xae#\\x0fJ\\x92M&\\xfek\\xfc\\x8f:\\xb5\\x81\\xad\\xd6\\xe26\\x07\\xe5\\xbb\\xb8\\x00\\xfa\\xe2g\\x15r\\xdfE\\xb5\\xd6\\xeeb\\x82\\xf2\\xca\\x0b\\xb8\\x11\\xc3\\x95\\x9e \\xea1\\xecF+\\xaa\\xd2m \\x9a\\xc2U\\x9e$\\x7f\\xf4\\xbb\\x96\\xe4z\\xcc\\xe7\\xfa\\xd6G\\x8e|U\\xff\\x00\\n\\xff\\x00A\\x87S\\xb7\\xd1\\xbe\\xdb\\x03N\\xb1J\\x12_/\\xcb\\x04\\x1c7\\xdd9\\xe4c\\xb7Q]T\\xab:\\x96P\\xdd\\xecy\\xf68\\xbf\\x12x\\xa3Y\\xd1\\xfc)\\xa6\\xd8\\xe9\\x9e\\x14\\xbb\\xd4c6>\\x7f\\xdb\\xe3Wh\\xa0m\\xcc\\x08`\\xa8G\\x00g\\xef\\x0e\\xb5\\x8d\\xf0\\x93J\\x1a\\x96\\x91{wi:\\\\^Oq\\xba\\xec\\xe7\\x062F@#\\xae9nz\\x1e}+\\xd4\\xbc3\\xad\\xd8\\xcd\\xe1\\xcb\\xddV\\xde\\xe27\\xb27s\\xc8\\x92\\x06\\x1bB\\xee\\xcf\\xe1\\x81\\xf9W\\x95x\\x0e\\xf6K\\x8f\\x8a\\xbe)\\xd4\\xf4\\x99\\x02\\xe9\\x92n\\xdcb\\xe1\\x1d\\xcb\\x82\\x08\\xecz9\\xcf\\xbf\\xbdn\\xd2\\x95:\\x90\\xb5\\x9a\\xd5\\xbe\\xfa\\xec\\xff\\x00\\xae\\x84\\xcb\\x10\\xa9\\xa5%\\xd3\\xfe\\x18\\xf5\\xcf\\x04Y\\xad\\xa7\\x86\\xa3\\x1d]\\xa6\\x9bq\\xf7\\x120\\xab:\\xee\\xa9%\\x92\\xac0\\x1cH\\xe3%\\xbd\\x05V\\xf0e\\xd0\\x9bCX\\x8f\\xdeI%\\'\\xdf21\\xa3\\xc4\\xb6r;\\xc7t\\x8aYB\\xedlv\\xaeH\\xa8\\xba\\x9eCS\\xe7\\\\\\xc7\\x85\\xf8_\\xc5\\xf6\\x9e\\x16\\xf8\\x8f\\xe2{\\xcdB\\xf4\\xc1\\xe7\\xdc8\\xc9\\x8d\\x9fy\\xf3\\t9\\xda\\rz\\xc4_\\x1a<\\x06\\xd1+I\\xaelr9_\\xb2Np\\x7f\\xef\\x8a\\xf2\\x9f\\x08\\xe9V\\x9a\\xaf\\xc4O\\x13\\xc5wc\\x05\\xde\\xd9\\x9c\\xa2\\xcd\\x10|\\x1f0\\xf4\\xc8\\xafn\\xd3\\xfc\\x07\\xe1xlcI\\xfc5\\xa3<\\x98\\xcb\\x16\\xb1\\x88\\x9f\\xfd\\x06\\xbd,g\\xd5\\xd3\\x8f:w\\xb2\\xda\\xdd\\xbd\\x05\\xaf<\\xad\\xdc\\xd0\\xf0\\xf7\\x89\\xf4\\x7f\\x15\\xd8I{\\xa2^}\\xaa\\xde9LL\\xfeS\\xa6\\x18\\x00q\\x86\\x00\\xf4\"\\xb9\\x1b\\xab\\xc9\\'D\\x80\\xb1\\xf2\\xe2,\\x02\\xfb\\xee5\\xddi\\xdaV\\x9d\\xa4@\\xd0i\\x96\\x16\\xb6P\\xb3oh\\xed\\xa1X\\xd4\\xb6\\x00\\xc9\\n\\x00\\xce\\x00\\xe7\\xda\\xb9i4I\\xa7\\xb3\\x86\\xea\\xd9w\\x96\\xdd\\xb9G_\\xbck\\xc4\\xaf\\xcb\\xedW&\\xd6\\x7f\\xa1\\xdb\\x86iA\\xf3w_\\xa9J\\xcdd\\x82T\\x9d\\\\\\xa3\\x03\\x91\\x8a\\xea\\xa6c\\xa9\\xdd\\xd9\\xdb\\x1e!\\x8c\\xad\\xd4\\xde\\xe4s\\x1a\\xfb|\\xc3v\\x7f\\xd8\\xc1\\xebX\\xf1i\\xd2\\xa82N\\xa6(\\x90e\\x8bq\\x80)\\xfa\\xd6\\xac\\xde\\x16\\xf0v\\xa5\\xae<`\\xcf\\x14Fa\\x1b\\xf07\\x1c*)\\xff\\x00\\xc7A\\xfck\\x8e\\x95Z\\x92\\xa8\\x92\\xea\\xf6\\n\\xb6\\x93V%\\xf1\\x7f\\x8f\\xb4\\x0f\\x04\\xdb\\xa3j\\xb7\\x0c\\xd7\\x12\\x00c\\xb4\\x80\\x06\\x99\\xc6q\\x90\\t\\x00\\x0e\\xbc\\x92\\x07\\x07\\xbf\\x15\\xc3\\xea\\x9f\\x14\\xdeR\\xf1x\\x8f\\xe1\\xd6\\xad\\x07\\x87\\xdaM\\xafyw\\x0b|\\x8axV(P\\x00y\\x1d\\x1f#<\\x13\\xdf\\'\\xc0\\x9a{\\x18W\\xc5\\x9a\\x94\\xdfl\\xd7/\\xf31\\xba\\x97\\xe60\\xa9\\xe0\\x04\\xcf\\xdd\\xe3\\x8e:\\x0e\\x07\\x1djx\\xff\\x00\\xe2k\\xdfh\\x97>\\x1b\\xd3\\xae~\\xd1qvD.\\xc82pN\\n\\xe7\\xdf\\xa7\\xe3_MO\\x0b\\x055MG\\x99\\xf5wj\\xde\\x9e\\x9d\\xdf\\xdcqs]_dv\\xf0YG$J\\xfe\\x04\\xd5d1\\xbc{\\xe31\\x92`\\x85O\\xa0?#\\x1fPT\\xbez\\xb2\\xd6\\xbe\\x96u\\x0bK\\xb9\\x1e4\\xb2\\xbe\\xd4$\\x1be\\xfbZ\\x9bk\\x93\\xdf\\x97\\x1b\\x95\\x97\\xfd\\x94\\x00\\n\\xd9\\xf0\\x9e\\x83\\x17\\x86|-\\xa7i\\x10\\x81\\xfe\\x8f\\x08\\x0e\\x7f\\xbc\\xe7\\x96?\\x8b\\x13Z7v6\\xd7\\xb1\\xec\\xb8\\x89_\\x1d\\x0fq\\xf45\\xc1R\\xa2Rq\\x8e\\xab\\xcf\\xa8\\xe3v\\x93g\\x8f\\xde\\xeb\\xd7:7\\x88<J/\\xfc/\\xe2\\x06k\\xdb\\xb8\\xa6\\x85\\xed\\xac\\xfc\\xd8\\xc8X\\x95\\x1b\\xe7\\xc8\\x04g<\\x8f\\xc7\\x1d*\\xc6\\x87\\xab\\xc7\\xa8\\xd8\\x0b\\xb8m\\xeea\\xb5.Se\\xc2mx\\x88\\xf5\\x00\\x9f\\x97\\xf9}:z_\\x95\\xa9i\\xff\\x00\\xea\\x9b\\xed\\xf6\\xff\\x00\\xf3\\xceF\\x02Q\\xf4c\\xc3~5Li\\x9e\\x1e\\xd6\\xa6g\\x16\\xa9\\x1d\\xe4j\\x17\\x1bLR\\xc5\\xd4\\x83\\xb7\\xb1\\xee8\\xabu\\xe1(\\xa5\\xcbf\\xad\\xaf\\xa2\\xb0\\xd6\\x8f\\xc9\\x96<?c%\\xa5\\xac\\x92J6\\xb4\\xa4p{\\x01^O\\xf0\\xd3D\\xf1N\\xa3\\xa2\\xeaSh\\xde0\\xfe\\xc8\\xb5\\x1a\\x9c\\xeam\\xff\\x00\\xb3\"\\xb8\\xcbq\\x96\\xdc\\xc7<\\xf1\\xc7\\xb5za\\xd2\\xf5\\x1d\\n8\\x86\\x97~\\xd2\\xda.K\\xc3y\\x999=\\xf7\\xf5\\x0b\\xec?\\xc6\\xb9_\\t\\xe9z\\xaf\\x83\\xb4k\\xcd6\\xf0G!\\x9e\\xf2K\\x91-\\x9b\\x17\\x048\\x18\\x18 \\x1e\\xde\\x95\\x10\\xc5\\xc2\\x9cgv\\xb9\\x9d\\xb4\\xdf\\xf3B\\xab\\xee\\xc55\\xb5\\xff\\x00\\xcc\\xeb\\xbc9\\xa4x\\x8bL\\x96\\xe1\\xb5\\xcf\\x14\\x7fm#\\xa8\\x11\\'\\xf6|v\\xdeY\\x19\\xc9\\xca\\x1es\\xc7_J\\xbd&\\x89l\\xaee\\xb1&\\xc2rr^\\xd8\\x05\\x0c\\x7f\\xda\\\\mo\\xa9\\x19\\xf4\"\\xb9\\xbb-v?<\\x88\\xee\\xb1\"}\\xf8\\xdc\\xe1\\x97\\xea\\x0fJ\\xe8\\x12\\xfe\\xe7T@4\\xf5\\xf2\\xe2?~\\xe2E \\x7f\\xc0?\\xbc}\\xfaV2\\x9b\\x9b\\xbb\\xfc\\xad\\xf9\\x19\\xd2\\xaa\\xa7t\\x8eg\\xc4_k\\x8a\\xef\\xf7\\xd6\\xdfh\\xb9\\xd8X\\xfd\\x8f\\x9d\\xca\\x01;\\x8a\\x13\\x95\\xfc\\xceq\\xf8U=;\\xc2\\xd3x\\x85\\x0bj,\\x9fc`U\\xed\\xd1\\xf2\\x07\\x1d\\xc8\\xc1\\xdd\\xcf|c\\x8e23^\\x81ic\\r\\x9a\\x9d\\x9b\\x9eF\\xfb\\xd2\\xc8w;}MCs\\xa5C,\\xbfh\\x81\\x9a\\xda\\xeb\\xb4\\xb1q\\x9e\\xf8a\\xd0\\x8c\\xf2Gz\\x9eU{\\x9dj\\xb4\\x92\\xb1\\x17\\x87\\xee%\\x9bIH\\xae\\x1bu\\xcd\\xab\\xb5\\xb4\\xcd\\x80\\xa5\\xda6+\\xbfh\\xfb\\xbb\\x80\\x0c\\x07\\xa3\\n\\xc5\\xd55\\xab\\x89n^8$h\\xe3S\\x81\\xb4\\xe0\\x9a|\\x93\\xea\\x1a\\x06\\xba\\xb77q-\\xc5\\x9e\\xa0V\\x166\\xcaK\\xf9\\xca\\xa7k\\x94\\xf5e\\x188\\xe9\\xb0VD\\xfeY\\x99\\xda\\t\\x16H\\x8b\\x1d\\xac\\xa75\\xd3\\x05\\x17+\\x98\\xb3[I\\xd6\\xae\\x12\\xe5!\\x9eF\\x9278\\xcb\\x1c\\x91[\\x1a\\xb6\\x98o@\\x92\"<\\xc5\\x18\\xc1\\xef\\\\\\xd6\\x95e%\\xd5\\xec{T\\xedV\\x05\\x8f\\xa5w4\\xaa\\xda2\\xd0\\xbaU%\\tsD\\xe5!\\xd0\\xef$\\x90\\t\\x10\"\\xe7\\x92Mt\\xf0\\xc4\\xb0B\\x91\\'\\xddQ\\x81RQYJM\\x9aV\\xaf:\\xbf\\x11\\xcfi\\xb1j\\xcdm\\'\\xd9\\xef,\\xd3\\xfd\"l\\xf9\\x96\\xac\\xdc\\xf9\\x8d\\x9e\\x92\\x0e\\xf5-\\xe6\\x99\\xabj\\x16r\\xda^]i3\\xdb\\xcc\\xa5$\\x8aM=\\xca\\xb0\\xf4#\\xcd\\xab:\\x13\\x16\\xb0\\x98\\x9e\\xd7\\x97#\\xf2\\x9d\\xc5i\\xd64\\xa0\\xe1\\x1b\\x197\\xad\\xcf\\x05O\\x81V7\\xf2\\xdf\\xcf\\x1e\\xa2\\xf6\\xe6\\x0b\\x97Ak\\x1cg\\x01A\\xe3\\x1b\\x98\\xb6\\x08\\xe4d\\x9f\\xadt>\\x1e\\xd1d\\xd1l\\xe7\\xb2\\xd3M\\x9d\\xb4)p\\xd9_!\\xc9\\'\\x03\\x92K\\xe4\\xf6\\xeb\\x9a\\xf4\\r3\\xfeF-w\\xfe\\xbaC\\xff\\x00\\xa2\\xc5\\x1a%\\xac\\x17\\x16My$J^\\xe2g\\x94\\x8c}\\xdeq\\x81\\xf9W^\"\\xb5Z\\x9e\\xec\\xa4\\xda9\\xaa\\xd0\\xe7\\xd53\\x9e\\xf0}\\x9e\\xb3\\xfd\\x99\\xe7\\xc1yg\\x1a\\x17\\x91G\\x99j\\xcd\\x9f\\x9d\\xb3\\xd2A\\xde\\xba6\\x87^\\x0b\\xf3j:i\\x07\\xb7\\xd8_\\xff\\x00\\x8e\\xd3|*1\\xe1\\xf8\\x80\\xff\\x00\\x9e\\xd3\\xff\\x00\\xe8\\xd7\\xadI~\\xf0\\xaej\\xf2t\\xd3h\\xda\\x8d5\\x18\\xa8\\x9e\\x15g\\xa0\\xfcJ\\xf0\\xbf\\x8d\\xb5\\xed[E\\xf0\\xfd\\x85\\xe2\\xdf\\xce\\xe4I4\\x91\\x84+\\xbc\\xb0*\\xbeh+\\x9c\\xf45\\xbf\\xfd\\xbf\\xf1\\xb3\\xfe\\x85\\x1d\\x17\\xfe\\xfe\\xaf\\xff\\x00$W\\xa9T\\xe9\\xf7\\x05kK2\\x95Wi\\xc2.\\xcb\\xb3\\xe9\\xf3.PWo\\xb9\\xe5\\x9a?\\x88>\"\\xea7sE\\xae\\xd8\\xe9\\xda\\\\(\\x9f#@7\\xeel\\xf4\\xe2S\\xda\\xb6\\xb4K\\xddn;x\\xa3[\\xebO-\\x89\\x03\\xcc\\xb6f\\xc7\\'\\xfe\\x9a\\n\\xd0\\xbe\\xb5{{\\x97\\x04\\x1d\\xa4\\xe4\\x1a\\xa7\\xa2\\xc2^\\xd67a\\x88\\xe3\\xcb;z\\x00McV\\xa7=T\\xd2KN\\x9f#\\xcfR\\xa9w\\xde\\xeb\\xf54n\\xe2\\xd6\\xee\\xaf\\xa3\\xd3\\xfe\\xdd\\xa7\\xb6G\\x9b+\\x0b7\\x01T\\x11\\x80\\x7fzs\\x93\\xc68\\xc8\\xcf\\xa5&\\xb3kv\\xdaM\\xc5\\xb6\\xad\\xa9i&\\xce\\xe5\\x1a\\x17\\x8d\\xec\\xa4\\xcc\\x80\\x83\\xf2\\xa8\\x12\\xe4\\xb1\\x19\\xc0\\x1c\\xfaT\\xf6\\xda\\x82Z\\xa1\\x99\\xc7\\x9b\\xa9j\\x07\\xcc\\x86\\xddO\\xccP}\\xc1\\xec\\x0099\\xe9\\x93W\\xac\\xf4\\xf9L\\xdfl\\xd4\\x9a)\\xae\\xf1\\xb5\\x02\\x03\\xe5\\xc4=\\x17=\\xc9\\x00\\x93\\xd7\\xa7\\xa5Z\\xa7\\x14\\xf9\\xda;\\xee\\xfa\\x1e\\x06\\x9f\\n\\xf5\\x8bX\\xe4\\xb2\\x9f\\xc4\\x17\\x96\\x96,\\xc7m\\x98\\xc9\\x05\\x0f\\xf7\\x80m\\xa0\\xf3\\xc8\\x19\\x1e\\xe6\\xa0\\xd3|(\\x8f\\xf1?C\\xd0t\\xd8\\xed\\x17\\xec\\x11\\xfd\\xaei\\xbc\\x869#\\x90_\\xe6\\xcbr\\x17\\xb8\\x03w\\x15\\xf4\\x84\\xd6\\xd0\\xdc\\x0cM\\x12\\xbf\\xfb\\xc2\\xb8\\xdd\\x1b\\xc0\\xd3i?\\x13\\xb5\\x8f\\x13\\x89\\xe06w\\xb6\\xab\\x14Q\\x00w\\xa3|\\x99\\xed\\x8c|\\x9e\\xbd\\xfd\\xab\\xd4\\x86>R\\xbf;\\xe8\\xfe\\xf39CM\\x0e\\x8b\\xc8\\xd7\\xff\\x00\\xe8#\\xa6\\xff\\x00\\xe0\\x0b\\xff\\x00\\xf1\\xda<\\x8d\\x7f\\xfe\\x82:o\\xfe\\x00\\xbf\\xff\\x00\\x1d\\xab\\xf7S\\x8bkv\\x94\\xf6\\xe9\\\\\\xe3\\xea\\x97o&\\xe1)Q\\xe8:W\\x94\\xdd\\x85R\\xb4a\\xa35<\\x8d\\x7f\\xfe\\x82:o\\xfe\\x00\\xbf\\xff\\x00\\x1d\\xaa\\xb7\\x9a>\\xab~\\x17\\xed\\x17\\x9ak2}\\xc9\\x16\\xcaEt\\xcf]\\xac&\\x04g\\x1c\\xe0\\xf3W\\xf4\\xbb\\xf3w\\x1b+\\xff\\x00\\xac^\\xbe\\xf5|\\x90\\xa0\\x92@\\x03\\x92Oje\\xc6JJ\\xe8\\xe7\\xbc\\x8f\\x10\\xd8\\xdbF\\x92_[_\\x91\\x9d\\xf2\\x1bm\\x92\\x11\\xdb\\x80\\xe1O\\xe9\\xc0\\xefY\\x97&\\xe5\\x0f\\x99\\r\\xd42\\x96\\xeb\\x02\\xdb\\xb2\\xb2\\xfd\\x14\\xb6\\x7f\\xa5t\\x06\\xf2mS\\xe5\\xd3\\x88[s\\xd6\\xf0\\x80FGP\\xaaz\\xfag\\xa7^\\xf5!\\xd1mY~o0\\xcb\\x9c\\xf9\\xdb\\xbfx\\x0f\\xd6\\xb8\\xaba\\xe59\\xdd\\x16\\xec\\xe3\\xca\\xce\"}\\x16\\xf3Z\\xb9\\x85\\xe46r\\x84\\xe5#{r\\xca\\xa7\\xb9\\xfb\\xe3?\\x8dk\\xc5\\xe1Mv\\xd5TXx\\x90Y \\xe5\\xa3Kc\"\\xb7\\xfd\\xfcv\\xda=\\x97\\x02\\xaf\\x98um\\x1ec,J/\\xadI\\xcb\\xa2(\\x12\\x0fS\\x8e\\xff\\x00\\x87Z\\xd9\\xb4\\xbf\\xb5\\xbe\\x8c\\xbd\\xb4\\xca\\xf88`\\x0f*{\\x82;\\x1a\\xea\\xa2\\xe5\\x05\\xca\\xfa\\x19\\xc6\\x84`\\xf9\\x93\\xbd\\xce~\\xed\\xbcmm6a\\xfe\\xc6\\xbb\\xb7\\x03,\\xcb\\x0c\\x89\\'\\xb8T.A>\\x99a\\x9fj\\x8d5\\xed@8\\x8e\\xf3P\\xb5\\xb1\\x97\\xf8\\xd6\\xebL\\x95U=3 \\x94\\xc7\\xcf\\xfb\\xdd\\xc0\\xeb\\xc5u\\xb4\\xd7D\\x91\\nH\\x8a\\xeaz\\x86\\x19\\x06\\xb6\\xe6\\x8b\\xdd\\x14sW\\xb6\\x9a\\xc6\\xb5\\xa47\\xd9u}&t,\\xb2D\\xd1\\xdb6\\xd6x\\xdc2\\x8d\\xc2S\\xc6\\xe5\\x00\\xf0{\\xd5d\\xd2\\xef|Ci\\x15\\xf9\\xba\\xb0\\x8eY\\x17%\\x96\\xceD\\x91Xq\\x87\\xc4\\xdc\\x95=\\x9b8\\xf4\\xad\\xbb\\x8f\\x0e\\xe9\\xf3N\\xd7\\x11$\\x96\\x97\\r\\x80\\xd3Z\\xb9\\x8d\\xc8\\xf4\\xc8\\xed\\xd3\\xf2\\xacHmu\\x8d\\x0f]6\\x167pOmx\\x8d<kx\\x0eU\\xc1\\xf9\\xf9^Nr\\xa4\\x93\\xd4\\x93V\\x94d\\xac\\x98\\x16Z/\\x13iqD\\x91\\xcfau\\x02\\xae$\\x95,\\x88\\x97>\\xbb\\x04\\x80\\x11\\xeb\\x82=\\x81\\xa5]KS\\x96\\t$\\x87V\\xd3Y\\x90d\\xc6\\xda|\\x88\\xe3\\xdfkJ\\x0e=\\xf1W?\\xb7.-\\xbe]CI\\xbb\\x88\\xff\\x00~\\x15\\xf3\\x93\\x1d\\xc9+\\xf7\\x7f\\x1ae\\xe1\\xd2|Cc\\xba\\xde\\xe2\\x19d\\x07\\xf7r#\\xe1\\x83\\x0fN\\xf5\\x9c\\xa1$\\xae)7\\xca\\xeca\\xc9w\\xafH\\xfb\\xce\\xa3l=\\x96\\xdd\\x80\\xff\\x00\\xd0\\xebSM\\xb8\\xd7\\xae\\xf7G\\xf6\\xfb\\x00\\xc83\\x96\\xb3rH\\xff\\x00\\xbf\\xa2\\xb0\\xda=B\\xd1\\x8a\\xe1n\\x11{7\\xca\\xff\\x00\\xe1[\\xbe\\x1e\\xb9\\xb7y&\\x91\\xa4\\x11:\\x80\\xa69~V\\x19\\xe7\\x90~\\x95\\x92\\xbd\\xce\\x1a\\x12\\x9b\\xa8hh\\x1f\\xf2\\x0f\\x9b\\xfe\\xbfn\\xff\\x00\\xf4|\\x95\\xa9E\\x15g\\xa0ci\\x7f\\xf21k\\xbf\\xf5\\xd2\\x1f\\xfd\\x16*_\\x0e\\xff\\x00\\xc8\\n\\xdb\\xfe\\x07\\xff\\x00\\xa1\\x1a(\\xab\\x9e\\xff\\x00%\\xf9\\x02\"\\xf0\\xb7\\xfc\\x80\"\\xff\\x00\\xae\\xd3\\xff\\x00\\xe8\\xe7\\xad\\x86\\x00\\x8eh\\xa2\\xa6\\xba\\xbb\\x97\\xcc\\x11\\x12\\xa8-SQEr\\xe1\\x92\\xe5eHk\"\\xb8\\xc3\\xa8a\\xe8Fk\\x8c\\xf1\\x05\\xd4\\x9a\\x7f\\x80\\x96H\\x02\\x02\\xd3*0#\\x82\\xa6L\\x11E\\x15\\xb2\\xfe4~\\x7f\\x9a)/\\xdd7\\xe6\\xbfS\\xaa\\xb0\\xd3\\xe3\\xb0G\\xc4\\x92O4\\x872O1\\x05\\xe4\\xf4\\xce\\x00\\x1cz\\x00\\x07\\xe6j\\xdd\\x14V\\xb3\\xf8\\x99\\x98QE\\x15 P\\xd6\\x06t\\xe6\\xf6\"\\xb9\\x9a(\\xa8\\x96\\xe7\\x06+\\xe35\\xf4\\x11\\xfb\\xf9O\\xfb?\\xd6\\xa2\\xb6\\x99\\xb5\\xaf\\x12j\\xfa}\\xe0\\x06\\xd7Nh\\xbc\\xa8\\xd4\\x95\\x0e]rw\\xf3\\xf3t\\xc6:`\\x9c\\x83\\xc6\\n*\\xa3\\xb1\\xd1\\x87\\xfe\\x1a::(\\xa2\\x99\\xb8V%\\xfe\\x97l\\xda\\xbd\\xbc\\xb1\\x86\\x82{\\x82\\xc1\\xe5\\x84\\xedl\\xaa\\x92\\x0f\\xa1\\xfa\\x1c\\x8fj(\\xac\\xaa\\xec\\x9f\\x9a\\xfc\\xcdin\\xd7\\x93\\x0f\\x0b\\xea\\x97:\\xa5\\x8d\\xd3\\xdc\\x95/ow%\\xba\\xb2\\x8c\\x16U\\xc0\\x04\\xfb\\xfa\\xe2\\xb6\\xe8\\xa2\\xb52\\n\\xc6\\xf1\\'\\xee,a\\xbfN\\'\\xb5\\x9e2\\x87\\xd43\\x04 \\xfb\\x10\\xdd=@\\xf4\\xa2\\x8a\\xba\\x7f\\x12\\x06l\\xd5\\x1b\\xcd\\x1bM\\xbf\\x90\\xcbse\\x0b\\xccF<\\xed\\xb8\\x90}\\x1c|\\xc3\\xf04QR\\x9b[\\x01\\xca\\xf8\\xbcO\\xe1\\x0f\\x0f\\\\k:}\\xdc\\xf2\\x9bvE\\x8e\\xd6\\xebl\\xb1\\x00\\xcc\\x14\\xe4\\x91\\xe6\\x1e\\xa4\\xf2\\xfd}\\xb8\\xae\\x8bNK}sB\\xd3/o\\xec\\xed\\xa6\\x96[h\\xe5!\\xa2\\x0c\\x14\\xb2\\x82v\\xe78\\x14Q]\\x15\\x92\\xe4\\x8b%n\\x7f\\xff\\xd9'"
      ]
     },
     "execution_count": 218,
     "metadata": {},
     "output_type": "execute_result"
    }
   ],
   "source": [
    "image"
   ]
  },
  {
   "cell_type": "code",
   "execution_count": 219,
   "metadata": {},
   "outputs": [],
   "source": [
    "img_array = np.asarray(bytearray(image), dtype=np.uint8)\n",
    "\n",
    "res = cv2.imdecode(img_array,3)"
   ]
  },
  {
   "cell_type": "code",
   "execution_count": 220,
   "metadata": {},
   "outputs": [
    {
     "data": {
      "text/plain": [
       "(52, 238, 3)"
      ]
     },
     "execution_count": 220,
     "metadata": {},
     "output_type": "execute_result"
    }
   ],
   "source": [
    "res.shape"
   ]
  },
  {
   "cell_type": "code",
   "execution_count": 210,
   "metadata": {},
   "outputs": [
    {
     "data": {
      "text/plain": [
       "array([[[248, 253, 255],\n",
       "        [ 98, 103, 112],\n",
       "        [248, 248, 255],\n",
       "        ...,\n",
       "        [246, 255, 244],\n",
       "        [246, 255, 245],\n",
       "        [246, 255, 247]],\n",
       "\n",
       "       [[249, 250, 254],\n",
       "        [ 91,  91,  97],\n",
       "        [245, 242, 251],\n",
       "        ...,\n",
       "        [250, 255, 247],\n",
       "        [251, 255, 248],\n",
       "        [250, 255, 249]],\n",
       "\n",
       "       [[255, 255, 251],\n",
       "        [107, 101,  96],\n",
       "        [255, 251, 248],\n",
       "        ...,\n",
       "        [255, 255, 251],\n",
       "        [255, 255, 254],\n",
       "        [255, 254, 255]],\n",
       "\n",
       "       ...,\n",
       "\n",
       "       [[254, 254, 254],\n",
       "        [101, 101, 101],\n",
       "        [250, 250, 250],\n",
       "        ...,\n",
       "        [246, 255, 252],\n",
       "        [246, 254, 253],\n",
       "        [248, 255, 255]],\n",
       "\n",
       "       [[254, 254, 254],\n",
       "        [101, 101, 101],\n",
       "        [250, 250, 250],\n",
       "        ...,\n",
       "        [248, 255, 252],\n",
       "        [248, 255, 255],\n",
       "        [250, 255, 255]],\n",
       "\n",
       "       [[254, 254, 254],\n",
       "        [101, 101, 101],\n",
       "        [250, 250, 250],\n",
       "        ...,\n",
       "        [243, 253, 247],\n",
       "        [238, 244, 243],\n",
       "        [246, 252, 251]]], dtype=uint8)"
      ]
     },
     "execution_count": 210,
     "metadata": {},
     "output_type": "execute_result"
    }
   ],
   "source": [
    "res"
   ]
  },
  {
   "cell_type": "code",
   "execution_count": 202,
   "metadata": {},
   "outputs": [
    {
     "data": {
      "text/plain": [
       "<matplotlib.image.AxesImage at 0x283b72475f8>"
      ]
     },
     "execution_count": 202,
     "metadata": {},
     "output_type": "execute_result"
    },
    {
     "data": {
      "image/png": "[encoded data removed]",
      "text/plain": [
       "<Figure size 432x288 with 1 Axes>"
      ]
     },
     "metadata": {
      "needs_background": "light"
     },
     "output_type": "display_data"
    }
   ],
   "source": [
    "plt.imshow(res, interpolation='nearest', cmap=plt.cm.gray)"
   ]
  },
  {
   "cell_type": "code",
   "execution_count": 211,
   "metadata": {},
   "outputs": [],
   "source": [
    "res = cv2.imread(os.path.join(IMAGE_DIR,file))"
   ]
  },
  {
   "cell_type": "code",
   "execution_count": 212,
   "metadata": {},
   "outputs": [
    {
     "data": {
      "text/plain": [
       "array([[[248, 253, 255],\n",
       "        [ 98, 103, 112],\n",
       "        [248, 248, 255],\n",
       "        ...,\n",
       "        [246, 255, 244],\n",
       "        [246, 255, 245],\n",
       "        [246, 255, 247]],\n",
       "\n",
       "       [[249, 250, 254],\n",
       "        [ 91,  91,  97],\n",
       "        [245, 242, 251],\n",
       "        ...,\n",
       "        [250, 255, 247],\n",
       "        [251, 255, 248],\n",
       "        [250, 255, 249]],\n",
       "\n",
       "       [[255, 255, 251],\n",
       "        [107, 101,  96],\n",
       "        [255, 251, 248],\n",
       "        ...,\n",
       "        [255, 255, 251],\n",
       "        [255, 255, 254],\n",
       "        [255, 254, 255]],\n",
       "\n",
       "       ...,\n",
       "\n",
       "       [[254, 254, 254],\n",
       "        [101, 101, 101],\n",
       "        [250, 250, 250],\n",
       "        ...,\n",
       "        [246, 255, 252],\n",
       "        [246, 254, 253],\n",
       "        [248, 255, 255]],\n",
       "\n",
       "       [[254, 254, 254],\n",
       "        [101, 101, 101],\n",
       "        [250, 250, 250],\n",
       "        ...,\n",
       "        [248, 255, 252],\n",
       "        [248, 255, 255],\n",
       "        [250, 255, 255]],\n",
       "\n",
       "       [[254, 254, 254],\n",
       "        [101, 101, 101],\n",
       "        [250, 250, 250],\n",
       "        ...,\n",
       "        [243, 253, 247],\n",
       "        [238, 244, 243],\n",
       "        [246, 252, 251]]], dtype=uint8)"
      ]
     },
     "execution_count": 212,
     "metadata": {},
     "output_type": "execute_result"
    }
   ],
   "source": [
    "res"
   ]
  },
  {
   "cell_type": "code",
   "execution_count": 206,
   "metadata": {},
   "outputs": [
    {
     "data": {
      "text/plain": [
       "<matplotlib.image.AxesImage at 0x283b72d3da0>"
      ]
     },
     "execution_count": 206,
     "metadata": {},
     "output_type": "execute_result"
    },
    {
     "data": {
      "image/png": "[encoded data removed]",
      "text/plain": [
       "<Figure size 432x288 with 1 Axes>"
      ]
     },
     "metadata": {
      "needs_background": "light"
     },
     "output_type": "display_data"
    }
   ],
   "source": [
    "plt.imshow(res)"
   ]
  },
  {
   "cell_type": "code",
   "execution_count": 227,
   "metadata": {},
   "outputs": [],
   "source": [
    "import json"
   ]
  },
  {
   "cell_type": "code",
   "execution_count": 228,
   "metadata": {},
   "outputs": [
    {
     "data": {
      "text/plain": [
       "'{\"a\": 1}'"
      ]
     },
     "execution_count": 228,
     "metadata": {},
     "output_type": "execute_result"
    }
   ],
   "source": [
    "json.dumps({\"a\":1})"
   ]
  },
  {
   "cell_type": "code",
   "execution_count": 207,
   "metadata": {},
   "outputs": [
    {
     "data": {
      "text/plain": [
       "(52, 238, 3)"
      ]
     },
     "execution_count": 207,
     "metadata": {},
     "output_type": "execute_result"
    }
   ],
   "source": [
    "res.shape"
   ]
  },
  {
   "cell_type": "code",
   "execution_count": 192,
   "metadata": {},
   "outputs": [],
   "source": [
    "import io"
   ]
  },
  {
   "cell_type": "code",
   "execution_count": 193,
   "metadata": {},
   "outputs": [
    {
     "data": {
      "text/plain": [
       "<_io.BytesIO at 0x283b625c150>"
      ]
     },
     "execution_count": 193,
     "metadata": {},
     "output_type": "execute_result"
    }
   ],
   "source": [
    "io.BytesIO(image)"
   ]
  },
  {
   "cell_type": "code",
   "execution_count": 194,
   "metadata": {},
   "outputs": [
    {
     "ename": "TypeError",
     "evalue": "bad argument type for built-in operation",
     "output_type": "error",
     "traceback": [
      "\u001b[1;31m---------------------------------------------------------------------------\u001b[0m",
      "\u001b[1;31mTypeError\u001b[0m                                 Traceback (most recent call last)",
      "\u001b[1;32m<ipython-input-194-76136493b34e>\u001b[0m in \u001b[0;36m<module>\u001b[1;34m\u001b[0m\n\u001b[1;32m----> 1\u001b[1;33m \u001b[0mcv2\u001b[0m\u001b[1;33m.\u001b[0m\u001b[0mimread\u001b[0m\u001b[1;33m(\u001b[0m\u001b[0mio\u001b[0m\u001b[1;33m.\u001b[0m\u001b[0mBytesIO\u001b[0m\u001b[1;33m(\u001b[0m\u001b[0mimage\u001b[0m\u001b[1;33m)\u001b[0m\u001b[1;33m)\u001b[0m\u001b[1;33m\u001b[0m\u001b[1;33m\u001b[0m\u001b[0m\n\u001b[0m",
      "\u001b[1;31mTypeError\u001b[0m: bad argument type for built-in operation"
     ]
    }
   ],
   "source": [
    "cv2.imread(io.BytesIO(image))"
   ]
  },
  {
   "cell_type": "code",
   "execution_count": null,
   "metadata": {},
   "outputs": [],
   "source": [
    "def create_opencv_image_from_url(url, cv2_img_flag=0):\n",
    "    request = urlopen(url)\n",
    "    img_array = np.asarray(bytearray(request.read()), dtype=np.uint8)\n",
    "    return cv2.imdecode(img_array, cv2_img_flag)"
   ]
  },
  {
   "cell_type": "code",
   "execution_count": null,
   "metadata": {},
   "outputs": [],
   "source": [
    "io.BytesIO(image)"
   ]
  },
  {
   "cell_type": "code",
   "execution_count": 187,
   "metadata": {},
   "outputs": [
    {
     "ename": "JSONDecodeError",
     "evalue": "Expecting value: line 1 column 1 (char 0)",
     "output_type": "error",
     "traceback": [
      "\u001b[1;31m---------------------------------------------------------------------------\u001b[0m",
      "\u001b[1;31mJSONDecodeError\u001b[0m                           Traceback (most recent call last)",
      "\u001b[1;32m<ipython-input-187-92f2e834456f>\u001b[0m in \u001b[0;36m<module>\u001b[1;34m\u001b[0m\n\u001b[0;32m      1\u001b[0m \u001b[1;31m# submit the request\u001b[0m\u001b[1;33m\u001b[0m\u001b[1;33m\u001b[0m\u001b[1;33m\u001b[0m\u001b[0m\n\u001b[1;32m----> 2\u001b[1;33m \u001b[0mr\u001b[0m \u001b[1;33m=\u001b[0m \u001b[0mrequests\u001b[0m\u001b[1;33m.\u001b[0m\u001b[0mpost\u001b[0m\u001b[1;33m(\u001b[0m\u001b[0mKERAS_REST_API_URL\u001b[0m\u001b[1;33m,\u001b[0m \u001b[0mfiles\u001b[0m\u001b[1;33m=\u001b[0m\u001b[0mpayload\u001b[0m\u001b[1;33m)\u001b[0m\u001b[1;33m.\u001b[0m\u001b[0mjson\u001b[0m\u001b[1;33m(\u001b[0m\u001b[1;33m)\u001b[0m\u001b[1;33m\u001b[0m\u001b[1;33m\u001b[0m\u001b[0m\n\u001b[0m",
      "\u001b[1;32m~\\Anaconda3\\lib\\site-packages\\requests\\models.py\u001b[0m in \u001b[0;36mjson\u001b[1;34m(self, **kwargs)\u001b[0m\n\u001b[0;32m    895\u001b[0m                     \u001b[1;31m# used.\u001b[0m\u001b[1;33m\u001b[0m\u001b[1;33m\u001b[0m\u001b[1;33m\u001b[0m\u001b[0m\n\u001b[0;32m    896\u001b[0m                     \u001b[1;32mpass\u001b[0m\u001b[1;33m\u001b[0m\u001b[1;33m\u001b[0m\u001b[0m\n\u001b[1;32m--> 897\u001b[1;33m         \u001b[1;32mreturn\u001b[0m \u001b[0mcomplexjson\u001b[0m\u001b[1;33m.\u001b[0m\u001b[0mloads\u001b[0m\u001b[1;33m(\u001b[0m\u001b[0mself\u001b[0m\u001b[1;33m.\u001b[0m\u001b[0mtext\u001b[0m\u001b[1;33m,\u001b[0m \u001b[1;33m**\u001b[0m\u001b[0mkwargs\u001b[0m\u001b[1;33m)\u001b[0m\u001b[1;33m\u001b[0m\u001b[1;33m\u001b[0m\u001b[0m\n\u001b[0m\u001b[0;32m    898\u001b[0m \u001b[1;33m\u001b[0m\u001b[0m\n\u001b[0;32m    899\u001b[0m     \u001b[1;33m@\u001b[0m\u001b[0mproperty\u001b[0m\u001b[1;33m\u001b[0m\u001b[1;33m\u001b[0m\u001b[0m\n",
      "\u001b[1;32m~\\Anaconda3\\lib\\json\\__init__.py\u001b[0m in \u001b[0;36mloads\u001b[1;34m(s, encoding, cls, object_hook, parse_float, parse_int, parse_constant, object_pairs_hook, **kw)\u001b[0m\n\u001b[0;32m    352\u001b[0m             \u001b[0mparse_int\u001b[0m \u001b[1;32mis\u001b[0m \u001b[1;32mNone\u001b[0m \u001b[1;32mand\u001b[0m \u001b[0mparse_float\u001b[0m \u001b[1;32mis\u001b[0m \u001b[1;32mNone\u001b[0m \u001b[1;32mand\u001b[0m\u001b[1;33m\u001b[0m\u001b[1;33m\u001b[0m\u001b[0m\n\u001b[0;32m    353\u001b[0m             parse_constant is None and object_pairs_hook is None and not kw):\n\u001b[1;32m--> 354\u001b[1;33m         \u001b[1;32mreturn\u001b[0m \u001b[0m_default_decoder\u001b[0m\u001b[1;33m.\u001b[0m\u001b[0mdecode\u001b[0m\u001b[1;33m(\u001b[0m\u001b[0ms\u001b[0m\u001b[1;33m)\u001b[0m\u001b[1;33m\u001b[0m\u001b[1;33m\u001b[0m\u001b[0m\n\u001b[0m\u001b[0;32m    355\u001b[0m     \u001b[1;32mif\u001b[0m \u001b[0mcls\u001b[0m \u001b[1;32mis\u001b[0m \u001b[1;32mNone\u001b[0m\u001b[1;33m:\u001b[0m\u001b[1;33m\u001b[0m\u001b[1;33m\u001b[0m\u001b[0m\n\u001b[0;32m    356\u001b[0m         \u001b[0mcls\u001b[0m \u001b[1;33m=\u001b[0m \u001b[0mJSONDecoder\u001b[0m\u001b[1;33m\u001b[0m\u001b[1;33m\u001b[0m\u001b[0m\n",
      "\u001b[1;32m~\\Anaconda3\\lib\\json\\decoder.py\u001b[0m in \u001b[0;36mdecode\u001b[1;34m(self, s, _w)\u001b[0m\n\u001b[0;32m    337\u001b[0m \u001b[1;33m\u001b[0m\u001b[0m\n\u001b[0;32m    338\u001b[0m         \"\"\"\n\u001b[1;32m--> 339\u001b[1;33m         \u001b[0mobj\u001b[0m\u001b[1;33m,\u001b[0m \u001b[0mend\u001b[0m \u001b[1;33m=\u001b[0m \u001b[0mself\u001b[0m\u001b[1;33m.\u001b[0m\u001b[0mraw_decode\u001b[0m\u001b[1;33m(\u001b[0m\u001b[0ms\u001b[0m\u001b[1;33m,\u001b[0m \u001b[0midx\u001b[0m\u001b[1;33m=\u001b[0m\u001b[0m_w\u001b[0m\u001b[1;33m(\u001b[0m\u001b[0ms\u001b[0m\u001b[1;33m,\u001b[0m \u001b[1;36m0\u001b[0m\u001b[1;33m)\u001b[0m\u001b[1;33m.\u001b[0m\u001b[0mend\u001b[0m\u001b[1;33m(\u001b[0m\u001b[1;33m)\u001b[0m\u001b[1;33m)\u001b[0m\u001b[1;33m\u001b[0m\u001b[1;33m\u001b[0m\u001b[0m\n\u001b[0m\u001b[0;32m    340\u001b[0m         \u001b[0mend\u001b[0m \u001b[1;33m=\u001b[0m \u001b[0m_w\u001b[0m\u001b[1;33m(\u001b[0m\u001b[0ms\u001b[0m\u001b[1;33m,\u001b[0m \u001b[0mend\u001b[0m\u001b[1;33m)\u001b[0m\u001b[1;33m.\u001b[0m\u001b[0mend\u001b[0m\u001b[1;33m(\u001b[0m\u001b[1;33m)\u001b[0m\u001b[1;33m\u001b[0m\u001b[1;33m\u001b[0m\u001b[0m\n\u001b[0;32m    341\u001b[0m         \u001b[1;32mif\u001b[0m \u001b[0mend\u001b[0m \u001b[1;33m!=\u001b[0m \u001b[0mlen\u001b[0m\u001b[1;33m(\u001b[0m\u001b[0ms\u001b[0m\u001b[1;33m)\u001b[0m\u001b[1;33m:\u001b[0m\u001b[1;33m\u001b[0m\u001b[1;33m\u001b[0m\u001b[0m\n",
      "\u001b[1;32m~\\Anaconda3\\lib\\json\\decoder.py\u001b[0m in \u001b[0;36mraw_decode\u001b[1;34m(self, s, idx)\u001b[0m\n\u001b[0;32m    355\u001b[0m             \u001b[0mobj\u001b[0m\u001b[1;33m,\u001b[0m \u001b[0mend\u001b[0m \u001b[1;33m=\u001b[0m \u001b[0mself\u001b[0m\u001b[1;33m.\u001b[0m\u001b[0mscan_once\u001b[0m\u001b[1;33m(\u001b[0m\u001b[0ms\u001b[0m\u001b[1;33m,\u001b[0m \u001b[0midx\u001b[0m\u001b[1;33m)\u001b[0m\u001b[1;33m\u001b[0m\u001b[1;33m\u001b[0m\u001b[0m\n\u001b[0;32m    356\u001b[0m         \u001b[1;32mexcept\u001b[0m \u001b[0mStopIteration\u001b[0m \u001b[1;32mas\u001b[0m \u001b[0merr\u001b[0m\u001b[1;33m:\u001b[0m\u001b[1;33m\u001b[0m\u001b[1;33m\u001b[0m\u001b[0m\n\u001b[1;32m--> 357\u001b[1;33m             \u001b[1;32mraise\u001b[0m \u001b[0mJSONDecodeError\u001b[0m\u001b[1;33m(\u001b[0m\u001b[1;34m\"Expecting value\"\u001b[0m\u001b[1;33m,\u001b[0m \u001b[0ms\u001b[0m\u001b[1;33m,\u001b[0m \u001b[0merr\u001b[0m\u001b[1;33m.\u001b[0m\u001b[0mvalue\u001b[0m\u001b[1;33m)\u001b[0m \u001b[1;32mfrom\u001b[0m \u001b[1;32mNone\u001b[0m\u001b[1;33m\u001b[0m\u001b[1;33m\u001b[0m\u001b[0m\n\u001b[0m\u001b[0;32m    358\u001b[0m         \u001b[1;32mreturn\u001b[0m \u001b[0mobj\u001b[0m\u001b[1;33m,\u001b[0m \u001b[0mend\u001b[0m\u001b[1;33m\u001b[0m\u001b[1;33m\u001b[0m\u001b[0m\n",
      "\u001b[1;31mJSONDecodeError\u001b[0m: Expecting value: line 1 column 1 (char 0)"
     ]
    }
   ],
   "source": [
    "# submit the request\n"
   ]
  },
  {
   "cell_type": "code",
   "execution_count": 177,
   "metadata": {},
   "outputs": [
    {
     "data": {
      "text/plain": [
       "{'success': False, 'result': 'None'}"
      ]
     },
     "execution_count": 177,
     "metadata": {},
     "output_type": "execute_result"
    }
   ],
   "source": [
    "r"
   ]
  },
  {
   "cell_type": "code",
   "execution_count": null,
   "metadata": {},
   "outputs": [],
   "source": [
    "files = {'media': open('test.jpg', 'rb')}\n",
    "requests.post(url, files=files)"
   ]
  },
  {
   "cell_type": "code",
   "execution_count": 224,
   "metadata": {},
   "outputs": [
    {
     "data": {
      "text/plain": [
       "array([1, 1, 1], dtype=uint8)"
      ]
     },
     "execution_count": 224,
     "metadata": {},
     "output_type": "execute_result"
    }
   ],
   "source": [
    "np.uint8(np.array([1,1,1]))"
   ]
  },
  {
   "cell_type": "code",
   "execution_count": 170,
   "metadata": {},
   "outputs": [
    {
     "data": {
      "text/plain": [
       "{'image': b'\\xff\\xd8\\xff\\xe0\\x00\\x10JFIF\\x00\\x01\\x01\\x01\\x00`\\x00`\\x00\\x00\\xff\\xdb\\x00C\\x00\\x08\\x06\\x06\\x07\\x06\\x05\\x08\\x07\\x07\\x07\\t\\t\\x08\\n\\x0c\\x14\\r\\x0c\\x0b\\x0b\\x0c\\x19\\x12\\x13\\x0f\\x14\\x1d\\x1a\\x1f\\x1e\\x1d\\x1a\\x1c\\x1c $.\\' \",#\\x1c\\x1c(7),01444\\x1f\\'9=82<.342\\xff\\xdb\\x00C\\x01\\t\\t\\t\\x0c\\x0b\\x0c\\x18\\r\\r\\x182!\\x1c!22222222222222222222222222222222222222222222222222\\xff\\xc0\\x00\\x11\\x08\\x004\\x00\\xee\\x03\\x01\"\\x00\\x02\\x11\\x01\\x03\\x11\\x01\\xff\\xc4\\x00\\x1f\\x00\\x00\\x01\\x05\\x01\\x01\\x01\\x01\\x01\\x01\\x00\\x00\\x00\\x00\\x00\\x00\\x00\\x00\\x01\\x02\\x03\\x04\\x05\\x06\\x07\\x08\\t\\n\\x0b\\xff\\xc4\\x00\\xb5\\x10\\x00\\x02\\x01\\x03\\x03\\x02\\x04\\x03\\x05\\x05\\x04\\x04\\x00\\x00\\x01}\\x01\\x02\\x03\\x00\\x04\\x11\\x05\\x12!1A\\x06\\x13Qa\\x07\"q\\x142\\x81\\x91\\xa1\\x08#B\\xb1\\xc1\\x15R\\xd1\\xf0$3br\\x82\\t\\n\\x16\\x17\\x18\\x19\\x1a%&\\'()*456789:CDEFGHIJSTUVWXYZcdefghijstuvwxyz\\x83\\x84\\x85\\x86\\x87\\x88\\x89\\x8a\\x92\\x93\\x94\\x95\\x96\\x97\\x98\\x99\\x9a\\xa2\\xa3\\xa4\\xa5\\xa6\\xa7\\xa8\\xa9\\xaa\\xb2\\xb3\\xb4\\xb5\\xb6\\xb7\\xb8\\xb9\\xba\\xc2\\xc3\\xc4\\xc5\\xc6\\xc7\\xc8\\xc9\\xca\\xd2\\xd3\\xd4\\xd5\\xd6\\xd7\\xd8\\xd9\\xda\\xe1\\xe2\\xe3\\xe4\\xe5\\xe6\\xe7\\xe8\\xe9\\xea\\xf1\\xf2\\xf3\\xf4\\xf5\\xf6\\xf7\\xf8\\xf9\\xfa\\xff\\xc4\\x00\\x1f\\x01\\x00\\x03\\x01\\x01\\x01\\x01\\x01\\x01\\x01\\x01\\x01\\x00\\x00\\x00\\x00\\x00\\x00\\x01\\x02\\x03\\x04\\x05\\x06\\x07\\x08\\t\\n\\x0b\\xff\\xc4\\x00\\xb5\\x11\\x00\\x02\\x01\\x02\\x04\\x04\\x03\\x04\\x07\\x05\\x04\\x04\\x00\\x01\\x02w\\x00\\x01\\x02\\x03\\x11\\x04\\x05!1\\x06\\x12AQ\\x07aq\\x13\"2\\x81\\x08\\x14B\\x91\\xa1\\xb1\\xc1\\t#3R\\xf0\\x15br\\xd1\\n\\x16$4\\xe1%\\xf1\\x17\\x18\\x19\\x1a&\\'()*56789:CDEFGHIJSTUVWXYZcdefghijstuvwxyz\\x82\\x83\\x84\\x85\\x86\\x87\\x88\\x89\\x8a\\x92\\x93\\x94\\x95\\x96\\x97\\x98\\x99\\x9a\\xa2\\xa3\\xa4\\xa5\\xa6\\xa7\\xa8\\xa9\\xaa\\xb2\\xb3\\xb4\\xb5\\xb6\\xb7\\xb8\\xb9\\xba\\xc2\\xc3\\xc4\\xc5\\xc6\\xc7\\xc8\\xc9\\xca\\xd2\\xd3\\xd4\\xd5\\xd6\\xd7\\xd8\\xd9\\xda\\xe2\\xe3\\xe4\\xe5\\xe6\\xe7\\xe8\\xe9\\xea\\xf2\\xf3\\xf4\\xf5\\xf6\\xf7\\xf8\\xf9\\xfa\\xff\\xda\\x00\\x0c\\x03\\x01\\x00\\x02\\x11\\x03\\x11\\x00?\\x00\\xf5\\xed\\x0fV\\xb2\\x8e\\xc6`\\xd28&\\xf2\\xe8\\xff\\x00\\xaas\\xc1\\x9d\\xc8\\xedN\\xd7u{\\'\\xf0\\xf6\\xa4\\xab#\\xe5\\xade\\x03\\xf7O\\xfd\\xc3\\xedXV\\xfa\\xd5\\xc2\\xc5q\\x15\\xbb\\xecE\\xbc\\xb9!\\x87S\\x99\\x9c\\xd5m{\\xc7K\\xe1\\xef\\r\\xde\\xddjp}\\xb22\\x864\\x878\\xf3\\x19\\xb8\\nO\\xa7\\xa9\\xf4\\xcd\\\\(WrVk\\xee\\xff\\x00\\x82i\\xcdM\\xe9g\\xf7\\xff\\x00\\xc0:\\xeb-f\\xc14\\xeb}\\xd2\\xb8\\xc4K\\x9f\\xdd?\\xa0\\xf6\\xac\\xdbO\\x12i\\x0b\\xae\\xeaL\\xd7\\x80\\x07\\x11\\x05\\xf9\\x1b\\x9c\\x03\\x9e\\xd5\\xe5i?\\xc5\\xab\\xdf\\x0cZj\\x89\\xab\\xd8\\xc1gs\\x1ea\\xb2\\xf2\\xd3\\xcc*\\x07\\x03%\\x0e3\\x8e\\xef\\xdf\\x9cT\\xde\\t\\xd7d\\xd7m/e\\xbb\\x84C\\x7f\\x14\\xfb\\'@\\x08\\x03\\x8e1\\x9eG~)\\xd6\\xc3V\\xa6\\x9c\\xb9\\xa2\\xed\\xbd\\xaf\\xa7\\xae\\xa6\\x94\\x95)\\xda\\xe9\\xab\\xf9\\xff\\x00\\xc0=C\\xc3\\x1a\\xbd\\x92h1\\x03+g\\xcd\\x98\\xf1\\x13\\x1e\\xb2\\xb9\\xf4\\xad\\x8f\\xed\\x9b\\x1f\\xf9\\xea\\xff\\x00\\xf7\\xe5\\xff\\x00\\xc2\\xb0>\\x1d\\xdc<\\xbe\\x1d11\\xc8\\x8ai6\\xfe.\\xd5\\xd7V\\x13\\xf6\\x8eM\\xa6\\xbe\\xef\\xf8$\\xb5N.\\xcd?\\xbf\\xfe\\x01C\\xfbf\\xc7\\xfez\\xbf\\xfd\\xf9\\x7f\\xf0\\xacS\\xa7\\xf8j2^\\xc67\\xd3\\xa5<\\x99,#\\x92\\x02\\xc7\\xb6\\xe0\\x80\\x07\\xc7\\xa3du\\xf5\\xae\\x05\\xfe#|B\\xd4\\xfca\\xaeh\\xbe\\x1b\\xd0\\xf4\\x8b\\xd5\\xd3n\\x1e3\\xe6e\\x18 r\\xa0\\x92\\xd2\\xa8\\'\\x8e\\xd5w\\xfb\\x7f\\xe3g\\xfd\\t\\xfa\\'\\xfd\\xfe_\\xfeH\\xae\\xb5\\x84\\xc4\\xc5\\'\\xed\"\\xaf\\xf2\\xfdIr\\xa4\\x9b\\\\\\xafO?\\xf8\\x07c\\xfd\\xa1\\x7fe\\xf3A\\xaa\\x8dE:\\xb4wv\\xa5\\x1c\\xfb+\\xc6\\xa0(\\xfa\\xa9\\xaa\\xbag\\x89m\\x1bN[\\r[M\\x9d#`\\xdb\\xd8Bf\\x84\\x82O\\x04\\xe39\\xf6\\xc5K\\xe0\\x9dC\\xc6\\xf7\\xc6\\xf7\\xfe\\x13\\x1d\\x1e\\xc7N\\t\\xb3\\xec\\xdfep\\xdb\\xf3\\xbbvq#\\xf4\\xf9}:\\xf7\\xad\\xdd*D\\x8bG\\x85\\xa4uU\\x1b\\xb9\\'\\x1f\\xc4k\\x96\\xa2\\x9c+(\\xcd\\xc5\\xe8\\xf6\\xf9y\\xdb\\xf0-8:N\\xc9\\xee\\xba\\xfa\\xf9\\x18\\x90k\\x160\\xc8\\xc9\\xa3\\xea\\x82P\\x83-c:\\xbbm\\x1e\\xc7\\x1b\\x93\\xb0\\x19\\xca\\x8fJ\\xd1\\xb7\\xf1N\\x9e\\xe8\\xa2\\xe4\\xcbk)}\\x81%\\x8d\\xbef\\xff\\x00d\\xe3\\x90{w>\\x954\\xfa~\\x8d\\xac\\x12^+y\\x9b9,\\x87\\x0cO\\xb9^Mg\\xeaZ\\x1a\\xdai\\xf3\\xcc\\xba\\xad\\xc4v\\xf1#3%\\xc2\\x89\\xd1\\x10\\x03\\xc2\\xaf\\x04\\x10:\\x1c\\xe6\\x9f+{K\\xf0\\xff\\x00\\x83\\xfa\\x19\\xde\\x0bt\\xfe\\xff\\x00\\xf8\\x04\\x97Z\\xb5\\x95\\xf6\\xa7\\x05\\xbf\\x98\\xe6\\xda\\xdc\\xf9\\xd3~\\xe9\\xf0\\xcf\\xfc\\nF9\\xc7,s\\xdc!\\x15cR\\xd7m\"\\xd3\\xa7x\\xa5}\\xe1x\\xfd\\xd3\\xff\\x00\\x85`YG\\xe2\\xad\\x067\\xb9\\xfe\\xce\\x86\\xf2)\\xdb\\xcd\\x96\\xde\\t\\xb2\\xf1\\x00\\x00\\xc0-\\x8d\\xc4 U\\x00g;O<\\x8a\\xdc\\xb7\\xf1\\x0e\\x9b\\xa8\\xc6\\x96\\xb7^e\\x8d\\xcd\\xc2\\xe0Z\\xde!\\x8aC\\xc7`z\\xf7\\xe4q\\xc5\\'J\\xb7F\\xbe\\xef\\xf8%)ROT\\xfe\\xff\\x00\\xf8\\x07\\x03-\\xf5\\xac\\xca\\xc2Gf\\r\\xd71\\xb7\\xf8V\\xaf\\x85\\xb5\\xe8\\xac\\xf5\\x06\\xb7\\x9aI\\x0c\\x0c\\x84\\xf9\\x9e[`c\\xd7\\x8e\\xb5\\xa7?\\x86n\\xbc\\xd2m\\x99%\\x88\\x9e\\x0e\\xe01W-\\xac\\xa3\\xd1a\"U\\x17\\x17\\xb7\\x1f$p/V\\xff\\x00\\xebz\\x9e\\xd5\\x8a\\xa7U\\xbd\\x1a\\xbf\\xa7\\xfc\\x13\\xb6u\\xe8\\xf2Y\\xab\\xfc\\xff\\x00\\xe0\\x1as\\xeb\\xfad\\x10\\x97\\x9av\\t\\xd3\\x98_\\x9c\\xf6\\xe9\\xd4\\xd72\\x82\\x0b\\xdby~\\xce\\xd2\\xe9\\xd6/\\x80\\xbat\\xd0;G \\x07\\x9d\\xe88U<\\xfc\\xa8@nwn\\x07\\x03\\x9f\\xd1\\x1ci~(\\xf1e\\xd6\\xa3\\x14mq\\x15\\xe4)\\x14\\x81\\xcbG\\x13\\x18W\\xd7\\x1d\\xb1\\xc9\\x1d\\xabi\\xaf\\xae\\x9aO0\\xce\\xfb\\xbds]\\x8a\\x8dE\\xa2\\x92\\xbe\\x9d;\\xa4\\xf4\\xd7\\xf18[\\xa6\\x9e\\xce\\xde\\xbd\\x9f\\xa1\\xd0A\\xe2\\xabm\\xe6;\\xdby\\xed\\x8a\\xaeZO-\\x9a/\\xc1\\xb0\\x0fOa\\xde\\xaf&\\xbb\\xa7H\\x8a\\xf1\\xce\\xce\\x8c2\\x19br\\x08\\xfc\\xaa-\\x16\\xfc\\xea\\x16r$\\xe03\\xa7\\xca\\xd9\\x1fx\\x1a\\xf2_\\x01xR\\xfb\\xc5\\x9a.\\xa3||a\\xe2;\\t\\x93Q\\x96\\x10\\x96\\xb7\\xcc#\\xda\\xb8\\xc7\\xcb\\xd7<\\xfa\\xf6\\xa5\\n\\x15\\x1a\\x93\\x94\\x92\\xb7\\x93\\xeb\\xf3\\x13\\x955\\xd1\\xfd\\xff\\x00\\xf0\\x0fa\\xfe\\xd9\\xb1\\xff\\x00\\x9e\\xaf\\xff\\x00~_\\xfc)\\x1bZ\\xb1\\nO\\x9a\\xfc\\x0f\\xf9\\xe2\\xff\\x00\\xe1\\\\~\\x8b\\xe1\\xa9\\xbc1\\xaa\\xc7{\\xaax\\x8b\\xc4\\xd7Q\\xc6\\x18f\\xebQ3\\xda\\xb6F2\\xeb\\xb4\\x15\\xc6z\\x9c\\x0c\\xfa\\xd7z\\x92G4{\\x91\\xd5\\xd5\\x86AS\\x9c\\x83YN\\x13O\\xdd\\x92\\x7f\\'\\xfecR\\xa7\\xd6/\\xef_\\xe4y\\xfd\\xf6\\xb7m<\\xaf$\\xf3\\x10\\t\\xc0\\xca7O\\xca\\xa0\\xf0\\xa7\\x88-l\\xee\\x05\\x8f\\xda\\tH\\x9f\\xcbP\\x11\\xbeh\\xcf\\xdd8\\xc7o\\xbb\\xef\\xb4\\x9e\\xf5\\x07\\x89mfM^h\\x90\\x16\\x89\\x0f\\xca\\x07\\xe7X\\xa9\\x1c\\xbav\\xa5g\\xa8\\xb6QU\\xc4L}7\\x11\\xb4\\xfb\\xfc\\xdbG\\xfc\\x08\\x9a\\xdb\\x9d\\xf2\\xb5u\\xfd|\\xcfu\\xaa\\x12\\xa3\\xe5n\\xff\\x00\\xf0\\x0f\\\\\\xfe\\xd9\\xb1\\xff\\x00\\x9e\\xaf\\xff\\x00~_\\xfc*\\x0b\\x9f\\x11\\xd8@\\xac\\x11\\xa4\\x96lebX\\x9f\\'\\xb7\\xa7\\x03\\xde\\x99o\\xa8^j\\xd6\\xd1=\\x80\\x10\\xc4\\xc8\\x0b\\\\M\\x19\\xe4\\x91\\x9f\\x91O\\xde\\x1e\\xfd9\\xe35~\\xce\\xc2\\x0b%c\\x18&G9\\x92F9g>\\xa6\\xb9\\xd2\\xa9\\xd5\\xaf\\xbb\\xfe\\t\\xe1\\xb7O\\xb3\\xfb\\xff\\x00\\xe0\\x18\\xcbsoz\\xeb6\\xa5s)\\x19\\xca\\xda\"?\\x94\\xbf\\\\(\\xdf\\xf8\\xf1\\xe8\\x05i6\\xb9\\xa7\"\\xeey\\xd9G\\xa9\\x89\\xff\\x00\\xc2\\xb4k\\x9c\\xf1\\x04\\xeenV\\x0c\\x90\\x81s\\x8fZq\\x85V\\xedu\\xf7\\x7f\\xc15\\xa3\\nug\\xcbg\\xf7\\xff\\x00\\xc0//\\x88\\xf4\\x97m\\xabu\\x93\\xe8#\\x7f\\xf0\\xa9\\xbf\\xb6l\\x7f\\xe7\\xab\\xff\\x00\\xdf\\x97\\xff\\x00\\n\\xe4\\x95\\x8a\\xb0*pGC]\\x9e\\x9f3Oa\\x0c\\x8d\\xf7\\x8a\\xf3\\xfc\\xaa\\xa7N\\xa2\\xd9\\xaf\\xbb\\xfe\\t\\xae#\\x0fJ\\x92M&\\xfek\\xfc\\x8f:\\xb5\\x81\\xad\\xd6\\xe26\\x07\\xe5\\xbb\\xb8\\x00\\xfa\\xe2g\\x15r\\xdfE\\xb5\\xd6\\xeeb\\x82\\xf2\\xca\\x0b\\xb8\\x11\\xc3\\x95\\x9e \\xea1\\xecF+\\xaa\\xd2m \\x9a\\xc2U\\x9e$\\x7f\\xf4\\xbb\\x96\\xe4z\\xcc\\xe7\\xfa\\xd6G\\x8e|U\\xff\\x00\\n\\xff\\x00A\\x87S\\xb7\\xd1\\xbe\\xdb\\x03N\\xb1J\\x12_/\\xcb\\x04\\x1c7\\xdd9\\xe4c\\xb7Q]T\\xab:\\x96P\\xdd\\xecy\\xf68\\xbf\\x12x\\xa3Y\\xd1\\xfc)\\xa6\\xd8\\xe9\\x9e\\x14\\xbb\\xd4c6>\\x7f\\xdb\\xe3Wh\\xa0m\\xcc\\x08`\\xa8G\\x00g\\xef\\x0e\\xb5\\x8d\\xf0\\x93J\\x1a\\x96\\x91{wi:\\\\^Oq\\xba\\xec\\xe7\\x062F@#\\xae9nz\\x1e}+\\xd4\\xbc3\\xad\\xd8\\xcd\\xe1\\xcb\\xddV\\xde\\xe27\\xb27s\\xc8\\x92\\x06\\x1bB\\xee\\xcf\\xe1\\x81\\xf9W\\x95x\\x0e\\xf6K\\x8f\\x8a\\xbe)\\xd4\\xf4\\x99\\x02\\xe9\\x92n\\xdcb\\xe1\\x1d\\xcb\\x82\\x08\\xecz9\\xcf\\xbf\\xbdn\\xd2\\x95:\\x90\\xb5\\x9a\\xd5\\xbe\\xfa\\xec\\xff\\x00\\xae\\x84\\xcb\\x10\\xa9\\xa5%\\xd3\\xfe\\x18\\xf5\\xcf\\x04Y\\xad\\xa7\\x86\\xa3\\x1d]\\xa6\\x9bq\\xf7\\x120\\xab:\\xee\\xa9%\\x92\\xac0\\x1cH\\xe3%\\xbd\\x05V\\xf0e\\xd0\\x9bCX\\x8f\\xdeI%\\'\\xdf21\\xa3\\xc4\\xb6r;\\xc7t\\x8aYB\\xedlv\\xaeH\\xa8\\xba\\x9eCS\\xe7\\\\\\xc7\\x85\\xf8_\\xc5\\xf6\\x9e\\x16\\xf8\\x8f\\xe2{\\xcdB\\xf4\\xc1\\xe7\\xdc8\\xc9\\x8d\\x9fy\\xf3\\t9\\xda\\rz\\xc4_\\x1a<\\x06\\xd1+I\\xaelr9_\\xb2Np\\x7f\\xef\\x8a\\xf2\\x9f\\x08\\xe9V\\x9a\\xaf\\xc4O\\x13\\xc5wc\\x05\\xde\\xd9\\x9c\\xa2\\xcd\\x10|\\x1f0\\xf4\\xc8\\xafn\\xd3\\xfc\\x07\\xe1xlcI\\xfc5\\xa3<\\x98\\xcb\\x16\\xb1\\x88\\x9f\\xfd\\x06\\xbd,g\\xd5\\xd3\\x8f:w\\xb2\\xda\\xdd\\xbd\\x05\\xaf<\\xad\\xdc\\xd0\\xf0\\xf7\\x89\\xf4\\x7f\\x15\\xd8I{\\xa2^}\\xaa\\xde9LL\\xfeS\\xa6\\x18\\x00q\\x86\\x00\\xf4\"\\xb9\\x1b\\xab\\xc9\\'D\\x80\\xb1\\xf2\\xe2,\\x02\\xfb\\xee5\\xddi\\xdaV\\x9d\\xa4@\\xd0i\\x96\\x16\\xb6P\\xb3oh\\xed\\xa1X\\xd4\\xb6\\x00\\xc9\\n\\x00\\xce\\x00\\xe7\\xda\\xb9i4I\\xa7\\xb3\\x86\\xea\\xd9w\\x96\\xdd\\xb9G_\\xbck\\xc4\\xaf\\xcb\\xedW&\\xd6\\x7f\\xa1\\xdb\\x86iA\\xf3w_\\xa9J\\xcdd\\x82T\\x9d\\\\\\xa3\\x03\\x91\\x8a\\xea\\xa6c\\xa9\\xdd\\xd9\\xdb\\x1e!\\x8c\\xad\\xd4\\xde\\xe4s\\x1a\\xfb|\\xc3v\\x7f\\xd8\\xc1\\xebX\\xf1i\\xd2\\xa82N\\xa6(\\x90e\\x8bq\\x80)\\xfa\\xd6\\xac\\xde\\x16\\xf0v\\xa5\\xae<`\\xcf\\x14Fa\\x1b\\xf07\\x1c*)\\xff\\x00\\xc7A\\xfck\\x8e\\x95Z\\x92\\xa8\\x92\\xea\\xf6\\n\\xb6\\x93V%\\xf1\\x7f\\x8f\\xb4\\x0f\\x04\\xdb\\xa3j\\xb7\\x0c\\xd7\\x12\\x00c\\xb4\\x80\\x06\\x99\\xc6q\\x90\\t\\x00\\x0e\\xbc\\x92\\x07\\x07\\xbf\\x15\\xc3\\xea\\x9f\\x14\\xdeR\\xf1x\\x8f\\xe1\\xd6\\xad\\x07\\x87\\xdaM\\xafyw\\x0b|\\x8axV(P\\x00y\\x1d\\x1f#<\\x13\\xdf\\'\\xc0\\x9a{\\x18W\\xc5\\x9a\\x94\\xdfl\\xd7/\\xf31\\xba\\x97\\xe60\\xa9\\xe0\\x04\\xcf\\xdd\\xe3\\x8e:\\x0e\\x07\\x1djx\\xff\\x00\\xe2k\\xdfh\\x97>\\x1b\\xd3\\xae~\\xd1qvD.\\xc82pN\\n\\xe7\\xdf\\xa7\\xe3_MO\\x0b\\x055MG\\x99\\xf5wj\\xde\\x9e\\x9d\\xdf\\xdcqs]_dv\\xf0YG$J\\xfe\\x04\\xd5d1\\xbc{\\xe31\\x92`\\x85O\\xa0?#\\x1fPT\\xbez\\xb2\\xd6\\xbe\\x96u\\x0bK\\xb9\\x1e4\\xb2\\xbe\\xd4$\\x1be\\xfbZ\\x9bk\\x93\\xdf\\x97\\x1b\\x95\\x97\\xfd\\x94\\x00\\n\\xd9\\xf0\\x9e\\x83\\x17\\x86|-\\xa7i\\x10\\x81\\xfe\\x8f\\x08\\x0e\\x7f\\xbc\\xe7\\x96?\\x8b\\x13Z7v6\\xd7\\xb1\\xec\\xb8\\x89_\\x1d\\x0fq\\xf45\\xc1R\\xa2Rq\\x8e\\xab\\xcf\\xa8\\xe3v\\x93g\\x8f\\xde\\xeb\\xd7:7\\x88<J/\\xfc/\\xe2\\x06k\\xdb\\xb8\\xa6\\x85\\xed\\xac\\xfc\\xd8\\xc8X\\x95\\x1b\\xe7\\xc8\\x04g<\\x8f\\xc7\\x1d*\\xc6\\x87\\xab\\xc7\\xa8\\xd8\\x0b\\xb8m\\xeea\\xb5.Se\\xc2mx\\x88\\xf5\\x00\\x9f\\x97\\xf9}:z_\\x95\\xa9i\\xff\\x00\\xea\\x9b\\xed\\xf6\\xff\\x00\\xf3\\xceF\\x02Q\\xf4c\\xc3~5Li\\x9e\\x1e\\xd6\\xa6g\\x16\\xa9\\x1d\\xe4j\\x17\\x1bLR\\xc5\\xd4\\x83\\xb7\\xb1\\xee8\\xabu\\xe1(\\xa5\\xcbf\\xad\\xaf\\xa2\\xb0\\xd6\\x8f\\xc9\\x96<?c%\\xa5\\xac\\x92J6\\xb4\\xa4p{\\x01^O\\xf0\\xd3D\\xf1N\\xa3\\xa2\\xeaSh\\xde0\\xfe\\xc8\\xb5\\x1a\\x9c\\xeam\\xff\\x00\\xb3\"\\xb8\\xcbq\\x96\\xdc\\xc7<\\xf1\\xc7\\xb5za\\xd2\\xf5\\x1d\\n8\\x86\\x97~\\xd2\\xda.K\\xc3y\\x999=\\xf7\\xf5\\x0b\\xec?\\xc6\\xb9_\\t\\xe9z\\xaf\\x83\\xb4k\\xcd6\\xf0G!\\x9e\\xf2K\\x91-\\x9b\\x17\\x048\\x18\\x18 \\x1e\\xde\\x95\\x10\\xc5\\xc2\\x9cgv\\xb9\\x9d\\xb4\\xdf\\xf3B\\xab\\xee\\xc55\\xb5\\xff\\x00\\xcc\\xeb\\xbc9\\xa4x\\x8bL\\x96\\xe1\\xb5\\xcf\\x14\\x7fm#\\xa8\\x11\\'\\xf6|v\\xdeY\\x19\\xc9\\xca\\x1es\\xc7_J\\xbd&\\x89l\\xaee\\xb1&\\xc2rr^\\xd8\\x05\\x0c\\x7f\\xda\\\\mo\\xa9\\x19\\xf4\"\\xb9\\xbb-v?<\\x88\\xee\\xb1\"}\\xf8\\xdc\\xe1\\x97\\xea\\x0fJ\\xe8\\x12\\xfe\\xe7T@4\\xf5\\xf2\\xe2?~\\xe2E \\x7f\\xc0?\\xbc}\\xfaV2\\x9b\\x9b\\xbb\\xfc\\xad\\xf9\\x19\\xd2\\xaa\\xa7t\\x8eg\\xc4_k\\x8a\\xef\\xf7\\xd6\\xdfh\\xb9\\xd8X\\xfd\\x8f\\x9d\\xca\\x01;\\x8a\\x13\\x95\\xfc\\xceq\\xf8U=;\\xc2\\xd3x\\x85\\x0bj,\\x9fc`U\\xed\\xd1\\xf2\\x07\\x1d\\xc8\\xc1\\xdd\\xcf|c\\x8e23^\\x81ic\\r\\x9a\\x9d\\x9b\\x9eF\\xfb\\xd2\\xc8w;}MCs\\xa5C,\\xbfh\\x81\\x9a\\xda\\xeb\\xb4\\xb1q\\x9e\\xf8a\\xd0\\x8c\\xf2Gz\\x9eU{\\x9dj\\xb4\\x92\\xb1\\x17\\x87\\xee%\\x9bIH\\xae\\x1bu\\xcd\\xab\\xb5\\xb4\\xcd\\x80\\xa5\\xda6+\\xbfh\\xfb\\xbb\\x80\\x0c\\x07\\xa3\\n\\xc5\\xd55\\xab\\x89n^8$h\\xe3S\\x81\\xb4\\xe0\\x9a|\\x93\\xea\\x1a\\x06\\xba\\xb77q-\\xc5\\x9e\\xa0V\\x166\\xcaK\\xf9\\xca\\xa7k\\x94\\xf5e\\x188\\xe9\\xb0VD\\xfeY\\x99\\xda\\t\\x16H\\x8b\\x1d\\xac\\xa75\\xd3\\x05\\x17+\\x98\\xb3[I\\xd6\\xae\\x12\\xe5!\\x9eF\\x9278\\xcb\\x1c\\x91[\\x1a\\xb6\\x98o@\\x92\"<\\xc5\\x18\\xc1\\xef\\\\\\xd6\\x95e%\\xd5\\xec{T\\xedV\\x05\\x8f\\xa5w4\\xaa\\xda2\\xd0\\xbaU%\\tsD\\xe5!\\xd0\\xef$\\x90\\t\\x10\"\\xe7\\x92Mt\\xf0\\xc4\\xb0B\\x91\\'\\xddQ\\x81RQYJM\\x9aV\\xaf:\\xbf\\x11\\xcfi\\xb1j\\xcdm\\'\\xd9\\xef,\\xd3\\xfd\"l\\xf9\\x96\\xac\\xdc\\xf9\\x8d\\x9e\\x92\\x0e\\xf5-\\xe6\\x99\\xabj\\x16r\\xda^]i3\\xdb\\xcc\\xa5$\\x8aM=\\xca\\xb0\\xf4#\\xcd\\xab:\\x13\\x16\\xb0\\x98\\x9e\\xd7\\x97#\\xf2\\x9d\\xc5i\\xd64\\xa0\\xe1\\x1b\\x197\\xad\\xcf\\x05O\\x81V7\\xf2\\xdf\\xcf\\x1e\\xa2\\xf6\\xe6\\x0b\\x97Ak\\x1cg\\x01A\\xe3\\x1b\\x98\\xb6\\x08\\xe4d\\x9f\\xadt>\\x1e\\xd1d\\xd1l\\xe7\\xb2\\xd3M\\x9d\\xb4)p\\xd9_!\\xc9\\'\\x03\\x92K\\xe4\\xf6\\xeb\\x9a\\xf4\\r3\\xfeF-w\\xfe\\xbaC\\xff\\x00\\xa2\\xc5\\x1a%\\xac\\x17\\x16My$J^\\xe2g\\x94\\x8c}\\xdeq\\x81\\xf9W^\"\\xb5Z\\x9e\\xec\\xa4\\xda9\\xaa\\xd0\\xe7\\xd53\\x9e\\xf0}\\x9e\\xb3\\xfd\\x99\\xe7\\xc1yg\\x1a\\x17\\x91G\\x99j\\xcd\\x9f\\x9d\\xb3\\xd2A\\xde\\xba6\\x87^\\x0b\\xf3j:i\\x07\\xb7\\xd8_\\xff\\x00\\x8e\\xd3|*1\\xe1\\xf8\\x80\\xff\\x00\\x9e\\xd3\\xff\\x00\\xe8\\xd7\\xadI~\\xf0\\xaej\\xf2t\\xd3h\\xda\\x8d5\\x18\\xa8\\x9e\\x15g\\xa0\\xfcJ\\xf0\\xbf\\x8d\\xb5\\xed[E\\xf0\\xfd\\x85\\xe2\\xdf\\xce\\xe4I4\\x91\\x84+\\xbc\\xb0*\\xbeh+\\x9c\\xf45\\xbf\\xfd\\xbf\\xf1\\xb3\\xfe\\x85\\x1d\\x17\\xfe\\xfe\\xaf\\xff\\x00$W\\xa9T\\xe9\\xf7\\x05kK2\\x95Wi\\xc2.\\xcb\\xb3\\xe9\\xf3.PWo\\xb9\\xe5\\x9a?\\x88>\"\\xea7sE\\xae\\xd8\\xe9\\xda\\\\(\\x9f#@7\\xeel\\xf4\\xe2S\\xda\\xb6\\xb4K\\xddn;x\\xa3[\\xebO-\\x89\\x03\\xcc\\xb6f\\xc7\\'\\xfe\\x9a\\n\\xd0\\xbe\\xb5{{\\x97\\x04\\x1d\\xa4\\xe4\\x1a\\xa7\\xa2\\xc2^\\xd67a\\x88\\xe3\\xcb;z\\x00McV\\xa7=T\\xd2KN\\x9f#\\xcfR\\xa9w\\xde\\xeb\\xf54n\\xe2\\xd6\\xee\\xaf\\xa3\\xd3\\xfe\\xdd\\xa7\\xb6G\\x9b+\\x0b7\\x01T\\x11\\x80\\x7fzs\\x93\\xc68\\xc8\\xcf\\xa5&\\xb3kv\\xdaM\\xc5\\xb6\\xad\\xa9i&\\xce\\xe5\\x1a\\x17\\x8d\\xec\\xa4\\xcc\\x80\\x83\\xf2\\xa8\\x12\\xe4\\xb1\\x19\\xc0\\x1c\\xfaT\\xf6\\xda\\x82Z\\xa1\\x99\\xc7\\x9b\\xa9j\\x07\\xcc\\x86\\xddO\\xccP}\\xc1\\xec\\x0099\\xe9\\x93W\\xac\\xf4\\xf9L\\xdfl\\xd4\\x9a)\\xae\\xf1\\xb5\\x02\\x03\\xe5\\xc4=\\x17=\\xc9\\x00\\x93\\xd7\\xa7\\xa5Z\\xa7\\x14\\xf9\\xda;\\xee\\xfa\\x1e\\x06\\x9f\\n\\xf5\\x8bX\\xe4\\xb2\\x9f\\xc4\\x17\\x96\\x96,\\xc7m\\x98\\xc9\\x05\\x0f\\xf7\\x80m\\xa0\\xf3\\xc8\\x19\\x1e\\xe6\\xa0\\xd3|(\\x8f\\xf1?C\\xd0t\\xd8\\xed\\x17\\xec\\x11\\xfd\\xaei\\xbc\\x869#\\x90_\\xe6\\xcbr\\x17\\xb8\\x03w\\x15\\xf4\\x84\\xd6\\xd0\\xdc\\x0cM\\x12\\xbf\\xfb\\xc2\\xb8\\xdd\\x1b\\xc0\\xd3i?\\x13\\xb5\\x8f\\x13\\x89\\xe06w\\xb6\\xab\\x14Q\\x00w\\xa3|\\x99\\xed\\x8c|\\x9e\\xbd\\xfd\\xab\\xd4\\x86>R\\xbf;\\xe8\\xfe\\xf39CM\\x0e\\x8b\\xc8\\xd7\\xff\\x00\\xe8#\\xa6\\xff\\x00\\xe0\\x0b\\xff\\x00\\xf1\\xda<\\x8d\\x7f\\xfe\\x82:o\\xfe\\x00\\xbf\\xff\\x00\\x1d\\xab\\xf7S\\x8bkv\\x94\\xf6\\xe9\\\\\\xe3\\xea\\x97o&\\xe1)Q\\xe8:W\\x94\\xdd\\x85R\\xb4a\\xa35<\\x8d\\x7f\\xfe\\x82:o\\xfe\\x00\\xbf\\xff\\x00\\x1d\\xaa\\xb7\\x9a>\\xab~\\x17\\xed\\x17\\x9ak2}\\xc9\\x16\\xcaEt\\xcf]\\xac&\\x04g\\x1c\\xe0\\xf3W\\xf4\\xbb\\xf3w\\x1b+\\xff\\x00\\xac^\\xbe\\xf5|\\x90\\xa0\\x92@\\x03\\x92Oje\\xc6JJ\\xe8\\xe7\\xbc\\x8f\\x10\\xd8\\xdbF\\x92_[_\\x91\\x9d\\xf2\\x1bm\\x92\\x11\\xdb\\x80\\xe1O\\xe9\\xc0\\xefY\\x97&\\xe5\\x0f\\x99\\r\\xd42\\x96\\xeb\\x02\\xdb\\xb2\\xb2\\xfd\\x14\\xb6\\x7f\\xa5t\\x06\\xf2mS\\xe5\\xd3\\x88[s\\xd6\\xf0\\x80FGP\\xaaz\\xfag\\xa7^\\xf5!\\xd1mY~o0\\xcb\\x9c\\xf9\\xdb\\xbfx\\x0f\\xd6\\xb8\\xaba\\xe59\\xdd\\x16\\xec\\xe3\\xca\\xce\"}\\x16\\xf3Z\\xb9\\x85\\xe46r\\x84\\xe5#{r\\xca\\xa7\\xb9\\xfb\\xe3?\\x8dk\\xc5\\xe1Mv\\xd5TXx\\x90Y \\xe5\\xa3Kc\"\\xb7\\xfd\\xfcv\\xda=\\x97\\x02\\xaf\\x98um\\x1ec,J/\\xadI\\xcb\\xa2(\\x12\\x0fS\\x8e\\xff\\x00\\x87Z\\xd9\\xb4\\xbf\\xb5\\xbe\\x8c\\xbd\\xb4\\xca\\xf88`\\x0f*{\\x82;\\x1a\\xea\\xa2\\xe5\\x05\\xca\\xfa\\x19\\xc6\\x84`\\xf9\\x93\\xbd\\xce~\\xed\\xbcmm6a\\xfe\\xc6\\xbb\\xb7\\x03,\\xcb\\x0c\\x89\\'\\xb8T.A>\\x99a\\x9fj\\x8d5\\xed@8\\x8e\\xf3P\\xb5\\xb1\\x97\\xf8\\xd6\\xebL\\x95U=3 \\x94\\xc7\\xcf\\xfb\\xdd\\xc0\\xeb\\xc5u\\xb4\\xd7D\\x91\\nH\\x8a\\xeaz\\x86\\x19\\x06\\xb6\\xe6\\x8b\\xdd\\x14sW\\xb6\\x9a\\xc6\\xb5\\xa47\\xd9u}&t,\\xb2D\\xd1\\xdb6\\xd6x\\xdc2\\x8d\\xc2S\\xc6\\xe5\\x00\\xf0{\\xd5d\\xd2\\xef|Ci\\x15\\xf9\\xba\\xb0\\x8eY\\x17%\\x96\\xceD\\x91Xq\\x87\\xc4\\xdc\\x95=\\x9b8\\xf4\\xad\\xbb\\x8f\\x0e\\xe9\\xf3N\\xd7\\x11$\\x96\\x97\\r\\x80\\xd3Z\\xb9\\x8d\\xc8\\xf4\\xc8\\xed\\xd3\\xf2\\xacHmu\\x8d\\x0f]6\\x167pOmx\\x8d<kx\\x0eU\\xc1\\xf9\\xf9^Nr\\xa4\\x93\\xd4\\x93V\\x94d\\xac\\x98\\x16Z/\\x13iqD\\x91\\xcfau\\x02\\xae$\\x95,\\x88\\x97>\\xbb\\x04\\x80\\x11\\xeb\\x82=\\x81\\xa5]KS\\x96\\t$\\x87V\\xd3Y\\x90d\\xc6\\xda|\\x88\\xe3\\xdfkJ\\x0e=\\xf1W?\\xb7.-\\xbe]CI\\xbb\\x88\\xff\\x00~\\x15\\xf3\\x93\\x1d\\xc9+\\xf7\\x7f\\x1ae\\xe1\\xd2|Cc\\xba\\xde\\xe2\\x19d\\x07\\xf7r#\\xe1\\x83\\x0fN\\xf5\\x9c\\xa1$\\xae)7\\xca\\xeca\\xc9w\\xafH\\xfb\\xce\\xa3l=\\x96\\xdd\\x80\\xff\\x00\\xd0\\xebSM\\xb8\\xd7\\xae\\xf7G\\xf6\\xfb\\x00\\xc83\\x96\\xb3rH\\xff\\x00\\xbf\\xa2\\xb0\\xda=B\\xd1\\x8a\\xe1n\\x11{7\\xca\\xff\\x00\\xe1[\\xbe\\x1e\\xb9\\xb7y&\\x91\\xa4\\x11:\\x80\\xa69~V\\x19\\xe7\\x90~\\x95\\x92\\xbd\\xce\\x1a\\x12\\x9b\\xa8hh\\x1f\\xf2\\x0f\\x9b\\xfe\\xbfn\\xff\\x00\\xf4|\\x95\\xa9E\\x15g\\xa0ci\\x7f\\xf21k\\xbf\\xf5\\xd2\\x1f\\xfd\\x16*_\\x0e\\xff\\x00\\xc8\\n\\xdb\\xfe\\x07\\xff\\x00\\xa1\\x1a(\\xab\\x9e\\xff\\x00%\\xf9\\x02\"\\xf0\\xb7\\xfc\\x80\"\\xff\\x00\\xae\\xd3\\xff\\x00\\xe8\\xe7\\xad\\x86\\x00\\x8eh\\xa2\\xa6\\xba\\xbb\\x97\\xcc\\x11\\x12\\xa8-SQEr\\xe1\\x92\\xe5eHk\"\\xb8\\xc3\\xa8a\\xe8Fk\\x8c\\xf1\\x05\\xd4\\x9a\\x7f\\x80\\x96H\\x02\\x02\\xd3*0#\\x82\\xa6L\\x11E\\x15\\xb2\\xfe4~\\x7f\\x9a)/\\xdd7\\xe6\\xbfS\\xaa\\xb0\\xd3\\xe3\\xb0G\\xc4\\x92O4\\x872O1\\x05\\xe4\\xf4\\xce\\x00\\x1cz\\x00\\x07\\xe6j\\xdd\\x14V\\xb3\\xf8\\x99\\x98QE\\x15 P\\xd6\\x06t\\xe6\\xf6\"\\xb9\\x9a(\\xa8\\x96\\xe7\\x06+\\xe35\\xf4\\x11\\xfb\\xf9O\\xfb?\\xd6\\xa2\\xb6\\x99\\xb5\\xaf\\x12j\\xfa}\\xe0\\x06\\xd7Nh\\xbc\\xa8\\xd4\\x95\\x0e]rw\\xf3\\xf3t\\xc6:`\\x9c\\x83\\xc6\\n*\\xa3\\xb1\\xd1\\x87\\xfe\\x1a::(\\xa2\\x99\\xb8V%\\xfe\\x97l\\xda\\xbd\\xbc\\xb1\\x86\\x82{\\x82\\xc1\\xe5\\x84\\xedl\\xaa\\x92\\x0f\\xa1\\xfa\\x1c\\x8fj(\\xac\\xaa\\xec\\x9f\\x9a\\xfc\\xcdin\\xd7\\x93\\x0f\\x0b\\xea\\x97:\\xa5\\x8d\\xd3\\xdc\\x95/ow%\\xba\\xb2\\x8c\\x16U\\xc0\\x04\\xfb\\xfa\\xe2\\xb6\\xe8\\xa2\\xb52\\n\\xc6\\xf1\\'\\xee,a\\xbfN\\'\\xb5\\x9e2\\x87\\xd43\\x04 \\xfb\\x10\\xdd=@\\xf4\\xa2\\x8a\\xba\\x7f\\x12\\x06l\\xd5\\x1b\\xcd\\x1bM\\xbf\\x90\\xcbse\\x0b\\xccF<\\xed\\xb8\\x90}\\x1c|\\xc3\\xf04QR\\x9b[\\x01\\xca\\xf8\\xbcO\\xe1\\x0f\\x0f\\\\k:}\\xdc\\xf2\\x9bvE\\x8e\\xd6\\xebl\\xb1\\x00\\xcc\\x14\\xe4\\x91\\xe6\\x1e\\xa4\\xf2\\xfd}\\xb8\\xae\\x8bNK}sB\\xd3/o\\xec\\xed\\xa6\\x96[h\\xe5!\\xa2\\x0c\\x14\\xb2\\x82v\\xe78\\x14Q]\\x15\\x92\\xe4\\x8b%n\\x7f\\xff\\xd9'}"
      ]
     },
     "execution_count": 170,
     "metadata": {},
     "output_type": "execute_result"
    }
   ],
   "source": [
    "payload"
   ]
  },
  {
   "cell_type": "code",
   "execution_count": 256,
   "metadata": {},
   "outputs": [],
   "source": [
    "import datetime as dt"
   ]
  },
  {
   "cell_type": "code",
   "execution_count": 258,
   "metadata": {},
   "outputs": [],
   "source": [
    "import time"
   ]
  },
  {
   "cell_type": "code",
   "execution_count": 262,
   "metadata": {},
   "outputs": [
    {
     "data": {
      "text/plain": [
       "datetime.datetime(2019, 7, 11, 18, 40, 57, 606966)"
      ]
     },
     "execution_count": 262,
     "metadata": {},
     "output_type": "execute_result"
    }
   ],
   "source": [
    "dt.datetime.now()"
   ]
  },
  {
   "cell_type": "code",
   "execution_count": 263,
   "metadata": {},
   "outputs": [
    {
     "data": {
      "text/plain": [
       "datetime.datetime(2019, 7, 11, 18, 41, 4, 511546)"
      ]
     },
     "execution_count": 263,
     "metadata": {},
     "output_type": "execute_result"
    }
   ],
   "source": [
    "dt.datetime.now()"
   ]
  },
  {
   "cell_type": "code",
   "execution_count": 264,
   "metadata": {},
   "outputs": [],
   "source": [
    "tmpStamp = dt.datetime.now()"
   ]
  },
  {
   "cell_type": "code",
   "execution_count": 266,
   "metadata": {},
   "outputs": [],
   "source": [
    "df = dt.datetime.now()-tmpStamp"
   ]
  },
  {
   "cell_type": "code",
   "execution_count": 267,
   "metadata": {},
   "outputs": [
    {
     "data": {
      "text/plain": [
       "datetime.timedelta(0, 102, 647924)"
      ]
     },
     "execution_count": 267,
     "metadata": {},
     "output_type": "execute_result"
    }
   ],
   "source": [
    "df"
   ]
  },
  {
   "cell_type": "code",
   "execution_count": 347,
   "metadata": {},
   "outputs": [
    {
     "data": {
      "text/plain": [
       "0.6956883693000002"
      ]
     },
     "execution_count": 347,
     "metadata": {},
     "output_type": "execute_result"
    }
   ],
   "source": [
    "0.93**5"
   ]
  },
  {
   "cell_type": "code",
   "execution_count": 348,
   "metadata": {},
   "outputs": [
    {
     "data": {
      "text/plain": [
       "0.7339040223999997"
      ]
     },
     "execution_count": 348,
     "metadata": {},
     "output_type": "execute_result"
    }
   ],
   "source": [
    "0.94**5"
   ]
  },
  {
   "cell_type": "code",
   "execution_count": 349,
   "metadata": {},
   "outputs": [
    {
     "data": {
      "text/plain": [
       "0.7737809374999998"
      ]
     },
     "execution_count": 349,
     "metadata": {},
     "output_type": "execute_result"
    }
   ],
   "source": [
    "0.95**5"
   ]
  },
  {
   "cell_type": "code",
   "execution_count": 350,
   "metadata": {},
   "outputs": [
    {
     "data": {
      "text/plain": [
       "0.8153726975999999"
      ]
     },
     "execution_count": 350,
     "metadata": {},
     "output_type": "execute_result"
    }
   ],
   "source": [
    "0.96**5"
   ]
  },
  {
   "cell_type": "code",
   "execution_count": 351,
   "metadata": {},
   "outputs": [
    {
     "data": {
      "text/plain": [
       "0.9039207967999999"
      ]
     },
     "execution_count": 351,
     "metadata": {},
     "output_type": "execute_result"
    }
   ],
   "source": [
    "0.98**5"
   ]
  },
  {
   "cell_type": "code",
   "execution_count": 270,
   "metadata": {},
   "outputs": [
    {
     "name": "stdout",
     "output_type": "stream",
     "text": [
      "0\n",
      "500430\n",
      "1408\n",
      "501639\n",
      "1917\n",
      "502862\n",
      "3752\n",
      "TIMEOUT\n"
     ]
    }
   ],
   "source": [
    "tmpStamp = dt.datetime.now() ###############################\n",
    "daya={'chren': 0}\n",
    "while True:\n",
    "    \n",
    "    print((dt.datetime.now()-tmpStamp).microseconds)\n",
    "\n",
    "    output = None\n",
    "\n",
    "    if output is not None:\n",
    "\n",
    "        print('got something from queue')\n",
    "        data[\"success\"] = True\n",
    "        \n",
    "        break\n",
    "\n",
    "    if (dt.datetime.now()-tmpStamp).total_seconds()>3: ###############################\n",
    "\n",
    "        print('TIMEOUT')\n",
    "        break ###############################\n",
    "\n",
    "    time.sleep(0.5)"
   ]
  },
  {
   "cell_type": "code",
   "execution_count": null,
   "metadata": {},
   "outputs": [],
   "source": []
  }
 ],
 "metadata": {
  "kernelspec": {
   "display_name": "Python 3",
   "language": "python",
   "name": "python3"
  },
  "language_info": {
   "codemirror_mode": {
    "name": "ipython",
    "version": 3
   },
   "file_extension": ".py",
   "mimetype": "text/x-python",
   "name": "python",
   "nbconvert_exporter": "python",
   "pygments_lexer": "ipython3",
   "version": "3.7.3"
  }
 },
 "nbformat": 4,
 "nbformat_minor": 2
}
